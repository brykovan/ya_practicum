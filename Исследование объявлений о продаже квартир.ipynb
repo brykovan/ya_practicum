{
 "cells": [
  {
   "cell_type": "markdown",
   "metadata": {
    "toc": true
   },
   "source": [
    "<h1>Содержание<span class=\"tocSkip\"></span></h1>\n",
    "<div class=\"toc\"><ul class=\"toc-item\"><li><span><a href=\"#Изучение-данных-из-файла\" data-toc-modified-id=\"Изучение-данных-из-файла-1\"><span class=\"toc-item-num\">1&nbsp;&nbsp;</span>Изучение данных из файла</a></span><ul class=\"toc-item\"><li><span><a href=\"#Вывод\" data-toc-modified-id=\"Вывод-1.1\"><span class=\"toc-item-num\">1.1&nbsp;&nbsp;</span>Вывод</a></span></li></ul></li><li><span><a href=\"#Предобработка-данных\" data-toc-modified-id=\"Предобработка-данных-2\"><span class=\"toc-item-num\">2&nbsp;&nbsp;</span>Предобработка данных</a></span><ul class=\"toc-item\"><li><span><a href=\"#Стиль-заголовков\" data-toc-modified-id=\"Стиль-заголовков-2.1\"><span class=\"toc-item-num\">2.1&nbsp;&nbsp;</span>Стиль заголовков</a></span></li><li><span><a href=\"#Обработка-пропусков\" data-toc-modified-id=\"Обработка-пропусков-2.2\"><span class=\"toc-item-num\">2.2&nbsp;&nbsp;</span>Обработка пропусков</a></span></li><li><span><a href=\"#Замена-типа-данных\" data-toc-modified-id=\"Замена-типа-данных-2.3\"><span class=\"toc-item-num\">2.3&nbsp;&nbsp;</span>Замена типа данных</a></span></li><li><span><a href=\"#Обработка-дубликатов\" data-toc-modified-id=\"Обработка-дубликатов-2.4\"><span class=\"toc-item-num\">2.4&nbsp;&nbsp;</span>Обработка дубликатов</a></span></li><li><span><a href=\"#Вывод\" data-toc-modified-id=\"Вывод-2.5\"><span class=\"toc-item-num\">2.5&nbsp;&nbsp;</span>Вывод</a></span></li></ul></li><li><span><a href=\"#Расчёты-и-добавление-результатов-в-таблицу\" data-toc-modified-id=\"Расчёты-и-добавление-результатов-в-таблицу-3\"><span class=\"toc-item-num\">3&nbsp;&nbsp;</span>Расчёты и добавление результатов в таблицу</a></span><ul class=\"toc-item\"><li><span><a href=\"#Расчёт-и-добавление-в-таблицу-цены-квадратного-метра\" data-toc-modified-id=\"Расчёт-и-добавление-в-таблицу-цены-квадратного-метра-3.1\"><span class=\"toc-item-num\">3.1&nbsp;&nbsp;</span>Расчёт и добавление в таблицу цены квадратного метра</a></span></li><li><span><a href=\"#Расчёт-и-добавление-в-таблицу-дня-недели,-месяца-и-года-публикации-объявления\" data-toc-modified-id=\"Расчёт-и-добавление-в-таблицу-дня-недели,-месяца-и-года-публикации-объявления-3.2\"><span class=\"toc-item-num\">3.2&nbsp;&nbsp;</span>Расчёт и добавление в таблицу дня недели, месяца и года публикации объявления</a></span></li><li><span><a href=\"#Расчет-и-добавление-в-таблицу-этажности-квартиры\" data-toc-modified-id=\"Расчет-и-добавление-в-таблицу-этажности-квартиры-3.3\"><span class=\"toc-item-num\">3.3&nbsp;&nbsp;</span>Расчет и добавление в таблицу этажности квартиры</a></span></li><li><span><a href=\"#Расчёт-и-добавление-в-таблицу-соотношения-жилой-и-общей-площади\" data-toc-modified-id=\"Расчёт-и-добавление-в-таблицу-соотношения-жилой-и-общей-площади-3.4\"><span class=\"toc-item-num\">3.4&nbsp;&nbsp;</span>Расчёт и добавление в таблицу соотношения жилой и общей площади</a></span></li><li><span><a href=\"#Расчёт-и-добавление-в-таблицу-отношение-площади-кухни-к-общей\" data-toc-modified-id=\"Расчёт-и-добавление-в-таблицу-отношение-площади-кухни-к-общей-3.5\"><span class=\"toc-item-num\">3.5&nbsp;&nbsp;</span>Расчёт и добавление в таблицу отношение площади кухни к общей</a></span></li></ul></li><li><span><a href=\"#Исследовательский-анализ-данных\" data-toc-modified-id=\"Исследовательский-анализ-данных-4\"><span class=\"toc-item-num\">4&nbsp;&nbsp;</span>Исследовательский анализ данных</a></span><ul class=\"toc-item\"><li><span><a href=\"#Исследование-площади,-цены,-числа-комнат,-высоты-потолков\" data-toc-modified-id=\"Исследование-площади,-цены,-числа-комнат,-высоты-потолков-4.1\"><span class=\"toc-item-num\">4.1&nbsp;&nbsp;</span>Исследование площади, цены, числа комнат, высоты потолков</a></span></li><li><span><a href=\"#Исследование-количества-времени-для-продажи-квартиры\" data-toc-modified-id=\"Исследование-количества-времени-для-продажи-квартиры-4.2\"><span class=\"toc-item-num\">4.2&nbsp;&nbsp;</span>Исследование количества времени для продажи квартиры</a></span></li><li><span><a href=\"#Анализ-редких-и-выбивающихся-значений\" data-toc-modified-id=\"Анализ-редких-и-выбивающихся-значений-4.3\"><span class=\"toc-item-num\">4.3&nbsp;&nbsp;</span>Анализ редких и выбивающихся значений</a></span></li><li><span><a href=\"#Исследование-факторов,-влияющих-на-стоимость-квартиры\" data-toc-modified-id=\"Исследование-факторов,-влияющих-на-стоимость-квартиры-4.4\"><span class=\"toc-item-num\">4.4&nbsp;&nbsp;</span>Исследование факторов, влияющих на стоимость квартиры</a></span></li><li><span><a href=\"#Анализ-десяти-населённых-пунктов-с-наибольшим-числом-объявлений\" data-toc-modified-id=\"Анализ-десяти-населённых-пунктов-с-наибольшим-числом-объявлений-4.5\"><span class=\"toc-item-num\">4.5&nbsp;&nbsp;</span>Анализ десяти населённых пунктов с наибольшим числом объявлений</a></span></li><li><span><a href=\"#Анализ-изменения-цены-по-степени-удалённости-от-центра\" data-toc-modified-id=\"Анализ-изменения-цены-по-степени-удалённости-от-центра-4.6\"><span class=\"toc-item-num\">4.6&nbsp;&nbsp;</span>Анализ изменения цены по степени удалённости от центра</a></span></li><li><span><a href=\"#Сравнение-выводов-по-квартирам-в-центре-и-общих-выводов-по-всему-городу\" data-toc-modified-id=\"Сравнение-выводов-по-квартирам-в-центре-и-общих-выводов-по-всему-городу-4.7\"><span class=\"toc-item-num\">4.7&nbsp;&nbsp;</span>Сравнение выводов по квартирам в центре и общих выводов по всему городу</a></span></li></ul></li><li><span><a href=\"#Общий-вывод\" data-toc-modified-id=\"Общий-вывод-5\"><span class=\"toc-item-num\">5&nbsp;&nbsp;</span>Общий вывод</a></span></li><li><span><a href=\"#Чек-лист-готовности-проекта\" data-toc-modified-id=\"Чек-лист-готовности-проекта-6\"><span class=\"toc-item-num\">6&nbsp;&nbsp;</span>Чек-лист готовности проекта</a></span></li></ul></div>"
   ]
  },
  {
   "cell_type": "markdown",
   "metadata": {},
   "source": [
    "# Исследование объявлений о продаже квартир\n",
    "\n",
    "Предоставлены данные сервиса Яндекс.Недвижимость — архив объявлений о продаже квартир в Санкт-Петербурге и соседних населённых пунктах за несколько лет. **Основная цель проекта** – научиться определять рыночную стоимость объектов недвижимости. **Задача** — установить параметры. Это позволит построить автоматизированную систему: она отследит аномалии и мошенническую деятельность. \n",
    "\n",
    "По каждой квартире на продажу доступны два вида данных. Первые вписаны пользователем, вторые получены автоматически на основе картографических данных. Например, расстояние до центра, аэропорта, ближайшего парка и водоёма. \n",
    "\n",
    "Для достижения поставленной цели проекта необходимо провести **исследовательский анализ данных**, в ходе которого:\n",
    "- изучить такие параметры, как площадь, цена, число комнат, высота потолков;\n",
    "- изучить время продажи квартир и определить, когда продажи были очень быстрыми, а когда необычно долгими;\n",
    "- убрать редкие и выбивающиеся значения;\n",
    "- определить, какие факторы сильнее всего влияют на стоимость квартиры;\n",
    "- выбрать 10 населенных пунктов, с наибольшим числом объявлений, посчитать среднюю цену квадратного метра в каждом из них и выделить населенные пункты с самой высокой ценой и самой низкой стоимостью жилья;\n",
    "- выделить квартиры в Санкт-Петербурге;\n",
    "- выделить сегмент квартир в центре и выделить факторы, которые влияют на стоимость квартиры;\n",
    "- сделать выводы по центральному сегменту города и сравнить с общими выводами по всему городу.\n",
    "\n",
    "**Проект будет состоять из 5 частей:**\n",
    "1. Обзор данных\n",
    "2. Предобработка данных\n",
    "3. Рассчеты и добавление результатов\n",
    "4. Исследовательский анализ данных\n",
    "5. Общий вывод"
   ]
  },
  {
   "cell_type": "markdown",
   "metadata": {},
   "source": [
    "## Изучение данных из файла"
   ]
  },
  {
   "cell_type": "code",
   "execution_count": 1,
   "metadata": {},
   "outputs": [],
   "source": [
    "import pandas as pd\n",
    "import matplotlib.pyplot as plt\n",
    "import seaborn as sns"
   ]
  },
  {
   "cell_type": "code",
   "execution_count": 2,
   "metadata": {},
   "outputs": [],
   "source": [
    "data = pd.read_csv('/datasets/real_estate_data.csv', sep='\\t', decimal=',')"
   ]
  },
  {
   "cell_type": "code",
   "execution_count": 3,
   "metadata": {
    "scrolled": true
   },
   "outputs": [
    {
     "data": {
      "text/html": [
       "<div>\n",
       "<style scoped>\n",
       "    .dataframe tbody tr th:only-of-type {\n",
       "        vertical-align: middle;\n",
       "    }\n",
       "\n",
       "    .dataframe tbody tr th {\n",
       "        vertical-align: top;\n",
       "    }\n",
       "\n",
       "    .dataframe thead th {\n",
       "        text-align: right;\n",
       "    }\n",
       "</style>\n",
       "<table border=\"1\" class=\"dataframe\">\n",
       "  <thead>\n",
       "    <tr style=\"text-align: right;\">\n",
       "      <th></th>\n",
       "      <th>total_images</th>\n",
       "      <th>last_price</th>\n",
       "      <th>total_area</th>\n",
       "      <th>first_day_exposition</th>\n",
       "      <th>rooms</th>\n",
       "      <th>ceiling_height</th>\n",
       "      <th>floors_total</th>\n",
       "      <th>living_area</th>\n",
       "      <th>floor</th>\n",
       "      <th>is_apartment</th>\n",
       "      <th>...</th>\n",
       "      <th>kitchen_area</th>\n",
       "      <th>balcony</th>\n",
       "      <th>locality_name</th>\n",
       "      <th>airports_nearest</th>\n",
       "      <th>cityCenters_nearest</th>\n",
       "      <th>parks_around3000</th>\n",
       "      <th>parks_nearest</th>\n",
       "      <th>ponds_around3000</th>\n",
       "      <th>ponds_nearest</th>\n",
       "      <th>days_exposition</th>\n",
       "    </tr>\n",
       "  </thead>\n",
       "  <tbody>\n",
       "    <tr>\n",
       "      <th>0</th>\n",
       "      <td>20</td>\n",
       "      <td>13000000.0</td>\n",
       "      <td>108.0</td>\n",
       "      <td>2019-03-07T00:00:00</td>\n",
       "      <td>3</td>\n",
       "      <td>2.7</td>\n",
       "      <td>16.0</td>\n",
       "      <td>51.0</td>\n",
       "      <td>8</td>\n",
       "      <td>NaN</td>\n",
       "      <td>...</td>\n",
       "      <td>25.0</td>\n",
       "      <td>NaN</td>\n",
       "      <td>Санкт-Петербург</td>\n",
       "      <td>18863.0</td>\n",
       "      <td>16028.0</td>\n",
       "      <td>1.0</td>\n",
       "      <td>482.0</td>\n",
       "      <td>2.0</td>\n",
       "      <td>755.0</td>\n",
       "      <td>NaN</td>\n",
       "    </tr>\n",
       "    <tr>\n",
       "      <th>1</th>\n",
       "      <td>7</td>\n",
       "      <td>3350000.0</td>\n",
       "      <td>40.4</td>\n",
       "      <td>2018-12-04T00:00:00</td>\n",
       "      <td>1</td>\n",
       "      <td>NaN</td>\n",
       "      <td>11.0</td>\n",
       "      <td>18.6</td>\n",
       "      <td>1</td>\n",
       "      <td>NaN</td>\n",
       "      <td>...</td>\n",
       "      <td>11.0</td>\n",
       "      <td>2.0</td>\n",
       "      <td>посёлок Шушары</td>\n",
       "      <td>12817.0</td>\n",
       "      <td>18603.0</td>\n",
       "      <td>0.0</td>\n",
       "      <td>NaN</td>\n",
       "      <td>0.0</td>\n",
       "      <td>NaN</td>\n",
       "      <td>81.0</td>\n",
       "    </tr>\n",
       "    <tr>\n",
       "      <th>2</th>\n",
       "      <td>10</td>\n",
       "      <td>5196000.0</td>\n",
       "      <td>56.0</td>\n",
       "      <td>2015-08-20T00:00:00</td>\n",
       "      <td>2</td>\n",
       "      <td>NaN</td>\n",
       "      <td>5.0</td>\n",
       "      <td>34.3</td>\n",
       "      <td>4</td>\n",
       "      <td>NaN</td>\n",
       "      <td>...</td>\n",
       "      <td>8.3</td>\n",
       "      <td>0.0</td>\n",
       "      <td>Санкт-Петербург</td>\n",
       "      <td>21741.0</td>\n",
       "      <td>13933.0</td>\n",
       "      <td>1.0</td>\n",
       "      <td>90.0</td>\n",
       "      <td>2.0</td>\n",
       "      <td>574.0</td>\n",
       "      <td>558.0</td>\n",
       "    </tr>\n",
       "    <tr>\n",
       "      <th>3</th>\n",
       "      <td>0</td>\n",
       "      <td>64900000.0</td>\n",
       "      <td>159.0</td>\n",
       "      <td>2015-07-24T00:00:00</td>\n",
       "      <td>3</td>\n",
       "      <td>NaN</td>\n",
       "      <td>14.0</td>\n",
       "      <td>NaN</td>\n",
       "      <td>9</td>\n",
       "      <td>NaN</td>\n",
       "      <td>...</td>\n",
       "      <td>NaN</td>\n",
       "      <td>0.0</td>\n",
       "      <td>Санкт-Петербург</td>\n",
       "      <td>28098.0</td>\n",
       "      <td>6800.0</td>\n",
       "      <td>2.0</td>\n",
       "      <td>84.0</td>\n",
       "      <td>3.0</td>\n",
       "      <td>234.0</td>\n",
       "      <td>424.0</td>\n",
       "    </tr>\n",
       "    <tr>\n",
       "      <th>4</th>\n",
       "      <td>2</td>\n",
       "      <td>10000000.0</td>\n",
       "      <td>100.0</td>\n",
       "      <td>2018-06-19T00:00:00</td>\n",
       "      <td>2</td>\n",
       "      <td>3.03</td>\n",
       "      <td>14.0</td>\n",
       "      <td>32.0</td>\n",
       "      <td>13</td>\n",
       "      <td>NaN</td>\n",
       "      <td>...</td>\n",
       "      <td>41.0</td>\n",
       "      <td>NaN</td>\n",
       "      <td>Санкт-Петербург</td>\n",
       "      <td>31856.0</td>\n",
       "      <td>8098.0</td>\n",
       "      <td>2.0</td>\n",
       "      <td>112.0</td>\n",
       "      <td>1.0</td>\n",
       "      <td>48.0</td>\n",
       "      <td>121.0</td>\n",
       "    </tr>\n",
       "    <tr>\n",
       "      <th>5</th>\n",
       "      <td>10</td>\n",
       "      <td>2890000.0</td>\n",
       "      <td>30.4</td>\n",
       "      <td>2018-09-10T00:00:00</td>\n",
       "      <td>1</td>\n",
       "      <td>NaN</td>\n",
       "      <td>12.0</td>\n",
       "      <td>14.4</td>\n",
       "      <td>5</td>\n",
       "      <td>NaN</td>\n",
       "      <td>...</td>\n",
       "      <td>9.1</td>\n",
       "      <td>NaN</td>\n",
       "      <td>городской посёлок Янино-1</td>\n",
       "      <td>NaN</td>\n",
       "      <td>NaN</td>\n",
       "      <td>NaN</td>\n",
       "      <td>NaN</td>\n",
       "      <td>NaN</td>\n",
       "      <td>NaN</td>\n",
       "      <td>55.0</td>\n",
       "    </tr>\n",
       "    <tr>\n",
       "      <th>6</th>\n",
       "      <td>6</td>\n",
       "      <td>3700000.0</td>\n",
       "      <td>37.3</td>\n",
       "      <td>2017-11-02T00:00:00</td>\n",
       "      <td>1</td>\n",
       "      <td>NaN</td>\n",
       "      <td>26.0</td>\n",
       "      <td>10.6</td>\n",
       "      <td>6</td>\n",
       "      <td>NaN</td>\n",
       "      <td>...</td>\n",
       "      <td>14.4</td>\n",
       "      <td>1.0</td>\n",
       "      <td>посёлок Парголово</td>\n",
       "      <td>52996.0</td>\n",
       "      <td>19143.0</td>\n",
       "      <td>0.0</td>\n",
       "      <td>NaN</td>\n",
       "      <td>0.0</td>\n",
       "      <td>NaN</td>\n",
       "      <td>155.0</td>\n",
       "    </tr>\n",
       "    <tr>\n",
       "      <th>7</th>\n",
       "      <td>5</td>\n",
       "      <td>7915000.0</td>\n",
       "      <td>71.6</td>\n",
       "      <td>2019-04-18T00:00:00</td>\n",
       "      <td>2</td>\n",
       "      <td>NaN</td>\n",
       "      <td>24.0</td>\n",
       "      <td>NaN</td>\n",
       "      <td>22</td>\n",
       "      <td>NaN</td>\n",
       "      <td>...</td>\n",
       "      <td>18.9</td>\n",
       "      <td>2.0</td>\n",
       "      <td>Санкт-Петербург</td>\n",
       "      <td>23982.0</td>\n",
       "      <td>11634.0</td>\n",
       "      <td>0.0</td>\n",
       "      <td>NaN</td>\n",
       "      <td>0.0</td>\n",
       "      <td>NaN</td>\n",
       "      <td>NaN</td>\n",
       "    </tr>\n",
       "    <tr>\n",
       "      <th>8</th>\n",
       "      <td>20</td>\n",
       "      <td>2900000.0</td>\n",
       "      <td>33.16</td>\n",
       "      <td>2018-05-23T00:00:00</td>\n",
       "      <td>1</td>\n",
       "      <td>NaN</td>\n",
       "      <td>27.0</td>\n",
       "      <td>15.43</td>\n",
       "      <td>26</td>\n",
       "      <td>NaN</td>\n",
       "      <td>...</td>\n",
       "      <td>8.81</td>\n",
       "      <td>NaN</td>\n",
       "      <td>посёлок Мурино</td>\n",
       "      <td>NaN</td>\n",
       "      <td>NaN</td>\n",
       "      <td>NaN</td>\n",
       "      <td>NaN</td>\n",
       "      <td>NaN</td>\n",
       "      <td>NaN</td>\n",
       "      <td>189.00000000000003</td>\n",
       "    </tr>\n",
       "    <tr>\n",
       "      <th>9</th>\n",
       "      <td>18</td>\n",
       "      <td>5400000.0</td>\n",
       "      <td>61.0</td>\n",
       "      <td>2017-02-26T00:00:00</td>\n",
       "      <td>3</td>\n",
       "      <td>2.5</td>\n",
       "      <td>9.0</td>\n",
       "      <td>43.6</td>\n",
       "      <td>7</td>\n",
       "      <td>NaN</td>\n",
       "      <td>...</td>\n",
       "      <td>6.5</td>\n",
       "      <td>2.0</td>\n",
       "      <td>Санкт-Петербург</td>\n",
       "      <td>50898.0</td>\n",
       "      <td>15008.0</td>\n",
       "      <td>0.0</td>\n",
       "      <td>NaN</td>\n",
       "      <td>0.0</td>\n",
       "      <td>NaN</td>\n",
       "      <td>289.0</td>\n",
       "    </tr>\n",
       "  </tbody>\n",
       "</table>\n",
       "<p>10 rows × 22 columns</p>\n",
       "</div>"
      ],
      "text/plain": [
       "   total_images  last_price total_area first_day_exposition  rooms  \\\n",
       "0            20  13000000.0      108.0  2019-03-07T00:00:00      3   \n",
       "1             7   3350000.0       40.4  2018-12-04T00:00:00      1   \n",
       "2            10   5196000.0       56.0  2015-08-20T00:00:00      2   \n",
       "3             0  64900000.0      159.0  2015-07-24T00:00:00      3   \n",
       "4             2  10000000.0      100.0  2018-06-19T00:00:00      2   \n",
       "5            10   2890000.0       30.4  2018-09-10T00:00:00      1   \n",
       "6             6   3700000.0       37.3  2017-11-02T00:00:00      1   \n",
       "7             5   7915000.0       71.6  2019-04-18T00:00:00      2   \n",
       "8            20   2900000.0      33.16  2018-05-23T00:00:00      1   \n",
       "9            18   5400000.0       61.0  2017-02-26T00:00:00      3   \n",
       "\n",
       "  ceiling_height floors_total living_area  floor is_apartment  ...  \\\n",
       "0            2.7         16.0        51.0      8          NaN  ...   \n",
       "1            NaN         11.0        18.6      1          NaN  ...   \n",
       "2            NaN          5.0        34.3      4          NaN  ...   \n",
       "3            NaN         14.0         NaN      9          NaN  ...   \n",
       "4           3.03         14.0        32.0     13          NaN  ...   \n",
       "5            NaN         12.0        14.4      5          NaN  ...   \n",
       "6            NaN         26.0        10.6      6          NaN  ...   \n",
       "7            NaN         24.0         NaN     22          NaN  ...   \n",
       "8            NaN         27.0       15.43     26          NaN  ...   \n",
       "9            2.5          9.0        43.6      7          NaN  ...   \n",
       "\n",
       "   kitchen_area  balcony              locality_name airports_nearest  \\\n",
       "0          25.0      NaN            Санкт-Петербург          18863.0   \n",
       "1          11.0      2.0             посёлок Шушары          12817.0   \n",
       "2           8.3      0.0            Санкт-Петербург          21741.0   \n",
       "3           NaN      0.0            Санкт-Петербург          28098.0   \n",
       "4          41.0      NaN            Санкт-Петербург          31856.0   \n",
       "5           9.1      NaN  городской посёлок Янино-1              NaN   \n",
       "6          14.4      1.0          посёлок Парголово          52996.0   \n",
       "7          18.9      2.0            Санкт-Петербург          23982.0   \n",
       "8          8.81      NaN             посёлок Мурино              NaN   \n",
       "9           6.5      2.0            Санкт-Петербург          50898.0   \n",
       "\n",
       "  cityCenters_nearest parks_around3000 parks_nearest ponds_around3000  \\\n",
       "0             16028.0              1.0         482.0              2.0   \n",
       "1             18603.0              0.0           NaN              0.0   \n",
       "2             13933.0              1.0          90.0              2.0   \n",
       "3              6800.0              2.0          84.0              3.0   \n",
       "4              8098.0              2.0         112.0              1.0   \n",
       "5                 NaN              NaN           NaN              NaN   \n",
       "6             19143.0              0.0           NaN              0.0   \n",
       "7             11634.0              0.0           NaN              0.0   \n",
       "8                 NaN              NaN           NaN              NaN   \n",
       "9             15008.0              0.0           NaN              0.0   \n",
       "\n",
       "  ponds_nearest     days_exposition  \n",
       "0         755.0                 NaN  \n",
       "1           NaN                81.0  \n",
       "2         574.0               558.0  \n",
       "3         234.0               424.0  \n",
       "4          48.0               121.0  \n",
       "5           NaN                55.0  \n",
       "6           NaN               155.0  \n",
       "7           NaN                 NaN  \n",
       "8           NaN  189.00000000000003  \n",
       "9           NaN               289.0  \n",
       "\n",
       "[10 rows x 22 columns]"
      ]
     },
     "execution_count": 3,
     "metadata": {},
     "output_type": "execute_result"
    }
   ],
   "source": [
    "data.head(10)"
   ]
  },
  {
   "cell_type": "markdown",
   "metadata": {},
   "source": [
    "При выводе первых 10 строк можно обнаружить много столбцов с пропущенными значениями. В дальнейшем предстоит выяснить возможные причины пропусков и решить, можно ли их заменить или нет. Например, в столбце `balcony` можем сделать предположение, что пропущенные значения означают отсутствие балкона вовсе. \n",
    "\n",
    "Кроме того, многие столбцы содержат неверный тип данных. Например, данные в столбце `floors_total` уместнее будет привести к целочисленным значениям, так как количество этажей в доме измеряется целыми числами. "
   ]
  },
  {
   "cell_type": "code",
   "execution_count": 4,
   "metadata": {},
   "outputs": [
    {
     "name": "stdout",
     "output_type": "stream",
     "text": [
      "<class 'pandas.core.frame.DataFrame'>\n",
      "RangeIndex: 23699 entries, 0 to 23698\n",
      "Data columns (total 22 columns):\n",
      " #   Column                Non-Null Count  Dtype \n",
      "---  ------                --------------  ----- \n",
      " 0   total_images          23699 non-null  int64 \n",
      " 1   last_price            23699 non-null  object\n",
      " 2   total_area            23699 non-null  object\n",
      " 3   first_day_exposition  23699 non-null  object\n",
      " 4   rooms                 23699 non-null  int64 \n",
      " 5   ceiling_height        14504 non-null  object\n",
      " 6   floors_total          23613 non-null  object\n",
      " 7   living_area           21796 non-null  object\n",
      " 8   floor                 23699 non-null  int64 \n",
      " 9   is_apartment          2775 non-null   object\n",
      " 10  studio                23699 non-null  bool  \n",
      " 11  open_plan             23699 non-null  bool  \n",
      " 12  kitchen_area          21421 non-null  object\n",
      " 13  balcony               12180 non-null  object\n",
      " 14  locality_name         23650 non-null  object\n",
      " 15  airports_nearest      18157 non-null  object\n",
      " 16  cityCenters_nearest   18180 non-null  object\n",
      " 17  parks_around3000      18181 non-null  object\n",
      " 18  parks_nearest         8079 non-null   object\n",
      " 19  ponds_around3000      18181 non-null  object\n",
      " 20  ponds_nearest         9110 non-null   object\n",
      " 21  days_exposition       20518 non-null  object\n",
      "dtypes: bool(2), int64(3), object(17)\n",
      "memory usage: 3.7+ MB\n"
     ]
    }
   ],
   "source": [
    "data.info()"
   ]
  },
  {
   "cell_type": "markdown",
   "metadata": {},
   "source": [
    "### Вывод"
   ]
  },
  {
   "cell_type": "markdown",
   "metadata": {},
   "source": [
    "В данных было обнаружено множество пропущенных значений. В следующем шаге предстоить принять решение о замене пропусков. \n",
    "\n",
    "Не везде указан корректный тип данных. На этапе предобработки предстоит заменить тип данных в некоторых столбцах в зависимости от их содержания.\n",
    "\n",
    "Столбец `first_day_exposition` содержит данные о времени и дате, его необходимо будет привести к корректному и удобному для восприятия виду. \n",
    "\n",
    "Не все колонки названы в едином стиле, стоит обратить на это внимание и преобразовать некоторые названия.\n",
    "\n",
    "В таблице 22 столбца и 3 основных типа данных – `bool`, `int64`, `object`.\n",
    "\n",
    "**Согласно документации к данным:**\n",
    "- `airports_nearest` — расстояние до ближайшего аэропорта в метрах (м)\n",
    "- `balcony` — число балконов\n",
    "- `ceiling_height` — высота потолков (м)\n",
    "- `cityCenters_nearest` — расстояние до центра города (м)\n",
    "- `days_exposition` — сколько дней было размещено объявление (от публикации до снятия)\n",
    "- `first_day_exposition` — дата публикации\n",
    "- `floor` — этаж\n",
    "- `floors_total` — всего этажей в доме\n",
    "- `is_apartment` — апартаменты (булев тип)\n",
    "- `kitchen_area` — площадь кухни в квадратных метрах (м²)\n",
    "- `last_price` — цена на момент снятия с публикации\n",
    "- `living_area` — жилая площадь в квадратных метрах (м²)\n",
    "- `locality_name` — название населённого пункта\n",
    "- `open_plan` — свободная планировка (булев тип)\n",
    "- `parks_around3000` — число парков в радиусе 3 км\n",
    "- `parks_nearest` — расстояние до ближайшего парка (м)\n",
    "- `ponds_around3000` — число водоёмов в радиусе 3 км\n",
    "- `ponds_nearest` — расстояние до ближайшего водоёма (м)\n",
    "- `rooms` — число комнат\n",
    "- `studio` — квартира-студия (булев тип)\n",
    "- `total_area` — площадь квартиры в квадратных метрах (м²)\n",
    "- `total_images` — число фотографий квартиры в объявлении\n",
    "\n",
    "Пояснение: апартаменты — это нежилые помещения, которые не относятся к жилому фонду, но имеют необходимые условия для проживания."
   ]
  },
  {
   "cell_type": "markdown",
   "metadata": {},
   "source": [
    "## Предобработка данных"
   ]
  },
  {
   "cell_type": "markdown",
   "metadata": {},
   "source": [
    "На этом этапе проекта необходимо сдедать следуюшие шаги:\n",
    "1. Привести все названия столбцов к единому стилю\n",
    "2. Найти и обработать пропуски\n",
    "3. Заменить типы данных, где это необходимо\n",
    "4. Найти и обработать явные и неявные дубликаты"
   ]
  },
  {
   "cell_type": "markdown",
   "metadata": {},
   "source": [
    "### Стиль заголовков"
   ]
  },
  {
   "cell_type": "markdown",
   "metadata": {},
   "source": [
    "Выведем названия всех заголовков таблицы."
   ]
  },
  {
   "cell_type": "code",
   "execution_count": 5,
   "metadata": {
    "scrolled": true
   },
   "outputs": [
    {
     "data": {
      "text/plain": [
       "Index(['total_images', 'last_price', 'total_area', 'first_day_exposition',\n",
       "       'rooms', 'ceiling_height', 'floors_total', 'living_area', 'floor',\n",
       "       'is_apartment', 'studio', 'open_plan', 'kitchen_area', 'balcony',\n",
       "       'locality_name', 'airports_nearest', 'cityCenters_nearest',\n",
       "       'parks_around3000', 'parks_nearest', 'ponds_around3000',\n",
       "       'ponds_nearest', 'days_exposition'],\n",
       "      dtype='object')"
      ]
     },
     "execution_count": 5,
     "metadata": {},
     "output_type": "execute_result"
    }
   ],
   "source": [
    "data.columns"
   ]
  },
  {
   "cell_type": "markdown",
   "metadata": {},
   "source": [
    "Необходимо заменить навание заголовка `cityCenters_nearest` на `city_centers_nearest`."
   ]
  },
  {
   "cell_type": "code",
   "execution_count": 6,
   "metadata": {},
   "outputs": [],
   "source": [
    "#переименуем столбец\n",
    "data = data.rename(columns={'cityCenters_nearest': 'city_centers_nearest'})"
   ]
  },
  {
   "cell_type": "markdown",
   "metadata": {},
   "source": [
    "Снова выведем названия всех заголовков таблицы и убедимся, что изменения были внесены корректно."
   ]
  },
  {
   "cell_type": "code",
   "execution_count": 7,
   "metadata": {},
   "outputs": [
    {
     "data": {
      "text/plain": [
       "Index(['total_images', 'last_price', 'total_area', 'first_day_exposition',\n",
       "       'rooms', 'ceiling_height', 'floors_total', 'living_area', 'floor',\n",
       "       'is_apartment', 'studio', 'open_plan', 'kitchen_area', 'balcony',\n",
       "       'locality_name', 'airports_nearest', 'city_centers_nearest',\n",
       "       'parks_around3000', 'parks_nearest', 'ponds_around3000',\n",
       "       'ponds_nearest', 'days_exposition'],\n",
       "      dtype='object')"
      ]
     },
     "execution_count": 7,
     "metadata": {},
     "output_type": "execute_result"
    }
   ],
   "source": [
    "#выведем все названия столбцов\n",
    "data.columns"
   ]
  },
  {
   "cell_type": "markdown",
   "metadata": {},
   "source": [
    "### Обработка пропусков"
   ]
  },
  {
   "cell_type": "markdown",
   "metadata": {},
   "source": [
    "В данном шаге необходимо обнаружить все пропуски в таблице и принять решение заменять их (и на что заменять) или оставить без изменений."
   ]
  },
  {
   "cell_type": "code",
   "execution_count": 8,
   "metadata": {},
   "outputs": [
    {
     "data": {
      "text/plain": [
       "total_images                0\n",
       "last_price                  0\n",
       "total_area                  0\n",
       "first_day_exposition        0\n",
       "rooms                       0\n",
       "ceiling_height           9195\n",
       "floors_total               86\n",
       "living_area              1903\n",
       "floor                       0\n",
       "is_apartment            20924\n",
       "studio                      0\n",
       "open_plan                   0\n",
       "kitchen_area             2278\n",
       "balcony                 11519\n",
       "locality_name              49\n",
       "airports_nearest         5542\n",
       "city_centers_nearest     5519\n",
       "parks_around3000         5518\n",
       "parks_nearest           15620\n",
       "ponds_around3000         5518\n",
       "ponds_nearest           14589\n",
       "days_exposition          3181\n",
       "dtype: int64"
      ]
     },
     "execution_count": 8,
     "metadata": {},
     "output_type": "execute_result"
    }
   ],
   "source": [
    "#посчитаем все пропуски в столбцах с помощью метода isna() и sum()\n",
    "data.isna().sum()"
   ]
  },
  {
   "cell_type": "markdown",
   "metadata": {},
   "source": [
    "Мы вывели сумму всех пропущенных значений в каждом столбце таблицы. \n",
    "\n",
    "Не все пропущенные значения возможно заменить на корректные данные, которые не помешают ходу исследования."
   ]
  },
  {
   "cell_type": "markdown",
   "metadata": {},
   "source": [
    "В столбце `floors_total` и `locality_name` встречается не много пропущенных значений. В дальнейшем данные этих столбцов будут необходимы нам для решения поставленных вопросов. Логичной замены для пропусков нет, поэтому удалим их, если они не занимают значительную часть датасета."
   ]
  },
  {
   "cell_type": "code",
   "execution_count": 9,
   "metadata": {},
   "outputs": [],
   "source": [
    "# удаляем пропущенные строки с пропусками в столбцах floors_total и locality_name\n",
    "data = data.dropna(axis=0, subset=['floors_total', 'locality_name'])"
   ]
  },
  {
   "cell_type": "code",
   "execution_count": 10,
   "metadata": {},
   "outputs": [
    {
     "data": {
      "text/plain": [
       "total_images                0\n",
       "last_price                  0\n",
       "total_area                  0\n",
       "first_day_exposition        0\n",
       "rooms                       0\n",
       "ceiling_height           9084\n",
       "floors_total                0\n",
       "living_area              1865\n",
       "floor                       0\n",
       "is_apartment            20805\n",
       "studio                      0\n",
       "open_plan                   0\n",
       "kitchen_area             2222\n",
       "balcony                 11475\n",
       "locality_name               0\n",
       "airports_nearest         5524\n",
       "city_centers_nearest     5501\n",
       "parks_around3000         5500\n",
       "parks_nearest           15535\n",
       "ponds_around3000         5500\n",
       "ponds_nearest           14529\n",
       "days_exposition          3171\n",
       "dtype: int64"
      ]
     },
     "execution_count": 10,
     "metadata": {},
     "output_type": "execute_result"
    }
   ],
   "source": [
    "data.isna().sum()"
   ]
  },
  {
   "cell_type": "markdown",
   "metadata": {},
   "source": [
    "Пропущенные значения встречаются в столбце `ceiling_height`, который отвечает за высоту потолков в квартире. Посмотрим на корректность и \"нормальность\" данных в столбце и выведем уникальные значения."
   ]
  },
  {
   "cell_type": "code",
   "execution_count": 11,
   "metadata": {},
   "outputs": [
    {
     "data": {
      "text/plain": [
       "array(['2.7', nan, '3.03', '2.5', '2.67', '2.56', '3.05', '2.75', '2.6',\n",
       "       '2.9', '2.8', '2.55', '3.0', '2.65', '3.2', '2.61', '3.25', '3.45',\n",
       "       '2.77', '2.85', '2.64', '2.57', '4.15', '3.5', '3.3', '2.71',\n",
       "       '4.0', '2.47', '2.73', '2.84', '3.1', '2.34', '3.4', '3.06',\n",
       "       '2.72', '2.54', '2.51', '2.78', '2.76', '25.0', '2.58', '3.7',\n",
       "       '2.52', '5.2', '2.87', '2.66', '2.59', '2.0', '2.45', '3.6',\n",
       "       '2.92', '3.11', '3.13', '3.8', '3.15', '3.55', '3.16', '3.62',\n",
       "       '3.12', '2.53', '2.74', '2.96', '2.46', '5.3', '5.0', '2.79',\n",
       "       '2.95', '4.06', '2.94', '3.82', '3.54', '3.53', '2.83', '4.7',\n",
       "       '2.4', '3.38', '3.01', '5.6', '3.65', '3.9', '3.18', '3.35', '2.3',\n",
       "       '3.57', '2.48', '2.62', '2.82', '3.98', '2.63', '3.83', '3.52',\n",
       "       '3.95', '3.75', '2.88', '3.67', '3.87', '3.66', '3.85', '3.86',\n",
       "       '4.19', '3.24', '4.8', '4.5', '4.2', '3.36', '32.0', '3.08',\n",
       "       '3.68', '3.07', '3.37', '3.09', '8.0', '3.26', '3.34', '2.81',\n",
       "       '3.44', '2.97', '3.14', '4.37', '2.68', '3.22', '3.27', '27.0',\n",
       "       '4.1', '2.93', '3.46', '24.0', '3.47', '3.33', '3.63', '3.32',\n",
       "       '26.0', '1.2', '8.3', '2.98', '2.86', '3.17', '4.4', '3.28',\n",
       "       '3.04', '4.45', '5.5', '3.84', '3.23', '3.02', '3.21', '3.43',\n",
       "       '3.78', '4.3', '3.39', '2.69', '3.31', '4.65', '3.56', '2.2',\n",
       "       '3.51', '3.93', '3.42', '2.99', '3.49', '14.0', '4.14', '2.91',\n",
       "       '3.88', '1.75', '4.25', '3.29', '20.0', '2.25', '3.76', '3.69',\n",
       "       '6.0', '22.6', '2.89', '3.58', '5.8', '27.5', '2.49', '4.9',\n",
       "       '3.48', '10.3', '1.0', '100.0', '3.59'], dtype=object)"
      ]
     },
     "execution_count": 11,
     "metadata": {},
     "output_type": "execute_result"
    }
   ],
   "source": [
    "#выведем уникальные значения высоты потолков\n",
    "data['ceiling_height'].unique()"
   ]
  },
  {
   "cell_type": "markdown",
   "metadata": {},
   "source": [
    "При выводе уникальных значений можно заметить, что встречаются аномальные значения, которые не могут соответствовать действительности, например, 22,6 метров. Вероятно, данные значения были внесены некорректно и должны быть меньше в 10 раз. Найдем все такие значения и приведем к корректному виду. Перед этим переведем строковые значения к числовым."
   ]
  },
  {
   "cell_type": "code",
   "execution_count": 12,
   "metadata": {},
   "outputs": [],
   "source": [
    "#переводим строковые значения в числовые\n",
    "data['ceiling_height'] = pd.to_numeric(data['ceiling_height'])"
   ]
  },
  {
   "cell_type": "code",
   "execution_count": 13,
   "metadata": {},
   "outputs": [],
   "source": [
    "#все значения больше 20 приводим к значениям в 10 раз меньше\n",
    "data.loc[data[\"ceiling_height\"] >= 20, \"ceiling_height\"] /= 10"
   ]
  },
  {
   "cell_type": "code",
   "execution_count": 14,
   "metadata": {},
   "outputs": [
    {
     "data": {
      "text/plain": [
       "array([ 2.7 ,   nan,  3.03,  2.5 ,  2.67,  2.56,  3.05,  2.75,  2.6 ,\n",
       "        2.9 ,  2.8 ,  2.55,  3.  ,  2.65,  3.2 ,  2.61,  3.25,  3.45,\n",
       "        2.77,  2.85,  2.64,  2.57,  4.15,  3.5 ,  3.3 ,  2.71,  4.  ,\n",
       "        2.47,  2.73,  2.84,  3.1 ,  2.34,  3.4 ,  3.06,  2.72,  2.54,\n",
       "        2.51,  2.78,  2.76,  2.58,  3.7 ,  2.52,  5.2 ,  2.87,  2.66,\n",
       "        2.59,  2.  ,  2.45,  3.6 ,  2.92,  3.11,  3.13,  3.8 ,  3.15,\n",
       "        3.55,  3.16,  3.62,  3.12,  2.53,  2.74,  2.96,  2.46,  5.3 ,\n",
       "        5.  ,  2.79,  2.95,  4.06,  2.94,  3.82,  3.54,  3.53,  2.83,\n",
       "        4.7 ,  2.4 ,  3.38,  3.01,  5.6 ,  3.65,  3.9 ,  3.18,  3.35,\n",
       "        2.3 ,  3.57,  2.48,  2.62,  2.82,  3.98,  2.63,  3.83,  3.52,\n",
       "        3.95,  3.75,  2.88,  3.67,  3.87,  3.66,  3.85,  3.86,  4.19,\n",
       "        3.24,  4.8 ,  4.5 ,  4.2 ,  3.36,  3.08,  3.68,  3.07,  3.37,\n",
       "        3.09,  8.  ,  3.26,  3.34,  2.81,  3.44,  2.97,  3.14,  4.37,\n",
       "        2.68,  3.22,  3.27,  4.1 ,  2.93,  3.46,  3.47,  3.33,  3.63,\n",
       "        3.32,  1.2 ,  8.3 ,  2.98,  2.86,  3.17,  4.4 ,  3.28,  3.04,\n",
       "        4.45,  5.5 ,  3.84,  3.23,  3.02,  3.21,  3.43,  3.78,  4.3 ,\n",
       "        3.39,  2.69,  3.31,  4.65,  3.56,  2.2 ,  3.51,  3.93,  3.42,\n",
       "        2.99,  3.49, 14.  ,  4.14,  2.91,  3.88,  1.75,  4.25,  3.29,\n",
       "        2.25,  3.76,  3.69,  6.  ,  2.26,  2.89,  3.58,  5.8 ,  2.49,\n",
       "        4.9 ,  3.48, 10.3 ,  1.  , 10.  ,  3.59])"
      ]
     },
     "execution_count": 14,
     "metadata": {},
     "output_type": "execute_result"
    }
   ],
   "source": [
    "#выводим уникальные значения для проверки преобразования данных\n",
    "data['ceiling_height'].unique()"
   ]
  },
  {
   "cell_type": "markdown",
   "metadata": {},
   "source": [
    "Мы привели значения к нормальному виду, тем не менее остались аномальные значения, например, 1 метр. Надо иметь это в виду при ответе на поставленные вопросы в будущем. Пропущенные значения заменим медианой, сгруппировав по общему количеству этажей в доме и названию населенного пункта."
   ]
  },
  {
   "cell_type": "code",
   "execution_count": 15,
   "metadata": {},
   "outputs": [
    {
     "data": {
      "text/plain": [
       "total_images                0\n",
       "last_price                  0\n",
       "total_area                  0\n",
       "first_day_exposition        0\n",
       "rooms                       0\n",
       "ceiling_height            392\n",
       "floors_total                0\n",
       "living_area              1865\n",
       "floor                       0\n",
       "is_apartment            20805\n",
       "studio                      0\n",
       "open_plan                   0\n",
       "kitchen_area             2222\n",
       "balcony                 11475\n",
       "locality_name               0\n",
       "airports_nearest         5524\n",
       "city_centers_nearest     5501\n",
       "parks_around3000         5500\n",
       "parks_nearest           15535\n",
       "ponds_around3000         5500\n",
       "ponds_nearest           14529\n",
       "days_exposition          3171\n",
       "dtype: int64"
      ]
     },
     "execution_count": 15,
     "metadata": {},
     "output_type": "execute_result"
    }
   ],
   "source": [
    "data['ceiling_height'] = data['ceiling_height'].fillna(data.groupby(['floors_total', 'locality_name'])['ceiling_height'].transform(\"median\"))\n",
    "data.isna().sum()"
   ]
  },
  {
   "cell_type": "markdown",
   "metadata": {},
   "source": [
    "После первой замены у нас все еще остались пропуски, поэтому повторим те же действия, сгруппировав сначала по общему количеству этажей в доме, а потом по названию населенного пункта."
   ]
  },
  {
   "cell_type": "code",
   "execution_count": 16,
   "metadata": {},
   "outputs": [
    {
     "data": {
      "text/plain": [
       "total_images                0\n",
       "last_price                  0\n",
       "total_area                  0\n",
       "first_day_exposition        0\n",
       "rooms                       0\n",
       "ceiling_height              1\n",
       "floors_total                0\n",
       "living_area              1865\n",
       "floor                       0\n",
       "is_apartment            20805\n",
       "studio                      0\n",
       "open_plan                   0\n",
       "kitchen_area             2222\n",
       "balcony                 11475\n",
       "locality_name               0\n",
       "airports_nearest         5524\n",
       "city_centers_nearest     5501\n",
       "parks_around3000         5500\n",
       "parks_nearest           15535\n",
       "ponds_around3000         5500\n",
       "ponds_nearest           14529\n",
       "days_exposition          3171\n",
       "dtype: int64"
      ]
     },
     "execution_count": 16,
     "metadata": {},
     "output_type": "execute_result"
    }
   ],
   "source": [
    "data['ceiling_height'] = data['ceiling_height'].fillna(data.groupby('floors_total')['ceiling_height'].transform(\"median\"))\n",
    "data.isna().sum()"
   ]
  },
  {
   "cell_type": "code",
   "execution_count": 17,
   "metadata": {},
   "outputs": [
    {
     "data": {
      "text/plain": [
       "total_images                0\n",
       "last_price                  0\n",
       "total_area                  0\n",
       "first_day_exposition        0\n",
       "rooms                       0\n",
       "ceiling_height              0\n",
       "floors_total                0\n",
       "living_area              1865\n",
       "floor                       0\n",
       "is_apartment            20805\n",
       "studio                      0\n",
       "open_plan                   0\n",
       "kitchen_area             2222\n",
       "balcony                 11475\n",
       "locality_name               0\n",
       "airports_nearest         5524\n",
       "city_centers_nearest     5501\n",
       "parks_around3000         5500\n",
       "parks_nearest           15535\n",
       "ponds_around3000         5500\n",
       "ponds_nearest           14529\n",
       "days_exposition          3171\n",
       "dtype: int64"
      ]
     },
     "execution_count": 17,
     "metadata": {},
     "output_type": "execute_result"
    }
   ],
   "source": [
    "data['ceiling_height'] = data['ceiling_height'].fillna(data.groupby('locality_name')['ceiling_height'].transform(\"median\"))\n",
    "data.isna().sum()"
   ]
  },
  {
   "cell_type": "markdown",
   "metadata": {},
   "source": [
    "В столбце `balcony` есть отсутствующие значения. Вероятно, если владелец квартиры не указал количество балконов, то их нет в квартире. Заменим пропуски на 0."
   ]
  },
  {
   "cell_type": "code",
   "execution_count": 18,
   "metadata": {},
   "outputs": [],
   "source": [
    "#заменим отсутствующие значения на 0\n",
    "data['balcony'] = data['balcony'].fillna(0)"
   ]
  },
  {
   "cell_type": "code",
   "execution_count": 19,
   "metadata": {},
   "outputs": [
    {
     "data": {
      "text/plain": [
       "array([0, '2.0', '0.0', '1.0', '5.0', '4.0', '3.0'], dtype=object)"
      ]
     },
     "execution_count": 19,
     "metadata": {},
     "output_type": "execute_result"
    }
   ],
   "source": [
    "data['balcony'].unique()"
   ]
  },
  {
   "cell_type": "markdown",
   "metadata": {},
   "source": [
    "В столбце `is_apartment` есть множество пропусков. Скорее всего пропуски свидетельствуют о том, что квартира не является апартаментом, поэтому продавец квартиры мог просто не указать этот параметр."
   ]
  },
  {
   "cell_type": "code",
   "execution_count": 20,
   "metadata": {},
   "outputs": [
    {
     "data": {
      "text/plain": [
       "array([nan, False, True], dtype=object)"
      ]
     },
     "execution_count": 20,
     "metadata": {},
     "output_type": "execute_result"
    }
   ],
   "source": [
    "#посмотрим на уникальные значения в столбце\n",
    "data['is_apartment'].unique()"
   ]
  },
  {
   "cell_type": "code",
   "execution_count": 21,
   "metadata": {},
   "outputs": [],
   "source": [
    "#заменим тип данных на Int64\n",
    "data['is_apartment'] = pd.to_numeric(data['is_apartment']).astype('Int64')"
   ]
  },
  {
   "cell_type": "code",
   "execution_count": 22,
   "metadata": {},
   "outputs": [],
   "source": [
    "#заменим пропуски на 0\n",
    "data['is_apartment'] = data['is_apartment'].fillna(0)"
   ]
  },
  {
   "cell_type": "code",
   "execution_count": 23,
   "metadata": {
    "scrolled": true
   },
   "outputs": [
    {
     "data": {
      "text/plain": [
       "<IntegerArray>\n",
       "[0, 1]\n",
       "Length: 2, dtype: Int64"
      ]
     },
     "execution_count": 23,
     "metadata": {},
     "output_type": "execute_result"
    }
   ],
   "source": [
    "#посмотрим на уникальные значения в столбце\n",
    "data['is_apartment'].unique()"
   ]
  },
  {
   "cell_type": "markdown",
   "metadata": {},
   "source": [
    "Для замены пропусков в столбцах `airports_nearest`, `city_centers_nearest`, `parks_around3000`, `parks_nearest`, `ponds_around3000`, `ponds_nearest` мы не располагаем достаточным количеством информации. Пропуски в этих столбцах оставим без изменения. "
   ]
  },
  {
   "cell_type": "markdown",
   "metadata": {},
   "source": [
    "Столбец `days_exposition` отвечает за дату, когда объявление было снято с сайта. Пропуски в данном столбце, вероятно, обусловлены тем, что объявление на момент сбора данных остается актуальным, и именно поэтому отсутствуют данные. Корректно заменить пропуски в значениях нельзя."
   ]
  },
  {
   "cell_type": "markdown",
   "metadata": {},
   "source": [
    "В столбцах `living_area` и `kitchen_area` встречаются пропуски, необходимо их заполнить, чтобы не исказились дальнейшие результаты при ответе на поставленные вопросы. Попробуем посмотреть, значения из каких столбцов имеют наиболее сильную корреляцию на значения."
   ]
  },
  {
   "cell_type": "markdown",
   "metadata": {},
   "source": [
    "Предположим, что на жилую площадь `living_area` влияет общая площадь помещения `total_area` с помощью метода `corr()`. Для корректной работы метода заменим тип данных."
   ]
  },
  {
   "cell_type": "code",
   "execution_count": 24,
   "metadata": {},
   "outputs": [],
   "source": [
    "#переведем строчные значения в столбцах living_area, kitchen_area, total_area в числовые\n",
    "data['total_area'] = pd.to_numeric(data['total_area'])"
   ]
  },
  {
   "cell_type": "code",
   "execution_count": 25,
   "metadata": {},
   "outputs": [],
   "source": [
    "data['living_area'] = pd.to_numeric(data['living_area'])"
   ]
  },
  {
   "cell_type": "code",
   "execution_count": 26,
   "metadata": {},
   "outputs": [],
   "source": [
    "data['kitchen_area'] = pd.to_numeric(data['kitchen_area'])"
   ]
  },
  {
   "cell_type": "code",
   "execution_count": 27,
   "metadata": {},
   "outputs": [
    {
     "data": {
      "text/plain": [
       "0.9397711143610339"
      ]
     },
     "execution_count": 27,
     "metadata": {},
     "output_type": "execute_result"
    }
   ],
   "source": [
    "#посмотрим как соотносится жилая площадь к общей\n",
    "data['living_area'].corr(data['total_area'])"
   ]
  },
  {
   "cell_type": "markdown",
   "metadata": {},
   "source": [
    "Коэффициент корреляции Пирсона в данном случае практически равен 1, что говорит о тесной линейной связи между значениями этих столбцов.\n",
    "\n",
    "Для заполнения пропусков в столбце `living_area` мы сначала разделим значения столбца `total_area` на категории, а затем заменим пропуски медианным значением жилой площади. Медианное значение поможет избежать искажения данных, если имеются аномальные значения."
   ]
  },
  {
   "cell_type": "code",
   "execution_count": 28,
   "metadata": {},
   "outputs": [],
   "source": [
    "#напишем функцию, которая будет категоризировать данные в столбце total_area\n",
    "def group_area(area):\n",
    "    if area <= 30:\n",
    "        return \"Площадь до 30\"\n",
    "    elif area <= 100:\n",
    "        return \"Площадь от 30 до 100\"\n",
    "    elif area <= 150:\n",
    "        return \"Площадь от 100 до 150\"\n",
    "    return \"Площадь выше 150\""
   ]
  },
  {
   "cell_type": "code",
   "execution_count": 29,
   "metadata": {},
   "outputs": [],
   "source": [
    "#применим функцию к столбцу total_area и создадим новый столбец с категориями\n",
    "data['group_total_area'] = data['total_area'].apply(group_area)"
   ]
  },
  {
   "cell_type": "code",
   "execution_count": 30,
   "metadata": {},
   "outputs": [],
   "source": [
    "#заменим пропуски на медианные значения\n",
    "data['living_area'] = data['living_area'].fillna(data.groupby('group_total_area')['living_area'].transform('median'))"
   ]
  },
  {
   "cell_type": "code",
   "execution_count": 31,
   "metadata": {},
   "outputs": [
    {
     "data": {
      "text/plain": [
       "0"
      ]
     },
     "execution_count": 31,
     "metadata": {},
     "output_type": "execute_result"
    }
   ],
   "source": [
    "#проверим, остались ли пропуски в столбце living_area\n",
    "data['living_area'].isna().sum()"
   ]
  },
  {
   "cell_type": "markdown",
   "metadata": {},
   "source": [
    "Теперь посмотрим влияет ли жилая площадь на площадь кухни с помощью метода `corr()`."
   ]
  },
  {
   "cell_type": "code",
   "execution_count": 32,
   "metadata": {},
   "outputs": [
    {
     "data": {
      "text/plain": [
       "0.42982507008178633"
      ]
     },
     "execution_count": 32,
     "metadata": {},
     "output_type": "execute_result"
    }
   ],
   "source": [
    "data['kitchen_area'].corr(data['living_area'])"
   ]
  },
  {
   "cell_type": "markdown",
   "metadata": {},
   "source": [
    "Корреляция говорит о наличие не особо сильной связи. Посмотрим, как соотносится общая площадь к площади кухни."
   ]
  },
  {
   "cell_type": "code",
   "execution_count": 33,
   "metadata": {},
   "outputs": [
    {
     "data": {
      "text/plain": [
       "0.6092476784548314"
      ]
     },
     "execution_count": 33,
     "metadata": {},
     "output_type": "execute_result"
    }
   ],
   "source": [
    "data['kitchen_area'].corr(data['total_area'])"
   ]
  },
  {
   "cell_type": "markdown",
   "metadata": {},
   "source": [
    "В данном случае корреляция более ярко выражена. Также как и в предыдущем шаге заменим пропуски медианным значением пощади кухни по категориям."
   ]
  },
  {
   "cell_type": "code",
   "execution_count": 34,
   "metadata": {},
   "outputs": [],
   "source": [
    "data['kitchen_area'] = data['kitchen_area'].fillna(data.groupby('group_total_area')['kitchen_area'].transform('median'))"
   ]
  },
  {
   "cell_type": "code",
   "execution_count": 35,
   "metadata": {},
   "outputs": [
    {
     "data": {
      "text/plain": [
       "0"
      ]
     },
     "execution_count": 35,
     "metadata": {},
     "output_type": "execute_result"
    }
   ],
   "source": [
    "#проверим, остались ли пропуски в столбце kitchen_area\n",
    "data['kitchen_area'].isna().sum()"
   ]
  },
  {
   "cell_type": "code",
   "execution_count": 36,
   "metadata": {},
   "outputs": [
    {
     "data": {
      "text/plain": [
       "total_images                0\n",
       "last_price                  0\n",
       "total_area                  0\n",
       "first_day_exposition        0\n",
       "rooms                       0\n",
       "ceiling_height              0\n",
       "floors_total                0\n",
       "living_area                 0\n",
       "floor                       0\n",
       "is_apartment                0\n",
       "studio                      0\n",
       "open_plan                   0\n",
       "kitchen_area                0\n",
       "balcony                     0\n",
       "locality_name               0\n",
       "airports_nearest         5524\n",
       "city_centers_nearest     5501\n",
       "parks_around3000         5500\n",
       "parks_nearest           15535\n",
       "ponds_around3000         5500\n",
       "ponds_nearest           14529\n",
       "days_exposition          3171\n",
       "group_total_area            0\n",
       "dtype: int64"
      ]
     },
     "execution_count": 36,
     "metadata": {},
     "output_type": "execute_result"
    }
   ],
   "source": [
    "#посчитаем все пропуски в столбцах с помощью метода isna() и sum()\n",
    "data.isna().sum()"
   ]
  },
  {
   "cell_type": "markdown",
   "metadata": {},
   "source": [
    "### Замена типа данных"
   ]
  },
  {
   "cell_type": "markdown",
   "metadata": {},
   "source": [
    "На этом этапе необходимо заменить тип данных в столбцах, где это необходимо. На предыдущем этапе мы уже поменяли тип данных у столбцов `total_area`, `living_area`, `kitchen_area`, `ceiling_height`, `is_apartment`. "
   ]
  },
  {
   "cell_type": "markdown",
   "metadata": {},
   "source": [
    "В столбцах `balcony`, `floors`, `floors_total`, `days_exposition` данные имеют тип `object`, заменим их на целочисленные значения. "
   ]
  },
  {
   "cell_type": "code",
   "execution_count": 37,
   "metadata": {},
   "outputs": [],
   "source": [
    "data['balcony'] = pd.to_numeric(data['balcony']).astype('int64')"
   ]
  },
  {
   "cell_type": "code",
   "execution_count": 38,
   "metadata": {},
   "outputs": [],
   "source": [
    "data['floors_total'] = pd.to_numeric(data['floors_total']).astype('int64')"
   ]
  },
  {
   "cell_type": "code",
   "execution_count": 39,
   "metadata": {},
   "outputs": [],
   "source": [
    "data['days_exposition'] = pd.to_numeric(data['days_exposition'])"
   ]
  },
  {
   "cell_type": "code",
   "execution_count": 40,
   "metadata": {},
   "outputs": [],
   "source": [
    "data['days_exposition'] = data['days_exposition'].round().astype('Int64')"
   ]
  },
  {
   "cell_type": "code",
   "execution_count": 41,
   "metadata": {},
   "outputs": [],
   "source": [
    "data['city_centers_nearest'] = pd.to_numeric(data['city_centers_nearest'])"
   ]
  },
  {
   "cell_type": "markdown",
   "metadata": {},
   "source": [
    "В столбцах `last_price` данные имеют тип `object`, заменим их на числовые значения."
   ]
  },
  {
   "cell_type": "code",
   "execution_count": 42,
   "metadata": {},
   "outputs": [],
   "source": [
    "data['last_price'] = pd.to_numeric(data['last_price']).astype('int64')"
   ]
  },
  {
   "cell_type": "code",
   "execution_count": 43,
   "metadata": {},
   "outputs": [
    {
     "name": "stdout",
     "output_type": "stream",
     "text": [
      "<class 'pandas.core.frame.DataFrame'>\n",
      "Int64Index: 23565 entries, 0 to 23698\n",
      "Data columns (total 23 columns):\n",
      " #   Column                Non-Null Count  Dtype  \n",
      "---  ------                --------------  -----  \n",
      " 0   total_images          23565 non-null  int64  \n",
      " 1   last_price            23565 non-null  int64  \n",
      " 2   total_area            23565 non-null  float64\n",
      " 3   first_day_exposition  23565 non-null  object \n",
      " 4   rooms                 23565 non-null  int64  \n",
      " 5   ceiling_height        23565 non-null  float64\n",
      " 6   floors_total          23565 non-null  int64  \n",
      " 7   living_area           23565 non-null  float64\n",
      " 8   floor                 23565 non-null  int64  \n",
      " 9   is_apartment          23565 non-null  Int64  \n",
      " 10  studio                23565 non-null  bool   \n",
      " 11  open_plan             23565 non-null  bool   \n",
      " 12  kitchen_area          23565 non-null  float64\n",
      " 13  balcony               23565 non-null  int64  \n",
      " 14  locality_name         23565 non-null  object \n",
      " 15  airports_nearest      18041 non-null  object \n",
      " 16  city_centers_nearest  18064 non-null  float64\n",
      " 17  parks_around3000      18065 non-null  object \n",
      " 18  parks_nearest         8030 non-null   object \n",
      " 19  ponds_around3000      18065 non-null  object \n",
      " 20  ponds_nearest         9036 non-null   object \n",
      " 21  days_exposition       20394 non-null  Int64  \n",
      " 22  group_total_area      23565 non-null  object \n",
      "dtypes: Int64(2), bool(2), float64(5), int64(6), object(8)\n",
      "memory usage: 4.0+ MB\n"
     ]
    }
   ],
   "source": [
    "data.info()"
   ]
  },
  {
   "cell_type": "markdown",
   "metadata": {},
   "source": [
    "Переведем значения столбца `first_day_exposition` из строкового типа данных в формат даты."
   ]
  },
  {
   "cell_type": "code",
   "execution_count": 44,
   "metadata": {},
   "outputs": [],
   "source": [
    "data['first_day_exposition'] = pd.to_datetime(data['first_day_exposition'], format='%Y-%m-%dT%H:%M:%S')"
   ]
  },
  {
   "cell_type": "code",
   "execution_count": 45,
   "metadata": {},
   "outputs": [
    {
     "data": {
      "text/html": [
       "<div>\n",
       "<style scoped>\n",
       "    .dataframe tbody tr th:only-of-type {\n",
       "        vertical-align: middle;\n",
       "    }\n",
       "\n",
       "    .dataframe tbody tr th {\n",
       "        vertical-align: top;\n",
       "    }\n",
       "\n",
       "    .dataframe thead th {\n",
       "        text-align: right;\n",
       "    }\n",
       "</style>\n",
       "<table border=\"1\" class=\"dataframe\">\n",
       "  <thead>\n",
       "    <tr style=\"text-align: right;\">\n",
       "      <th></th>\n",
       "      <th>total_images</th>\n",
       "      <th>last_price</th>\n",
       "      <th>total_area</th>\n",
       "      <th>first_day_exposition</th>\n",
       "      <th>rooms</th>\n",
       "      <th>ceiling_height</th>\n",
       "      <th>floors_total</th>\n",
       "      <th>living_area</th>\n",
       "      <th>floor</th>\n",
       "      <th>is_apartment</th>\n",
       "      <th>...</th>\n",
       "      <th>balcony</th>\n",
       "      <th>locality_name</th>\n",
       "      <th>airports_nearest</th>\n",
       "      <th>city_centers_nearest</th>\n",
       "      <th>parks_around3000</th>\n",
       "      <th>parks_nearest</th>\n",
       "      <th>ponds_around3000</th>\n",
       "      <th>ponds_nearest</th>\n",
       "      <th>days_exposition</th>\n",
       "      <th>group_total_area</th>\n",
       "    </tr>\n",
       "  </thead>\n",
       "  <tbody>\n",
       "    <tr>\n",
       "      <th>0</th>\n",
       "      <td>20</td>\n",
       "      <td>13000000</td>\n",
       "      <td>108.0</td>\n",
       "      <td>2019-03-07</td>\n",
       "      <td>3</td>\n",
       "      <td>2.70</td>\n",
       "      <td>16</td>\n",
       "      <td>51.0</td>\n",
       "      <td>8</td>\n",
       "      <td>0</td>\n",
       "      <td>...</td>\n",
       "      <td>0</td>\n",
       "      <td>Санкт-Петербург</td>\n",
       "      <td>18863.0</td>\n",
       "      <td>16028.0</td>\n",
       "      <td>1.0</td>\n",
       "      <td>482.0</td>\n",
       "      <td>2.0</td>\n",
       "      <td>755.0</td>\n",
       "      <td>&lt;NA&gt;</td>\n",
       "      <td>Площадь от 100 до 150</td>\n",
       "    </tr>\n",
       "    <tr>\n",
       "      <th>1</th>\n",
       "      <td>7</td>\n",
       "      <td>3350000</td>\n",
       "      <td>40.4</td>\n",
       "      <td>2018-12-04</td>\n",
       "      <td>1</td>\n",
       "      <td>2.77</td>\n",
       "      <td>11</td>\n",
       "      <td>18.6</td>\n",
       "      <td>1</td>\n",
       "      <td>0</td>\n",
       "      <td>...</td>\n",
       "      <td>2</td>\n",
       "      <td>посёлок Шушары</td>\n",
       "      <td>12817.0</td>\n",
       "      <td>18603.0</td>\n",
       "      <td>0.0</td>\n",
       "      <td>NaN</td>\n",
       "      <td>0.0</td>\n",
       "      <td>NaN</td>\n",
       "      <td>81</td>\n",
       "      <td>Площадь от 30 до 100</td>\n",
       "    </tr>\n",
       "    <tr>\n",
       "      <th>2</th>\n",
       "      <td>10</td>\n",
       "      <td>5196000</td>\n",
       "      <td>56.0</td>\n",
       "      <td>2015-08-20</td>\n",
       "      <td>2</td>\n",
       "      <td>2.60</td>\n",
       "      <td>5</td>\n",
       "      <td>34.3</td>\n",
       "      <td>4</td>\n",
       "      <td>0</td>\n",
       "      <td>...</td>\n",
       "      <td>0</td>\n",
       "      <td>Санкт-Петербург</td>\n",
       "      <td>21741.0</td>\n",
       "      <td>13933.0</td>\n",
       "      <td>1.0</td>\n",
       "      <td>90.0</td>\n",
       "      <td>2.0</td>\n",
       "      <td>574.0</td>\n",
       "      <td>558</td>\n",
       "      <td>Площадь от 30 до 100</td>\n",
       "    </tr>\n",
       "    <tr>\n",
       "      <th>3</th>\n",
       "      <td>0</td>\n",
       "      <td>64900000</td>\n",
       "      <td>159.0</td>\n",
       "      <td>2015-07-24</td>\n",
       "      <td>3</td>\n",
       "      <td>2.60</td>\n",
       "      <td>14</td>\n",
       "      <td>112.0</td>\n",
       "      <td>9</td>\n",
       "      <td>0</td>\n",
       "      <td>...</td>\n",
       "      <td>0</td>\n",
       "      <td>Санкт-Петербург</td>\n",
       "      <td>28098.0</td>\n",
       "      <td>6800.0</td>\n",
       "      <td>2.0</td>\n",
       "      <td>84.0</td>\n",
       "      <td>3.0</td>\n",
       "      <td>234.0</td>\n",
       "      <td>424</td>\n",
       "      <td>Площадь выше 150</td>\n",
       "    </tr>\n",
       "    <tr>\n",
       "      <th>4</th>\n",
       "      <td>2</td>\n",
       "      <td>10000000</td>\n",
       "      <td>100.0</td>\n",
       "      <td>2018-06-19</td>\n",
       "      <td>2</td>\n",
       "      <td>3.03</td>\n",
       "      <td>14</td>\n",
       "      <td>32.0</td>\n",
       "      <td>13</td>\n",
       "      <td>0</td>\n",
       "      <td>...</td>\n",
       "      <td>0</td>\n",
       "      <td>Санкт-Петербург</td>\n",
       "      <td>31856.0</td>\n",
       "      <td>8098.0</td>\n",
       "      <td>2.0</td>\n",
       "      <td>112.0</td>\n",
       "      <td>1.0</td>\n",
       "      <td>48.0</td>\n",
       "      <td>121</td>\n",
       "      <td>Площадь от 30 до 100</td>\n",
       "    </tr>\n",
       "  </tbody>\n",
       "</table>\n",
       "<p>5 rows × 23 columns</p>\n",
       "</div>"
      ],
      "text/plain": [
       "   total_images  last_price  total_area first_day_exposition  rooms  \\\n",
       "0            20    13000000       108.0           2019-03-07      3   \n",
       "1             7     3350000        40.4           2018-12-04      1   \n",
       "2            10     5196000        56.0           2015-08-20      2   \n",
       "3             0    64900000       159.0           2015-07-24      3   \n",
       "4             2    10000000       100.0           2018-06-19      2   \n",
       "\n",
       "   ceiling_height  floors_total  living_area  floor  is_apartment  ...  \\\n",
       "0            2.70            16         51.0      8             0  ...   \n",
       "1            2.77            11         18.6      1             0  ...   \n",
       "2            2.60             5         34.3      4             0  ...   \n",
       "3            2.60            14        112.0      9             0  ...   \n",
       "4            3.03            14         32.0     13             0  ...   \n",
       "\n",
       "   balcony    locality_name  airports_nearest  city_centers_nearest  \\\n",
       "0        0  Санкт-Петербург           18863.0               16028.0   \n",
       "1        2   посёлок Шушары           12817.0               18603.0   \n",
       "2        0  Санкт-Петербург           21741.0               13933.0   \n",
       "3        0  Санкт-Петербург           28098.0                6800.0   \n",
       "4        0  Санкт-Петербург           31856.0                8098.0   \n",
       "\n",
       "  parks_around3000 parks_nearest  ponds_around3000 ponds_nearest  \\\n",
       "0              1.0         482.0               2.0         755.0   \n",
       "1              0.0           NaN               0.0           NaN   \n",
       "2              1.0          90.0               2.0         574.0   \n",
       "3              2.0          84.0               3.0         234.0   \n",
       "4              2.0         112.0               1.0          48.0   \n",
       "\n",
       "  days_exposition       group_total_area  \n",
       "0            <NA>  Площадь от 100 до 150  \n",
       "1              81   Площадь от 30 до 100  \n",
       "2             558   Площадь от 30 до 100  \n",
       "3             424       Площадь выше 150  \n",
       "4             121   Площадь от 30 до 100  \n",
       "\n",
       "[5 rows x 23 columns]"
      ]
     },
     "execution_count": 45,
     "metadata": {},
     "output_type": "execute_result"
    }
   ],
   "source": [
    "data.head()"
   ]
  },
  {
   "cell_type": "markdown",
   "metadata": {},
   "source": []
  },
  {
   "cell_type": "markdown",
   "metadata": {},
   "source": [
    "### Обработка дубликатов"
   ]
  },
  {
   "cell_type": "markdown",
   "metadata": {},
   "source": [
    "На данном этапе необходимо определить явные и неявные дубликаты и обработать их. "
   ]
  },
  {
   "cell_type": "markdown",
   "metadata": {},
   "source": [
    "Начнем с неявных дубликатов, такие могут встретиться в столбце с названиями населенных пунктов – `locality_name`. Посмотрим на уникальные значения в этом столбце."
   ]
  },
  {
   "cell_type": "code",
   "execution_count": 46,
   "metadata": {},
   "outputs": [
    {
     "data": {
      "text/plain": [
       "array(['Санкт-Петербург', 'посёлок Шушары', 'городской посёлок Янино-1',\n",
       "       'посёлок Парголово', 'посёлок Мурино', 'Ломоносов', 'Сертолово',\n",
       "       'Петергоф', 'Пушкин', 'деревня Кудрово', 'Коммунар', 'Колпино',\n",
       "       'поселок городского типа Красный Бор', 'Гатчина', 'поселок Мурино',\n",
       "       'деревня Фёдоровское', 'Выборг', 'Кронштадт', 'Кировск',\n",
       "       'деревня Новое Девяткино', 'посёлок Металлострой',\n",
       "       'посёлок городского типа Лебяжье',\n",
       "       'посёлок городского типа Сиверский', 'поселок Молодцово',\n",
       "       'поселок городского типа Кузьмоловский',\n",
       "       'садовое товарищество Новая Ропша', 'Павловск',\n",
       "       'деревня Пикколово', 'Всеволожск', 'Волхов', 'Кингисепп',\n",
       "       'Приозерск', 'Сестрорецк', 'деревня Куттузи', 'посёлок Аннино',\n",
       "       'поселок городского типа Ефимовский', 'посёлок Плодовое',\n",
       "       'деревня Заклинье', 'поселок Торковичи', 'поселок Первомайское',\n",
       "       'Красное Село', 'посёлок Понтонный', 'Сясьстрой', 'деревня Старая',\n",
       "       'деревня Лесколово', 'посёлок Новый Свет', 'Сланцы',\n",
       "       'село Путилово', 'Ивангород', 'Мурино', 'Шлиссельбург',\n",
       "       'Никольское', 'Зеленогорск', 'Сосновый Бор', 'поселок Новый Свет',\n",
       "       'деревня Оржицы', 'деревня Кальтино', 'Кудрово',\n",
       "       'поселок Романовка', 'посёлок Бугры', 'поселок Бугры',\n",
       "       'поселок городского типа Рощино', 'Кириши', 'Луга', 'Волосово',\n",
       "       'Отрадное', 'село Павлово', 'поселок Оредеж', 'село Копорье',\n",
       "       'посёлок городского типа Красный Бор', 'посёлок Молодёжное',\n",
       "       'Тихвин', 'посёлок Победа', 'деревня Нурма',\n",
       "       'поселок городского типа Синявино', 'Тосно',\n",
       "       'посёлок городского типа Кузьмоловский', 'посёлок Стрельна',\n",
       "       'Бокситогорск', 'посёлок Александровская', 'деревня Лопухинка',\n",
       "       'Пикалёво', 'поселок Терволово',\n",
       "       'поселок городского типа Советский', 'Подпорожье',\n",
       "       'посёлок Петровское', 'посёлок городского типа Токсово',\n",
       "       'поселок Сельцо', 'посёлок городского типа Вырица',\n",
       "       'деревня Кипень', 'деревня Келози', 'деревня Вартемяги',\n",
       "       'посёлок Тельмана', 'поселок Севастьяново',\n",
       "       'городской поселок Большая Ижора', 'городской посёлок Павлово',\n",
       "       'деревня Агалатово', 'посёлок Новогорелово',\n",
       "       'городской посёлок Лесогорский', 'деревня Лаголово',\n",
       "       'поселок Цвелодубово', 'поселок городского типа Рахья',\n",
       "       'поселок городского типа Вырица', 'деревня Белогорка',\n",
       "       'поселок Заводской', 'городской посёлок Новоселье',\n",
       "       'деревня Большие Колпаны', 'деревня Горбунки', 'деревня Батово',\n",
       "       'деревня Заневка', 'деревня Иссад', 'Приморск',\n",
       "       'городской посёлок Фёдоровское', 'деревня Мистолово',\n",
       "       'Новая Ладога', 'поселок Зимитицы', 'поселок Барышево',\n",
       "       'деревня Разметелево', 'поселок городского типа имени Свердлова',\n",
       "       'деревня Пеники', 'поселок Рябово', 'деревня Пудомяги',\n",
       "       'поселок станции Корнево', 'деревня Низино', 'деревня Бегуницы',\n",
       "       'посёлок Поляны', 'городской посёлок Мга', 'поселок Елизаветино',\n",
       "       'посёлок городского типа Кузнечное', 'деревня Колтуши',\n",
       "       'поселок Запорожское', 'посёлок городского типа Рощино',\n",
       "       'деревня Гостилицы', 'деревня Малое Карлино',\n",
       "       'посёлок Мичуринское', 'посёлок городского типа имени Морозова',\n",
       "       'посёлок Песочный', 'посёлок Сосново', 'деревня Аро',\n",
       "       'поселок Ильичёво', 'посёлок городского типа Тайцы',\n",
       "       'деревня Малое Верево', 'деревня Извара', 'поселок станции Вещево',\n",
       "       'село Паша', 'деревня Калитино',\n",
       "       'посёлок городского типа Ульяновка', 'деревня Чудской Бор',\n",
       "       'поселок городского типа Дубровка', 'деревня Мины',\n",
       "       'поселок Войсковицы', 'посёлок городского типа имени Свердлова',\n",
       "       'деревня Коркино', 'посёлок Ропша',\n",
       "       'поселок городского типа Приладожский', 'посёлок Щеглово',\n",
       "       'посёлок Гаврилово', 'Лодейное Поле', 'деревня Рабитицы',\n",
       "       'поселок городского типа Никольский', 'деревня Кузьмолово',\n",
       "       'деревня Малые Колпаны', 'поселок Тельмана',\n",
       "       'посёлок Петро-Славянка', 'городской посёлок Назия',\n",
       "       'посёлок Репино', 'посёлок Ильичёво', 'поселок Углово',\n",
       "       'поселок Старая Малукса', 'садовое товарищество Рахья',\n",
       "       'поселок Аннино', 'поселок Победа', 'деревня Меньково',\n",
       "       'деревня Старые Бегуницы', 'посёлок Сапёрный', 'поселок Семрино',\n",
       "       'поселок Гаврилово', 'поселок Глажево', 'поселок Кобринское',\n",
       "       'деревня Гарболово', 'деревня Юкки',\n",
       "       'поселок станции Приветнинское', 'деревня Мануйлово',\n",
       "       'деревня Пчева', 'поселок Поляны', 'поселок Цвылёво',\n",
       "       'поселок Мельниково', 'посёлок Пудость', 'посёлок Усть-Луга',\n",
       "       'Светогорск', 'Любань', 'поселок Селезнёво',\n",
       "       'поселок городского типа Рябово', 'Каменногорск', 'деревня Кривко',\n",
       "       'поселок Глебычево', 'деревня Парицы', 'поселок Жилпосёлок',\n",
       "       'посёлок городского типа Мга', 'городской поселок Янино-1',\n",
       "       'посёлок Войскорово', 'село Никольское', 'посёлок Терволово',\n",
       "       'поселок Стеклянный', 'посёлок городского типа Важины',\n",
       "       'посёлок Мыза-Ивановка', 'село Русско-Высоцкое',\n",
       "       'поселок городского типа Лебяжье',\n",
       "       'поселок городского типа Форносово', 'село Старая Ладога',\n",
       "       'поселок Житково', 'городской посёлок Виллози', 'деревня Лампово',\n",
       "       'деревня Шпаньково', 'деревня Лаврики', 'посёлок Сумино',\n",
       "       'посёлок Возрождение', 'деревня Старосиверская',\n",
       "       'посёлок Кикерино', 'поселок Возрождение',\n",
       "       'деревня Старое Хинколово', 'посёлок Пригородный',\n",
       "       'посёлок Торфяное', 'городской посёлок Будогощь',\n",
       "       'поселок Суходолье', 'поселок Красная Долина', 'деревня Хапо-Ое',\n",
       "       'поселок городского типа Дружная Горка', 'поселок Лисий Нос',\n",
       "       'деревня Яльгелево', 'посёлок Стеклянный', 'село Рождествено',\n",
       "       'деревня Старополье', 'посёлок Левашово', 'деревня Сяськелево',\n",
       "       'деревня Камышовка',\n",
       "       'садоводческое некоммерческое товарищество Лесная Поляна',\n",
       "       'деревня Хязельки', 'поселок Жилгородок',\n",
       "       'посёлок городского типа Павлово', 'деревня Ялгино',\n",
       "       'поселок Новый Учхоз', 'городской посёлок Рощино',\n",
       "       'поселок Гончарово', 'поселок Почап', 'посёлок Сапёрное',\n",
       "       'посёлок Платформа 69-й километр', 'поселок Каложицы',\n",
       "       'деревня Фалилеево', 'деревня Пельгора',\n",
       "       'поселок городского типа Лесогорский', 'деревня Торошковичи',\n",
       "       'посёлок Белоостров', 'посёлок Алексеевка', 'поселок Серебрянский',\n",
       "       'поселок Лукаши', 'поселок Петровское', 'деревня Щеглово',\n",
       "       'поселок Мичуринское', 'деревня Тарасово', 'поселок Кингисеппский',\n",
       "       'посёлок при железнодорожной станции Вещево', 'поселок Ушаки',\n",
       "       'деревня Котлы', 'деревня Сижно', 'деревня Торосово',\n",
       "       'посёлок Форт Красная Горка', 'деревня Новолисино',\n",
       "       'посёлок станции Громово', 'деревня Глинка', 'посёлок Мельниково',\n",
       "       'поселок городского типа Назия', 'деревня Старая Пустошь',\n",
       "       'поселок Коммунары', 'поселок Починок',\n",
       "       'посёлок городского типа Вознесенье', 'деревня Разбегаево',\n",
       "       'посёлок городского типа Рябово', 'поселок Гладкое',\n",
       "       'посёлок при железнодорожной станции Приветнинское',\n",
       "       'поселок Тёсово-4', 'посёлок Жилгородок', 'деревня Бор',\n",
       "       'посёлок Коробицыно', 'деревня Большая Вруда', 'деревня Курковицы',\n",
       "       'посёлок Лисий Нос', 'городской посёлок Советский',\n",
       "       'посёлок Кобралово', 'деревня Суоранда', 'поселок Кобралово',\n",
       "       'поселок городского типа Кондратьево',\n",
       "       'коттеджный поселок Счастье', 'поселок Любань', 'деревня Реброво',\n",
       "       'деревня Зимитицы', 'деревня Тойворово', 'поселок Семиозерье',\n",
       "       'поселок Лесное', 'поселок Совхозный', 'поселок Усть-Луга',\n",
       "       'посёлок Ленинское', 'посёлок Суйда',\n",
       "       'посёлок городского типа Форносово', 'деревня Нижние Осельки',\n",
       "       'посёлок станции Свирь', 'поселок Перово', 'Высоцк',\n",
       "       'поселок Гарболово', 'село Шум', 'поселок Котельский',\n",
       "       'поселок станции Лужайка', 'деревня Большая Пустомержа',\n",
       "       'поселок Красносельское', 'деревня Вахнова Кара', 'деревня Пижма',\n",
       "       'коттеджный поселок Кивеннапа Север', 'поселок Коробицыно',\n",
       "       'поселок Ромашки', 'посёлок Перово', 'деревня Каськово',\n",
       "       'деревня Куровицы', 'посёлок Плоское', 'поселок Сумино',\n",
       "       'поселок городского типа Большая Ижора', 'поселок Кирпичное',\n",
       "       'деревня Ям-Тесово', 'деревня Раздолье', 'деревня Терпилицы',\n",
       "       'поселок городского типа Токсово', 'посёлок Шугозеро',\n",
       "       'деревня Ваганово', 'поселок Пушное', 'садовое товарищество Садко',\n",
       "       'посёлок Усть-Ижора', 'деревня Выскатка',\n",
       "       'городской посёлок Свирьстрой', 'поселок Громово',\n",
       "       'деревня Кисельня', 'посёлок Старая Малукса',\n",
       "       'деревня Трубников Бор', 'поселок Калитино',\n",
       "       'посёлок Высокоключевой', 'садовое товарищество Приладожский',\n",
       "       'посёлок Пансионат Зелёный Бор', 'деревня Ненимяки',\n",
       "       'поселок Пансионат Зелёный Бор', 'деревня Снегирёвка',\n",
       "       'деревня Рапполово', 'деревня Пустынка', 'поселок Рабитицы',\n",
       "       'деревня Большой Сабск', 'деревня Русско', 'деревня Лупполово',\n",
       "       'деревня Большое Рейзино', 'деревня Малая Романовка',\n",
       "       'поселок Дружноселье', 'поселок Пчевжа', 'поселок Володарское',\n",
       "       'деревня Нижняя', 'коттеджный посёлок Лесное', 'деревня Тихковицы',\n",
       "       'деревня Борисова Грива', 'посёлок Дзержинского'], dtype=object)"
      ]
     },
     "execution_count": 46,
     "metadata": {},
     "output_type": "execute_result"
    }
   ],
   "source": [
    "data['locality_name'].unique()"
   ]
  },
  {
   "cell_type": "markdown",
   "metadata": {},
   "source": [
    "Многие локации имеют разное написание с \"е\" и \"ё\", но одно название. Заменим все \"ё\" на \"е\" во избежании путаницы."
   ]
  },
  {
   "cell_type": "code",
   "execution_count": 47,
   "metadata": {},
   "outputs": [],
   "source": [
    "data['locality_name'] = data['locality_name'].str.replace('ё', 'е')"
   ]
  },
  {
   "cell_type": "markdown",
   "metadata": {},
   "source": [
    "Проверим встречаются ли в датасете явные дубликаты, от которых нужно избавиться."
   ]
  },
  {
   "cell_type": "code",
   "execution_count": 48,
   "metadata": {},
   "outputs": [
    {
     "data": {
      "text/plain": [
       "0"
      ]
     },
     "execution_count": 48,
     "metadata": {},
     "output_type": "execute_result"
    }
   ],
   "source": [
    "data.duplicated().sum()"
   ]
  },
  {
   "cell_type": "markdown",
   "metadata": {},
   "source": [
    "### Вывод"
   ]
  },
  {
   "cell_type": "markdown",
   "metadata": {},
   "source": [
    "В данном шаге были обработаны пропуски.\n",
    "\n",
    "В столбце `ceiling_height` пропуски были заменены медианными значениями, исходя из группировки по этажности и населенному пункту.\n",
    "В столбце `balcony` заменили пропуски на 0, тем самым обозначив, что в квартирах, где не указано количество балконов, они отсутствуют вовсе.\n",
    "В столбце `living_area` и `kitchen_area` пропуски заменили на медианные значения жилой или кухонной площади, сгруппировав по общей площади.\n",
    "В столбце `is_apartment` пропуски заменили на значения False. Если этот параметр не был указан, вероятно квартиры не является аппартаментами.\n",
    "\n",
    "Были удалены строки с пропущенными значениями в столбцах `floors_total` и `locality_name`, так как пропуски составили очень маленький процент от общего количества строк в датасете, а разумного решения для их заполнения не было.\n",
    "\n",
    "Заменили типы данных там, где это необходимо."
   ]
  },
  {
   "cell_type": "markdown",
   "metadata": {},
   "source": [
    "## Расчёты и добавление результатов в таблицу"
   ]
  },
  {
   "cell_type": "markdown",
   "metadata": {},
   "source": [
    "В данном шаге нам необходимо добавить недостающие расчетыв в таблицу, которые в последующих шагах помогут проверить гипотезы. \n",
    "\n",
    "Необходимо расчитать и добавить в таблицу:\n",
    "1. цену квадратного метра\n",
    "2. день недели, месяц и год публикации объявления\n",
    "3. этаж квартиры\n",
    "4. соотношение жилой и общей площади\n",
    "5. отношение площади кухни к общей"
   ]
  },
  {
   "cell_type": "markdown",
   "metadata": {},
   "source": [
    "### Расчёт и добавление в таблицу цены квадратного метра"
   ]
  },
  {
   "cell_type": "code",
   "execution_count": 49,
   "metadata": {},
   "outputs": [],
   "source": [
    "# добавляем цену квадратного метра в тысячах\n",
    "data['meter_price'] = (data['last_price'] / data['total_area']) / 1000\n",
    "\n",
    "# округляем и переводим в целочисленные значения\n",
    "data['meter_price'] = data['meter_price'].round().astype('int64')"
   ]
  },
  {
   "cell_type": "code",
   "execution_count": 50,
   "metadata": {},
   "outputs": [
    {
     "data": {
      "text/html": [
       "<div>\n",
       "<style scoped>\n",
       "    .dataframe tbody tr th:only-of-type {\n",
       "        vertical-align: middle;\n",
       "    }\n",
       "\n",
       "    .dataframe tbody tr th {\n",
       "        vertical-align: top;\n",
       "    }\n",
       "\n",
       "    .dataframe thead th {\n",
       "        text-align: right;\n",
       "    }\n",
       "</style>\n",
       "<table border=\"1\" class=\"dataframe\">\n",
       "  <thead>\n",
       "    <tr style=\"text-align: right;\">\n",
       "      <th></th>\n",
       "      <th>total_area</th>\n",
       "      <th>last_price</th>\n",
       "      <th>meter_price</th>\n",
       "    </tr>\n",
       "  </thead>\n",
       "  <tbody>\n",
       "    <tr>\n",
       "      <th>0</th>\n",
       "      <td>108.00</td>\n",
       "      <td>13000000</td>\n",
       "      <td>120</td>\n",
       "    </tr>\n",
       "    <tr>\n",
       "      <th>1</th>\n",
       "      <td>40.40</td>\n",
       "      <td>3350000</td>\n",
       "      <td>83</td>\n",
       "    </tr>\n",
       "    <tr>\n",
       "      <th>2</th>\n",
       "      <td>56.00</td>\n",
       "      <td>5196000</td>\n",
       "      <td>93</td>\n",
       "    </tr>\n",
       "    <tr>\n",
       "      <th>3</th>\n",
       "      <td>159.00</td>\n",
       "      <td>64900000</td>\n",
       "      <td>408</td>\n",
       "    </tr>\n",
       "    <tr>\n",
       "      <th>4</th>\n",
       "      <td>100.00</td>\n",
       "      <td>10000000</td>\n",
       "      <td>100</td>\n",
       "    </tr>\n",
       "    <tr>\n",
       "      <th>5</th>\n",
       "      <td>30.40</td>\n",
       "      <td>2890000</td>\n",
       "      <td>95</td>\n",
       "    </tr>\n",
       "    <tr>\n",
       "      <th>6</th>\n",
       "      <td>37.30</td>\n",
       "      <td>3700000</td>\n",
       "      <td>99</td>\n",
       "    </tr>\n",
       "    <tr>\n",
       "      <th>7</th>\n",
       "      <td>71.60</td>\n",
       "      <td>7915000</td>\n",
       "      <td>111</td>\n",
       "    </tr>\n",
       "    <tr>\n",
       "      <th>8</th>\n",
       "      <td>33.16</td>\n",
       "      <td>2900000</td>\n",
       "      <td>87</td>\n",
       "    </tr>\n",
       "    <tr>\n",
       "      <th>9</th>\n",
       "      <td>61.00</td>\n",
       "      <td>5400000</td>\n",
       "      <td>89</td>\n",
       "    </tr>\n",
       "  </tbody>\n",
       "</table>\n",
       "</div>"
      ],
      "text/plain": [
       "   total_area  last_price  meter_price\n",
       "0      108.00    13000000          120\n",
       "1       40.40     3350000           83\n",
       "2       56.00     5196000           93\n",
       "3      159.00    64900000          408\n",
       "4      100.00    10000000          100\n",
       "5       30.40     2890000           95\n",
       "6       37.30     3700000           99\n",
       "7       71.60     7915000          111\n",
       "8       33.16     2900000           87\n",
       "9       61.00     5400000           89"
      ]
     },
     "execution_count": 50,
     "metadata": {},
     "output_type": "execute_result"
    }
   ],
   "source": [
    "data[['total_area', 'last_price', 'meter_price']].head(10)"
   ]
  },
  {
   "cell_type": "markdown",
   "metadata": {},
   "source": [
    "### Расчёт и добавление в таблицу дня недели, месяца и года публикации объявления"
   ]
  },
  {
   "cell_type": "code",
   "execution_count": 51,
   "metadata": {},
   "outputs": [],
   "source": [
    "# добавляем столбец с указанием дня недели\n",
    "data['first_day_weekday'] = data['first_day_exposition'].dt.weekday"
   ]
  },
  {
   "cell_type": "code",
   "execution_count": 52,
   "metadata": {},
   "outputs": [],
   "source": [
    "# добавляем столбец с уазанием месяца\n",
    "data['first_day_month'] = data['first_day_exposition'].dt.month"
   ]
  },
  {
   "cell_type": "code",
   "execution_count": 53,
   "metadata": {},
   "outputs": [],
   "source": [
    "# добавляем столбец с указанием года\n",
    "data['first_day_year'] = data['first_day_exposition'].dt.year"
   ]
  },
  {
   "cell_type": "code",
   "execution_count": 54,
   "metadata": {
    "scrolled": true
   },
   "outputs": [
    {
     "data": {
      "text/html": [
       "<div>\n",
       "<style scoped>\n",
       "    .dataframe tbody tr th:only-of-type {\n",
       "        vertical-align: middle;\n",
       "    }\n",
       "\n",
       "    .dataframe tbody tr th {\n",
       "        vertical-align: top;\n",
       "    }\n",
       "\n",
       "    .dataframe thead th {\n",
       "        text-align: right;\n",
       "    }\n",
       "</style>\n",
       "<table border=\"1\" class=\"dataframe\">\n",
       "  <thead>\n",
       "    <tr style=\"text-align: right;\">\n",
       "      <th></th>\n",
       "      <th>first_day_exposition</th>\n",
       "      <th>first_day_weekday</th>\n",
       "      <th>first_day_month</th>\n",
       "      <th>first_day_year</th>\n",
       "    </tr>\n",
       "  </thead>\n",
       "  <tbody>\n",
       "    <tr>\n",
       "      <th>0</th>\n",
       "      <td>2019-03-07</td>\n",
       "      <td>3</td>\n",
       "      <td>3</td>\n",
       "      <td>2019</td>\n",
       "    </tr>\n",
       "    <tr>\n",
       "      <th>1</th>\n",
       "      <td>2018-12-04</td>\n",
       "      <td>1</td>\n",
       "      <td>12</td>\n",
       "      <td>2018</td>\n",
       "    </tr>\n",
       "    <tr>\n",
       "      <th>2</th>\n",
       "      <td>2015-08-20</td>\n",
       "      <td>3</td>\n",
       "      <td>8</td>\n",
       "      <td>2015</td>\n",
       "    </tr>\n",
       "    <tr>\n",
       "      <th>3</th>\n",
       "      <td>2015-07-24</td>\n",
       "      <td>4</td>\n",
       "      <td>7</td>\n",
       "      <td>2015</td>\n",
       "    </tr>\n",
       "    <tr>\n",
       "      <th>4</th>\n",
       "      <td>2018-06-19</td>\n",
       "      <td>1</td>\n",
       "      <td>6</td>\n",
       "      <td>2018</td>\n",
       "    </tr>\n",
       "    <tr>\n",
       "      <th>5</th>\n",
       "      <td>2018-09-10</td>\n",
       "      <td>0</td>\n",
       "      <td>9</td>\n",
       "      <td>2018</td>\n",
       "    </tr>\n",
       "    <tr>\n",
       "      <th>6</th>\n",
       "      <td>2017-11-02</td>\n",
       "      <td>3</td>\n",
       "      <td>11</td>\n",
       "      <td>2017</td>\n",
       "    </tr>\n",
       "    <tr>\n",
       "      <th>7</th>\n",
       "      <td>2019-04-18</td>\n",
       "      <td>3</td>\n",
       "      <td>4</td>\n",
       "      <td>2019</td>\n",
       "    </tr>\n",
       "    <tr>\n",
       "      <th>8</th>\n",
       "      <td>2018-05-23</td>\n",
       "      <td>2</td>\n",
       "      <td>5</td>\n",
       "      <td>2018</td>\n",
       "    </tr>\n",
       "    <tr>\n",
       "      <th>9</th>\n",
       "      <td>2017-02-26</td>\n",
       "      <td>6</td>\n",
       "      <td>2</td>\n",
       "      <td>2017</td>\n",
       "    </tr>\n",
       "  </tbody>\n",
       "</table>\n",
       "</div>"
      ],
      "text/plain": [
       "  first_day_exposition  first_day_weekday  first_day_month  first_day_year\n",
       "0           2019-03-07                  3                3            2019\n",
       "1           2018-12-04                  1               12            2018\n",
       "2           2015-08-20                  3                8            2015\n",
       "3           2015-07-24                  4                7            2015\n",
       "4           2018-06-19                  1                6            2018\n",
       "5           2018-09-10                  0                9            2018\n",
       "6           2017-11-02                  3               11            2017\n",
       "7           2019-04-18                  3                4            2019\n",
       "8           2018-05-23                  2                5            2018\n",
       "9           2017-02-26                  6                2            2017"
      ]
     },
     "execution_count": 54,
     "metadata": {},
     "output_type": "execute_result"
    }
   ],
   "source": [
    "data[['first_day_exposition', 'first_day_weekday', 'first_day_month', 'first_day_year']].head(10)"
   ]
  },
  {
   "cell_type": "markdown",
   "metadata": {},
   "source": [
    "### Расчет и добавление в таблицу этажности квартиры"
   ]
  },
  {
   "cell_type": "code",
   "execution_count": 55,
   "metadata": {},
   "outputs": [],
   "source": [
    "# пишем функцию, которая категоризирует этажность\n",
    "\n",
    "def group_floor(row):\n",
    "    if row['floor'] == 1:\n",
    "        return 'первый'\n",
    "    \n",
    "    if row['floors_total'] == row['floor']:\n",
    "        return 'последний'\n",
    "    \n",
    "    return 'другой'"
   ]
  },
  {
   "cell_type": "code",
   "execution_count": 56,
   "metadata": {},
   "outputs": [
    {
     "name": "stdout",
     "output_type": "stream",
     "text": [
      "<class 'pandas.core.frame.DataFrame'>\n",
      "Int64Index: 23565 entries, 0 to 23698\n",
      "Data columns (total 2 columns):\n",
      " #   Column        Non-Null Count  Dtype\n",
      "---  ------        --------------  -----\n",
      " 0   floor         23565 non-null  int64\n",
      " 1   floors_total  23565 non-null  int64\n",
      "dtypes: int64(2)\n",
      "memory usage: 552.3 KB\n"
     ]
    }
   ],
   "source": [
    "data[['floor', 'floors_total']].info()"
   ]
  },
  {
   "cell_type": "code",
   "execution_count": 57,
   "metadata": {},
   "outputs": [
    {
     "data": {
      "text/html": [
       "<div>\n",
       "<style scoped>\n",
       "    .dataframe tbody tr th:only-of-type {\n",
       "        vertical-align: middle;\n",
       "    }\n",
       "\n",
       "    .dataframe tbody tr th {\n",
       "        vertical-align: top;\n",
       "    }\n",
       "\n",
       "    .dataframe thead th {\n",
       "        text-align: right;\n",
       "    }\n",
       "</style>\n",
       "<table border=\"1\" class=\"dataframe\">\n",
       "  <thead>\n",
       "    <tr style=\"text-align: right;\">\n",
       "      <th></th>\n",
       "      <th>floor</th>\n",
       "      <th>floors_total</th>\n",
       "      <th>group_floor</th>\n",
       "    </tr>\n",
       "  </thead>\n",
       "  <tbody>\n",
       "    <tr>\n",
       "      <th>23679</th>\n",
       "      <td>4</td>\n",
       "      <td>9</td>\n",
       "      <td>другой</td>\n",
       "    </tr>\n",
       "    <tr>\n",
       "      <th>23680</th>\n",
       "      <td>1</td>\n",
       "      <td>5</td>\n",
       "      <td>первый</td>\n",
       "    </tr>\n",
       "    <tr>\n",
       "      <th>23681</th>\n",
       "      <td>2</td>\n",
       "      <td>5</td>\n",
       "      <td>другой</td>\n",
       "    </tr>\n",
       "    <tr>\n",
       "      <th>23682</th>\n",
       "      <td>4</td>\n",
       "      <td>5</td>\n",
       "      <td>другой</td>\n",
       "    </tr>\n",
       "    <tr>\n",
       "      <th>23683</th>\n",
       "      <td>3</td>\n",
       "      <td>5</td>\n",
       "      <td>другой</td>\n",
       "    </tr>\n",
       "    <tr>\n",
       "      <th>23684</th>\n",
       "      <td>17</td>\n",
       "      <td>26</td>\n",
       "      <td>другой</td>\n",
       "    </tr>\n",
       "    <tr>\n",
       "      <th>23685</th>\n",
       "      <td>5</td>\n",
       "      <td>5</td>\n",
       "      <td>последний</td>\n",
       "    </tr>\n",
       "    <tr>\n",
       "      <th>23686</th>\n",
       "      <td>6</td>\n",
       "      <td>9</td>\n",
       "      <td>другой</td>\n",
       "    </tr>\n",
       "    <tr>\n",
       "      <th>23687</th>\n",
       "      <td>6</td>\n",
       "      <td>9</td>\n",
       "      <td>другой</td>\n",
       "    </tr>\n",
       "    <tr>\n",
       "      <th>23688</th>\n",
       "      <td>12</td>\n",
       "      <td>15</td>\n",
       "      <td>другой</td>\n",
       "    </tr>\n",
       "    <tr>\n",
       "      <th>23689</th>\n",
       "      <td>4</td>\n",
       "      <td>15</td>\n",
       "      <td>другой</td>\n",
       "    </tr>\n",
       "    <tr>\n",
       "      <th>23690</th>\n",
       "      <td>2</td>\n",
       "      <td>5</td>\n",
       "      <td>другой</td>\n",
       "    </tr>\n",
       "    <tr>\n",
       "      <th>23691</th>\n",
       "      <td>7</td>\n",
       "      <td>25</td>\n",
       "      <td>другой</td>\n",
       "    </tr>\n",
       "    <tr>\n",
       "      <th>23692</th>\n",
       "      <td>4</td>\n",
       "      <td>5</td>\n",
       "      <td>другой</td>\n",
       "    </tr>\n",
       "    <tr>\n",
       "      <th>23693</th>\n",
       "      <td>8</td>\n",
       "      <td>9</td>\n",
       "      <td>другой</td>\n",
       "    </tr>\n",
       "    <tr>\n",
       "      <th>23694</th>\n",
       "      <td>3</td>\n",
       "      <td>5</td>\n",
       "      <td>другой</td>\n",
       "    </tr>\n",
       "    <tr>\n",
       "      <th>23695</th>\n",
       "      <td>4</td>\n",
       "      <td>5</td>\n",
       "      <td>другой</td>\n",
       "    </tr>\n",
       "    <tr>\n",
       "      <th>23696</th>\n",
       "      <td>1</td>\n",
       "      <td>3</td>\n",
       "      <td>первый</td>\n",
       "    </tr>\n",
       "    <tr>\n",
       "      <th>23697</th>\n",
       "      <td>12</td>\n",
       "      <td>17</td>\n",
       "      <td>другой</td>\n",
       "    </tr>\n",
       "    <tr>\n",
       "      <th>23698</th>\n",
       "      <td>1</td>\n",
       "      <td>5</td>\n",
       "      <td>первый</td>\n",
       "    </tr>\n",
       "  </tbody>\n",
       "</table>\n",
       "</div>"
      ],
      "text/plain": [
       "       floor  floors_total group_floor\n",
       "23679      4             9      другой\n",
       "23680      1             5      первый\n",
       "23681      2             5      другой\n",
       "23682      4             5      другой\n",
       "23683      3             5      другой\n",
       "23684     17            26      другой\n",
       "23685      5             5   последний\n",
       "23686      6             9      другой\n",
       "23687      6             9      другой\n",
       "23688     12            15      другой\n",
       "23689      4            15      другой\n",
       "23690      2             5      другой\n",
       "23691      7            25      другой\n",
       "23692      4             5      другой\n",
       "23693      8             9      другой\n",
       "23694      3             5      другой\n",
       "23695      4             5      другой\n",
       "23696      1             3      первый\n",
       "23697     12            17      другой\n",
       "23698      1             5      первый"
      ]
     },
     "execution_count": 57,
     "metadata": {},
     "output_type": "execute_result"
    }
   ],
   "source": [
    "# создаем новый столбец с этажностью и применяем функцию к датасету\n",
    "\n",
    "data['group_floor'] = data.apply(group_floor, axis=1)\n",
    "data[['floor', 'floors_total', 'group_floor']].tail(20)"
   ]
  },
  {
   "cell_type": "code",
   "execution_count": 58,
   "metadata": {},
   "outputs": [
    {
     "name": "stdout",
     "output_type": "stream",
     "text": [
      "другой       17326\n",
      "последний     3330\n",
      "первый        2909\n",
      "Name: group_floor, dtype: int64\n"
     ]
    }
   ],
   "source": [
    "print (data['group_floor'].value_counts())"
   ]
  },
  {
   "cell_type": "markdown",
   "metadata": {},
   "source": [
    "### Расчёт и добавление в таблицу соотношения жилой и общей площади"
   ]
  },
  {
   "cell_type": "code",
   "execution_count": 59,
   "metadata": {},
   "outputs": [],
   "source": [
    "# расчитываем отношение жилой площади к общей\n",
    "data['living_to_total_area'] = data['living_area'] / data['total_area']"
   ]
  },
  {
   "cell_type": "code",
   "execution_count": 60,
   "metadata": {},
   "outputs": [],
   "source": [
    "data['living_to_total_area'] = data['living_to_total_area'].round(2)"
   ]
  },
  {
   "cell_type": "code",
   "execution_count": 61,
   "metadata": {},
   "outputs": [
    {
     "data": {
      "text/html": [
       "<div>\n",
       "<style scoped>\n",
       "    .dataframe tbody tr th:only-of-type {\n",
       "        vertical-align: middle;\n",
       "    }\n",
       "\n",
       "    .dataframe tbody tr th {\n",
       "        vertical-align: top;\n",
       "    }\n",
       "\n",
       "    .dataframe thead th {\n",
       "        text-align: right;\n",
       "    }\n",
       "</style>\n",
       "<table border=\"1\" class=\"dataframe\">\n",
       "  <thead>\n",
       "    <tr style=\"text-align: right;\">\n",
       "      <th></th>\n",
       "      <th>living_area</th>\n",
       "      <th>total_area</th>\n",
       "      <th>living_to_total_area</th>\n",
       "    </tr>\n",
       "  </thead>\n",
       "  <tbody>\n",
       "    <tr>\n",
       "      <th>0</th>\n",
       "      <td>51.00</td>\n",
       "      <td>108.00</td>\n",
       "      <td>0.47</td>\n",
       "    </tr>\n",
       "    <tr>\n",
       "      <th>1</th>\n",
       "      <td>18.60</td>\n",
       "      <td>40.40</td>\n",
       "      <td>0.46</td>\n",
       "    </tr>\n",
       "    <tr>\n",
       "      <th>2</th>\n",
       "      <td>34.30</td>\n",
       "      <td>56.00</td>\n",
       "      <td>0.61</td>\n",
       "    </tr>\n",
       "    <tr>\n",
       "      <th>3</th>\n",
       "      <td>112.00</td>\n",
       "      <td>159.00</td>\n",
       "      <td>0.70</td>\n",
       "    </tr>\n",
       "    <tr>\n",
       "      <th>4</th>\n",
       "      <td>32.00</td>\n",
       "      <td>100.00</td>\n",
       "      <td>0.32</td>\n",
       "    </tr>\n",
       "    <tr>\n",
       "      <th>5</th>\n",
       "      <td>14.40</td>\n",
       "      <td>30.40</td>\n",
       "      <td>0.47</td>\n",
       "    </tr>\n",
       "    <tr>\n",
       "      <th>6</th>\n",
       "      <td>10.60</td>\n",
       "      <td>37.30</td>\n",
       "      <td>0.28</td>\n",
       "    </tr>\n",
       "    <tr>\n",
       "      <th>7</th>\n",
       "      <td>30.00</td>\n",
       "      <td>71.60</td>\n",
       "      <td>0.42</td>\n",
       "    </tr>\n",
       "    <tr>\n",
       "      <th>8</th>\n",
       "      <td>15.43</td>\n",
       "      <td>33.16</td>\n",
       "      <td>0.47</td>\n",
       "    </tr>\n",
       "    <tr>\n",
       "      <th>9</th>\n",
       "      <td>43.60</td>\n",
       "      <td>61.00</td>\n",
       "      <td>0.71</td>\n",
       "    </tr>\n",
       "  </tbody>\n",
       "</table>\n",
       "</div>"
      ],
      "text/plain": [
       "   living_area  total_area  living_to_total_area\n",
       "0        51.00      108.00                  0.47\n",
       "1        18.60       40.40                  0.46\n",
       "2        34.30       56.00                  0.61\n",
       "3       112.00      159.00                  0.70\n",
       "4        32.00      100.00                  0.32\n",
       "5        14.40       30.40                  0.47\n",
       "6        10.60       37.30                  0.28\n",
       "7        30.00       71.60                  0.42\n",
       "8        15.43       33.16                  0.47\n",
       "9        43.60       61.00                  0.71"
      ]
     },
     "execution_count": 61,
     "metadata": {},
     "output_type": "execute_result"
    }
   ],
   "source": [
    "data[['living_area', 'total_area', 'living_to_total_area']].head(10)"
   ]
  },
  {
   "cell_type": "markdown",
   "metadata": {},
   "source": [
    "### Расчёт и добавление в таблицу отношение площади кухни к общей"
   ]
  },
  {
   "cell_type": "code",
   "execution_count": 62,
   "metadata": {},
   "outputs": [],
   "source": [
    "# расчитываем отношение площади кухни к общей\n",
    "data['kitchen_to_total_area'] = data['kitchen_area'] / data['total_area']"
   ]
  },
  {
   "cell_type": "code",
   "execution_count": 63,
   "metadata": {},
   "outputs": [],
   "source": [
    "data['kitchen_to_total_area'] = data['kitchen_to_total_area'].round(2)"
   ]
  },
  {
   "cell_type": "code",
   "execution_count": 64,
   "metadata": {},
   "outputs": [
    {
     "data": {
      "text/html": [
       "<div>\n",
       "<style scoped>\n",
       "    .dataframe tbody tr th:only-of-type {\n",
       "        vertical-align: middle;\n",
       "    }\n",
       "\n",
       "    .dataframe tbody tr th {\n",
       "        vertical-align: top;\n",
       "    }\n",
       "\n",
       "    .dataframe thead th {\n",
       "        text-align: right;\n",
       "    }\n",
       "</style>\n",
       "<table border=\"1\" class=\"dataframe\">\n",
       "  <thead>\n",
       "    <tr style=\"text-align: right;\">\n",
       "      <th></th>\n",
       "      <th>living_area</th>\n",
       "      <th>total_area</th>\n",
       "      <th>kitchen_to_total_area</th>\n",
       "    </tr>\n",
       "  </thead>\n",
       "  <tbody>\n",
       "    <tr>\n",
       "      <th>0</th>\n",
       "      <td>51.00</td>\n",
       "      <td>108.00</td>\n",
       "      <td>0.23</td>\n",
       "    </tr>\n",
       "    <tr>\n",
       "      <th>1</th>\n",
       "      <td>18.60</td>\n",
       "      <td>40.40</td>\n",
       "      <td>0.27</td>\n",
       "    </tr>\n",
       "    <tr>\n",
       "      <th>2</th>\n",
       "      <td>34.30</td>\n",
       "      <td>56.00</td>\n",
       "      <td>0.15</td>\n",
       "    </tr>\n",
       "    <tr>\n",
       "      <th>3</th>\n",
       "      <td>112.00</td>\n",
       "      <td>159.00</td>\n",
       "      <td>0.13</td>\n",
       "    </tr>\n",
       "    <tr>\n",
       "      <th>4</th>\n",
       "      <td>32.00</td>\n",
       "      <td>100.00</td>\n",
       "      <td>0.41</td>\n",
       "    </tr>\n",
       "    <tr>\n",
       "      <th>5</th>\n",
       "      <td>14.40</td>\n",
       "      <td>30.40</td>\n",
       "      <td>0.30</td>\n",
       "    </tr>\n",
       "    <tr>\n",
       "      <th>6</th>\n",
       "      <td>10.60</td>\n",
       "      <td>37.30</td>\n",
       "      <td>0.39</td>\n",
       "    </tr>\n",
       "    <tr>\n",
       "      <th>7</th>\n",
       "      <td>30.00</td>\n",
       "      <td>71.60</td>\n",
       "      <td>0.26</td>\n",
       "    </tr>\n",
       "    <tr>\n",
       "      <th>8</th>\n",
       "      <td>15.43</td>\n",
       "      <td>33.16</td>\n",
       "      <td>0.27</td>\n",
       "    </tr>\n",
       "    <tr>\n",
       "      <th>9</th>\n",
       "      <td>43.60</td>\n",
       "      <td>61.00</td>\n",
       "      <td>0.11</td>\n",
       "    </tr>\n",
       "  </tbody>\n",
       "</table>\n",
       "</div>"
      ],
      "text/plain": [
       "   living_area  total_area  kitchen_to_total_area\n",
       "0        51.00      108.00                   0.23\n",
       "1        18.60       40.40                   0.27\n",
       "2        34.30       56.00                   0.15\n",
       "3       112.00      159.00                   0.13\n",
       "4        32.00      100.00                   0.41\n",
       "5        14.40       30.40                   0.30\n",
       "6        10.60       37.30                   0.39\n",
       "7        30.00       71.60                   0.26\n",
       "8        15.43       33.16                   0.27\n",
       "9        43.60       61.00                   0.11"
      ]
     },
     "execution_count": 64,
     "metadata": {},
     "output_type": "execute_result"
    }
   ],
   "source": [
    "data[['living_area', 'total_area', 'kitchen_to_total_area']].head(10)"
   ]
  },
  {
   "cell_type": "markdown",
   "metadata": {},
   "source": [
    "## Исследовательский анализ данных"
   ]
  },
  {
   "cell_type": "markdown",
   "metadata": {},
   "source": [
    "### Исследование площади, цены, числа комнат, высоты потолков"
   ]
  },
  {
   "cell_type": "markdown",
   "metadata": {},
   "source": [
    "В данном шаге необходимо узучить следующие параметры:\n",
    "*  площадь\n",
    "*  цену\n",
    "*  число комнат\n",
    "*  высоту потолков"
   ]
  },
  {
   "cell_type": "markdown",
   "metadata": {},
   "source": [
    "**Проанализируем общую площадь квартиры.**"
   ]
  },
  {
   "cell_type": "code",
   "execution_count": 65,
   "metadata": {},
   "outputs": [
    {
     "data": {
      "text/plain": [
       "count    23565.000000\n",
       "mean        60.322824\n",
       "std         35.657060\n",
       "min         12.000000\n",
       "25%         40.000000\n",
       "50%         52.000000\n",
       "75%         69.700000\n",
       "max        900.000000\n",
       "Name: total_area, dtype: float64"
      ]
     },
     "execution_count": 65,
     "metadata": {},
     "output_type": "execute_result"
    }
   ],
   "source": [
    "#выведем описание и распределение данных столбца с помощью метода describe()\n",
    "data['total_area'].describe()"
   ]
  },
  {
   "cell_type": "code",
   "execution_count": 66,
   "metadata": {},
   "outputs": [
    {
     "data": {
      "text/plain": [
       "<AxesSubplot:>"
      ]
     },
     "execution_count": 66,
     "metadata": {},
     "output_type": "execute_result"
    },
    {
     "data": {
      "image/png": "[encoded data removed]",
      "text/plain": [
       "<Figure size 432x288 with 1 Axes>"
      ]
     },
     "metadata": {
      "needs_background": "light"
     },
     "output_type": "display_data"
    }
   ],
   "source": [
    "#построим гистограмму, чтобы визуально оценить разброс данных\n",
    "data['total_area'].hist(bins=150, range=(0,400))"
   ]
  },
  {
   "cell_type": "code",
   "execution_count": 67,
   "metadata": {},
   "outputs": [
    {
     "data": {
      "text/plain": [
       "186"
      ]
     },
     "execution_count": 67,
     "metadata": {},
     "output_type": "execute_result"
    }
   ],
   "source": [
    "total_area_40 = len(data.query('total_area < 25'))\n",
    "total_area_40"
   ]
  },
  {
   "cell_type": "code",
   "execution_count": 68,
   "metadata": {},
   "outputs": [
    {
     "data": {
      "text/plain": [
       "111"
      ]
     },
     "execution_count": 68,
     "metadata": {},
     "output_type": "execute_result"
    }
   ],
   "source": [
    "total_area_250 = len(data.query('total_area > 250'))\n",
    "total_area_250"
   ]
  },
  {
   "cell_type": "markdown",
   "metadata": {},
   "source": [
    "На гистрограмме можно заметить выбросы в правой стороне графика, также это видно и по максимуму значений общей площади. Мы можем заметить, что стандартное отклонение достаточно большое, что говорит нам о наличии выбивающихсчя значений. Квартиры площадью больше 200 квадратных метров встречаются довольно редко."
   ]
  },
  {
   "cell_type": "markdown",
   "metadata": {},
   "source": [
    "**Проанализируем стоимость квартиры за квадратный метр.**"
   ]
  },
  {
   "cell_type": "code",
   "execution_count": 69,
   "metadata": {},
   "outputs": [
    {
     "data": {
      "text/plain": [
       "count    23565.000000\n",
       "mean        99.405983\n",
       "std         50.391926\n",
       "min          0.000000\n",
       "25%         77.000000\n",
       "50%         95.000000\n",
       "75%        114.000000\n",
       "max       1908.000000\n",
       "Name: meter_price, dtype: float64"
      ]
     },
     "execution_count": 69,
     "metadata": {},
     "output_type": "execute_result"
    },
    {
     "data": {
      "image/png": "[encoded data removed]",
      "text/plain": [
       "<Figure size 432x288 with 1 Axes>"
      ]
     },
     "metadata": {
      "needs_background": "light"
     },
     "output_type": "display_data"
    }
   ],
   "source": [
    "data['meter_price'].hist(bins=100, range=(0,800))\n",
    "data['meter_price'].describe()"
   ]
  },
  {
   "cell_type": "markdown",
   "metadata": {},
   "source": [
    "На графике мы можем заметить, что большая часть значений распределена в диапазоне от 20 до 200 тысяч рублей. В описании минимальная стоимость за квадратный метр обозначена как 0, что является нереальным значением. Медиана не сильно отличается от среднего, что свидетельствует о том, что выбивающиеся значения не сильно влияют на общую картину по датасету."
   ]
  },
  {
   "cell_type": "markdown",
   "metadata": {},
   "source": [
    "Посмотрим, сколько строчек с нулевым значением в столбце стоимости за квадратный метр."
   ]
  },
  {
   "cell_type": "code",
   "execution_count": 70,
   "metadata": {},
   "outputs": [
    {
     "name": "stdout",
     "output_type": "stream",
     "text": [
      "1\n"
     ]
    }
   ],
   "source": [
    "meter_price_0 = len(data.query('meter_price==0'))\n",
    "print(meter_price_0)"
   ]
  },
  {
   "cell_type": "markdown",
   "metadata": {},
   "source": [
    "Можем удалить из датасета строку с нулевым значением."
   ]
  },
  {
   "cell_type": "markdown",
   "metadata": {},
   "source": [
    "**Проанализируем количество комнат в квартире.**"
   ]
  },
  {
   "cell_type": "code",
   "execution_count": 71,
   "metadata": {},
   "outputs": [
    {
     "data": {
      "text/plain": [
       "count    23565.000000\n",
       "mean         2.070656\n",
       "std          1.078591\n",
       "min          0.000000\n",
       "25%          1.000000\n",
       "50%          2.000000\n",
       "75%          3.000000\n",
       "max         19.000000\n",
       "Name: rooms, dtype: float64"
      ]
     },
     "execution_count": 71,
     "metadata": {},
     "output_type": "execute_result"
    },
    {
     "data": {
      "image/png": "[encoded data removed]",
      "text/plain": [
       "<Figure size 432x288 with 1 Axes>"
      ]
     },
     "metadata": {
      "needs_background": "light"
     },
     "output_type": "display_data"
    }
   ],
   "source": [
    "data['rooms'].hist(bins=50)\n",
    "data['rooms'].describe()"
   ]
  },
  {
   "cell_type": "markdown",
   "metadata": {},
   "source": [
    "Гистограма показывает, частоту распределения количества комнат в квартире. Максимальное значение 19, что является не похожим на обычную квартиру, которую можно увидеть на сайте по покупке недвижимости. Стандартное отклонение не большое, а медиана и среднее практически равны, значит в датасете нет большого количества аномалий и выбросов.\n",
    "\n",
    "Квартир с более чем 7 комнатами достаточно мало.\n",
    "\n",
    "Посмотрим, сколько квартир, где количество комнат превышает 7."
   ]
  },
  {
   "cell_type": "code",
   "execution_count": 72,
   "metadata": {},
   "outputs": [
    {
     "data": {
      "text/plain": [
       "31"
      ]
     },
     "execution_count": 72,
     "metadata": {},
     "output_type": "execute_result"
    }
   ],
   "source": [
    "rooms_7 = len(data.query('rooms > 7'))\n",
    "rooms_7"
   ]
  },
  {
   "cell_type": "markdown",
   "metadata": {},
   "source": [
    "Таких строчек мало, поэтому мы можем удалить их. В дальнейшем исследовании будем рассматривать квартиры, в которых не больше 7 комнат."
   ]
  },
  {
   "cell_type": "markdown",
   "metadata": {},
   "source": [
    "Изучим столбец со значением высоты потолка."
   ]
  },
  {
   "cell_type": "code",
   "execution_count": 73,
   "metadata": {},
   "outputs": [
    {
     "data": {
      "text/plain": [
       "count    23565.000000\n",
       "mean         2.711173\n",
       "std          0.270580\n",
       "min          1.000000\n",
       "25%          2.550000\n",
       "50%          2.650000\n",
       "75%          2.750000\n",
       "max         14.000000\n",
       "Name: ceiling_height, dtype: float64"
      ]
     },
     "execution_count": 73,
     "metadata": {},
     "output_type": "execute_result"
    },
    {
     "data": {
      "image/png": "[encoded data removed]",
      "text/plain": [
       "<Figure size 432x288 with 1 Axes>"
      ]
     },
     "metadata": {
      "needs_background": "light"
     },
     "output_type": "display_data"
    }
   ],
   "source": [
    "data['ceiling_height'].hist(bins=80)\n",
    "data['ceiling_height'].describe()"
   ]
  },
  {
   "cell_type": "markdown",
   "metadata": {},
   "source": [
    "В описании графика минимальное значение для высоты полотка - 1 метр, что является нереалистичным значением. Оптимальное минимальное значение высоты потолка - 2,3 метра. Максимальное значение указано 14 метров, что тоже кажется не особо реалистичным распределением.\n",
    "\n",
    "Посмотрим, сколько строчек датасета со значением 1 метр высоты потолка."
   ]
  },
  {
   "cell_type": "code",
   "execution_count": 74,
   "metadata": {},
   "outputs": [
    {
     "data": {
      "text/plain": [
       "1"
      ]
     },
     "execution_count": 74,
     "metadata": {},
     "output_type": "execute_result"
    }
   ],
   "source": [
    "ceiling_height_1 = len(data.query('ceiling_height == 1'))\n",
    "ceiling_height_1"
   ]
  },
  {
   "cell_type": "code",
   "execution_count": 75,
   "metadata": {},
   "outputs": [
    {
     "data": {
      "text/plain": [
       "3"
      ]
     },
     "execution_count": 75,
     "metadata": {},
     "output_type": "execute_result"
    }
   ],
   "source": [
    "ceiling_height_2 = len(data.query('ceiling_height < 2'))\n",
    "ceiling_height_2"
   ]
  },
  {
   "cell_type": "markdown",
   "metadata": {},
   "source": [
    "Посмотрим, сколько квартир с высотой потолка больше 5 метров."
   ]
  },
  {
   "cell_type": "code",
   "execution_count": 76,
   "metadata": {},
   "outputs": [
    {
     "data": {
      "text/plain": [
       "14"
      ]
     },
     "execution_count": 76,
     "metadata": {},
     "output_type": "execute_result"
    }
   ],
   "source": [
    "ceiling_height_5 = len(data.query('ceiling_height > 5'))\n",
    "ceiling_height_5"
   ]
  },
  {
   "cell_type": "markdown",
   "metadata": {},
   "source": [
    "Строк с такими значениями достаточно мало относительного целого датасета, поэтому можем удалить их."
   ]
  },
  {
   "cell_type": "markdown",
   "metadata": {},
   "source": [
    "### Исследование количества времени для продажи квартиры"
   ]
  },
  {
   "cell_type": "markdown",
   "metadata": {},
   "source": [
    "На данном этапе необходимо рассмотреть время продажи квартир. Для этого нужно посчитать среднее и медиану, а также описать, сколько обычно времени занимает продажа квартиры, посмотреть, когда продажа была совершенна особенно быстро, а когда особенно долго."
   ]
  },
  {
   "cell_type": "code",
   "execution_count": 77,
   "metadata": {},
   "outputs": [
    {
     "data": {
      "text/plain": [
       "count    20394.000000\n",
       "mean       180.741395\n",
       "std        219.732782\n",
       "min          1.000000\n",
       "25%         45.000000\n",
       "50%         95.000000\n",
       "75%        231.000000\n",
       "max       1580.000000\n",
       "Name: days_exposition, dtype: float64"
      ]
     },
     "execution_count": 77,
     "metadata": {},
     "output_type": "execute_result"
    }
   ],
   "source": [
    "#посмотрим общее распределение значений в столбце\n",
    "data['days_exposition'].describe()"
   ]
  },
  {
   "cell_type": "code",
   "execution_count": 78,
   "metadata": {},
   "outputs": [
    {
     "name": "stdout",
     "output_type": "stream",
     "text": [
      "Среднее время продажи квартир: 181 день\n"
     ]
    }
   ],
   "source": [
    "#посчитаем среднее время продажи квартир\n",
    "days_exposition_mean = data['days_exposition'].mean().round().astype('int64')\n",
    "print('Среднее время продажи квартир:', days_exposition_mean, 'день')"
   ]
  },
  {
   "cell_type": "code",
   "execution_count": 79,
   "metadata": {},
   "outputs": [
    {
     "name": "stdout",
     "output_type": "stream",
     "text": [
      "Медиана времени продажи квартир: 95 дней\n"
     ]
    }
   ],
   "source": [
    "#найдем медиану времени продажи квартир\n",
    "days_exposition_median = data['days_exposition'].median().astype('int64')\n",
    "print('Медиана времени продажи квартир:', days_exposition_median, 'дней')"
   ]
  },
  {
   "cell_type": "code",
   "execution_count": 80,
   "metadata": {},
   "outputs": [
    {
     "data": {
      "text/plain": [
       "<AxesSubplot:>"
      ]
     },
     "execution_count": 80,
     "metadata": {},
     "output_type": "execute_result"
    },
    {
     "data": {
      "image/png": "[encoded data removed]",
      "text/plain": [
       "<Figure size 432x288 with 1 Axes>"
      ]
     },
     "metadata": {
      "needs_background": "light"
     },
     "output_type": "display_data"
    }
   ],
   "source": [
    "#построим гистограмму\n",
    "data['days_exposition'].hist(bins=100)"
   ]
  },
  {
   "cell_type": "code",
   "execution_count": 81,
   "metadata": {},
   "outputs": [
    {
     "data": {
      "image/png": "[encoded data removed]",
      "text/plain": [
       "<Figure size 432x288 with 1 Axes>"
      ]
     },
     "metadata": {
      "needs_background": "light"
     },
     "output_type": "display_data"
    }
   ],
   "source": [
    "#построим диаграмму размаха\n",
    "plt.ylim(0, 1000)\n",
    "boxplot = data.boxplot(column='days_exposition')"
   ]
  },
  {
   "cell_type": "markdown",
   "metadata": {},
   "source": [
    "В ориентировочные границы нормального размаха попадают значения от 45 до 500. Это обычное время продажи квартиры. Квартира продается слишком быстро, если она продана меньше чем за 45 дней, и слишком долго, если она продана позже 500 дней размещения на сайте."
   ]
  },
  {
   "cell_type": "markdown",
   "metadata": {},
   "source": [
    "Рассмотрим ситуацию, когда квартира была продана слишком быстро. Построим гистограмму и посчитаем, сколько таких строчек."
   ]
  },
  {
   "cell_type": "code",
   "execution_count": 82,
   "metadata": {},
   "outputs": [
    {
     "data": {
      "text/plain": [
       "count    5071.000000\n",
       "mean       21.673832\n",
       "std        12.283394\n",
       "min         1.000000\n",
       "25%        11.000000\n",
       "50%        21.000000\n",
       "75%        32.000000\n",
       "max        44.000000\n",
       "Name: days_exposition, dtype: float64"
      ]
     },
     "execution_count": 82,
     "metadata": {},
     "output_type": "execute_result"
    }
   ],
   "source": [
    "too_fast = data.query('days_exposition < 45')\n",
    "too_fast['days_exposition'].describe()"
   ]
  },
  {
   "cell_type": "code",
   "execution_count": 83,
   "metadata": {},
   "outputs": [
    {
     "data": {
      "text/plain": [
       "5071"
      ]
     },
     "execution_count": 83,
     "metadata": {},
     "output_type": "execute_result"
    }
   ],
   "source": [
    "len(too_fast)"
   ]
  },
  {
   "cell_type": "markdown",
   "metadata": {},
   "source": [
    "Таких строчек слишком много, поэтому мы не можем их просто удалить."
   ]
  },
  {
   "cell_type": "code",
   "execution_count": 84,
   "metadata": {
    "scrolled": true
   },
   "outputs": [
    {
     "data": {
      "text/plain": [
       "<AxesSubplot:>"
      ]
     },
     "execution_count": 84,
     "metadata": {},
     "output_type": "execute_result"
    },
    {
     "data": {
      "image/png": "[encoded data removed]",
      "text/plain": [
       "<Figure size 432x288 with 1 Axes>"
      ]
     },
     "metadata": {
      "needs_background": "light"
     },
     "output_type": "display_data"
    }
   ],
   "source": [
    "too_fast['days_exposition'].hist(bins=45)"
   ]
  },
  {
   "cell_type": "markdown",
   "metadata": {},
   "source": [
    "Квартира продается дольше обычного, если объявление висит более 500 дней."
   ]
  },
  {
   "cell_type": "code",
   "execution_count": 85,
   "metadata": {},
   "outputs": [
    {
     "data": {
      "text/plain": [
       "count    1737.000000\n",
       "mean      757.898100\n",
       "std       223.716054\n",
       "min       501.000000\n",
       "25%       579.000000\n",
       "50%       690.000000\n",
       "75%       886.000000\n",
       "max      1580.000000\n",
       "Name: days_exposition, dtype: float64"
      ]
     },
     "execution_count": 85,
     "metadata": {},
     "output_type": "execute_result"
    }
   ],
   "source": [
    "long = data.query('days_exposition > 500')\n",
    "long['days_exposition'].describe()"
   ]
  },
  {
   "cell_type": "code",
   "execution_count": 86,
   "metadata": {},
   "outputs": [
    {
     "data": {
      "text/plain": [
       "<AxesSubplot:>"
      ]
     },
     "execution_count": 86,
     "metadata": {},
     "output_type": "execute_result"
    },
    {
     "data": {
      "image/png": "[encoded data removed]",
      "text/plain": [
       "<Figure size 432x288 with 1 Axes>"
      ]
     },
     "metadata": {
      "needs_background": "light"
     },
     "output_type": "display_data"
    }
   ],
   "source": [
    "long['days_exposition'].hist(bins=80)"
   ]
  },
  {
   "cell_type": "markdown",
   "metadata": {},
   "source": [
    "На гистограме мы видим, что значений намного меньше после отметки 1000. Будем считать, что если объявление висит более 1000 дней, то квартира продается слишком долго. От этих значений можем избавиться в очищенном датасете."
   ]
  },
  {
   "cell_type": "code",
   "execution_count": 87,
   "metadata": {},
   "outputs": [
    {
     "data": {
      "text/plain": [
       "274"
      ]
     },
     "execution_count": 87,
     "metadata": {},
     "output_type": "execute_result"
    }
   ],
   "source": [
    "too_long = data.query('days_exposition > 1000')\n",
    "len(too_long['days_exposition'])"
   ]
  },
  {
   "cell_type": "markdown",
   "metadata": {},
   "source": [
    "### Анализ редких и выбивающихся значений"
   ]
  },
  {
   "cell_type": "markdown",
   "metadata": {},
   "source": [
    "Удалим из датасета все редкие и выбивающиеся значения, которые мы обнаружили в предыдущих шагах."
   ]
  },
  {
   "cell_type": "code",
   "execution_count": 88,
   "metadata": {},
   "outputs": [
    {
     "name": "stdout",
     "output_type": "stream",
     "text": [
      "<class 'pandas.core.frame.DataFrame'>\n",
      "Int64Index: 19456 entries, 1 to 23697\n",
      "Data columns (total 30 columns):\n",
      " #   Column                 Non-Null Count  Dtype         \n",
      "---  ------                 --------------  -----         \n",
      " 0   total_images           19456 non-null  int64         \n",
      " 1   last_price             19456 non-null  int64         \n",
      " 2   total_area             19456 non-null  float64       \n",
      " 3   first_day_exposition   19456 non-null  datetime64[ns]\n",
      " 4   rooms                  19456 non-null  int64         \n",
      " 5   ceiling_height         19456 non-null  float64       \n",
      " 6   floors_total           19456 non-null  int64         \n",
      " 7   living_area            19456 non-null  float64       \n",
      " 8   floor                  19456 non-null  int64         \n",
      " 9   is_apartment           19456 non-null  Int64         \n",
      " 10  studio                 19456 non-null  bool          \n",
      " 11  open_plan              19456 non-null  bool          \n",
      " 12  kitchen_area           19456 non-null  float64       \n",
      " 13  balcony                19456 non-null  int64         \n",
      " 14  locality_name          19456 non-null  object        \n",
      " 15  airports_nearest       14974 non-null  object        \n",
      " 16  city_centers_nearest   14992 non-null  float64       \n",
      " 17  parks_around3000       14992 non-null  object        \n",
      " 18  parks_nearest          6413 non-null   object        \n",
      " 19  ponds_around3000       14992 non-null  object        \n",
      " 20  ponds_nearest          7294 non-null   object        \n",
      " 21  days_exposition        19456 non-null  Int64         \n",
      " 22  group_total_area       19456 non-null  object        \n",
      " 23  meter_price            19456 non-null  int64         \n",
      " 24  first_day_weekday      19456 non-null  int64         \n",
      " 25  first_day_month        19456 non-null  int64         \n",
      " 26  first_day_year         19456 non-null  int64         \n",
      " 27  group_floor            19456 non-null  object        \n",
      " 28  living_to_total_area   19456 non-null  float64       \n",
      " 29  kitchen_to_total_area  19456 non-null  float64       \n",
      "dtypes: Int64(2), bool(2), datetime64[ns](1), float64(7), int64(10), object(8)\n",
      "memory usage: 4.4+ MB\n"
     ]
    }
   ],
   "source": [
    "tidy_data = data.query('meter_price!=0 & meter_price <= 200 & rooms <= 7 & total_area > 25 & total_area < 250 & ceiling_height > 2 & ceiling_height < 5 & ceiling_height != 1 & days_exposition <= 1000')\n",
    "tidy_data.info()"
   ]
  },
  {
   "cell_type": "markdown",
   "metadata": {},
   "source": [
    "**Посмотрим на средние значения типичной квартиры**"
   ]
  },
  {
   "cell_type": "code",
   "execution_count": 89,
   "metadata": {},
   "outputs": [
    {
     "name": "stdout",
     "output_type": "stream",
     "text": [
      "Среднее количество фотографий в объявлении: 10\n",
      "Средняя стоимость: 5402896\n",
      "Средняя площадь: 57\n",
      "Среднее количество комнат: 2\n",
      "Среднее количество балконов: 1\n",
      "Этаж: 6\n",
      "Средняя стоимость за квадратный метр: 94 тысячи\n"
     ]
    }
   ],
   "source": [
    "#среднее количество фотографий в типичной квартиры\n",
    "images_mean = round(tidy_data['total_images'].mean())\n",
    "print('Среднее количество фотографий в объявлении:', images_mean)\n",
    "\n",
    "#средняя цена типичной квартиры\n",
    "last_price_mean = round(tidy_data['last_price'].mean())\n",
    "print('Средняя стоимость:', last_price_mean)\n",
    "\n",
    "#средняя площадь типичной квартиры\n",
    "total_area_mean = round(tidy_data['total_area'].mean())\n",
    "print('Средняя площадь:', total_area_mean)\n",
    "\n",
    "#среднее количество комнат в типичной квартире\n",
    "rooms_mean = round(tidy_data['rooms'].mean())\n",
    "print('Среднее количество комнат:', rooms_mean)\n",
    "\n",
    "#среднее количество балконов в типичной квартире\n",
    "balcony_mean = round(tidy_data['balcony'].mean())\n",
    "print('Среднее количество балконов:', balcony_mean)\n",
    "\n",
    "#этаж типичной квартиры\n",
    "floor_mean = round(tidy_data['floor'].mean())\n",
    "print('Этаж:', floor_mean)\n",
    "\n",
    "#средняя стоимость за квадратный метр\n",
    "meter_price_mean = round(tidy_data['meter_price'].mean())\n",
    "print('Средняя стоимость за квадратный метр:', meter_price_mean, 'тысячи')"
   ]
  },
  {
   "cell_type": "markdown",
   "metadata": {},
   "source": [
    "### Исследование факторов, влияющих на стоимость квартиры"
   ]
  },
  {
   "cell_type": "markdown",
   "metadata": {},
   "source": [
    "В этом шаге мы должны определить, какие факторы влияют на стоимость квартиры: зависит ли цена от квадратного метра, числа комнат, этажа (первого или последнего), удалённости от центра. А также изучить зависимость от даты размещения: дня недели, месяца и года. "
   ]
  },
  {
   "cell_type": "markdown",
   "metadata": {},
   "source": [
    "**Определим, есть ли зависимость между стоимостью квартиры и общей площади квартиры.**"
   ]
  },
  {
   "cell_type": "code",
   "execution_count": 90,
   "metadata": {},
   "outputs": [
    {
     "data": {
      "text/plain": [
       "<AxesSubplot:xlabel='last_price', ylabel='total_area'>"
      ]
     },
     "execution_count": 90,
     "metadata": {},
     "output_type": "execute_result"
    },
    {
     "data": {
      "image/png": "[encoded data removed]",
      "text/plain": [
       "<Figure size 432x288 with 1 Axes>"
      ]
     },
     "metadata": {
      "needs_background": "light"
     },
     "output_type": "display_data"
    }
   ],
   "source": [
    "tidy_data.plot(x='last_price', y='total_area', kind='scatter', grid=True)"
   ]
  },
  {
   "cell_type": "code",
   "execution_count": 91,
   "metadata": {},
   "outputs": [
    {
     "data": {
      "text/plain": [
       "0.8178421512520971"
      ]
     },
     "execution_count": 91,
     "metadata": {},
     "output_type": "execute_result"
    }
   ],
   "source": [
    "tidy_data['last_price'].corr(tidy_data['total_area'])"
   ]
  },
  {
   "cell_type": "markdown",
   "metadata": {},
   "source": [
    "Стоимость квартиры зависит от ее общей площади."
   ]
  },
  {
   "cell_type": "markdown",
   "metadata": {},
   "source": [
    "**Определим, есть ли зависимость между стоимостью квартиры и числом комнат.**"
   ]
  },
  {
   "cell_type": "code",
   "execution_count": 92,
   "metadata": {},
   "outputs": [
    {
     "data": {
      "text/plain": [
       "<AxesSubplot:xlabel='rooms', ylabel='last_price'>"
      ]
     },
     "execution_count": 92,
     "metadata": {},
     "output_type": "execute_result"
    },
    {
     "data": {
      "image/png": "[encoded data removed]",
      "text/plain": [
       "<Figure size 432x288 with 1 Axes>"
      ]
     },
     "metadata": {
      "needs_background": "light"
     },
     "output_type": "display_data"
    }
   ],
   "source": [
    "sns.barplot(x = 'rooms', y = 'last_price', hue = 'rooms', data = tidy_data,\n",
    "            palette = 'hls',             \n",
    "            saturation = 8,  \n",
    "            )"
   ]
  },
  {
   "cell_type": "code",
   "execution_count": 93,
   "metadata": {},
   "outputs": [
    {
     "data": {
      "text/plain": [
       "0.5343692780326345"
      ]
     },
     "execution_count": 93,
     "metadata": {},
     "output_type": "execute_result"
    }
   ],
   "source": [
    "tidy_data['last_price'].corr(tidy_data['rooms'])"
   ]
  },
  {
   "cell_type": "markdown",
   "metadata": {},
   "source": [
    "Количество комнат влияет на стоимость квартиры."
   ]
  },
  {
   "cell_type": "markdown",
   "metadata": {},
   "source": [
    "**Определим, есть ли зависимость между стоимостью квартиры и этажом.**"
   ]
  },
  {
   "cell_type": "code",
   "execution_count": 94,
   "metadata": {},
   "outputs": [
    {
     "data": {
      "text/plain": [
       "<AxesSubplot:xlabel='group_floor', ylabel='last_price'>"
      ]
     },
     "execution_count": 94,
     "metadata": {},
     "output_type": "execute_result"
    },
    {
     "data": {
      "image/png": "[encoded data removed]",
      "text/plain": [
       "<Figure size 432x288 with 1 Axes>"
      ]
     },
     "metadata": {
      "needs_background": "light"
     },
     "output_type": "display_data"
    }
   ],
   "source": [
    "sns.barplot(x = 'group_floor', y = 'last_price', hue = 'group_floor', data = tidy_data,\n",
    "            palette = 'hls',\n",
    "            order = ['первый', 'другой', 'последний'],             \n",
    "            saturation = 8,  \n",
    "            )"
   ]
  },
  {
   "cell_type": "markdown",
   "metadata": {},
   "source": [
    "Зависимость между стоимостью квартиры и этажностью существует, но она не ярко выражена. Квартиры на первом этаже дешевле квартир на любом другом этаже."
   ]
  },
  {
   "cell_type": "markdown",
   "metadata": {},
   "source": [
    "**Определим, есть ли зависимость между стоимостью квартиры и удаленности от центра.**"
   ]
  },
  {
   "cell_type": "code",
   "execution_count": 95,
   "metadata": {},
   "outputs": [
    {
     "data": {
      "text/plain": [
       "<AxesSubplot:xlabel='last_price', ylabel='city_centers_nearest'>"
      ]
     },
     "execution_count": 95,
     "metadata": {},
     "output_type": "execute_result"
    },
    {
     "data": {
      "image/png": "[encoded data removed]",
      "text/plain": [
       "<Figure size 432x288 with 1 Axes>"
      ]
     },
     "metadata": {
      "needs_background": "light"
     },
     "output_type": "display_data"
    }
   ],
   "source": [
    "tidy_data.plot(x='last_price', y='city_centers_nearest', kind='scatter', grid=True)"
   ]
  },
  {
   "cell_type": "code",
   "execution_count": 96,
   "metadata": {},
   "outputs": [
    {
     "data": {
      "text/plain": [
       "-0.34107419363035163"
      ]
     },
     "execution_count": 96,
     "metadata": {},
     "output_type": "execute_result"
    }
   ],
   "source": [
    "tidy_data['last_price'].corr(tidy_data['city_centers_nearest'])"
   ]
  },
  {
   "cell_type": "markdown",
   "metadata": {},
   "source": [
    "Цена квартиры практически никак не зависит от удаленности от центра."
   ]
  },
  {
   "cell_type": "markdown",
   "metadata": {},
   "source": [
    "**Изучим зависимость от даты размещения: дня недели, месяца и года.**"
   ]
  },
  {
   "cell_type": "code",
   "execution_count": 97,
   "metadata": {},
   "outputs": [
    {
     "data": {
      "text/plain": [
       "<AxesSubplot:xlabel='first_day_weekday', ylabel='last_price'>"
      ]
     },
     "execution_count": 97,
     "metadata": {},
     "output_type": "execute_result"
    },
    {
     "data": {
      "image/png": "[encoded data removed]",
      "text/plain": [
       "<Figure size 432x288 with 1 Axes>"
      ]
     },
     "metadata": {
      "needs_background": "light"
     },
     "output_type": "display_data"
    }
   ],
   "source": [
    "sns.barplot(x = 'first_day_weekday', y = 'last_price', hue = 'first_day_weekday', data = tidy_data,\n",
    "            palette = 'hls',\n",
    "            saturation = 8,\n",
    "            )"
   ]
  },
  {
   "cell_type": "markdown",
   "metadata": {},
   "source": [
    "Стоимость квартиры никак не зависит от дня ее размещения на сайте."
   ]
  },
  {
   "cell_type": "code",
   "execution_count": 99,
   "metadata": {},
   "outputs": [
    {
     "data": {
      "text/plain": [
       "<AxesSubplot:xlabel='first_day_month', ylabel='last_price'>"
      ]
     },
     "execution_count": 99,
     "metadata": {},
     "output_type": "execute_result"
    },
    {
     "data": {
      "image/png": "[encoded data removed]",
      "text/plain": [
       "<Figure size 432x288 with 1 Axes>"
      ]
     },
     "metadata": {
      "needs_background": "light"
     },
     "output_type": "display_data"
    }
   ],
   "source": [
    "sns.barplot(x = 'first_day_month', y = 'last_price', hue = 'first_day_month', data = tidy_data,\n",
    "            palette = 'hls',\n",
    "            saturation = 8,\n",
    "            )"
   ]
  },
  {
   "cell_type": "markdown",
   "metadata": {},
   "source": [
    "Стоимость квартиры никак не зависит от месяца ее размещения на сайте."
   ]
  },
  {
   "cell_type": "code",
   "execution_count": 101,
   "metadata": {},
   "outputs": [
    {
     "data": {
      "text/plain": [
       "<AxesSubplot:xlabel='first_day_year', ylabel='last_price'>"
      ]
     },
     "execution_count": 101,
     "metadata": {},
     "output_type": "execute_result"
    },
    {
     "data": {
      "image/png": "[encoded data removed]",
      "text/plain": [
       "<Figure size 432x288 with 1 Axes>"
      ]
     },
     "metadata": {
      "needs_background": "light"
     },
     "output_type": "display_data"
    }
   ],
   "source": [
    "sns.barplot(x = 'first_day_year', y = 'last_price', hue = 'first_day_year', data = tidy_data,\n",
    "            palette = 'hls',\n",
    "            saturation = 8,\n",
    "            )"
   ]
  },
  {
   "cell_type": "markdown",
   "metadata": {},
   "source": [
    "Стоимость квартиры практически никак не зависит от года ее размещения на сайте. Тем не менее, на гистограмме мы видим, что квартиры, которые были размещены в 2014 году, дороже тех, которые были размещены позже."
   ]
  },
  {
   "cell_type": "markdown",
   "metadata": {},
   "source": [
    "### Анализ десяти населённых пунктов с наибольшим числом объявлений"
   ]
  },
  {
   "cell_type": "markdown",
   "metadata": {},
   "source": [
    "Определяем 10 населенных пунктов с наибольшим количеством объявлений."
   ]
  },
  {
   "cell_type": "code",
   "execution_count": 103,
   "metadata": {},
   "outputs": [
    {
     "data": {
      "text/plain": [
       "Санкт-Петербург      12852\n",
       "поселок Мурино         503\n",
       "поселок Шушары         396\n",
       "Всеволожск             330\n",
       "Колпино                304\n",
       "поселок Парголово      300\n",
       "Пушкин                 294\n",
       "деревня Кудрово        275\n",
       "Гатчина                268\n",
       "Выборг                 200\n",
       "Name: locality_name, dtype: int64"
      ]
     },
     "execution_count": 103,
     "metadata": {},
     "output_type": "execute_result"
    }
   ],
   "source": [
    "tidy_data['locality_name'].value_counts().head(10)"
   ]
  },
  {
   "cell_type": "markdown",
   "metadata": {},
   "source": [
    "Определяем среднюю стоимость за квадратный метр в 10 населенных пунктах с наибольшим количеством объявлений."
   ]
  },
  {
   "cell_type": "code",
   "execution_count": 104,
   "metadata": {},
   "outputs": [
    {
     "data": {
      "text/html": [
       "<div>\n",
       "<style scoped>\n",
       "    .dataframe tbody tr th:only-of-type {\n",
       "        vertical-align: middle;\n",
       "    }\n",
       "\n",
       "    .dataframe tbody tr th {\n",
       "        vertical-align: top;\n",
       "    }\n",
       "\n",
       "    .dataframe thead th {\n",
       "        text-align: right;\n",
       "    }\n",
       "</style>\n",
       "<table border=\"1\" class=\"dataframe\">\n",
       "  <thead>\n",
       "    <tr style=\"text-align: right;\">\n",
       "      <th></th>\n",
       "      <th>locality_name</th>\n",
       "      <th>count</th>\n",
       "      <th>mean</th>\n",
       "    </tr>\n",
       "  </thead>\n",
       "  <tbody>\n",
       "    <tr>\n",
       "      <th>0</th>\n",
       "      <td>Санкт-Петербург</td>\n",
       "      <td>12852</td>\n",
       "      <td>106.550576</td>\n",
       "    </tr>\n",
       "    <tr>\n",
       "      <th>1</th>\n",
       "      <td>поселок Мурино</td>\n",
       "      <td>503</td>\n",
       "      <td>84.854871</td>\n",
       "    </tr>\n",
       "    <tr>\n",
       "      <th>2</th>\n",
       "      <td>поселок Шушары</td>\n",
       "      <td>396</td>\n",
       "      <td>77.373737</td>\n",
       "    </tr>\n",
       "    <tr>\n",
       "      <th>3</th>\n",
       "      <td>Всеволожск</td>\n",
       "      <td>330</td>\n",
       "      <td>66.966667</td>\n",
       "    </tr>\n",
       "    <tr>\n",
       "      <th>4</th>\n",
       "      <td>Колпино</td>\n",
       "      <td>304</td>\n",
       "      <td>74.601974</td>\n",
       "    </tr>\n",
       "    <tr>\n",
       "      <th>5</th>\n",
       "      <td>поселок Парголово</td>\n",
       "      <td>300</td>\n",
       "      <td>89.490000</td>\n",
       "    </tr>\n",
       "    <tr>\n",
       "      <th>6</th>\n",
       "      <td>Пушкин</td>\n",
       "      <td>294</td>\n",
       "      <td>100.884354</td>\n",
       "    </tr>\n",
       "    <tr>\n",
       "      <th>7</th>\n",
       "      <td>деревня Кудрово</td>\n",
       "      <td>275</td>\n",
       "      <td>91.934545</td>\n",
       "    </tr>\n",
       "    <tr>\n",
       "      <th>8</th>\n",
       "      <td>Гатчина</td>\n",
       "      <td>268</td>\n",
       "      <td>67.932836</td>\n",
       "    </tr>\n",
       "    <tr>\n",
       "      <th>9</th>\n",
       "      <td>Выборг</td>\n",
       "      <td>200</td>\n",
       "      <td>56.650000</td>\n",
       "    </tr>\n",
       "  </tbody>\n",
       "</table>\n",
       "</div>"
      ],
      "text/plain": [
       "       locality_name  count        mean\n",
       "0    Санкт-Петербург  12852  106.550576\n",
       "1     поселок Мурино    503   84.854871\n",
       "2     поселок Шушары    396   77.373737\n",
       "3         Всеволожск    330   66.966667\n",
       "4            Колпино    304   74.601974\n",
       "5  поселок Парголово    300   89.490000\n",
       "6             Пушкин    294  100.884354\n",
       "7    деревня Кудрово    275   91.934545\n",
       "8            Гатчина    268   67.932836\n",
       "9             Выборг    200   56.650000"
      ]
     },
     "execution_count": 104,
     "metadata": {},
     "output_type": "execute_result"
    }
   ],
   "source": [
    "data_10 = tidy_data.pivot_table(index='locality_name', values='meter_price', aggfunc=['count','mean'])\n",
    "data_10.columns = ['count', 'mean']\n",
    "data_10 = data_10.sort_values('count', ascending = False).reset_index().head(10)\n",
    "data_10"
   ]
  },
  {
   "cell_type": "markdown",
   "metadata": {},
   "source": [
    "Выделим населенный пункт с самой высокой и низкой стоимостью жилья."
   ]
  },
  {
   "cell_type": "code",
   "execution_count": 105,
   "metadata": {},
   "outputs": [
    {
     "data": {
      "text/plain": [
       "'поселок Шушары'"
      ]
     },
     "execution_count": 105,
     "metadata": {},
     "output_type": "execute_result"
    }
   ],
   "source": [
    "data_10['locality_name'].max()"
   ]
  },
  {
   "cell_type": "code",
   "execution_count": 106,
   "metadata": {},
   "outputs": [
    {
     "data": {
      "text/plain": [
       "'Всеволожск'"
      ]
     },
     "execution_count": 106,
     "metadata": {},
     "output_type": "execute_result"
    }
   ],
   "source": [
    "data_10['locality_name'].min()"
   ]
  },
  {
   "cell_type": "markdown",
   "metadata": {},
   "source": [
    "Самая дорогая квартира из выделенных 10 населенных пунктов находится в поселке Шушары, во Всеволжске – самая дешевая."
   ]
  },
  {
   "cell_type": "markdown",
   "metadata": {},
   "source": [
    "### Анализ изменения цены по степени удалённости от центра"
   ]
  },
  {
   "cell_type": "markdown",
   "metadata": {},
   "source": [
    "Выделяем квартиры в центре. Для этого необходимо сделать срез по населенному пункту  \"Санкт-Петербург\"."
   ]
  },
  {
   "cell_type": "code",
   "execution_count": 107,
   "metadata": {},
   "outputs": [],
   "source": [
    "city_center = tidy_data.query('locality_name == \"Санкт-Петербург\"')\n",
    "city_center = city_center.dropna(axis=0, subset=['city_centers_nearest'])\n",
    "city_center['city_center_km'] =  round(city_center['city_centers_nearest'] / 1000).astype('int')"
   ]
  },
  {
   "cell_type": "code",
   "execution_count": 108,
   "metadata": {},
   "outputs": [
    {
     "data": {
      "text/html": [
       "<div>\n",
       "<style scoped>\n",
       "    .dataframe tbody tr th:only-of-type {\n",
       "        vertical-align: middle;\n",
       "    }\n",
       "\n",
       "    .dataframe tbody tr th {\n",
       "        vertical-align: top;\n",
       "    }\n",
       "\n",
       "    .dataframe thead th {\n",
       "        text-align: right;\n",
       "    }\n",
       "</style>\n",
       "<table border=\"1\" class=\"dataframe\">\n",
       "  <thead>\n",
       "    <tr style=\"text-align: right;\">\n",
       "      <th></th>\n",
       "      <th>locality_name</th>\n",
       "      <th>last_price_th</th>\n",
       "      <th>meter_price</th>\n",
       "      <th>city_center_km</th>\n",
       "    </tr>\n",
       "  </thead>\n",
       "  <tbody>\n",
       "    <tr>\n",
       "      <th>2</th>\n",
       "      <td>Санкт-Петербург</td>\n",
       "      <td>5196</td>\n",
       "      <td>93</td>\n",
       "      <td>14</td>\n",
       "    </tr>\n",
       "    <tr>\n",
       "      <th>4</th>\n",
       "      <td>Санкт-Петербург</td>\n",
       "      <td>10000</td>\n",
       "      <td>100</td>\n",
       "      <td>8</td>\n",
       "    </tr>\n",
       "    <tr>\n",
       "      <th>9</th>\n",
       "      <td>Санкт-Петербург</td>\n",
       "      <td>5400</td>\n",
       "      <td>89</td>\n",
       "      <td>15</td>\n",
       "    </tr>\n",
       "    <tr>\n",
       "      <th>10</th>\n",
       "      <td>Санкт-Петербург</td>\n",
       "      <td>5050</td>\n",
       "      <td>128</td>\n",
       "      <td>14</td>\n",
       "    </tr>\n",
       "    <tr>\n",
       "      <th>15</th>\n",
       "      <td>Санкт-Петербург</td>\n",
       "      <td>4650</td>\n",
       "      <td>119</td>\n",
       "      <td>14</td>\n",
       "    </tr>\n",
       "    <tr>\n",
       "      <th>16</th>\n",
       "      <td>Санкт-Петербург</td>\n",
       "      <td>6700</td>\n",
       "      <td>82</td>\n",
       "      <td>11</td>\n",
       "    </tr>\n",
       "    <tr>\n",
       "      <th>17</th>\n",
       "      <td>Санкт-Петербург</td>\n",
       "      <td>4180</td>\n",
       "      <td>116</td>\n",
       "      <td>15</td>\n",
       "    </tr>\n",
       "    <tr>\n",
       "      <th>18</th>\n",
       "      <td>Санкт-Петербург</td>\n",
       "      <td>3250</td>\n",
       "      <td>105</td>\n",
       "      <td>11</td>\n",
       "    </tr>\n",
       "    <tr>\n",
       "      <th>19</th>\n",
       "      <td>Санкт-Петербург</td>\n",
       "      <td>14200</td>\n",
       "      <td>117</td>\n",
       "      <td>13</td>\n",
       "    </tr>\n",
       "    <tr>\n",
       "      <th>21</th>\n",
       "      <td>Санкт-Петербург</td>\n",
       "      <td>3200</td>\n",
       "      <td>101</td>\n",
       "      <td>10</td>\n",
       "    </tr>\n",
       "  </tbody>\n",
       "</table>\n",
       "</div>"
      ],
      "text/plain": [
       "      locality_name  last_price_th  meter_price  city_center_km\n",
       "2   Санкт-Петербург           5196           93              14\n",
       "4   Санкт-Петербург          10000          100               8\n",
       "9   Санкт-Петербург           5400           89              15\n",
       "10  Санкт-Петербург           5050          128              14\n",
       "15  Санкт-Петербург           4650          119              14\n",
       "16  Санкт-Петербург           6700           82              11\n",
       "17  Санкт-Петербург           4180          116              15\n",
       "18  Санкт-Петербург           3250          105              11\n",
       "19  Санкт-Петербург          14200          117              13\n",
       "21  Санкт-Петербург           3200          101              10"
      ]
     },
     "execution_count": 108,
     "metadata": {},
     "output_type": "execute_result"
    }
   ],
   "source": [
    "# добавим столбец, в котором полная стоимость будет отражаться в тысячах\n",
    "city_center['last_price_th'] = city_center['last_price'] / 1000 \n",
    "city_center['last_price_th'] = round(city_center['last_price_th']).astype(int)\n",
    "city_center[['locality_name', 'last_price_th', 'meter_price', 'city_center_km']].head(10)"
   ]
  },
  {
   "cell_type": "markdown",
   "metadata": {},
   "source": [
    "Определим среднюю стоимость для каждого километра."
   ]
  },
  {
   "cell_type": "code",
   "execution_count": 109,
   "metadata": {},
   "outputs": [
    {
     "data": {
      "text/html": [
       "<div>\n",
       "<style scoped>\n",
       "    .dataframe tbody tr th:only-of-type {\n",
       "        vertical-align: middle;\n",
       "    }\n",
       "\n",
       "    .dataframe tbody tr th {\n",
       "        vertical-align: top;\n",
       "    }\n",
       "\n",
       "    .dataframe thead th {\n",
       "        text-align: right;\n",
       "    }\n",
       "</style>\n",
       "<table border=\"1\" class=\"dataframe\">\n",
       "  <thead>\n",
       "    <tr style=\"text-align: right;\">\n",
       "      <th></th>\n",
       "      <th>city_center_km</th>\n",
       "      <th>last_price_th</th>\n",
       "    </tr>\n",
       "  </thead>\n",
       "  <tbody>\n",
       "    <tr>\n",
       "      <th>0</th>\n",
       "      <td>0</td>\n",
       "      <td>11106</td>\n",
       "    </tr>\n",
       "    <tr>\n",
       "      <th>1</th>\n",
       "      <td>1</td>\n",
       "      <td>11282</td>\n",
       "    </tr>\n",
       "    <tr>\n",
       "      <th>2</th>\n",
       "      <td>2</td>\n",
       "      <td>10052</td>\n",
       "    </tr>\n",
       "    <tr>\n",
       "      <th>3</th>\n",
       "      <td>3</td>\n",
       "      <td>9115</td>\n",
       "    </tr>\n",
       "    <tr>\n",
       "      <th>4</th>\n",
       "      <td>4</td>\n",
       "      <td>9601</td>\n",
       "    </tr>\n",
       "    <tr>\n",
       "      <th>5</th>\n",
       "      <td>5</td>\n",
       "      <td>9990</td>\n",
       "    </tr>\n",
       "    <tr>\n",
       "      <th>6</th>\n",
       "      <td>6</td>\n",
       "      <td>9026</td>\n",
       "    </tr>\n",
       "    <tr>\n",
       "      <th>7</th>\n",
       "      <td>7</td>\n",
       "      <td>8013</td>\n",
       "    </tr>\n",
       "    <tr>\n",
       "      <th>8</th>\n",
       "      <td>8</td>\n",
       "      <td>8186</td>\n",
       "    </tr>\n",
       "    <tr>\n",
       "      <th>9</th>\n",
       "      <td>9</td>\n",
       "      <td>6445</td>\n",
       "    </tr>\n",
       "  </tbody>\n",
       "</table>\n",
       "</div>"
      ],
      "text/plain": [
       "   city_center_km  last_price_th\n",
       "0               0          11106\n",
       "1               1          11282\n",
       "2               2          10052\n",
       "3               3           9115\n",
       "4               4           9601\n",
       "5               5           9990\n",
       "6               6           9026\n",
       "7               7           8013\n",
       "8               8           8186\n",
       "9               9           6445"
      ]
     },
     "execution_count": 109,
     "metadata": {},
     "output_type": "execute_result"
    }
   ],
   "source": [
    "spb_price = city_center.pivot_table(index='city_center_km', values='last_price_th', aggfunc='mean').reset_index()\n",
    "spb_price['last_price_th'] = round(spb_price['last_price_th']).astype(int)\n",
    "spb_price.head(10)"
   ]
  },
  {
   "cell_type": "markdown",
   "metadata": {},
   "source": [
    "Построим график зависимости цены от удаленности от центра."
   ]
  },
  {
   "cell_type": "code",
   "execution_count": 110,
   "metadata": {},
   "outputs": [
    {
     "data": {
      "text/plain": [
       "[<matplotlib.lines.Line2D at 0x7fd0c913fe50>]"
      ]
     },
     "execution_count": 110,
     "metadata": {},
     "output_type": "execute_result"
    },
    {
     "data": {
      "image/png": "[encoded data removed]",
      "text/plain": [
       "<Figure size 432x288 with 1 Axes>"
      ]
     },
     "metadata": {
      "needs_background": "light"
     },
     "output_type": "display_data"
    }
   ],
   "source": [
    "plt.title('Зависимость цены от удаленности от центра')\n",
    "plt.xlabel('Километры')\n",
    "plt.ylabel('Цена в тыс. руб.')\n",
    "plt.grid(True)\n",
    "plt.plot('city_center_km', 'last_price_th', '-o', data=spb_price, scalex=True, scaley=True)"
   ]
  },
  {
   "cell_type": "markdown",
   "metadata": {},
   "source": [
    "Цена сильно снижается после отметки в 7 километров. Будем считать, что квартиры, которые находятся в радиусе 7 км от центральной точки, расположены в центре города."
   ]
  },
  {
   "cell_type": "markdown",
   "metadata": {},
   "source": [
    "### Сравнение выводов по квартирам в центре и общих выводов по всему городу"
   ]
  },
  {
   "cell_type": "markdown",
   "metadata": {},
   "source": [
    "Выделим сегмент квартир в центре Санкт-Петербурга."
   ]
  },
  {
   "cell_type": "code",
   "execution_count": 111,
   "metadata": {},
   "outputs": [
    {
     "data": {
      "text/html": [
       "<div>\n",
       "<style scoped>\n",
       "    .dataframe tbody tr th:only-of-type {\n",
       "        vertical-align: middle;\n",
       "    }\n",
       "\n",
       "    .dataframe tbody tr th {\n",
       "        vertical-align: top;\n",
       "    }\n",
       "\n",
       "    .dataframe thead th {\n",
       "        text-align: right;\n",
       "    }\n",
       "</style>\n",
       "<table border=\"1\" class=\"dataframe\">\n",
       "  <thead>\n",
       "    <tr style=\"text-align: right;\">\n",
       "      <th></th>\n",
       "      <th>total_images</th>\n",
       "      <th>last_price</th>\n",
       "      <th>total_area</th>\n",
       "      <th>first_day_exposition</th>\n",
       "      <th>rooms</th>\n",
       "      <th>ceiling_height</th>\n",
       "      <th>floors_total</th>\n",
       "      <th>living_area</th>\n",
       "      <th>floor</th>\n",
       "      <th>is_apartment</th>\n",
       "      <th>...</th>\n",
       "      <th>group_total_area</th>\n",
       "      <th>meter_price</th>\n",
       "      <th>first_day_weekday</th>\n",
       "      <th>first_day_month</th>\n",
       "      <th>first_day_year</th>\n",
       "      <th>group_floor</th>\n",
       "      <th>living_to_total_area</th>\n",
       "      <th>kitchen_to_total_area</th>\n",
       "      <th>city_center_km</th>\n",
       "      <th>last_price_th</th>\n",
       "    </tr>\n",
       "  </thead>\n",
       "  <tbody>\n",
       "    <tr>\n",
       "      <th>24</th>\n",
       "      <td>8</td>\n",
       "      <td>6500000</td>\n",
       "      <td>97.2</td>\n",
       "      <td>2015-10-31</td>\n",
       "      <td>2</td>\n",
       "      <td>3.00</td>\n",
       "      <td>3</td>\n",
       "      <td>46.5</td>\n",
       "      <td>1</td>\n",
       "      <td>0</td>\n",
       "      <td>...</td>\n",
       "      <td>Площадь от 30 до 100</td>\n",
       "      <td>67</td>\n",
       "      <td>5</td>\n",
       "      <td>10</td>\n",
       "      <td>2015</td>\n",
       "      <td>первый</td>\n",
       "      <td>0.48</td>\n",
       "      <td>0.20</td>\n",
       "      <td>2</td>\n",
       "      <td>6500</td>\n",
       "    </tr>\n",
       "    <tr>\n",
       "      <th>35</th>\n",
       "      <td>6</td>\n",
       "      <td>15500000</td>\n",
       "      <td>149.0</td>\n",
       "      <td>2017-06-26</td>\n",
       "      <td>5</td>\n",
       "      <td>2.60</td>\n",
       "      <td>5</td>\n",
       "      <td>104.0</td>\n",
       "      <td>4</td>\n",
       "      <td>0</td>\n",
       "      <td>...</td>\n",
       "      <td>Площадь от 100 до 150</td>\n",
       "      <td>104</td>\n",
       "      <td>0</td>\n",
       "      <td>6</td>\n",
       "      <td>2017</td>\n",
       "      <td>другой</td>\n",
       "      <td>0.70</td>\n",
       "      <td>0.11</td>\n",
       "      <td>4</td>\n",
       "      <td>15500</td>\n",
       "    </tr>\n",
       "    <tr>\n",
       "      <th>61</th>\n",
       "      <td>18</td>\n",
       "      <td>7990000</td>\n",
       "      <td>74.0</td>\n",
       "      <td>2017-08-24</td>\n",
       "      <td>2</td>\n",
       "      <td>3.00</td>\n",
       "      <td>4</td>\n",
       "      <td>43.0</td>\n",
       "      <td>4</td>\n",
       "      <td>0</td>\n",
       "      <td>...</td>\n",
       "      <td>Площадь от 30 до 100</td>\n",
       "      <td>108</td>\n",
       "      <td>3</td>\n",
       "      <td>8</td>\n",
       "      <td>2017</td>\n",
       "      <td>последний</td>\n",
       "      <td>0.58</td>\n",
       "      <td>0.27</td>\n",
       "      <td>4</td>\n",
       "      <td>7990</td>\n",
       "    </tr>\n",
       "    <tr>\n",
       "      <th>63</th>\n",
       "      <td>2</td>\n",
       "      <td>20000000</td>\n",
       "      <td>118.0</td>\n",
       "      <td>2018-09-11</td>\n",
       "      <td>3</td>\n",
       "      <td>3.00</td>\n",
       "      <td>9</td>\n",
       "      <td>68.0</td>\n",
       "      <td>7</td>\n",
       "      <td>0</td>\n",
       "      <td>...</td>\n",
       "      <td>Площадь от 100 до 150</td>\n",
       "      <td>169</td>\n",
       "      <td>1</td>\n",
       "      <td>9</td>\n",
       "      <td>2018</td>\n",
       "      <td>другой</td>\n",
       "      <td>0.58</td>\n",
       "      <td>0.14</td>\n",
       "      <td>5</td>\n",
       "      <td>20000</td>\n",
       "    </tr>\n",
       "    <tr>\n",
       "      <th>94</th>\n",
       "      <td>3</td>\n",
       "      <td>3500000</td>\n",
       "      <td>29.5</td>\n",
       "      <td>2019-04-26</td>\n",
       "      <td>1</td>\n",
       "      <td>2.50</td>\n",
       "      <td>5</td>\n",
       "      <td>15.6</td>\n",
       "      <td>2</td>\n",
       "      <td>0</td>\n",
       "      <td>...</td>\n",
       "      <td>Площадь до 30</td>\n",
       "      <td>119</td>\n",
       "      <td>4</td>\n",
       "      <td>4</td>\n",
       "      <td>2019</td>\n",
       "      <td>другой</td>\n",
       "      <td>0.53</td>\n",
       "      <td>0.19</td>\n",
       "      <td>7</td>\n",
       "      <td>3500</td>\n",
       "    </tr>\n",
       "    <tr>\n",
       "      <th>99</th>\n",
       "      <td>32</td>\n",
       "      <td>9600000</td>\n",
       "      <td>90.0</td>\n",
       "      <td>2017-09-26</td>\n",
       "      <td>4</td>\n",
       "      <td>2.60</td>\n",
       "      <td>5</td>\n",
       "      <td>67.0</td>\n",
       "      <td>2</td>\n",
       "      <td>0</td>\n",
       "      <td>...</td>\n",
       "      <td>Площадь от 30 до 100</td>\n",
       "      <td>107</td>\n",
       "      <td>1</td>\n",
       "      <td>9</td>\n",
       "      <td>2017</td>\n",
       "      <td>другой</td>\n",
       "      <td>0.74</td>\n",
       "      <td>0.09</td>\n",
       "      <td>3</td>\n",
       "      <td>9600</td>\n",
       "    </tr>\n",
       "    <tr>\n",
       "      <th>106</th>\n",
       "      <td>9</td>\n",
       "      <td>10500000</td>\n",
       "      <td>124.1</td>\n",
       "      <td>2017-05-25</td>\n",
       "      <td>5</td>\n",
       "      <td>3.20</td>\n",
       "      <td>4</td>\n",
       "      <td>79.4</td>\n",
       "      <td>3</td>\n",
       "      <td>0</td>\n",
       "      <td>...</td>\n",
       "      <td>Площадь от 100 до 150</td>\n",
       "      <td>85</td>\n",
       "      <td>3</td>\n",
       "      <td>5</td>\n",
       "      <td>2017</td>\n",
       "      <td>другой</td>\n",
       "      <td>0.64</td>\n",
       "      <td>0.16</td>\n",
       "      <td>6</td>\n",
       "      <td>10500</td>\n",
       "    </tr>\n",
       "    <tr>\n",
       "      <th>111</th>\n",
       "      <td>4</td>\n",
       "      <td>4590000</td>\n",
       "      <td>40.0</td>\n",
       "      <td>2017-05-29</td>\n",
       "      <td>1</td>\n",
       "      <td>3.15</td>\n",
       "      <td>6</td>\n",
       "      <td>18.0</td>\n",
       "      <td>1</td>\n",
       "      <td>0</td>\n",
       "      <td>...</td>\n",
       "      <td>Площадь от 30 до 100</td>\n",
       "      <td>115</td>\n",
       "      <td>0</td>\n",
       "      <td>5</td>\n",
       "      <td>2017</td>\n",
       "      <td>первый</td>\n",
       "      <td>0.45</td>\n",
       "      <td>0.25</td>\n",
       "      <td>6</td>\n",
       "      <td>4590</td>\n",
       "    </tr>\n",
       "    <tr>\n",
       "      <th>121</th>\n",
       "      <td>20</td>\n",
       "      <td>33000000</td>\n",
       "      <td>180.0</td>\n",
       "      <td>2017-02-17</td>\n",
       "      <td>3</td>\n",
       "      <td>2.90</td>\n",
       "      <td>9</td>\n",
       "      <td>86.0</td>\n",
       "      <td>8</td>\n",
       "      <td>0</td>\n",
       "      <td>...</td>\n",
       "      <td>Площадь выше 150</td>\n",
       "      <td>183</td>\n",
       "      <td>4</td>\n",
       "      <td>2</td>\n",
       "      <td>2017</td>\n",
       "      <td>другой</td>\n",
       "      <td>0.48</td>\n",
       "      <td>0.13</td>\n",
       "      <td>4</td>\n",
       "      <td>33000</td>\n",
       "    </tr>\n",
       "    <tr>\n",
       "      <th>136</th>\n",
       "      <td>16</td>\n",
       "      <td>6500000</td>\n",
       "      <td>51.8</td>\n",
       "      <td>2018-08-01</td>\n",
       "      <td>2</td>\n",
       "      <td>3.45</td>\n",
       "      <td>6</td>\n",
       "      <td>25.6</td>\n",
       "      <td>2</td>\n",
       "      <td>0</td>\n",
       "      <td>...</td>\n",
       "      <td>Площадь от 30 до 100</td>\n",
       "      <td>125</td>\n",
       "      <td>2</td>\n",
       "      <td>8</td>\n",
       "      <td>2018</td>\n",
       "      <td>другой</td>\n",
       "      <td>0.49</td>\n",
       "      <td>0.14</td>\n",
       "      <td>4</td>\n",
       "      <td>6500</td>\n",
       "    </tr>\n",
       "  </tbody>\n",
       "</table>\n",
       "<p>10 rows × 32 columns</p>\n",
       "</div>"
      ],
      "text/plain": [
       "     total_images  last_price  total_area first_day_exposition  rooms  \\\n",
       "24              8     6500000        97.2           2015-10-31      2   \n",
       "35              6    15500000       149.0           2017-06-26      5   \n",
       "61             18     7990000        74.0           2017-08-24      2   \n",
       "63              2    20000000       118.0           2018-09-11      3   \n",
       "94              3     3500000        29.5           2019-04-26      1   \n",
       "99             32     9600000        90.0           2017-09-26      4   \n",
       "106             9    10500000       124.1           2017-05-25      5   \n",
       "111             4     4590000        40.0           2017-05-29      1   \n",
       "121            20    33000000       180.0           2017-02-17      3   \n",
       "136            16     6500000        51.8           2018-08-01      2   \n",
       "\n",
       "     ceiling_height  floors_total  living_area  floor  is_apartment  ...  \\\n",
       "24             3.00             3         46.5      1             0  ...   \n",
       "35             2.60             5        104.0      4             0  ...   \n",
       "61             3.00             4         43.0      4             0  ...   \n",
       "63             3.00             9         68.0      7             0  ...   \n",
       "94             2.50             5         15.6      2             0  ...   \n",
       "99             2.60             5         67.0      2             0  ...   \n",
       "106            3.20             4         79.4      3             0  ...   \n",
       "111            3.15             6         18.0      1             0  ...   \n",
       "121            2.90             9         86.0      8             0  ...   \n",
       "136            3.45             6         25.6      2             0  ...   \n",
       "\n",
       "          group_total_area  meter_price  first_day_weekday  first_day_month  \\\n",
       "24    Площадь от 30 до 100           67                  5               10   \n",
       "35   Площадь от 100 до 150          104                  0                6   \n",
       "61    Площадь от 30 до 100          108                  3                8   \n",
       "63   Площадь от 100 до 150          169                  1                9   \n",
       "94           Площадь до 30          119                  4                4   \n",
       "99    Площадь от 30 до 100          107                  1                9   \n",
       "106  Площадь от 100 до 150           85                  3                5   \n",
       "111   Площадь от 30 до 100          115                  0                5   \n",
       "121       Площадь выше 150          183                  4                2   \n",
       "136   Площадь от 30 до 100          125                  2                8   \n",
       "\n",
       "    first_day_year group_floor  living_to_total_area kitchen_to_total_area  \\\n",
       "24            2015      первый                  0.48                  0.20   \n",
       "35            2017      другой                  0.70                  0.11   \n",
       "61            2017   последний                  0.58                  0.27   \n",
       "63            2018      другой                  0.58                  0.14   \n",
       "94            2019      другой                  0.53                  0.19   \n",
       "99            2017      другой                  0.74                  0.09   \n",
       "106           2017      другой                  0.64                  0.16   \n",
       "111           2017      первый                  0.45                  0.25   \n",
       "121           2017      другой                  0.48                  0.13   \n",
       "136           2018      другой                  0.49                  0.14   \n",
       "\n",
       "    city_center_km last_price_th  \n",
       "24               2          6500  \n",
       "35               4         15500  \n",
       "61               4          7990  \n",
       "63               5         20000  \n",
       "94               7          3500  \n",
       "99               3          9600  \n",
       "106              6         10500  \n",
       "111              6          4590  \n",
       "121              4         33000  \n",
       "136              4          6500  \n",
       "\n",
       "[10 rows x 32 columns]"
      ]
     },
     "execution_count": 111,
     "metadata": {},
     "output_type": "execute_result"
    }
   ],
   "source": [
    "spb_city_center = city_center.query('city_center_km <= 7')\n",
    "spb_city_center.head(10)"
   ]
  },
  {
   "cell_type": "code",
   "execution_count": 112,
   "metadata": {},
   "outputs": [
    {
     "name": "stdout",
     "output_type": "stream",
     "text": [
      "<class 'pandas.core.frame.DataFrame'>\n",
      "Int64Index: 2480 entries, 24 to 23691\n",
      "Data columns (total 32 columns):\n",
      " #   Column                 Non-Null Count  Dtype         \n",
      "---  ------                 --------------  -----         \n",
      " 0   total_images           2480 non-null   int64         \n",
      " 1   last_price             2480 non-null   int64         \n",
      " 2   total_area             2480 non-null   float64       \n",
      " 3   first_day_exposition   2480 non-null   datetime64[ns]\n",
      " 4   rooms                  2480 non-null   int64         \n",
      " 5   ceiling_height         2480 non-null   float64       \n",
      " 6   floors_total           2480 non-null   int64         \n",
      " 7   living_area            2480 non-null   float64       \n",
      " 8   floor                  2480 non-null   int64         \n",
      " 9   is_apartment           2480 non-null   Int64         \n",
      " 10  studio                 2480 non-null   bool          \n",
      " 11  open_plan              2480 non-null   bool          \n",
      " 12  kitchen_area           2480 non-null   float64       \n",
      " 13  balcony                2480 non-null   int64         \n",
      " 14  locality_name          2480 non-null   object        \n",
      " 15  airports_nearest       2478 non-null   object        \n",
      " 16  city_centers_nearest   2480 non-null   float64       \n",
      " 17  parks_around3000       2480 non-null   object        \n",
      " 18  parks_nearest          1593 non-null   object        \n",
      " 19  ponds_around3000       2480 non-null   object        \n",
      " 20  ponds_nearest          1785 non-null   object        \n",
      " 21  days_exposition        2480 non-null   Int64         \n",
      " 22  group_total_area       2480 non-null   object        \n",
      " 23  meter_price            2480 non-null   int64         \n",
      " 24  first_day_weekday      2480 non-null   int64         \n",
      " 25  first_day_month        2480 non-null   int64         \n",
      " 26  first_day_year         2480 non-null   int64         \n",
      " 27  group_floor            2480 non-null   object        \n",
      " 28  living_to_total_area   2480 non-null   float64       \n",
      " 29  kitchen_to_total_area  2480 non-null   float64       \n",
      " 30  city_center_km         2480 non-null   int64         \n",
      " 31  last_price_th          2480 non-null   int64         \n",
      "dtypes: Int64(2), bool(2), datetime64[ns](1), float64(7), int64(12), object(8)\n",
      "memory usage: 610.3+ KB\n"
     ]
    }
   ],
   "source": [
    "spb_city_center.info()"
   ]
  },
  {
   "cell_type": "markdown",
   "metadata": {},
   "source": [
    "Рассмотрим факторы, которые могут влиять на стоимость квартиры."
   ]
  },
  {
   "cell_type": "markdown",
   "metadata": {},
   "source": [
    "**Определим, есть ли зависимость между стоимостью квартиры и общей площади квартиры.**"
   ]
  },
  {
   "cell_type": "code",
   "execution_count": 113,
   "metadata": {},
   "outputs": [
    {
     "data": {
      "text/plain": [
       "<AxesSubplot:xlabel='last_price', ylabel='total_area'>"
      ]
     },
     "execution_count": 113,
     "metadata": {},
     "output_type": "execute_result"
    },
    {
     "data": {
      "image/png": "[encoded data removed]",
      "text/plain": [
       "<Figure size 432x288 with 1 Axes>"
      ]
     },
     "metadata": {
      "needs_background": "light"
     },
     "output_type": "display_data"
    }
   ],
   "source": [
    "spb_city_center.plot(x='last_price', y='total_area', kind='scatter', grid=True)"
   ]
  },
  {
   "cell_type": "code",
   "execution_count": 114,
   "metadata": {},
   "outputs": [
    {
     "data": {
      "text/plain": [
       "0.8132769337375725"
      ]
     },
     "execution_count": 114,
     "metadata": {},
     "output_type": "execute_result"
    }
   ],
   "source": [
    "spb_city_center['last_price'].corr(spb_city_center['total_area'])"
   ]
  },
  {
   "cell_type": "markdown",
   "metadata": {},
   "source": [
    "Корреляция близится к единице. Стоимость квартиры зависит от общей площади квартиры."
   ]
  },
  {
   "cell_type": "markdown",
   "metadata": {},
   "source": [
    "**Определим, есть ли зависимость между стоимостью квартиры и удаленностью от центра.**"
   ]
  },
  {
   "cell_type": "code",
   "execution_count": 115,
   "metadata": {},
   "outputs": [
    {
     "data": {
      "text/plain": [
       "<AxesSubplot:xlabel='last_price', ylabel='city_centers_nearest'>"
      ]
     },
     "execution_count": 115,
     "metadata": {},
     "output_type": "execute_result"
    },
    {
     "data": {
      "image/png": "[encoded data removed]",
      "text/plain": [
       "<Figure size 432x288 with 1 Axes>"
      ]
     },
     "metadata": {
      "needs_background": "light"
     },
     "output_type": "display_data"
    }
   ],
   "source": [
    "spb_city_center.plot(x='last_price', y='city_centers_nearest', kind='scatter', grid=True)"
   ]
  },
  {
   "cell_type": "code",
   "execution_count": 116,
   "metadata": {},
   "outputs": [
    {
     "data": {
      "text/plain": [
       "-0.1102516044194424"
      ]
     },
     "execution_count": 116,
     "metadata": {},
     "output_type": "execute_result"
    }
   ],
   "source": [
    "spb_city_center['last_price'].corr(spb_city_center['city_centers_nearest'])"
   ]
  },
  {
   "cell_type": "markdown",
   "metadata": {},
   "source": [
    "Удаленность от центра практически никак не влияет на стоимость квартиры в центральном районе Санкт-Петербурга."
   ]
  },
  {
   "cell_type": "markdown",
   "metadata": {},
   "source": [
    "**Определим, есть ли зависимость между стоимостью квартиры и количеством комнат.**"
   ]
  },
  {
   "cell_type": "code",
   "execution_count": 117,
   "metadata": {},
   "outputs": [
    {
     "data": {
      "text/plain": [
       "<AxesSubplot:xlabel='rooms', ylabel='last_price'>"
      ]
     },
     "execution_count": 117,
     "metadata": {},
     "output_type": "execute_result"
    },
    {
     "data": {
      "image/png": "[encoded data removed]",
      "text/plain": [
       "<Figure size 432x288 with 1 Axes>"
      ]
     },
     "metadata": {
      "needs_background": "light"
     },
     "output_type": "display_data"
    }
   ],
   "source": [
    "sns.barplot(x = 'rooms', y = 'last_price', hue = 'rooms', data = spb_city_center,\n",
    "            palette = 'hls',             \n",
    "            saturation = 8,  \n",
    "            )"
   ]
  },
  {
   "cell_type": "code",
   "execution_count": 118,
   "metadata": {},
   "outputs": [
    {
     "data": {
      "text/plain": [
       "0.5476538887418828"
      ]
     },
     "execution_count": 118,
     "metadata": {},
     "output_type": "execute_result"
    }
   ],
   "source": [
    "spb_city_center['last_price'].corr(spb_city_center['rooms'])"
   ]
  },
  {
   "cell_type": "markdown",
   "metadata": {},
   "source": [
    "Корреляция не ярко выражена, тем не менее на графике мы видим, что стоимость квартиры увеличивается в зависимости от количества комнат. Единственным исключением являются с квартиры с 0 значением комнат - квартиры-студии. Можем предположить, что общая площадь такой квартиры может быть больше чем у однокомнатной, соответственно общая стоимость квартиры студии может быть больше, чем общая стоимость однокомнатной."
   ]
  },
  {
   "cell_type": "markdown",
   "metadata": {},
   "source": [
    "**Определим, есть ли зависимость между стоимостью квартиры и этажностью.**"
   ]
  },
  {
   "cell_type": "code",
   "execution_count": 119,
   "metadata": {
    "scrolled": true
   },
   "outputs": [
    {
     "data": {
      "text/plain": [
       "<AxesSubplot:xlabel='group_floor', ylabel='last_price'>"
      ]
     },
     "execution_count": 119,
     "metadata": {},
     "output_type": "execute_result"
    },
    {
     "data": {
      "image/png": "[encoded data removed]",
      "text/plain": [
       "<Figure size 432x288 with 1 Axes>"
      ]
     },
     "metadata": {
      "needs_background": "light"
     },
     "output_type": "display_data"
    }
   ],
   "source": [
    "sns.barplot(x = 'group_floor', y = 'last_price', hue = 'group_floor', data = spb_city_center,\n",
    "            palette = 'hls',\n",
    "            order = ['первый', 'другой', 'последний'],             \n",
    "            saturation = 8,  \n",
    "            )"
   ]
  },
  {
   "cell_type": "markdown",
   "metadata": {},
   "source": [
    "Квартиры, расположенные на первом этаже, дешевле квартир на других этажах. "
   ]
  },
  {
   "cell_type": "markdown",
   "metadata": {},
   "source": [
    "**Изучим зависимость от даты размещения: дня недели, месяца и года.**"
   ]
  },
  {
   "cell_type": "code",
   "execution_count": 120,
   "metadata": {},
   "outputs": [
    {
     "data": {
      "text/plain": [
       "<AxesSubplot:xlabel='first_day_weekday', ylabel='last_price'>"
      ]
     },
     "execution_count": 120,
     "metadata": {},
     "output_type": "execute_result"
    },
    {
     "data": {
      "image/png": "[encoded data removed]",
      "text/plain": [
       "<Figure size 432x288 with 1 Axes>"
      ]
     },
     "metadata": {
      "needs_background": "light"
     },
     "output_type": "display_data"
    }
   ],
   "source": [
    "sns.barplot(x = 'first_day_weekday', y = 'last_price', hue = 'first_day_weekday', data = spb_city_center,\n",
    "            palette = 'hls',\n",
    "            saturation = 8,\n",
    "            )"
   ]
  },
  {
   "cell_type": "markdown",
   "metadata": {},
   "source": [
    "Стоимость квартиры никак не зависит от дня ее размещения на сайте."
   ]
  },
  {
   "cell_type": "code",
   "execution_count": 122,
   "metadata": {},
   "outputs": [
    {
     "data": {
      "text/plain": [
       "<AxesSubplot:xlabel='first_day_month', ylabel='last_price'>"
      ]
     },
     "execution_count": 122,
     "metadata": {},
     "output_type": "execute_result"
    },
    {
     "data": {
      "image/png": "[encoded data removed]",
      "text/plain": [
       "<Figure size 432x288 with 1 Axes>"
      ]
     },
     "metadata": {
      "needs_background": "light"
     },
     "output_type": "display_data"
    }
   ],
   "source": [
    "sns.barplot(x = 'first_day_month', y = 'last_price', hue = 'first_day_month', data = spb_city_center,\n",
    "            palette = 'hls',\n",
    "            saturation = 8,\n",
    "            )"
   ]
  },
  {
   "cell_type": "markdown",
   "metadata": {},
   "source": [
    "Стоимость квартиры никак не зависит от месяца ее размещения на сайте."
   ]
  },
  {
   "cell_type": "code",
   "execution_count": 124,
   "metadata": {},
   "outputs": [
    {
     "data": {
      "text/plain": [
       "<AxesSubplot:xlabel='first_day_year', ylabel='last_price'>"
      ]
     },
     "execution_count": 124,
     "metadata": {},
     "output_type": "execute_result"
    },
    {
     "data": {
      "image/png": "[encoded data removed]",
      "text/plain": [
       "<Figure size 432x288 with 1 Axes>"
      ]
     },
     "metadata": {
      "needs_background": "light"
     },
     "output_type": "display_data"
    }
   ],
   "source": [
    "sns.barplot(x = 'first_day_year', y = 'last_price', hue = 'first_day_year', data = tidy_data,\n",
    "            palette = 'hls',\n",
    "            saturation = 8,\n",
    "            )"
   ]
  },
  {
   "cell_type": "markdown",
   "metadata": {},
   "source": [
    "Ярко выраженной зависимости между годом размещения и стоимостью квартиры нет. На графике мы можем увидеть, что квартиры, которые были размещены в 2014 году, дороже остальных."
   ]
  },
  {
   "cell_type": "markdown",
   "metadata": {},
   "source": [
    "## Общий вывод"
   ]
  },
  {
   "cell_type": "markdown",
   "metadata": {},
   "source": [
    "В рамках проекта была проведена **предобработка данных**:\n",
    "- удалены или заменены пропущенные в столбцах значения,\n",
    "- заменены типы данных, где это было необходимо,\n",
    "- обработаны явные и неявные дубликаты.\n",
    "\n",
    "В следующем шаге были рассчитаны необходимые для дальнейшей работы с данными значения и добавлены в датасет:\n",
    "- цена квадратного метра\n",
    "- день недели, месяц и год публикации объявления\n",
    "- этаж квартиры\n",
    "- соотношение жилой и общей площади\n",
    "- отношение площади кухни к общей\n",
    "\n",
    "В последнем шаге был проведен **исследовательский анализ**. В рамках анализа были изучены следующие параметры: площадь, цена, число комнат, высота потолков. После обработки выбросов и аномальных значений были рассчитаны параметры для типичной квартиры:\n",
    "\n",
    "Среднее количество фотографий в объявлении: 10\n",
    "Средняя стоимость: 5 402 896 руб.\n",
    "Средняя площадь: 57\n",
    "Среднее количество комнат: 2\n",
    "Среднее количество балконов: 1\n",
    "Этаж: 6\n",
    "Средняя стоимость за квадратный метр: 94 тысячи руб.\n",
    "\n",
    "Были определены **факторы, которые влияют на стоимость квартиры**:\n",
    "- Сильнее всего на стоимость квартры влияет общая площадь квартиры.\n",
    "- Квартиры, расположенные на первом этаже, дешевле остальных квартир.\n",
    "- Квартиры-студии в среднем стоят дороже, чем однокомнатные квартиры.\n",
    "- Стоимость квартир в общем датасете практически не зависит от удаленности от центра.\n",
    "- День недели, месяц и год размещения объявления о продаже квартиры никак не влияют на стоимость квартиры.\n",
    "\n",
    "Больше всего объявлений о продаже квартиры в следующих населенных пунктах:\n",
    "- Санкт-Петербург\n",
    "- поселок Мурино\n",
    "- поселок Шушары\n",
    "- Всеволожск\n",
    "- Колпино\n",
    "- поселок Парголово\n",
    "- Пушкин\n",
    "- деревня Кудрово\n",
    "- Гатчина\n",
    "- Выборг\n",
    "\n",
    "Населенный пункт с самым **дорогим** предложением о продаже квартиры: поселок Шушары\n",
    "Населенный пункт с самым **дешевым** преложением о продаже квартиры: Всеволжск\n",
    "\n",
    "Отдельно были проанализированы объявления в Санкт-Петербурге. В центральный район входят квартиры, расположенные в радиусе 7 километров от центральной точки отсчета.\n",
    "\n",
    "Были определены **факторы, влияющие на стоимость квартиры в центральном районе Санкт-Петербурга**:\n",
    "- общая площадь квартиры;\n",
    "- этажность квартиры;\n",
    "- количество комнат.\n",
    "\n",
    "Удаленность от центра практически никак не влияет на стоимость квартиры в центральном районе Санкт-Петербурга."
   ]
  }
 ],
 "metadata": {
  "ExecuteTimeLog": [
   {
    "duration": 575,
    "start_time": "2022-01-26T05:51:09.754Z"
   },
   {
    "duration": 65,
    "start_time": "2022-01-26T05:52:00.906Z"
   },
   {
    "duration": 14,
    "start_time": "2022-01-26T05:52:14.544Z"
   },
   {
    "duration": 63,
    "start_time": "2022-01-26T05:57:45.574Z"
   },
   {
    "duration": 8,
    "start_time": "2022-01-26T05:57:46.583Z"
   },
   {
    "duration": 84,
    "start_time": "2022-01-26T05:58:39.118Z"
   },
   {
    "duration": 10,
    "start_time": "2022-01-26T05:58:39.792Z"
   },
   {
    "duration": 3,
    "start_time": "2022-01-26T05:59:24.694Z"
   },
   {
    "duration": 63,
    "start_time": "2022-01-26T05:59:25.261Z"
   },
   {
    "duration": 8,
    "start_time": "2022-01-26T05:59:26.477Z"
   },
   {
    "duration": 63,
    "start_time": "2022-01-26T05:59:42.805Z"
   },
   {
    "duration": 7,
    "start_time": "2022-01-26T05:59:43.688Z"
   },
   {
    "duration": 146,
    "start_time": "2022-01-26T06:19:42.384Z"
   },
   {
    "duration": 41,
    "start_time": "2022-01-26T06:19:43.644Z"
   },
   {
    "duration": 72,
    "start_time": "2022-01-26T06:19:56.060Z"
   },
   {
    "duration": 27,
    "start_time": "2022-01-26T06:19:56.516Z"
   },
   {
    "duration": 96,
    "start_time": "2022-01-26T06:20:01.039Z"
   },
   {
    "duration": 25,
    "start_time": "2022-01-26T06:20:02.410Z"
   },
   {
    "duration": 25,
    "start_time": "2022-01-26T06:20:14.670Z"
   },
   {
    "duration": 24,
    "start_time": "2022-01-26T06:23:01.552Z"
   },
   {
    "duration": 559,
    "start_time": "2022-02-08T05:24:07.852Z"
   },
   {
    "duration": 83,
    "start_time": "2022-02-08T05:24:09.029Z"
   },
   {
    "duration": 27,
    "start_time": "2022-02-08T05:24:09.977Z"
   },
   {
    "duration": 20,
    "start_time": "2022-02-08T05:24:28.666Z"
   },
   {
    "duration": 21,
    "start_time": "2022-02-08T05:25:16.398Z"
   },
   {
    "duration": 22,
    "start_time": "2022-02-08T05:26:41.762Z"
   },
   {
    "duration": 232,
    "start_time": "2022-02-08T05:52:38.643Z"
   },
   {
    "duration": 4,
    "start_time": "2022-02-08T05:52:59.497Z"
   },
   {
    "duration": 56,
    "start_time": "2022-02-08T05:55:03.932Z"
   },
   {
    "duration": 16,
    "start_time": "2022-02-08T05:55:21.860Z"
   },
   {
    "duration": 64,
    "start_time": "2022-02-08T05:56:01.236Z"
   },
   {
    "duration": 4,
    "start_time": "2022-02-08T05:56:17.646Z"
   },
   {
    "duration": 18,
    "start_time": "2022-02-08T05:59:21.340Z"
   },
   {
    "duration": 546,
    "start_time": "2022-02-21T05:14:16.281Z"
   },
   {
    "duration": 80,
    "start_time": "2022-02-21T05:14:16.829Z"
   },
   {
    "duration": 27,
    "start_time": "2022-02-21T05:14:17.347Z"
   },
   {
    "duration": 21,
    "start_time": "2022-02-21T05:14:18.965Z"
   },
   {
    "duration": 6,
    "start_time": "2022-02-21T05:14:21.924Z"
   },
   {
    "duration": 17,
    "start_time": "2022-02-21T05:14:22.945Z"
   },
   {
    "duration": 4,
    "start_time": "2022-02-21T05:14:23.912Z"
   },
   {
    "duration": 20,
    "start_time": "2022-02-21T05:14:26.128Z"
   },
   {
    "duration": 6,
    "start_time": "2022-02-21T05:15:14.568Z"
   },
   {
    "duration": 287,
    "start_time": "2022-02-21T05:15:38.597Z"
   },
   {
    "duration": 6,
    "start_time": "2022-02-21T05:17:27.123Z"
   },
   {
    "duration": 183,
    "start_time": "2022-02-21T05:27:23.804Z"
   },
   {
    "duration": 145,
    "start_time": "2022-02-21T05:32:32.137Z"
   },
   {
    "duration": 187,
    "start_time": "2022-02-21T05:32:40.687Z"
   },
   {
    "duration": 192,
    "start_time": "2022-02-21T05:33:46.525Z"
   },
   {
    "duration": 215,
    "start_time": "2022-02-21T05:34:21.359Z"
   },
   {
    "duration": 13,
    "start_time": "2022-02-21T05:34:53.228Z"
   },
   {
    "duration": 181,
    "start_time": "2022-02-21T05:35:03.145Z"
   },
   {
    "duration": 7,
    "start_time": "2022-02-21T05:40:12.801Z"
   },
   {
    "duration": 6,
    "start_time": "2022-02-21T05:40:29.849Z"
   },
   {
    "duration": 6,
    "start_time": "2022-02-21T05:41:58.492Z"
   },
   {
    "duration": 173,
    "start_time": "2022-02-21T05:42:17.771Z"
   },
   {
    "duration": 7,
    "start_time": "2022-02-21T05:42:32.730Z"
   },
   {
    "duration": 7,
    "start_time": "2022-02-21T05:43:01.421Z"
   },
   {
    "duration": 6,
    "start_time": "2022-02-21T05:43:43.203Z"
   },
   {
    "duration": 6,
    "start_time": "2022-02-21T06:16:08.886Z"
   },
   {
    "duration": 5,
    "start_time": "2022-02-21T06:16:34.367Z"
   },
   {
    "duration": 5,
    "start_time": "2022-02-21T06:19:19.303Z"
   },
   {
    "duration": 525,
    "start_time": "2022-02-21T06:26:37.796Z"
   },
   {
    "duration": 1365,
    "start_time": "2022-02-21T06:26:48.484Z"
   },
   {
    "duration": 14,
    "start_time": "2022-02-21T06:27:45.193Z"
   },
   {
    "duration": 21,
    "start_time": "2022-02-21T06:28:01.133Z"
   },
   {
    "duration": 7562,
    "start_time": "2022-02-21T06:29:34.868Z"
   },
   {
    "duration": -216,
    "start_time": "2022-02-21T06:29:42.648Z"
   },
   {
    "duration": 4,
    "start_time": "2022-02-21T06:30:03.945Z"
   },
   {
    "duration": 19,
    "start_time": "2022-02-21T06:30:06.407Z"
   },
   {
    "duration": 12,
    "start_time": "2022-02-21T06:33:00.828Z"
   },
   {
    "duration": 4,
    "start_time": "2022-02-21T06:33:06.745Z"
   },
   {
    "duration": 19,
    "start_time": "2022-02-21T06:33:28.904Z"
   },
   {
    "duration": 34,
    "start_time": "2022-02-21T06:33:51.467Z"
   },
   {
    "duration": 300,
    "start_time": "2022-02-22T04:49:06.683Z"
   },
   {
    "duration": 596,
    "start_time": "2022-02-22T04:49:16.027Z"
   },
   {
    "duration": 91,
    "start_time": "2022-02-22T04:49:16.625Z"
   },
   {
    "duration": 32,
    "start_time": "2022-02-22T04:49:16.780Z"
   },
   {
    "duration": 23,
    "start_time": "2022-02-22T04:49:17.920Z"
   },
   {
    "duration": 5,
    "start_time": "2022-02-22T04:49:20.459Z"
   },
   {
    "duration": 14,
    "start_time": "2022-02-22T04:49:21.288Z"
   },
   {
    "duration": 4,
    "start_time": "2022-02-22T04:49:21.795Z"
   },
   {
    "duration": 20,
    "start_time": "2022-02-22T04:49:22.887Z"
   },
   {
    "duration": 6,
    "start_time": "2022-02-22T04:49:24.169Z"
   },
   {
    "duration": 10,
    "start_time": "2022-02-22T04:49:24.986Z"
   },
   {
    "duration": 8,
    "start_time": "2022-02-22T04:49:25.725Z"
   },
   {
    "duration": 7,
    "start_time": "2022-02-22T04:49:26.413Z"
   },
   {
    "duration": 5,
    "start_time": "2022-02-22T04:49:28.741Z"
   },
   {
    "duration": 5,
    "start_time": "2022-02-22T04:49:29.124Z"
   },
   {
    "duration": 16,
    "start_time": "2022-02-22T04:49:31.033Z"
   },
   {
    "duration": 4,
    "start_time": "2022-02-22T04:49:31.916Z"
   },
   {
    "duration": 6,
    "start_time": "2022-02-22T04:49:32.313Z"
   },
   {
    "duration": 6,
    "start_time": "2022-02-22T05:01:26.809Z"
   },
   {
    "duration": 327,
    "start_time": "2022-02-22T05:01:43.214Z"
   },
   {
    "duration": 8,
    "start_time": "2022-02-22T05:01:55.182Z"
   },
   {
    "duration": 661,
    "start_time": "2022-02-22T05:07:46.217Z"
   },
   {
    "duration": 260,
    "start_time": "2022-02-22T05:08:25.787Z"
   },
   {
    "duration": 10,
    "start_time": "2022-02-22T05:08:48.908Z"
   },
   {
    "duration": 4,
    "start_time": "2022-02-22T05:09:25.501Z"
   },
   {
    "duration": 3,
    "start_time": "2022-02-22T05:09:27.651Z"
   },
   {
    "duration": 21,
    "start_time": "2022-02-22T05:09:43.691Z"
   },
   {
    "duration": 6,
    "start_time": "2022-02-22T05:25:53.980Z"
   },
   {
    "duration": 6,
    "start_time": "2022-02-22T05:28:04.277Z"
   },
   {
    "duration": 5,
    "start_time": "2022-02-22T05:29:02.005Z"
   },
   {
    "duration": 5,
    "start_time": "2022-02-22T05:29:14.514Z"
   },
   {
    "duration": 5,
    "start_time": "2022-02-22T05:29:25.485Z"
   },
   {
    "duration": 5,
    "start_time": "2022-02-22T05:29:26.400Z"
   },
   {
    "duration": 2041,
    "start_time": "2022-02-22T05:34:49.255Z"
   },
   {
    "duration": 2,
    "start_time": "2022-02-22T05:35:06.169Z"
   },
   {
    "duration": 5,
    "start_time": "2022-02-22T05:35:07.232Z"
   },
   {
    "duration": 5,
    "start_time": "2022-02-22T05:35:21.595Z"
   },
   {
    "duration": 30,
    "start_time": "2022-02-22T05:35:29.394Z"
   },
   {
    "duration": 3,
    "start_time": "2022-02-22T05:35:38.156Z"
   },
   {
    "duration": 93,
    "start_time": "2022-02-22T05:35:38.161Z"
   },
   {
    "duration": 24,
    "start_time": "2022-02-22T05:35:38.419Z"
   },
   {
    "duration": 23,
    "start_time": "2022-02-22T05:35:39.466Z"
   },
   {
    "duration": 4,
    "start_time": "2022-02-22T05:35:42.468Z"
   },
   {
    "duration": 9,
    "start_time": "2022-02-22T05:35:43.319Z"
   },
   {
    "duration": 5,
    "start_time": "2022-02-22T05:35:43.994Z"
   },
   {
    "duration": 22,
    "start_time": "2022-02-22T05:35:45.077Z"
   },
   {
    "duration": 6,
    "start_time": "2022-02-22T05:35:47.628Z"
   },
   {
    "duration": 12,
    "start_time": "2022-02-22T05:35:48.231Z"
   },
   {
    "duration": 7,
    "start_time": "2022-02-22T05:35:48.663Z"
   },
   {
    "duration": 7,
    "start_time": "2022-02-22T05:35:48.932Z"
   },
   {
    "duration": 382,
    "start_time": "2022-02-22T05:35:55.529Z"
   },
   {
    "duration": 9,
    "start_time": "2022-02-22T05:36:07.891Z"
   },
   {
    "duration": 4,
    "start_time": "2022-02-22T05:36:18.414Z"
   },
   {
    "duration": 6,
    "start_time": "2022-02-22T05:36:19.470Z"
   },
   {
    "duration": 20,
    "start_time": "2022-02-22T05:36:55.810Z"
   },
   {
    "duration": 5,
    "start_time": "2022-02-22T05:37:32.500Z"
   },
   {
    "duration": 5,
    "start_time": "2022-02-22T05:37:32.826Z"
   },
   {
    "duration": 19,
    "start_time": "2022-02-22T05:48:02.295Z"
   },
   {
    "duration": 18,
    "start_time": "2022-02-22T05:49:00.263Z"
   },
   {
    "duration": 11,
    "start_time": "2022-02-22T05:50:44.024Z"
   },
   {
    "duration": 54,
    "start_time": "2022-02-22T05:50:46.973Z"
   },
   {
    "duration": 309,
    "start_time": "2022-02-22T05:51:09.773Z"
   },
   {
    "duration": 18,
    "start_time": "2022-02-22T05:51:14.386Z"
   },
   {
    "duration": 752,
    "start_time": "2022-02-22T05:59:32.477Z"
   },
   {
    "duration": 10,
    "start_time": "2022-02-22T05:59:38.041Z"
   },
   {
    "duration": 13,
    "start_time": "2022-02-22T05:59:48.973Z"
   },
   {
    "duration": 4,
    "start_time": "2022-02-22T05:59:55.148Z"
   },
   {
    "duration": 6,
    "start_time": "2022-02-22T06:00:09.731Z"
   },
   {
    "duration": 5,
    "start_time": "2022-02-22T06:01:20.535Z"
   },
   {
    "duration": 6,
    "start_time": "2022-02-22T06:01:21.983Z"
   },
   {
    "duration": 21,
    "start_time": "2022-02-22T06:01:32.012Z"
   },
   {
    "duration": 8,
    "start_time": "2022-02-22T06:01:56.417Z"
   },
   {
    "duration": 5,
    "start_time": "2022-02-22T06:34:08.429Z"
   },
   {
    "duration": 329,
    "start_time": "2022-02-25T05:08:58.248Z"
   },
   {
    "duration": 846,
    "start_time": "2022-02-25T05:09:04.487Z"
   },
   {
    "duration": 125,
    "start_time": "2022-02-25T05:09:05.336Z"
   },
   {
    "duration": 47,
    "start_time": "2022-02-25T05:09:05.463Z"
   },
   {
    "duration": 32,
    "start_time": "2022-02-25T05:09:05.680Z"
   },
   {
    "duration": 6,
    "start_time": "2022-02-25T05:09:07.253Z"
   },
   {
    "duration": 16,
    "start_time": "2022-02-25T05:09:07.657Z"
   },
   {
    "duration": 6,
    "start_time": "2022-02-25T05:09:08.080Z"
   },
   {
    "duration": 27,
    "start_time": "2022-02-25T05:09:08.715Z"
   },
   {
    "duration": 8,
    "start_time": "2022-02-25T05:09:09.097Z"
   },
   {
    "duration": 15,
    "start_time": "2022-02-25T05:09:09.516Z"
   },
   {
    "duration": 14,
    "start_time": "2022-02-25T05:09:09.709Z"
   },
   {
    "duration": 9,
    "start_time": "2022-02-25T05:09:09.907Z"
   },
   {
    "duration": 7,
    "start_time": "2022-02-25T05:09:10.768Z"
   },
   {
    "duration": 6,
    "start_time": "2022-02-25T05:09:10.942Z"
   },
   {
    "duration": 7,
    "start_time": "2022-02-25T05:09:11.344Z"
   },
   {
    "duration": 15,
    "start_time": "2022-02-25T05:09:11.562Z"
   },
   {
    "duration": 5,
    "start_time": "2022-02-25T05:09:11.806Z"
   },
   {
    "duration": 7,
    "start_time": "2022-02-25T05:09:12.342Z"
   },
   {
    "duration": 9,
    "start_time": "2022-02-25T05:09:13.542Z"
   },
   {
    "duration": 8,
    "start_time": "2022-02-25T05:18:50.703Z"
   },
   {
    "duration": 296,
    "start_time": "2022-02-25T06:11:57.432Z"
   },
   {
    "duration": 959,
    "start_time": "2022-02-25T06:12:18.944Z"
   },
   {
    "duration": 5,
    "start_time": "2022-02-25T06:15:11.568Z"
   },
   {
    "duration": 15,
    "start_time": "2022-02-25T06:15:30.196Z"
   },
   {
    "duration": 15,
    "start_time": "2022-02-25T06:15:54.692Z"
   },
   {
    "duration": 9,
    "start_time": "2022-02-25T06:15:57.728Z"
   },
   {
    "duration": 7,
    "start_time": "2022-02-25T06:16:44.424Z"
   },
   {
    "duration": 7,
    "start_time": "2022-02-25T06:17:16.748Z"
   },
   {
    "duration": 6,
    "start_time": "2022-02-25T06:18:15.477Z"
   },
   {
    "duration": 4,
    "start_time": "2022-02-25T06:25:06.187Z"
   },
   {
    "duration": 4,
    "start_time": "2022-02-25T06:25:12.547Z"
   },
   {
    "duration": -153,
    "start_time": "2022-02-25T06:25:53.389Z"
   },
   {
    "duration": -156,
    "start_time": "2022-02-25T06:25:53.394Z"
   },
   {
    "duration": 6,
    "start_time": "2022-02-25T06:25:59.984Z"
   },
   {
    "duration": -168,
    "start_time": "2022-02-25T06:26:10.076Z"
   },
   {
    "duration": 15,
    "start_time": "2022-02-25T06:26:13.067Z"
   },
   {
    "duration": 20,
    "start_time": "2022-02-25T06:27:05.237Z"
   },
   {
    "duration": 3,
    "start_time": "2022-02-25T06:27:29.500Z"
   },
   {
    "duration": 6,
    "start_time": "2022-02-25T06:27:40.271Z"
   },
   {
    "duration": 8,
    "start_time": "2022-02-25T06:30:44.972Z"
   },
   {
    "duration": 8,
    "start_time": "2022-02-25T06:32:00.455Z"
   },
   {
    "duration": 7,
    "start_time": "2022-02-25T06:35:25.595Z"
   },
   {
    "duration": 8,
    "start_time": "2022-02-25T06:36:17.828Z"
   },
   {
    "duration": 11,
    "start_time": "2022-02-25T06:42:12.776Z"
   },
   {
    "duration": 6,
    "start_time": "2022-02-25T06:42:41.160Z"
   },
   {
    "duration": 21,
    "start_time": "2022-02-25T06:45:23.435Z"
   },
   {
    "duration": 308,
    "start_time": "2022-02-28T05:09:34.479Z"
   },
   {
    "duration": 563,
    "start_time": "2022-02-28T05:09:43.412Z"
   },
   {
    "duration": 87,
    "start_time": "2022-02-28T05:09:43.976Z"
   },
   {
    "duration": 24,
    "start_time": "2022-02-28T05:09:44.065Z"
   },
   {
    "duration": 19,
    "start_time": "2022-02-28T05:09:44.856Z"
   },
   {
    "duration": 4,
    "start_time": "2022-02-28T05:09:46.587Z"
   },
   {
    "duration": 13,
    "start_time": "2022-02-28T05:09:47.225Z"
   },
   {
    "duration": 4,
    "start_time": "2022-02-28T05:09:47.534Z"
   },
   {
    "duration": 17,
    "start_time": "2022-02-28T05:09:48.198Z"
   },
   {
    "duration": 5,
    "start_time": "2022-02-28T05:09:48.640Z"
   },
   {
    "duration": 11,
    "start_time": "2022-02-28T05:09:49.056Z"
   },
   {
    "duration": 8,
    "start_time": "2022-02-28T05:09:49.278Z"
   },
   {
    "duration": 6,
    "start_time": "2022-02-28T05:09:49.530Z"
   },
   {
    "duration": 4,
    "start_time": "2022-02-28T05:09:50.402Z"
   },
   {
    "duration": 4,
    "start_time": "2022-02-28T05:09:50.595Z"
   },
   {
    "duration": 5,
    "start_time": "2022-02-28T05:09:51.012Z"
   },
   {
    "duration": 9,
    "start_time": "2022-02-28T05:09:51.218Z"
   },
   {
    "duration": 3,
    "start_time": "2022-02-28T05:09:51.433Z"
   },
   {
    "duration": 5,
    "start_time": "2022-02-28T05:09:51.638Z"
   },
   {
    "duration": 10,
    "start_time": "2022-02-28T05:09:53.554Z"
   },
   {
    "duration": 9,
    "start_time": "2022-02-28T05:09:53.749Z"
   },
   {
    "duration": 9,
    "start_time": "2022-02-28T05:09:53.945Z"
   },
   {
    "duration": 5,
    "start_time": "2022-02-28T05:09:54.141Z"
   },
   {
    "duration": 3,
    "start_time": "2022-02-28T05:09:54.604Z"
   },
   {
    "duration": 8,
    "start_time": "2022-02-28T05:09:54.822Z"
   },
   {
    "duration": 12,
    "start_time": "2022-02-28T05:09:55.207Z"
   },
   {
    "duration": 4,
    "start_time": "2022-02-28T05:09:55.416Z"
   },
   {
    "duration": 5,
    "start_time": "2022-02-28T05:09:55.873Z"
   },
   {
    "duration": 4,
    "start_time": "2022-02-28T05:09:56.316Z"
   },
   {
    "duration": 7,
    "start_time": "2022-02-28T05:09:56.941Z"
   },
   {
    "duration": 4,
    "start_time": "2022-02-28T05:09:57.146Z"
   },
   {
    "duration": 14,
    "start_time": "2022-02-28T05:09:57.343Z"
   },
   {
    "duration": 10,
    "start_time": "2022-02-28T05:09:58.316Z"
   },
   {
    "duration": 3,
    "start_time": "2022-02-28T05:09:58.541Z"
   },
   {
    "duration": 5,
    "start_time": "2022-02-28T05:09:58.927Z"
   },
   {
    "duration": 10,
    "start_time": "2022-02-28T05:09:59.410Z"
   },
   {
    "duration": 15,
    "start_time": "2022-02-28T05:09:59.573Z"
   },
   {
    "duration": 6,
    "start_time": "2022-02-28T05:10:00.887Z"
   },
   {
    "duration": 15,
    "start_time": "2022-02-28T05:10:01.745Z"
   },
   {
    "duration": 14,
    "start_time": "2022-02-28T05:10:01.988Z"
   },
   {
    "duration": 13,
    "start_time": "2022-02-28T05:10:02.369Z"
   },
   {
    "duration": 13,
    "start_time": "2022-02-28T05:10:02.621Z"
   },
   {
    "duration": 30,
    "start_time": "2022-02-28T05:10:03.232Z"
   },
   {
    "duration": 8,
    "start_time": "2022-02-28T05:34:43.908Z"
   },
   {
    "duration": 22,
    "start_time": "2022-02-28T05:35:00.932Z"
   },
   {
    "duration": 6,
    "start_time": "2022-02-28T05:44:08.985Z"
   },
   {
    "duration": 5,
    "start_time": "2022-02-28T05:44:49.548Z"
   },
   {
    "duration": 6,
    "start_time": "2022-02-28T05:45:03.537Z"
   },
   {
    "duration": 19,
    "start_time": "2022-02-28T05:45:17.537Z"
   },
   {
    "duration": 284,
    "start_time": "2022-02-28T05:54:52.686Z"
   },
   {
    "duration": 2602,
    "start_time": "2022-02-28T05:55:36.877Z"
   },
   {
    "duration": 5079,
    "start_time": "2022-02-28T05:57:30.600Z"
   },
   {
    "duration": 863,
    "start_time": "2022-02-28T05:58:47.052Z"
   },
   {
    "duration": 656,
    "start_time": "2022-02-28T05:58:53.235Z"
   },
   {
    "duration": 617,
    "start_time": "2022-02-28T06:00:30.876Z"
   },
   {
    "duration": 613,
    "start_time": "2022-02-28T06:17:58.005Z"
   },
   {
    "duration": 725,
    "start_time": "2022-02-28T06:19:26.393Z"
   },
   {
    "duration": 541,
    "start_time": "2022-02-28T06:19:37.315Z"
   },
   {
    "duration": 4,
    "start_time": "2022-02-28T06:22:57.793Z"
   },
   {
    "duration": 4,
    "start_time": "2022-02-28T06:22:59.061Z"
   },
   {
    "duration": 15,
    "start_time": "2022-02-28T06:22:59.545Z"
   },
   {
    "duration": 4,
    "start_time": "2022-02-28T06:23:23.227Z"
   },
   {
    "duration": 3,
    "start_time": "2022-02-28T06:23:24.237Z"
   },
   {
    "duration": 17,
    "start_time": "2022-02-28T06:23:24.494Z"
   },
   {
    "duration": 505,
    "start_time": "2022-02-28T06:23:32.618Z"
   },
   {
    "duration": 3,
    "start_time": "2022-02-28T06:24:16.509Z"
   },
   {
    "duration": 4,
    "start_time": "2022-02-28T06:24:17.545Z"
   },
   {
    "duration": 15,
    "start_time": "2022-02-28T06:24:18.025Z"
   },
   {
    "duration": 2,
    "start_time": "2022-02-28T06:25:10.428Z"
   },
   {
    "duration": 87,
    "start_time": "2022-02-28T06:25:10.646Z"
   },
   {
    "duration": 20,
    "start_time": "2022-02-28T06:25:10.902Z"
   },
   {
    "duration": 19,
    "start_time": "2022-02-28T06:25:11.341Z"
   },
   {
    "duration": 4,
    "start_time": "2022-02-28T06:25:13.401Z"
   },
   {
    "duration": 8,
    "start_time": "2022-02-28T06:25:14.006Z"
   },
   {
    "duration": 4,
    "start_time": "2022-02-28T06:25:14.546Z"
   },
   {
    "duration": 18,
    "start_time": "2022-02-28T06:25:15.335Z"
   },
   {
    "duration": 5,
    "start_time": "2022-02-28T06:25:15.904Z"
   },
   {
    "duration": 8,
    "start_time": "2022-02-28T06:25:16.704Z"
   },
   {
    "duration": 6,
    "start_time": "2022-02-28T06:25:17.055Z"
   },
   {
    "duration": 6,
    "start_time": "2022-02-28T06:25:17.332Z"
   },
   {
    "duration": 4,
    "start_time": "2022-02-28T06:25:18.847Z"
   },
   {
    "duration": 4,
    "start_time": "2022-02-28T06:25:19.160Z"
   },
   {
    "duration": 5,
    "start_time": "2022-02-28T06:25:19.792Z"
   },
   {
    "duration": 7,
    "start_time": "2022-02-28T06:25:20.123Z"
   },
   {
    "duration": 4,
    "start_time": "2022-02-28T06:25:20.487Z"
   },
   {
    "duration": 6,
    "start_time": "2022-02-28T06:25:20.774Z"
   },
   {
    "duration": 9,
    "start_time": "2022-02-28T06:25:22.586Z"
   },
   {
    "duration": 9,
    "start_time": "2022-02-28T06:25:22.789Z"
   },
   {
    "duration": 9,
    "start_time": "2022-02-28T06:25:22.985Z"
   },
   {
    "duration": 5,
    "start_time": "2022-02-28T06:25:23.186Z"
   },
   {
    "duration": 3,
    "start_time": "2022-02-28T06:25:23.574Z"
   },
   {
    "duration": 8,
    "start_time": "2022-02-28T06:25:23.968Z"
   },
   {
    "duration": 12,
    "start_time": "2022-02-28T06:25:24.212Z"
   },
   {
    "duration": 4,
    "start_time": "2022-02-28T06:25:24.605Z"
   },
   {
    "duration": 5,
    "start_time": "2022-02-28T06:25:25.021Z"
   },
   {
    "duration": 5,
    "start_time": "2022-02-28T06:25:25.526Z"
   },
   {
    "duration": 7,
    "start_time": "2022-02-28T06:25:26.290Z"
   },
   {
    "duration": 4,
    "start_time": "2022-02-28T06:25:26.593Z"
   },
   {
    "duration": 14,
    "start_time": "2022-02-28T06:25:26.849Z"
   },
   {
    "duration": 9,
    "start_time": "2022-02-28T06:25:27.863Z"
   },
   {
    "duration": 4,
    "start_time": "2022-02-28T06:25:28.113Z"
   },
   {
    "duration": 290,
    "start_time": "2022-02-28T06:25:28.232Z"
   },
   {
    "duration": 10,
    "start_time": "2022-02-28T06:25:28.707Z"
   },
   {
    "duration": 10,
    "start_time": "2022-02-28T06:25:49.921Z"
   },
   {
    "duration": 4,
    "start_time": "2022-02-28T06:25:51.757Z"
   },
   {
    "duration": 17,
    "start_time": "2022-02-28T06:25:52.008Z"
   },
   {
    "duration": 8,
    "start_time": "2022-02-28T06:25:57.766Z"
   },
   {
    "duration": 19,
    "start_time": "2022-02-28T06:25:58.298Z"
   },
   {
    "duration": 6,
    "start_time": "2022-02-28T06:25:59.269Z"
   },
   {
    "duration": 13,
    "start_time": "2022-02-28T06:25:59.840Z"
   },
   {
    "duration": 13,
    "start_time": "2022-02-28T06:26:00.022Z"
   },
   {
    "duration": 14,
    "start_time": "2022-02-28T06:26:00.202Z"
   },
   {
    "duration": 14,
    "start_time": "2022-02-28T06:26:00.396Z"
   },
   {
    "duration": 31,
    "start_time": "2022-02-28T06:26:00.845Z"
   },
   {
    "duration": 7208,
    "start_time": "2022-02-28T06:26:01.782Z"
   },
   {
    "duration": 435,
    "start_time": "2022-02-28T06:26:08.558Z"
   },
   {
    "duration": 434,
    "start_time": "2022-02-28T06:26:08.560Z"
   },
   {
    "duration": 433,
    "start_time": "2022-02-28T06:26:08.562Z"
   },
   {
    "duration": 430,
    "start_time": "2022-02-28T06:26:08.565Z"
   },
   {
    "duration": 429,
    "start_time": "2022-02-28T06:26:08.567Z"
   },
   {
    "duration": 7,
    "start_time": "2022-02-28T06:26:16.433Z"
   },
   {
    "duration": 6,
    "start_time": "2022-02-28T06:26:16.940Z"
   },
   {
    "duration": 5,
    "start_time": "2022-02-28T06:26:17.369Z"
   },
   {
    "duration": 20,
    "start_time": "2022-02-28T06:26:17.756Z"
   },
   {
    "duration": 511,
    "start_time": "2022-02-28T06:26:19.478Z"
   },
   {
    "duration": 4,
    "start_time": "2022-02-28T06:27:46.695Z"
   },
   {
    "duration": 19,
    "start_time": "2022-02-28T06:27:54.710Z"
   },
   {
    "duration": 6,
    "start_time": "2022-02-28T06:28:45.064Z"
   },
   {
    "duration": 19,
    "start_time": "2022-02-28T06:28:49.939Z"
   },
   {
    "duration": 19,
    "start_time": "2022-02-28T06:29:14.891Z"
   },
   {
    "duration": 3,
    "start_time": "2022-02-28T06:30:46.369Z"
   },
   {
    "duration": 4,
    "start_time": "2022-02-28T06:31:35.228Z"
   },
   {
    "duration": 19,
    "start_time": "2022-02-28T06:31:36.459Z"
   },
   {
    "duration": 4,
    "start_time": "2022-02-28T06:31:59.973Z"
   },
   {
    "duration": 21,
    "start_time": "2022-02-28T06:32:12.407Z"
   },
   {
    "duration": 3,
    "start_time": "2022-02-28T06:32:44.722Z"
   },
   {
    "duration": 3,
    "start_time": "2022-02-28T06:33:04.362Z"
   },
   {
    "duration": 281,
    "start_time": "2022-02-28T06:33:07.787Z"
   },
   {
    "duration": 3,
    "start_time": "2022-02-28T06:37:16.424Z"
   },
   {
    "duration": 26,
    "start_time": "2022-02-28T06:37:29.043Z"
   },
   {
    "duration": 528,
    "start_time": "2022-03-01T05:39:34.985Z"
   },
   {
    "duration": 83,
    "start_time": "2022-03-01T05:39:35.514Z"
   },
   {
    "duration": 35,
    "start_time": "2022-03-01T05:39:35.599Z"
   },
   {
    "duration": 21,
    "start_time": "2022-03-01T05:39:35.637Z"
   },
   {
    "duration": 5,
    "start_time": "2022-03-01T05:39:35.660Z"
   },
   {
    "duration": 16,
    "start_time": "2022-03-01T05:39:35.667Z"
   },
   {
    "duration": 4,
    "start_time": "2022-03-01T05:39:35.685Z"
   },
   {
    "duration": 19,
    "start_time": "2022-03-01T05:39:35.733Z"
   },
   {
    "duration": 6,
    "start_time": "2022-03-01T05:39:35.755Z"
   },
   {
    "duration": 14,
    "start_time": "2022-03-01T05:39:35.762Z"
   },
   {
    "duration": 8,
    "start_time": "2022-03-01T05:39:35.778Z"
   },
   {
    "duration": 7,
    "start_time": "2022-03-01T05:39:35.788Z"
   },
   {
    "duration": 6,
    "start_time": "2022-03-01T05:39:35.797Z"
   },
   {
    "duration": 30,
    "start_time": "2022-03-01T05:39:35.804Z"
   },
   {
    "duration": 5,
    "start_time": "2022-03-01T05:39:35.835Z"
   },
   {
    "duration": 13,
    "start_time": "2022-03-01T05:39:35.841Z"
   },
   {
    "duration": 3,
    "start_time": "2022-03-01T05:39:35.856Z"
   },
   {
    "duration": 8,
    "start_time": "2022-03-01T05:39:35.860Z"
   },
   {
    "duration": 9,
    "start_time": "2022-03-01T05:39:35.870Z"
   },
   {
    "duration": 9,
    "start_time": "2022-03-01T05:39:35.881Z"
   },
   {
    "duration": 9,
    "start_time": "2022-03-01T05:39:35.891Z"
   },
   {
    "duration": 34,
    "start_time": "2022-03-01T05:39:35.902Z"
   },
   {
    "duration": 3,
    "start_time": "2022-03-01T05:39:35.939Z"
   },
   {
    "duration": 15,
    "start_time": "2022-03-01T05:39:35.944Z"
   },
   {
    "duration": 19,
    "start_time": "2022-03-01T05:39:35.960Z"
   },
   {
    "duration": 9,
    "start_time": "2022-03-01T05:39:35.981Z"
   },
   {
    "duration": 6,
    "start_time": "2022-03-01T05:39:35.991Z"
   },
   {
    "duration": 5,
    "start_time": "2022-03-01T05:39:35.999Z"
   },
   {
    "duration": 28,
    "start_time": "2022-03-01T05:39:36.005Z"
   },
   {
    "duration": 8,
    "start_time": "2022-03-01T05:39:36.035Z"
   },
   {
    "duration": 26,
    "start_time": "2022-03-01T05:39:36.045Z"
   },
   {
    "duration": 12,
    "start_time": "2022-03-01T05:39:36.072Z"
   },
   {
    "duration": 5,
    "start_time": "2022-03-01T05:39:36.085Z"
   },
   {
    "duration": 12,
    "start_time": "2022-03-01T05:39:36.091Z"
   },
   {
    "duration": 12,
    "start_time": "2022-03-01T05:39:36.105Z"
   },
   {
    "duration": 27,
    "start_time": "2022-03-01T05:39:36.118Z"
   },
   {
    "duration": 9,
    "start_time": "2022-03-01T05:39:36.146Z"
   },
   {
    "duration": 26,
    "start_time": "2022-03-01T05:39:36.157Z"
   },
   {
    "duration": 6,
    "start_time": "2022-03-01T05:39:36.185Z"
   },
   {
    "duration": 19,
    "start_time": "2022-03-01T05:39:36.192Z"
   },
   {
    "duration": 15,
    "start_time": "2022-03-01T05:39:36.232Z"
   },
   {
    "duration": 23,
    "start_time": "2022-03-01T05:39:36.248Z"
   },
   {
    "duration": 22,
    "start_time": "2022-03-01T05:39:36.272Z"
   },
   {
    "duration": 45,
    "start_time": "2022-03-01T05:39:36.295Z"
   },
   {
    "duration": 4,
    "start_time": "2022-03-01T05:39:36.341Z"
   },
   {
    "duration": 24,
    "start_time": "2022-03-01T05:39:36.347Z"
   },
   {
    "duration": 6,
    "start_time": "2022-03-01T05:39:36.373Z"
   },
   {
    "duration": 9,
    "start_time": "2022-03-01T05:39:36.380Z"
   },
   {
    "duration": 11,
    "start_time": "2022-03-01T05:39:36.390Z"
   },
   {
    "duration": 39,
    "start_time": "2022-03-01T05:39:36.402Z"
   },
   {
    "duration": 550,
    "start_time": "2022-03-01T05:39:36.443Z"
   },
   {
    "duration": 3,
    "start_time": "2022-03-01T05:39:36.995Z"
   },
   {
    "duration": 11,
    "start_time": "2022-03-01T05:39:36.999Z"
   },
   {
    "duration": 30,
    "start_time": "2022-03-01T05:39:37.012Z"
   },
   {
    "duration": 3,
    "start_time": "2022-03-01T05:39:37.044Z"
   },
   {
    "duration": 26,
    "start_time": "2022-03-01T05:39:37.049Z"
   },
   {
    "duration": 3,
    "start_time": "2022-03-01T05:40:31.651Z"
   },
   {
    "duration": 22,
    "start_time": "2022-03-01T05:40:32.232Z"
   },
   {
    "duration": 259,
    "start_time": "2022-03-01T05:54:25.325Z"
   },
   {
    "duration": 155,
    "start_time": "2022-03-01T05:54:37.471Z"
   },
   {
    "duration": 4,
    "start_time": "2022-03-01T05:55:44.730Z"
   },
   {
    "duration": 22,
    "start_time": "2022-03-01T05:55:45.700Z"
   },
   {
    "duration": 229,
    "start_time": "2022-03-01T05:56:19.095Z"
   },
   {
    "duration": 5,
    "start_time": "2022-03-01T05:56:40.462Z"
   },
   {
    "duration": 22,
    "start_time": "2022-03-01T05:56:42.080Z"
   },
   {
    "duration": 170,
    "start_time": "2022-03-01T05:56:52.499Z"
   },
   {
    "duration": 184,
    "start_time": "2022-03-01T05:58:24.126Z"
   },
   {
    "duration": 182,
    "start_time": "2022-03-01T06:00:01.354Z"
   },
   {
    "duration": 186,
    "start_time": "2022-03-01T06:00:50.229Z"
   },
   {
    "duration": 201,
    "start_time": "2022-03-01T06:01:00.315Z"
   },
   {
    "duration": 194,
    "start_time": "2022-03-01T06:01:08.640Z"
   },
   {
    "duration": 189,
    "start_time": "2022-03-01T06:01:17.968Z"
   },
   {
    "duration": 189,
    "start_time": "2022-03-01T06:01:52.149Z"
   },
   {
    "duration": 174,
    "start_time": "2022-03-01T06:27:07.394Z"
   },
   {
    "duration": 236,
    "start_time": "2022-03-01T06:27:13.507Z"
   },
   {
    "duration": 166,
    "start_time": "2022-03-01T06:28:13.153Z"
   },
   {
    "duration": 168,
    "start_time": "2022-03-01T06:28:39.070Z"
   },
   {
    "duration": 2,
    "start_time": "2022-03-01T06:30:51.684Z"
   },
   {
    "duration": 3,
    "start_time": "2022-03-01T06:30:55.559Z"
   },
   {
    "duration": 155,
    "start_time": "2022-03-01T06:31:12.699Z"
   },
   {
    "duration": 291,
    "start_time": "2022-03-02T05:29:35.692Z"
   },
   {
    "duration": 843,
    "start_time": "2022-03-02T05:29:44.037Z"
   },
   {
    "duration": 103,
    "start_time": "2022-03-02T05:29:44.882Z"
   },
   {
    "duration": 41,
    "start_time": "2022-03-02T05:29:44.988Z"
   },
   {
    "duration": 47,
    "start_time": "2022-03-02T05:29:45.032Z"
   },
   {
    "duration": 28,
    "start_time": "2022-03-02T05:29:45.081Z"
   },
   {
    "duration": 33,
    "start_time": "2022-03-02T05:29:45.112Z"
   },
   {
    "duration": 5,
    "start_time": "2022-03-02T05:29:45.147Z"
   },
   {
    "duration": 34,
    "start_time": "2022-03-02T05:29:45.155Z"
   },
   {
    "duration": 7,
    "start_time": "2022-03-02T05:29:45.193Z"
   },
   {
    "duration": 39,
    "start_time": "2022-03-02T05:29:45.203Z"
   },
   {
    "duration": 52,
    "start_time": "2022-03-02T05:29:45.244Z"
   },
   {
    "duration": 9,
    "start_time": "2022-03-02T05:29:45.298Z"
   },
   {
    "duration": 14,
    "start_time": "2022-03-02T05:29:45.309Z"
   },
   {
    "duration": 14,
    "start_time": "2022-03-02T05:29:45.326Z"
   },
   {
    "duration": 20,
    "start_time": "2022-03-02T05:29:45.342Z"
   },
   {
    "duration": 25,
    "start_time": "2022-03-02T05:29:45.364Z"
   },
   {
    "duration": 14,
    "start_time": "2022-03-02T05:29:45.391Z"
   },
   {
    "duration": 25,
    "start_time": "2022-03-02T05:29:45.407Z"
   },
   {
    "duration": 17,
    "start_time": "2022-03-02T05:29:45.435Z"
   },
   {
    "duration": 21,
    "start_time": "2022-03-02T05:29:45.454Z"
   },
   {
    "duration": 14,
    "start_time": "2022-03-02T05:29:45.478Z"
   },
   {
    "duration": 9,
    "start_time": "2022-03-02T05:29:45.495Z"
   },
   {
    "duration": 16,
    "start_time": "2022-03-02T05:29:45.506Z"
   },
   {
    "duration": 31,
    "start_time": "2022-03-02T05:29:45.524Z"
   },
   {
    "duration": 21,
    "start_time": "2022-03-02T05:29:45.557Z"
   },
   {
    "duration": 5,
    "start_time": "2022-03-02T05:29:45.580Z"
   },
   {
    "duration": 7,
    "start_time": "2022-03-02T05:29:45.591Z"
   },
   {
    "duration": 6,
    "start_time": "2022-03-02T05:29:45.601Z"
   },
   {
    "duration": 50,
    "start_time": "2022-03-02T05:29:45.609Z"
   },
   {
    "duration": 5,
    "start_time": "2022-03-02T05:29:45.662Z"
   },
   {
    "duration": 24,
    "start_time": "2022-03-02T05:29:45.670Z"
   },
   {
    "duration": 17,
    "start_time": "2022-03-02T05:29:45.697Z"
   },
   {
    "duration": 5,
    "start_time": "2022-03-02T05:29:45.752Z"
   },
   {
    "duration": 16,
    "start_time": "2022-03-02T05:29:45.759Z"
   },
   {
    "duration": 14,
    "start_time": "2022-03-02T05:29:45.778Z"
   },
   {
    "duration": 22,
    "start_time": "2022-03-02T05:29:45.794Z"
   },
   {
    "duration": 40,
    "start_time": "2022-03-02T05:29:45.819Z"
   },
   {
    "duration": 34,
    "start_time": "2022-03-02T05:29:45.862Z"
   },
   {
    "duration": 8,
    "start_time": "2022-03-02T05:29:45.898Z"
   },
   {
    "duration": 58,
    "start_time": "2022-03-02T05:29:45.908Z"
   },
   {
    "duration": 20,
    "start_time": "2022-03-02T05:29:45.969Z"
   },
   {
    "duration": 22,
    "start_time": "2022-03-02T05:29:45.991Z"
   },
   {
    "duration": 38,
    "start_time": "2022-03-02T05:29:46.016Z"
   },
   {
    "duration": 47,
    "start_time": "2022-03-02T05:29:46.056Z"
   },
   {
    "duration": 6,
    "start_time": "2022-03-02T05:29:46.106Z"
   },
   {
    "duration": 58,
    "start_time": "2022-03-02T05:29:46.114Z"
   },
   {
    "duration": 8,
    "start_time": "2022-03-02T05:29:46.174Z"
   },
   {
    "duration": 7,
    "start_time": "2022-03-02T05:29:46.184Z"
   },
   {
    "duration": 8,
    "start_time": "2022-03-02T05:29:46.193Z"
   },
   {
    "duration": 65,
    "start_time": "2022-03-02T05:29:46.203Z"
   },
   {
    "duration": 934,
    "start_time": "2022-03-02T05:29:46.271Z"
   },
   {
    "duration": 5,
    "start_time": "2022-03-02T05:29:47.207Z"
   },
   {
    "duration": 10,
    "start_time": "2022-03-02T05:29:47.214Z"
   },
   {
    "duration": 52,
    "start_time": "2022-03-02T05:29:47.226Z"
   },
   {
    "duration": 5,
    "start_time": "2022-03-02T05:29:47.281Z"
   },
   {
    "duration": 6,
    "start_time": "2022-03-02T05:29:47.288Z"
   },
   {
    "duration": 31,
    "start_time": "2022-03-02T05:29:47.296Z"
   },
   {
    "duration": 333,
    "start_time": "2022-03-02T05:29:47.352Z"
   },
   {
    "duration": 298,
    "start_time": "2022-03-02T05:29:47.688Z"
   },
   {
    "duration": 328,
    "start_time": "2022-03-02T05:29:47.989Z"
   },
   {
    "duration": 306,
    "start_time": "2022-03-02T05:29:48.320Z"
   },
   {
    "duration": 301,
    "start_time": "2022-03-02T05:30:17.470Z"
   },
   {
    "duration": 541,
    "start_time": "2022-03-02T05:45:50.052Z"
   },
   {
    "duration": 519,
    "start_time": "2022-03-02T05:46:07.312Z"
   },
   {
    "duration": 534,
    "start_time": "2022-03-02T05:46:12.397Z"
   },
   {
    "duration": 569,
    "start_time": "2022-03-02T05:46:18.352Z"
   },
   {
    "duration": 1220,
    "start_time": "2022-03-02T05:51:26.593Z"
   },
   {
    "duration": 276,
    "start_time": "2022-03-02T05:51:58.882Z"
   },
   {
    "duration": 8,
    "start_time": "2022-03-02T05:54:11.215Z"
   },
   {
    "duration": 36,
    "start_time": "2022-03-02T05:54:12.323Z"
   },
   {
    "duration": 278,
    "start_time": "2022-03-02T05:54:28.535Z"
   },
   {
    "duration": 392,
    "start_time": "2022-03-02T05:54:58.945Z"
   },
   {
    "duration": 430,
    "start_time": "2022-03-02T05:55:17.228Z"
   },
   {
    "duration": 445,
    "start_time": "2022-03-02T05:55:32.684Z"
   },
   {
    "duration": 566,
    "start_time": "2022-03-02T05:55:43.998Z"
   },
   {
    "duration": 386,
    "start_time": "2022-03-02T05:55:55.014Z"
   },
   {
    "duration": 523,
    "start_time": "2022-03-02T05:56:17.300Z"
   },
   {
    "duration": 579,
    "start_time": "2022-03-02T05:56:25.028Z"
   },
   {
    "duration": 308,
    "start_time": "2022-03-02T05:58:01.113Z"
   },
   {
    "duration": 847,
    "start_time": "2022-03-02T05:58:06.713Z"
   },
   {
    "duration": 430,
    "start_time": "2022-03-02T05:58:19.176Z"
   },
   {
    "duration": 403,
    "start_time": "2022-03-02T06:02:57.089Z"
   },
   {
    "duration": 469,
    "start_time": "2022-03-02T06:03:13.184Z"
   },
   {
    "duration": 489,
    "start_time": "2022-03-02T06:13:06.605Z"
   },
   {
    "duration": 344,
    "start_time": "2022-03-02T06:13:23.636Z"
   },
   {
    "duration": 415,
    "start_time": "2022-03-02T06:13:29.303Z"
   },
   {
    "duration": 15,
    "start_time": "2022-03-02T06:17:15.105Z"
   },
   {
    "duration": 21,
    "start_time": "2022-03-02T06:18:10.232Z"
   },
   {
    "duration": 33,
    "start_time": "2022-03-02T06:18:19.163Z"
   },
   {
    "duration": 34,
    "start_time": "2022-03-02T06:20:47.501Z"
   },
   {
    "duration": 71,
    "start_time": "2022-03-02T06:24:18.870Z"
   },
   {
    "duration": 411,
    "start_time": "2022-03-02T06:24:19.335Z"
   },
   {
    "duration": 80,
    "start_time": "2022-03-02T06:25:49.143Z"
   },
   {
    "duration": 44,
    "start_time": "2022-03-02T06:28:35.100Z"
   },
   {
    "duration": 87,
    "start_time": "2022-03-02T06:29:08.528Z"
   },
   {
    "duration": 317,
    "start_time": "2022-03-02T06:29:43.335Z"
   },
   {
    "duration": 432,
    "start_time": "2022-03-02T06:48:26.752Z"
   },
   {
    "duration": 721,
    "start_time": "2022-03-07T14:35:56.949Z"
   },
   {
    "duration": 99,
    "start_time": "2022-03-07T14:35:57.671Z"
   },
   {
    "duration": 26,
    "start_time": "2022-03-07T14:35:57.772Z"
   },
   {
    "duration": 22,
    "start_time": "2022-03-07T14:35:57.800Z"
   },
   {
    "duration": 5,
    "start_time": "2022-03-07T14:35:57.823Z"
   },
   {
    "duration": 17,
    "start_time": "2022-03-07T14:35:57.829Z"
   },
   {
    "duration": 4,
    "start_time": "2022-03-07T14:35:57.848Z"
   },
   {
    "duration": 19,
    "start_time": "2022-03-07T14:35:57.879Z"
   },
   {
    "duration": 5,
    "start_time": "2022-03-07T14:35:57.901Z"
   },
   {
    "duration": 15,
    "start_time": "2022-03-07T14:35:57.908Z"
   },
   {
    "duration": 8,
    "start_time": "2022-03-07T14:35:57.925Z"
   },
   {
    "duration": 10,
    "start_time": "2022-03-07T14:35:57.934Z"
   },
   {
    "duration": 33,
    "start_time": "2022-03-07T14:35:57.946Z"
   },
   {
    "duration": 5,
    "start_time": "2022-03-07T14:35:57.980Z"
   },
   {
    "duration": 8,
    "start_time": "2022-03-07T14:35:57.987Z"
   },
   {
    "duration": 14,
    "start_time": "2022-03-07T14:35:57.996Z"
   },
   {
    "duration": 4,
    "start_time": "2022-03-07T14:35:58.011Z"
   },
   {
    "duration": 19,
    "start_time": "2022-03-07T14:35:58.017Z"
   },
   {
    "duration": 22,
    "start_time": "2022-03-07T14:35:58.038Z"
   },
   {
    "duration": 21,
    "start_time": "2022-03-07T14:35:58.061Z"
   },
   {
    "duration": 12,
    "start_time": "2022-03-07T14:35:58.084Z"
   },
   {
    "duration": 5,
    "start_time": "2022-03-07T14:35:58.098Z"
   },
   {
    "duration": 4,
    "start_time": "2022-03-07T14:35:58.108Z"
   },
   {
    "duration": 19,
    "start_time": "2022-03-07T14:35:58.114Z"
   },
   {
    "duration": 22,
    "start_time": "2022-03-07T14:35:58.134Z"
   },
   {
    "duration": 4,
    "start_time": "2022-03-07T14:35:58.177Z"
   },
   {
    "duration": 7,
    "start_time": "2022-03-07T14:35:58.183Z"
   },
   {
    "duration": 5,
    "start_time": "2022-03-07T14:35:58.192Z"
   },
   {
    "duration": 8,
    "start_time": "2022-03-07T14:35:58.199Z"
   },
   {
    "duration": 4,
    "start_time": "2022-03-07T14:35:58.208Z"
   },
   {
    "duration": 19,
    "start_time": "2022-03-07T14:35:58.214Z"
   },
   {
    "duration": 11,
    "start_time": "2022-03-07T14:35:58.234Z"
   },
   {
    "duration": 4,
    "start_time": "2022-03-07T14:35:58.278Z"
   },
   {
    "duration": 18,
    "start_time": "2022-03-07T14:35:58.284Z"
   },
   {
    "duration": 13,
    "start_time": "2022-03-07T14:35:58.304Z"
   },
   {
    "duration": 20,
    "start_time": "2022-03-07T14:35:58.319Z"
   },
   {
    "duration": 10,
    "start_time": "2022-03-07T14:35:58.341Z"
   },
   {
    "duration": 47,
    "start_time": "2022-03-07T14:35:58.353Z"
   },
   {
    "duration": 7,
    "start_time": "2022-03-07T14:35:58.402Z"
   },
   {
    "duration": 19,
    "start_time": "2022-03-07T14:35:58.411Z"
   },
   {
    "duration": 19,
    "start_time": "2022-03-07T14:35:58.432Z"
   },
   {
    "duration": 43,
    "start_time": "2022-03-07T14:35:58.453Z"
   },
   {
    "duration": 20,
    "start_time": "2022-03-07T14:35:58.498Z"
   },
   {
    "duration": 41,
    "start_time": "2022-03-07T14:35:58.520Z"
   },
   {
    "duration": 5,
    "start_time": "2022-03-07T14:35:58.562Z"
   },
   {
    "duration": 23,
    "start_time": "2022-03-07T14:35:58.577Z"
   },
   {
    "duration": 7,
    "start_time": "2022-03-07T14:35:58.602Z"
   },
   {
    "duration": 6,
    "start_time": "2022-03-07T14:35:58.611Z"
   },
   {
    "duration": 7,
    "start_time": "2022-03-07T14:35:58.618Z"
   },
   {
    "duration": 53,
    "start_time": "2022-03-07T14:35:58.626Z"
   },
   {
    "duration": 607,
    "start_time": "2022-03-07T14:35:58.681Z"
   },
   {
    "duration": 3,
    "start_time": "2022-03-07T14:35:59.290Z"
   },
   {
    "duration": 8,
    "start_time": "2022-03-07T14:35:59.295Z"
   },
   {
    "duration": 27,
    "start_time": "2022-03-07T14:35:59.305Z"
   },
   {
    "duration": 4,
    "start_time": "2022-03-07T14:35:59.333Z"
   },
   {
    "duration": 28,
    "start_time": "2022-03-07T14:35:59.338Z"
   },
   {
    "duration": 33,
    "start_time": "2022-03-07T14:35:59.368Z"
   },
   {
    "duration": 418,
    "start_time": "2022-03-07T14:35:59.403Z"
   },
   {
    "duration": 367,
    "start_time": "2022-03-07T14:35:59.823Z"
   },
   {
    "duration": 327,
    "start_time": "2022-03-07T14:36:00.192Z"
   },
   {
    "duration": 349,
    "start_time": "2022-03-07T14:36:00.521Z"
   },
   {
    "duration": 364,
    "start_time": "2022-03-07T14:46:27.365Z"
   },
   {
    "duration": 278,
    "start_time": "2022-03-07T15:00:04.190Z"
   },
   {
    "duration": 328,
    "start_time": "2022-03-07T15:00:47.062Z"
   },
   {
    "duration": 284,
    "start_time": "2022-03-07T15:00:53.638Z"
   },
   {
    "duration": 4,
    "start_time": "2022-03-07T15:01:17.616Z"
   },
   {
    "duration": 21,
    "start_time": "2022-03-07T15:01:37.149Z"
   },
   {
    "duration": 302,
    "start_time": "2022-03-07T15:02:02.541Z"
   },
   {
    "duration": 4,
    "start_time": "2022-03-07T15:06:29.590Z"
   },
   {
    "duration": 27,
    "start_time": "2022-03-07T15:06:34.197Z"
   },
   {
    "duration": 4,
    "start_time": "2022-03-07T15:11:26.908Z"
   },
   {
    "duration": 5,
    "start_time": "2022-03-07T15:12:02.837Z"
   },
   {
    "duration": 4,
    "start_time": "2022-03-07T15:12:26.467Z"
   },
   {
    "duration": 6,
    "start_time": "2022-03-07T15:12:38.960Z"
   },
   {
    "duration": 5,
    "start_time": "2022-03-07T15:12:53.267Z"
   },
   {
    "duration": 5,
    "start_time": "2022-03-07T15:15:18.751Z"
   },
   {
    "duration": 4,
    "start_time": "2022-03-07T15:15:25.632Z"
   },
   {
    "duration": 5,
    "start_time": "2022-03-07T15:17:07.612Z"
   },
   {
    "duration": 6,
    "start_time": "2022-03-07T15:17:18.687Z"
   },
   {
    "duration": 5,
    "start_time": "2022-03-07T15:17:35.048Z"
   },
   {
    "duration": 284,
    "start_time": "2022-03-07T15:18:11.182Z"
   },
   {
    "duration": 893,
    "start_time": "2022-03-07T15:18:53.690Z"
   },
   {
    "duration": 4,
    "start_time": "2022-03-07T15:19:11.543Z"
   },
   {
    "duration": 107,
    "start_time": "2022-03-07T15:19:11.549Z"
   },
   {
    "duration": 46,
    "start_time": "2022-03-07T15:19:11.658Z"
   },
   {
    "duration": 25,
    "start_time": "2022-03-07T15:19:11.706Z"
   },
   {
    "duration": 5,
    "start_time": "2022-03-07T15:19:11.734Z"
   },
   {
    "duration": 45,
    "start_time": "2022-03-07T15:19:11.742Z"
   },
   {
    "duration": 14,
    "start_time": "2022-03-07T15:19:11.790Z"
   },
   {
    "duration": 39,
    "start_time": "2022-03-07T15:19:11.807Z"
   },
   {
    "duration": 10,
    "start_time": "2022-03-07T15:19:11.850Z"
   },
   {
    "duration": 16,
    "start_time": "2022-03-07T15:19:11.876Z"
   },
   {
    "duration": 14,
    "start_time": "2022-03-07T15:19:11.894Z"
   },
   {
    "duration": 7,
    "start_time": "2022-03-07T15:19:11.910Z"
   },
   {
    "duration": 6,
    "start_time": "2022-03-07T15:19:11.920Z"
   },
   {
    "duration": 13,
    "start_time": "2022-03-07T15:19:11.928Z"
   },
   {
    "duration": 14,
    "start_time": "2022-03-07T15:19:11.942Z"
   },
   {
    "duration": 12,
    "start_time": "2022-03-07T15:19:11.978Z"
   },
   {
    "duration": 14,
    "start_time": "2022-03-07T15:19:11.992Z"
   },
   {
    "duration": 9,
    "start_time": "2022-03-07T15:19:12.008Z"
   },
   {
    "duration": 15,
    "start_time": "2022-03-07T15:19:12.019Z"
   },
   {
    "duration": 13,
    "start_time": "2022-03-07T15:19:12.036Z"
   },
   {
    "duration": 43,
    "start_time": "2022-03-07T15:19:12.051Z"
   },
   {
    "duration": 12,
    "start_time": "2022-03-07T15:19:12.099Z"
   },
   {
    "duration": 4,
    "start_time": "2022-03-07T15:19:12.114Z"
   },
   {
    "duration": 17,
    "start_time": "2022-03-07T15:19:12.120Z"
   },
   {
    "duration": 29,
    "start_time": "2022-03-07T15:19:12.140Z"
   },
   {
    "duration": 10,
    "start_time": "2022-03-07T15:19:12.172Z"
   },
   {
    "duration": 19,
    "start_time": "2022-03-07T15:19:12.189Z"
   },
   {
    "duration": 7,
    "start_time": "2022-03-07T15:19:12.211Z"
   },
   {
    "duration": 11,
    "start_time": "2022-03-07T15:19:12.219Z"
   },
   {
    "duration": 5,
    "start_time": "2022-03-07T15:19:12.232Z"
   },
   {
    "duration": 60,
    "start_time": "2022-03-07T15:19:12.239Z"
   },
   {
    "duration": 15,
    "start_time": "2022-03-07T15:19:12.301Z"
   },
   {
    "duration": 6,
    "start_time": "2022-03-07T15:19:12.318Z"
   },
   {
    "duration": 14,
    "start_time": "2022-03-07T15:19:12.325Z"
   },
   {
    "duration": 11,
    "start_time": "2022-03-07T15:19:12.341Z"
   },
   {
    "duration": 30,
    "start_time": "2022-03-07T15:19:12.354Z"
   },
   {
    "duration": 34,
    "start_time": "2022-03-07T15:19:12.386Z"
   },
   {
    "duration": 28,
    "start_time": "2022-03-07T15:19:12.422Z"
   },
   {
    "duration": 14,
    "start_time": "2022-03-07T15:19:12.453Z"
   },
   {
    "duration": 52,
    "start_time": "2022-03-07T15:19:12.470Z"
   },
   {
    "duration": 16,
    "start_time": "2022-03-07T15:19:12.524Z"
   },
   {
    "duration": 26,
    "start_time": "2022-03-07T15:19:12.542Z"
   },
   {
    "duration": 29,
    "start_time": "2022-03-07T15:19:12.571Z"
   },
   {
    "duration": 16,
    "start_time": "2022-03-07T15:19:12.602Z"
   },
   {
    "duration": 16,
    "start_time": "2022-03-07T15:19:12.619Z"
   },
   {
    "duration": 76,
    "start_time": "2022-03-07T15:19:12.636Z"
   },
   {
    "duration": 6,
    "start_time": "2022-03-07T15:19:12.713Z"
   },
   {
    "duration": 26,
    "start_time": "2022-03-07T15:19:12.721Z"
   },
   {
    "duration": 32,
    "start_time": "2022-03-07T15:19:12.749Z"
   },
   {
    "duration": 14,
    "start_time": "2022-03-07T15:19:12.784Z"
   },
   {
    "duration": 7,
    "start_time": "2022-03-07T15:19:12.800Z"
   },
   {
    "duration": 25,
    "start_time": "2022-03-07T15:19:12.809Z"
   },
   {
    "duration": 725,
    "start_time": "2022-03-07T15:19:12.836Z"
   },
   {
    "duration": 4,
    "start_time": "2022-03-07T15:19:13.563Z"
   },
   {
    "duration": 8,
    "start_time": "2022-03-07T15:19:13.577Z"
   },
   {
    "duration": 40,
    "start_time": "2022-03-07T15:19:13.588Z"
   },
   {
    "duration": 4,
    "start_time": "2022-03-07T15:19:13.631Z"
   },
   {
    "duration": 8,
    "start_time": "2022-03-07T15:19:13.637Z"
   },
   {
    "duration": 46,
    "start_time": "2022-03-07T15:19:13.647Z"
   },
   {
    "duration": 423,
    "start_time": "2022-03-07T15:19:13.695Z"
   },
   {
    "duration": 466,
    "start_time": "2022-03-07T15:19:14.121Z"
   },
   {
    "duration": 348,
    "start_time": "2022-03-07T15:19:14.591Z"
   },
   {
    "duration": 354,
    "start_time": "2022-03-07T15:19:14.941Z"
   },
   {
    "duration": 279,
    "start_time": "2022-03-07T15:19:15.297Z"
   },
   {
    "duration": 25,
    "start_time": "2022-03-07T15:19:15.553Z"
   },
   {
    "duration": 6,
    "start_time": "2022-03-07T15:20:52.388Z"
   },
   {
    "duration": 260,
    "start_time": "2022-03-07T15:21:08.439Z"
   },
   {
    "duration": 5,
    "start_time": "2022-03-07T15:21:11.801Z"
   },
   {
    "duration": 3,
    "start_time": "2022-03-07T15:29:04.277Z"
   },
   {
    "duration": 123,
    "start_time": "2022-03-07T15:29:04.289Z"
   },
   {
    "duration": 25,
    "start_time": "2022-03-07T15:29:04.414Z"
   },
   {
    "duration": 39,
    "start_time": "2022-03-07T15:29:04.441Z"
   },
   {
    "duration": 5,
    "start_time": "2022-03-07T15:29:04.483Z"
   },
   {
    "duration": 22,
    "start_time": "2022-03-07T15:29:04.490Z"
   },
   {
    "duration": 10,
    "start_time": "2022-03-07T15:29:04.514Z"
   },
   {
    "duration": 33,
    "start_time": "2022-03-07T15:29:04.526Z"
   },
   {
    "duration": 10,
    "start_time": "2022-03-07T15:29:04.560Z"
   },
   {
    "duration": 24,
    "start_time": "2022-03-07T15:29:04.573Z"
   },
   {
    "duration": 15,
    "start_time": "2022-03-07T15:29:04.600Z"
   },
   {
    "duration": 8,
    "start_time": "2022-03-07T15:29:04.617Z"
   },
   {
    "duration": 6,
    "start_time": "2022-03-07T15:29:04.627Z"
   },
   {
    "duration": 21,
    "start_time": "2022-03-07T15:29:04.635Z"
   },
   {
    "duration": 17,
    "start_time": "2022-03-07T15:29:04.658Z"
   },
   {
    "duration": 23,
    "start_time": "2022-03-07T15:29:04.678Z"
   },
   {
    "duration": 6,
    "start_time": "2022-03-07T15:29:04.703Z"
   },
   {
    "duration": 9,
    "start_time": "2022-03-07T15:29:04.711Z"
   },
   {
    "duration": 15,
    "start_time": "2022-03-07T15:29:04.721Z"
   },
   {
    "duration": 13,
    "start_time": "2022-03-07T15:29:04.738Z"
   },
   {
    "duration": 14,
    "start_time": "2022-03-07T15:29:04.753Z"
   },
   {
    "duration": 21,
    "start_time": "2022-03-07T15:29:04.768Z"
   },
   {
    "duration": 16,
    "start_time": "2022-03-07T15:29:04.792Z"
   },
   {
    "duration": 61,
    "start_time": "2022-03-07T15:29:04.810Z"
   },
   {
    "duration": 46,
    "start_time": "2022-03-07T15:29:04.873Z"
   },
   {
    "duration": 5,
    "start_time": "2022-03-07T15:29:04.921Z"
   },
   {
    "duration": 11,
    "start_time": "2022-03-07T15:29:04.927Z"
   },
   {
    "duration": 7,
    "start_time": "2022-03-07T15:29:04.942Z"
   },
   {
    "duration": 11,
    "start_time": "2022-03-07T15:29:04.951Z"
   },
   {
    "duration": 4,
    "start_time": "2022-03-07T15:29:04.964Z"
   },
   {
    "duration": 29,
    "start_time": "2022-03-07T15:29:04.970Z"
   },
   {
    "duration": 16,
    "start_time": "2022-03-07T15:29:05.001Z"
   },
   {
    "duration": 6,
    "start_time": "2022-03-07T15:29:05.018Z"
   },
   {
    "duration": 22,
    "start_time": "2022-03-07T15:29:05.026Z"
   },
   {
    "duration": 11,
    "start_time": "2022-03-07T15:29:05.050Z"
   },
   {
    "duration": 6,
    "start_time": "2022-03-07T15:29:05.063Z"
   },
   {
    "duration": 26,
    "start_time": "2022-03-07T15:29:05.070Z"
   },
   {
    "duration": 22,
    "start_time": "2022-03-07T15:29:05.098Z"
   },
   {
    "duration": 10,
    "start_time": "2022-03-07T15:29:05.122Z"
   },
   {
    "duration": 28,
    "start_time": "2022-03-07T15:29:05.133Z"
   },
   {
    "duration": 17,
    "start_time": "2022-03-07T15:29:05.163Z"
   },
   {
    "duration": 32,
    "start_time": "2022-03-07T15:29:05.182Z"
   },
   {
    "duration": 22,
    "start_time": "2022-03-07T15:29:05.216Z"
   },
   {
    "duration": 20,
    "start_time": "2022-03-07T15:29:05.239Z"
   },
   {
    "duration": 23,
    "start_time": "2022-03-07T15:29:05.260Z"
   },
   {
    "duration": 43,
    "start_time": "2022-03-07T15:29:05.291Z"
   },
   {
    "duration": 6,
    "start_time": "2022-03-07T15:29:05.336Z"
   },
   {
    "duration": 43,
    "start_time": "2022-03-07T15:29:05.344Z"
   },
   {
    "duration": 22,
    "start_time": "2022-03-07T15:29:05.392Z"
   },
   {
    "duration": 16,
    "start_time": "2022-03-07T15:29:05.416Z"
   },
   {
    "duration": 18,
    "start_time": "2022-03-07T15:29:05.434Z"
   },
   {
    "duration": 45,
    "start_time": "2022-03-07T15:29:05.454Z"
   },
   {
    "duration": 656,
    "start_time": "2022-03-07T15:29:05.501Z"
   },
   {
    "duration": 3,
    "start_time": "2022-03-07T15:29:06.159Z"
   },
   {
    "duration": 15,
    "start_time": "2022-03-07T15:29:06.164Z"
   },
   {
    "duration": 25,
    "start_time": "2022-03-07T15:29:06.185Z"
   },
   {
    "duration": 4,
    "start_time": "2022-03-07T15:29:06.212Z"
   },
   {
    "duration": 8,
    "start_time": "2022-03-07T15:29:06.217Z"
   },
   {
    "duration": 28,
    "start_time": "2022-03-07T15:29:06.226Z"
   },
   {
    "duration": 390,
    "start_time": "2022-03-07T15:29:06.255Z"
   },
   {
    "duration": 407,
    "start_time": "2022-03-07T15:29:06.646Z"
   },
   {
    "duration": 333,
    "start_time": "2022-03-07T15:29:07.055Z"
   },
   {
    "duration": 397,
    "start_time": "2022-03-07T15:29:07.390Z"
   },
   {
    "duration": 267,
    "start_time": "2022-03-07T15:29:07.789Z"
   },
   {
    "duration": 32,
    "start_time": "2022-03-07T15:29:08.026Z"
   },
   {
    "duration": 3,
    "start_time": "2022-03-07T15:29:47.000Z"
   },
   {
    "duration": 96,
    "start_time": "2022-03-07T15:29:47.005Z"
   },
   {
    "duration": 24,
    "start_time": "2022-03-07T15:29:47.103Z"
   },
   {
    "duration": 26,
    "start_time": "2022-03-07T15:29:47.130Z"
   },
   {
    "duration": 21,
    "start_time": "2022-03-07T15:29:47.158Z"
   },
   {
    "duration": 22,
    "start_time": "2022-03-07T15:29:47.188Z"
   },
   {
    "duration": 4,
    "start_time": "2022-03-07T15:29:47.212Z"
   },
   {
    "duration": 23,
    "start_time": "2022-03-07T15:29:47.218Z"
   },
   {
    "duration": 12,
    "start_time": "2022-03-07T15:29:47.244Z"
   },
   {
    "duration": 30,
    "start_time": "2022-03-07T15:29:47.258Z"
   },
   {
    "duration": 7,
    "start_time": "2022-03-07T15:29:47.290Z"
   },
   {
    "duration": 10,
    "start_time": "2022-03-07T15:29:47.299Z"
   },
   {
    "duration": 5,
    "start_time": "2022-03-07T15:29:47.310Z"
   },
   {
    "duration": 14,
    "start_time": "2022-03-07T15:29:47.316Z"
   },
   {
    "duration": 17,
    "start_time": "2022-03-07T15:29:47.331Z"
   },
   {
    "duration": 24,
    "start_time": "2022-03-07T15:29:47.350Z"
   },
   {
    "duration": 20,
    "start_time": "2022-03-07T15:29:47.376Z"
   },
   {
    "duration": 12,
    "start_time": "2022-03-07T15:29:47.398Z"
   },
   {
    "duration": 22,
    "start_time": "2022-03-07T15:29:47.412Z"
   },
   {
    "duration": 16,
    "start_time": "2022-03-07T15:29:47.436Z"
   },
   {
    "duration": 22,
    "start_time": "2022-03-07T15:29:47.454Z"
   },
   {
    "duration": 19,
    "start_time": "2022-03-07T15:29:47.480Z"
   },
   {
    "duration": 8,
    "start_time": "2022-03-07T15:29:47.500Z"
   },
   {
    "duration": 18,
    "start_time": "2022-03-07T15:29:47.509Z"
   },
   {
    "duration": 18,
    "start_time": "2022-03-07T15:29:47.529Z"
   },
   {
    "duration": 4,
    "start_time": "2022-03-07T15:29:47.549Z"
   },
   {
    "duration": 14,
    "start_time": "2022-03-07T15:29:47.557Z"
   },
   {
    "duration": 26,
    "start_time": "2022-03-07T15:29:47.573Z"
   },
   {
    "duration": 14,
    "start_time": "2022-03-07T15:29:47.601Z"
   },
   {
    "duration": 10,
    "start_time": "2022-03-07T15:29:47.617Z"
   },
   {
    "duration": 22,
    "start_time": "2022-03-07T15:29:47.629Z"
   },
   {
    "duration": 15,
    "start_time": "2022-03-07T15:29:47.653Z"
   },
   {
    "duration": 29,
    "start_time": "2022-03-07T15:29:47.670Z"
   },
   {
    "duration": 21,
    "start_time": "2022-03-07T15:29:47.701Z"
   },
   {
    "duration": 19,
    "start_time": "2022-03-07T15:29:47.724Z"
   },
   {
    "duration": 12,
    "start_time": "2022-03-07T15:29:47.745Z"
   },
   {
    "duration": 15,
    "start_time": "2022-03-07T15:29:47.759Z"
   },
   {
    "duration": 47,
    "start_time": "2022-03-07T15:29:47.776Z"
   },
   {
    "duration": 11,
    "start_time": "2022-03-07T15:29:47.827Z"
   },
   {
    "duration": 28,
    "start_time": "2022-03-07T15:29:47.840Z"
   },
   {
    "duration": 16,
    "start_time": "2022-03-07T15:29:47.870Z"
   },
   {
    "duration": 22,
    "start_time": "2022-03-07T15:29:47.889Z"
   },
   {
    "duration": 18,
    "start_time": "2022-03-07T15:29:47.913Z"
   },
   {
    "duration": 17,
    "start_time": "2022-03-07T15:29:47.933Z"
   },
   {
    "duration": 17,
    "start_time": "2022-03-07T15:29:47.952Z"
   },
   {
    "duration": 49,
    "start_time": "2022-03-07T15:29:47.976Z"
   },
   {
    "duration": 6,
    "start_time": "2022-03-07T15:29:48.027Z"
   },
   {
    "duration": 28,
    "start_time": "2022-03-07T15:29:48.035Z"
   },
   {
    "duration": 21,
    "start_time": "2022-03-07T15:29:48.064Z"
   },
   {
    "duration": 14,
    "start_time": "2022-03-07T15:29:48.088Z"
   },
   {
    "duration": 12,
    "start_time": "2022-03-07T15:29:48.104Z"
   },
   {
    "duration": 27,
    "start_time": "2022-03-07T15:29:48.118Z"
   },
   {
    "duration": 727,
    "start_time": "2022-03-07T15:29:48.147Z"
   },
   {
    "duration": 4,
    "start_time": "2022-03-07T15:29:48.876Z"
   },
   {
    "duration": 21,
    "start_time": "2022-03-07T15:29:48.882Z"
   },
   {
    "duration": 28,
    "start_time": "2022-03-07T15:29:48.905Z"
   },
   {
    "duration": 4,
    "start_time": "2022-03-07T15:29:48.935Z"
   },
   {
    "duration": 7,
    "start_time": "2022-03-07T15:29:48.941Z"
   },
   {
    "duration": 45,
    "start_time": "2022-03-07T15:29:48.950Z"
   },
   {
    "duration": 391,
    "start_time": "2022-03-07T15:29:48.996Z"
   },
   {
    "duration": 379,
    "start_time": "2022-03-07T15:29:49.390Z"
   },
   {
    "duration": 328,
    "start_time": "2022-03-07T15:29:49.771Z"
   },
   {
    "duration": 340,
    "start_time": "2022-03-07T15:29:50.101Z"
   },
   {
    "duration": 295,
    "start_time": "2022-03-07T15:29:50.444Z"
   },
   {
    "duration": -59,
    "start_time": "2022-03-07T15:29:50.802Z"
   },
   {
    "duration": 5,
    "start_time": "2022-03-07T15:30:12.137Z"
   },
   {
    "duration": 292,
    "start_time": "2022-03-07T15:30:37.205Z"
   },
   {
    "duration": 4,
    "start_time": "2022-03-07T15:30:53.832Z"
   },
   {
    "duration": 25,
    "start_time": "2022-03-07T15:31:39.560Z"
   },
   {
    "duration": 6626,
    "start_time": "2022-03-07T15:34:32.651Z"
   },
   {
    "duration": 228,
    "start_time": "2022-03-07T15:34:52.589Z"
   },
   {
    "duration": 499,
    "start_time": "2022-03-07T15:35:41.792Z"
   },
   {
    "duration": 211,
    "start_time": "2022-03-07T15:38:18.832Z"
   },
   {
    "duration": 410,
    "start_time": "2022-03-07T15:46:22.990Z"
   },
   {
    "duration": 245,
    "start_time": "2022-03-07T15:46:40.199Z"
   },
   {
    "duration": 292,
    "start_time": "2022-03-07T15:53:58.338Z"
   },
   {
    "duration": 302,
    "start_time": "2022-03-07T15:54:10.326Z"
   },
   {
    "duration": 10,
    "start_time": "2022-03-07T16:11:04.793Z"
   },
   {
    "duration": 387,
    "start_time": "2022-03-07T16:11:34.229Z"
   },
   {
    "duration": 596,
    "start_time": "2022-03-07T16:26:18.438Z"
   },
   {
    "duration": 264,
    "start_time": "2022-03-07T16:28:07.200Z"
   },
   {
    "duration": 272,
    "start_time": "2022-03-07T16:28:14.101Z"
   },
   {
    "duration": 18,
    "start_time": "2022-03-07T16:29:09.766Z"
   },
   {
    "duration": 49,
    "start_time": "2022-03-07T16:29:18.178Z"
   },
   {
    "duration": 11,
    "start_time": "2022-03-07T16:30:41.196Z"
   },
   {
    "duration": 272,
    "start_time": "2022-03-07T16:30:56.573Z"
   },
   {
    "duration": 9,
    "start_time": "2022-03-07T16:31:16.071Z"
   },
   {
    "duration": 926,
    "start_time": "2022-03-10T05:10:04.396Z"
   },
   {
    "duration": 126,
    "start_time": "2022-03-10T05:10:05.325Z"
   },
   {
    "duration": 50,
    "start_time": "2022-03-10T05:10:05.454Z"
   },
   {
    "duration": 36,
    "start_time": "2022-03-10T05:10:05.507Z"
   },
   {
    "duration": 27,
    "start_time": "2022-03-10T05:10:05.546Z"
   },
   {
    "duration": 32,
    "start_time": "2022-03-10T05:10:05.576Z"
   },
   {
    "duration": 17,
    "start_time": "2022-03-10T05:10:05.610Z"
   },
   {
    "duration": 39,
    "start_time": "2022-03-10T05:10:05.630Z"
   },
   {
    "duration": 30,
    "start_time": "2022-03-10T05:10:05.673Z"
   },
   {
    "duration": 32,
    "start_time": "2022-03-10T05:10:05.707Z"
   },
   {
    "duration": 36,
    "start_time": "2022-03-10T05:10:05.742Z"
   },
   {
    "duration": 37,
    "start_time": "2022-03-10T05:10:05.780Z"
   },
   {
    "duration": 13,
    "start_time": "2022-03-10T05:10:05.819Z"
   },
   {
    "duration": 23,
    "start_time": "2022-03-10T05:10:05.834Z"
   },
   {
    "duration": 63,
    "start_time": "2022-03-10T05:10:05.859Z"
   },
   {
    "duration": 42,
    "start_time": "2022-03-10T05:10:05.924Z"
   },
   {
    "duration": 22,
    "start_time": "2022-03-10T05:10:05.969Z"
   },
   {
    "duration": 45,
    "start_time": "2022-03-10T05:10:05.994Z"
   },
   {
    "duration": 49,
    "start_time": "2022-03-10T05:10:06.041Z"
   },
   {
    "duration": 30,
    "start_time": "2022-03-10T05:10:06.093Z"
   },
   {
    "duration": 29,
    "start_time": "2022-03-10T05:10:06.125Z"
   },
   {
    "duration": 24,
    "start_time": "2022-03-10T05:10:06.156Z"
   },
   {
    "duration": 47,
    "start_time": "2022-03-10T05:10:06.184Z"
   },
   {
    "duration": 60,
    "start_time": "2022-03-10T05:10:06.233Z"
   },
   {
    "duration": 44,
    "start_time": "2022-03-10T05:10:06.296Z"
   },
   {
    "duration": 23,
    "start_time": "2022-03-10T05:10:06.342Z"
   },
   {
    "duration": 54,
    "start_time": "2022-03-10T05:10:06.372Z"
   },
   {
    "duration": 37,
    "start_time": "2022-03-10T05:10:06.429Z"
   },
   {
    "duration": 62,
    "start_time": "2022-03-10T05:10:06.468Z"
   },
   {
    "duration": 37,
    "start_time": "2022-03-10T05:10:06.533Z"
   },
   {
    "duration": 69,
    "start_time": "2022-03-10T05:10:06.573Z"
   },
   {
    "duration": 44,
    "start_time": "2022-03-10T05:10:06.644Z"
   },
   {
    "duration": 31,
    "start_time": "2022-03-10T05:10:06.690Z"
   },
   {
    "duration": 44,
    "start_time": "2022-03-10T05:10:06.723Z"
   },
   {
    "duration": 50,
    "start_time": "2022-03-10T05:10:06.769Z"
   },
   {
    "duration": 32,
    "start_time": "2022-03-10T05:10:06.821Z"
   },
   {
    "duration": 47,
    "start_time": "2022-03-10T05:10:06.856Z"
   },
   {
    "duration": 34,
    "start_time": "2022-03-10T05:10:06.906Z"
   },
   {
    "duration": 25,
    "start_time": "2022-03-10T05:10:06.943Z"
   },
   {
    "duration": 71,
    "start_time": "2022-03-10T05:10:06.971Z"
   },
   {
    "duration": 17,
    "start_time": "2022-03-10T05:10:07.045Z"
   },
   {
    "duration": 45,
    "start_time": "2022-03-10T05:10:07.065Z"
   },
   {
    "duration": 55,
    "start_time": "2022-03-10T05:10:07.113Z"
   },
   {
    "duration": 51,
    "start_time": "2022-03-10T05:10:07.171Z"
   },
   {
    "duration": 43,
    "start_time": "2022-03-10T05:10:07.224Z"
   },
   {
    "duration": 79,
    "start_time": "2022-03-10T05:10:07.270Z"
   },
   {
    "duration": 7,
    "start_time": "2022-03-10T05:10:07.352Z"
   },
   {
    "duration": 73,
    "start_time": "2022-03-10T05:10:07.362Z"
   },
   {
    "duration": 30,
    "start_time": "2022-03-10T05:10:07.438Z"
   },
   {
    "duration": 36,
    "start_time": "2022-03-10T05:10:07.470Z"
   },
   {
    "duration": 27,
    "start_time": "2022-03-10T05:10:07.508Z"
   },
   {
    "duration": 64,
    "start_time": "2022-03-10T05:10:07.537Z"
   },
   {
    "duration": 1077,
    "start_time": "2022-03-10T05:10:07.604Z"
   },
   {
    "duration": 7,
    "start_time": "2022-03-10T05:10:08.685Z"
   },
   {
    "duration": 32,
    "start_time": "2022-03-10T05:10:08.694Z"
   },
   {
    "duration": 75,
    "start_time": "2022-03-10T05:10:08.729Z"
   },
   {
    "duration": 6,
    "start_time": "2022-03-10T05:10:08.807Z"
   },
   {
    "duration": 26,
    "start_time": "2022-03-10T05:10:08.815Z"
   },
   {
    "duration": 53,
    "start_time": "2022-03-10T05:10:08.843Z"
   },
   {
    "duration": 19,
    "start_time": "2022-03-10T05:10:08.899Z"
   },
   {
    "duration": 836,
    "start_time": "2022-03-10T05:10:08.921Z"
   },
   {
    "duration": 556,
    "start_time": "2022-03-10T05:10:09.759Z"
   },
   {
    "duration": 530,
    "start_time": "2022-03-10T05:10:10.318Z"
   },
   {
    "duration": 500,
    "start_time": "2022-03-10T05:10:10.850Z"
   },
   {
    "duration": 22,
    "start_time": "2022-03-10T05:10:11.352Z"
   },
   {
    "duration": 11,
    "start_time": "2022-03-10T05:10:11.376Z"
   },
   {
    "duration": 35,
    "start_time": "2022-03-10T05:10:11.390Z"
   },
   {
    "duration": 384,
    "start_time": "2022-03-10T05:10:11.428Z"
   },
   {
    "duration": 20,
    "start_time": "2022-03-10T05:16:11.730Z"
   },
   {
    "duration": 22,
    "start_time": "2022-03-10T05:16:14.773Z"
   },
   {
    "duration": 24,
    "start_time": "2022-03-10T05:16:22.171Z"
   },
   {
    "duration": 599,
    "start_time": "2022-03-10T05:18:01.266Z"
   },
   {
    "duration": 609,
    "start_time": "2022-03-10T05:19:16.388Z"
   },
   {
    "duration": 548,
    "start_time": "2022-03-10T05:26:37.284Z"
   },
   {
    "duration": 547,
    "start_time": "2022-03-10T05:27:09.463Z"
   },
   {
    "duration": 610,
    "start_time": "2022-03-10T05:44:10.050Z"
   },
   {
    "duration": 601,
    "start_time": "2022-03-10T05:48:48.323Z"
   },
   {
    "duration": 22,
    "start_time": "2022-03-10T05:57:07.998Z"
   },
   {
    "duration": 16,
    "start_time": "2022-03-10T06:01:44.572Z"
   },
   {
    "duration": 10,
    "start_time": "2022-03-10T06:02:19.240Z"
   },
   {
    "duration": 617,
    "start_time": "2022-03-10T06:05:31.110Z"
   },
   {
    "duration": 12,
    "start_time": "2022-03-10T06:05:33.929Z"
   },
   {
    "duration": 11,
    "start_time": "2022-03-10T06:05:34.303Z"
   },
   {
    "duration": 12,
    "start_time": "2022-03-10T06:05:46.407Z"
   },
   {
    "duration": 679,
    "start_time": "2022-03-11T05:15:30.407Z"
   },
   {
    "duration": 83,
    "start_time": "2022-03-11T05:15:31.088Z"
   },
   {
    "duration": 25,
    "start_time": "2022-03-11T05:15:31.173Z"
   },
   {
    "duration": 21,
    "start_time": "2022-03-11T05:15:31.199Z"
   },
   {
    "duration": 12,
    "start_time": "2022-03-11T05:15:31.222Z"
   },
   {
    "duration": 30,
    "start_time": "2022-03-11T05:15:31.235Z"
   },
   {
    "duration": 4,
    "start_time": "2022-03-11T05:15:31.267Z"
   },
   {
    "duration": 25,
    "start_time": "2022-03-11T05:15:31.273Z"
   },
   {
    "duration": 6,
    "start_time": "2022-03-11T05:15:31.300Z"
   },
   {
    "duration": 22,
    "start_time": "2022-03-11T05:15:31.308Z"
   },
   {
    "duration": 22,
    "start_time": "2022-03-11T05:15:31.331Z"
   },
   {
    "duration": 12,
    "start_time": "2022-03-11T05:15:31.355Z"
   },
   {
    "duration": 4,
    "start_time": "2022-03-11T05:15:31.369Z"
   },
   {
    "duration": 13,
    "start_time": "2022-03-11T05:15:31.375Z"
   },
   {
    "duration": 8,
    "start_time": "2022-03-11T05:15:31.390Z"
   },
   {
    "duration": 18,
    "start_time": "2022-03-11T05:15:31.400Z"
   },
   {
    "duration": 20,
    "start_time": "2022-03-11T05:15:31.419Z"
   },
   {
    "duration": 10,
    "start_time": "2022-03-11T05:15:31.440Z"
   },
   {
    "duration": 11,
    "start_time": "2022-03-11T05:15:31.452Z"
   },
   {
    "duration": 12,
    "start_time": "2022-03-11T05:15:31.465Z"
   },
   {
    "duration": 19,
    "start_time": "2022-03-11T05:15:31.479Z"
   },
   {
    "duration": 12,
    "start_time": "2022-03-11T05:15:31.500Z"
   },
   {
    "duration": 9,
    "start_time": "2022-03-11T05:15:31.514Z"
   },
   {
    "duration": 20,
    "start_time": "2022-03-11T05:15:31.525Z"
   },
   {
    "duration": 22,
    "start_time": "2022-03-11T05:15:31.547Z"
   },
   {
    "duration": 6,
    "start_time": "2022-03-11T05:15:31.570Z"
   },
   {
    "duration": 5,
    "start_time": "2022-03-11T05:15:31.580Z"
   },
   {
    "duration": 6,
    "start_time": "2022-03-11T05:15:31.587Z"
   },
   {
    "duration": 10,
    "start_time": "2022-03-11T05:15:31.595Z"
   },
   {
    "duration": 6,
    "start_time": "2022-03-11T05:15:31.606Z"
   },
   {
    "duration": 32,
    "start_time": "2022-03-11T05:15:31.614Z"
   },
   {
    "duration": 22,
    "start_time": "2022-03-11T05:15:31.648Z"
   },
   {
    "duration": 4,
    "start_time": "2022-03-11T05:15:31.671Z"
   },
   {
    "duration": 20,
    "start_time": "2022-03-11T05:15:31.677Z"
   },
   {
    "duration": 11,
    "start_time": "2022-03-11T05:15:31.698Z"
   },
   {
    "duration": 6,
    "start_time": "2022-03-11T05:15:31.710Z"
   },
   {
    "duration": 14,
    "start_time": "2022-03-11T05:15:31.717Z"
   },
   {
    "duration": 19,
    "start_time": "2022-03-11T05:15:31.732Z"
   },
   {
    "duration": 17,
    "start_time": "2022-03-11T05:15:31.753Z"
   },
   {
    "duration": 24,
    "start_time": "2022-03-11T05:15:31.772Z"
   },
   {
    "duration": 6,
    "start_time": "2022-03-11T05:15:31.797Z"
   },
   {
    "duration": 13,
    "start_time": "2022-03-11T05:15:31.805Z"
   },
   {
    "duration": 54,
    "start_time": "2022-03-11T05:15:31.820Z"
   },
   {
    "duration": 5,
    "start_time": "2022-03-11T05:15:31.876Z"
   },
   {
    "duration": 25,
    "start_time": "2022-03-11T05:15:31.882Z"
   },
   {
    "duration": 6,
    "start_time": "2022-03-11T05:15:31.909Z"
   },
   {
    "duration": 7,
    "start_time": "2022-03-11T05:15:31.916Z"
   },
   {
    "duration": 5,
    "start_time": "2022-03-11T05:15:31.924Z"
   },
   {
    "duration": 45,
    "start_time": "2022-03-11T05:15:31.931Z"
   },
   {
    "duration": 570,
    "start_time": "2022-03-11T05:15:31.977Z"
   },
   {
    "duration": 4,
    "start_time": "2022-03-11T05:15:32.549Z"
   },
   {
    "duration": 3,
    "start_time": "2022-03-11T05:15:32.563Z"
   },
   {
    "duration": 23,
    "start_time": "2022-03-11T05:15:32.568Z"
   },
   {
    "duration": 4,
    "start_time": "2022-03-11T05:15:32.592Z"
   },
   {
    "duration": 7,
    "start_time": "2022-03-11T05:15:32.597Z"
   },
   {
    "duration": 23,
    "start_time": "2022-03-11T05:15:32.605Z"
   },
   {
    "duration": 34,
    "start_time": "2022-03-11T05:15:32.630Z"
   },
   {
    "duration": 430,
    "start_time": "2022-03-11T05:15:32.665Z"
   },
   {
    "duration": 339,
    "start_time": "2022-03-11T05:15:33.096Z"
   },
   {
    "duration": 252,
    "start_time": "2022-03-11T05:15:33.436Z"
   },
   {
    "duration": 291,
    "start_time": "2022-03-11T05:15:33.689Z"
   },
   {
    "duration": 4,
    "start_time": "2022-03-11T05:15:33.981Z"
   },
   {
    "duration": 7,
    "start_time": "2022-03-11T05:15:33.986Z"
   },
   {
    "duration": 22,
    "start_time": "2022-03-11T05:15:33.994Z"
   },
   {
    "duration": 336,
    "start_time": "2022-03-11T05:15:34.017Z"
   },
   {
    "duration": 323,
    "start_time": "2022-03-11T05:15:34.354Z"
   },
   {
    "duration": 20,
    "start_time": "2022-03-11T05:25:44.799Z"
   },
   {
    "duration": 24,
    "start_time": "2022-03-11T05:26:03.221Z"
   },
   {
    "duration": 13,
    "start_time": "2022-03-11T05:26:29.120Z"
   },
   {
    "duration": 93,
    "start_time": "2022-03-11T06:00:43.136Z"
   },
   {
    "duration": 13,
    "start_time": "2022-03-11T06:00:45.275Z"
   },
   {
    "duration": 13,
    "start_time": "2022-03-11T06:01:21.350Z"
   },
   {
    "duration": 23,
    "start_time": "2022-03-11T06:01:21.774Z"
   },
   {
    "duration": 14,
    "start_time": "2022-03-11T06:01:22.778Z"
   },
   {
    "duration": 629,
    "start_time": "2022-03-16T05:18:05.185Z"
   },
   {
    "duration": 89,
    "start_time": "2022-03-16T05:18:05.816Z"
   },
   {
    "duration": 25,
    "start_time": "2022-03-16T05:18:05.908Z"
   },
   {
    "duration": 35,
    "start_time": "2022-03-16T05:18:05.934Z"
   },
   {
    "duration": 4,
    "start_time": "2022-03-16T05:18:05.970Z"
   },
   {
    "duration": 23,
    "start_time": "2022-03-16T05:18:05.975Z"
   },
   {
    "duration": 4,
    "start_time": "2022-03-16T05:18:05.999Z"
   },
   {
    "duration": 22,
    "start_time": "2022-03-16T05:18:06.005Z"
   },
   {
    "duration": 10,
    "start_time": "2022-03-16T05:18:06.029Z"
   },
   {
    "duration": 13,
    "start_time": "2022-03-16T05:18:06.060Z"
   },
   {
    "duration": 9,
    "start_time": "2022-03-16T05:18:06.075Z"
   },
   {
    "duration": 6,
    "start_time": "2022-03-16T05:18:06.086Z"
   },
   {
    "duration": 2812,
    "start_time": "2022-03-16T05:18:06.094Z"
   },
   {
    "duration": 1658,
    "start_time": "2022-03-16T05:18:07.252Z"
   },
   {
    "duration": 1545,
    "start_time": "2022-03-16T05:18:07.366Z"
   },
   {
    "duration": 1543,
    "start_time": "2022-03-16T05:18:07.369Z"
   },
   {
    "duration": 1540,
    "start_time": "2022-03-16T05:18:07.373Z"
   },
   {
    "duration": 1538,
    "start_time": "2022-03-16T05:18:07.376Z"
   },
   {
    "duration": 1536,
    "start_time": "2022-03-16T05:18:07.379Z"
   },
   {
    "duration": 1533,
    "start_time": "2022-03-16T05:18:07.383Z"
   },
   {
    "duration": 1531,
    "start_time": "2022-03-16T05:18:07.386Z"
   },
   {
    "duration": 1527,
    "start_time": "2022-03-16T05:18:07.391Z"
   },
   {
    "duration": 1524,
    "start_time": "2022-03-16T05:18:07.395Z"
   },
   {
    "duration": 1522,
    "start_time": "2022-03-16T05:18:07.398Z"
   },
   {
    "duration": 1520,
    "start_time": "2022-03-16T05:18:07.401Z"
   },
   {
    "duration": 1516,
    "start_time": "2022-03-16T05:18:07.405Z"
   },
   {
    "duration": 1515,
    "start_time": "2022-03-16T05:18:07.407Z"
   },
   {
    "duration": 1509,
    "start_time": "2022-03-16T05:18:07.414Z"
   },
   {
    "duration": 1505,
    "start_time": "2022-03-16T05:18:07.419Z"
   },
   {
    "duration": 1501,
    "start_time": "2022-03-16T05:18:07.424Z"
   },
   {
    "duration": 1499,
    "start_time": "2022-03-16T05:18:07.427Z"
   },
   {
    "duration": 1497,
    "start_time": "2022-03-16T05:18:07.430Z"
   },
   {
    "duration": 1493,
    "start_time": "2022-03-16T05:18:07.435Z"
   },
   {
    "duration": 1490,
    "start_time": "2022-03-16T05:18:07.439Z"
   },
   {
    "duration": 1487,
    "start_time": "2022-03-16T05:18:07.443Z"
   },
   {
    "duration": 1485,
    "start_time": "2022-03-16T05:18:07.446Z"
   },
   {
    "duration": 1482,
    "start_time": "2022-03-16T05:18:07.450Z"
   },
   {
    "duration": 1478,
    "start_time": "2022-03-16T05:18:07.455Z"
   },
   {
    "duration": 1476,
    "start_time": "2022-03-16T05:18:07.458Z"
   },
   {
    "duration": 1474,
    "start_time": "2022-03-16T05:18:07.461Z"
   },
   {
    "duration": 1472,
    "start_time": "2022-03-16T05:18:07.464Z"
   },
   {
    "duration": 1469,
    "start_time": "2022-03-16T05:18:07.468Z"
   },
   {
    "duration": 1467,
    "start_time": "2022-03-16T05:18:07.471Z"
   },
   {
    "duration": 1464,
    "start_time": "2022-03-16T05:18:07.475Z"
   },
   {
    "duration": 1463,
    "start_time": "2022-03-16T05:18:07.478Z"
   },
   {
    "duration": 1461,
    "start_time": "2022-03-16T05:18:07.481Z"
   },
   {
    "duration": 1459,
    "start_time": "2022-03-16T05:18:07.484Z"
   },
   {
    "duration": 1457,
    "start_time": "2022-03-16T05:18:07.487Z"
   },
   {
    "duration": 1455,
    "start_time": "2022-03-16T05:18:07.490Z"
   },
   {
    "duration": 1453,
    "start_time": "2022-03-16T05:18:07.493Z"
   },
   {
    "duration": 1463,
    "start_time": "2022-03-16T05:18:07.495Z"
   },
   {
    "duration": 1461,
    "start_time": "2022-03-16T05:18:07.499Z"
   },
   {
    "duration": 1459,
    "start_time": "2022-03-16T05:18:07.502Z"
   },
   {
    "duration": 1457,
    "start_time": "2022-03-16T05:18:07.505Z"
   },
   {
    "duration": 1455,
    "start_time": "2022-03-16T05:18:07.508Z"
   },
   {
    "duration": 1453,
    "start_time": "2022-03-16T05:18:07.511Z"
   },
   {
    "duration": 1451,
    "start_time": "2022-03-16T05:18:07.514Z"
   },
   {
    "duration": 1449,
    "start_time": "2022-03-16T05:18:07.517Z"
   },
   {
    "duration": 1447,
    "start_time": "2022-03-16T05:18:07.520Z"
   },
   {
    "duration": 1446,
    "start_time": "2022-03-16T05:18:07.523Z"
   },
   {
    "duration": 1444,
    "start_time": "2022-03-16T05:18:07.526Z"
   },
   {
    "duration": 1442,
    "start_time": "2022-03-16T05:18:07.529Z"
   },
   {
    "duration": 1440,
    "start_time": "2022-03-16T05:18:07.532Z"
   },
   {
    "duration": 1439,
    "start_time": "2022-03-16T05:18:07.534Z"
   },
   {
    "duration": 1437,
    "start_time": "2022-03-16T05:18:07.537Z"
   },
   {
    "duration": 1435,
    "start_time": "2022-03-16T05:18:07.540Z"
   },
   {
    "duration": 1433,
    "start_time": "2022-03-16T05:18:07.543Z"
   },
   {
    "duration": 1431,
    "start_time": "2022-03-16T05:18:07.546Z"
   },
   {
    "duration": 1429,
    "start_time": "2022-03-16T05:18:07.549Z"
   },
   {
    "duration": 1427,
    "start_time": "2022-03-16T05:18:07.552Z"
   },
   {
    "duration": 3,
    "start_time": "2022-03-16T05:19:40.888Z"
   },
   {
    "duration": 83,
    "start_time": "2022-03-16T05:19:40.893Z"
   },
   {
    "duration": 22,
    "start_time": "2022-03-16T05:19:40.978Z"
   },
   {
    "duration": 21,
    "start_time": "2022-03-16T05:19:41.002Z"
   },
   {
    "duration": 4,
    "start_time": "2022-03-16T05:19:41.025Z"
   },
   {
    "duration": 9,
    "start_time": "2022-03-16T05:19:41.059Z"
   },
   {
    "duration": 4,
    "start_time": "2022-03-16T05:19:41.069Z"
   },
   {
    "duration": 19,
    "start_time": "2022-03-16T05:19:41.076Z"
   },
   {
    "duration": 7,
    "start_time": "2022-03-16T05:19:41.097Z"
   },
   {
    "duration": 13,
    "start_time": "2022-03-16T05:19:41.106Z"
   },
   {
    "duration": 6,
    "start_time": "2022-03-16T05:19:41.121Z"
   },
   {
    "duration": 35,
    "start_time": "2022-03-16T05:19:41.129Z"
   },
   {
    "duration": 5,
    "start_time": "2022-03-16T05:19:41.165Z"
   },
   {
    "duration": 7,
    "start_time": "2022-03-16T05:19:41.171Z"
   },
   {
    "duration": 6,
    "start_time": "2022-03-16T05:19:41.179Z"
   },
   {
    "duration": 10,
    "start_time": "2022-03-16T05:19:41.187Z"
   },
   {
    "duration": 3,
    "start_time": "2022-03-16T05:19:41.199Z"
   },
   {
    "duration": 5,
    "start_time": "2022-03-16T05:19:41.204Z"
   },
   {
    "duration": 13,
    "start_time": "2022-03-16T05:19:41.211Z"
   },
   {
    "duration": 42,
    "start_time": "2022-03-16T05:19:41.225Z"
   },
   {
    "duration": 10,
    "start_time": "2022-03-16T05:19:41.268Z"
   },
   {
    "duration": 5,
    "start_time": "2022-03-16T05:19:41.280Z"
   },
   {
    "duration": 2,
    "start_time": "2022-03-16T05:19:41.290Z"
   },
   {
    "duration": 16,
    "start_time": "2022-03-16T05:19:41.295Z"
   },
   {
    "duration": 14,
    "start_time": "2022-03-16T05:19:41.312Z"
   },
   {
    "duration": 4,
    "start_time": "2022-03-16T05:19:41.328Z"
   },
   {
    "duration": 29,
    "start_time": "2022-03-16T05:19:41.333Z"
   },
   {
    "duration": 9,
    "start_time": "2022-03-16T05:19:41.364Z"
   },
   {
    "duration": 8,
    "start_time": "2022-03-16T05:19:41.375Z"
   },
   {
    "duration": 4,
    "start_time": "2022-03-16T05:19:41.385Z"
   },
   {
    "duration": 16,
    "start_time": "2022-03-16T05:19:41.390Z"
   },
   {
    "duration": 10,
    "start_time": "2022-03-16T05:19:41.408Z"
   },
   {
    "duration": 39,
    "start_time": "2022-03-16T05:19:41.420Z"
   },
   {
    "duration": 11,
    "start_time": "2022-03-16T05:19:41.461Z"
   },
   {
    "duration": 9,
    "start_time": "2022-03-16T05:19:41.474Z"
   },
   {
    "duration": 5,
    "start_time": "2022-03-16T05:19:41.484Z"
   },
   {
    "duration": 12,
    "start_time": "2022-03-16T05:19:41.490Z"
   },
   {
    "duration": 16,
    "start_time": "2022-03-16T05:19:41.504Z"
   },
   {
    "duration": 39,
    "start_time": "2022-03-16T05:19:41.522Z"
   },
   {
    "duration": 25,
    "start_time": "2022-03-16T05:19:41.563Z"
   },
   {
    "duration": 6,
    "start_time": "2022-03-16T05:19:41.590Z"
   },
   {
    "duration": 27,
    "start_time": "2022-03-16T05:19:41.598Z"
   },
   {
    "duration": 47,
    "start_time": "2022-03-16T05:19:41.627Z"
   },
   {
    "duration": 5,
    "start_time": "2022-03-16T05:19:41.676Z"
   },
   {
    "duration": 34,
    "start_time": "2022-03-16T05:19:41.683Z"
   },
   {
    "duration": 6,
    "start_time": "2022-03-16T05:19:41.719Z"
   },
   {
    "duration": 23,
    "start_time": "2022-03-16T05:19:41.726Z"
   },
   {
    "duration": 9,
    "start_time": "2022-03-16T05:19:41.751Z"
   },
   {
    "duration": 30,
    "start_time": "2022-03-16T05:19:41.761Z"
   },
   {
    "duration": 584,
    "start_time": "2022-03-16T05:19:41.793Z"
   },
   {
    "duration": 4,
    "start_time": "2022-03-16T05:19:42.379Z"
   },
   {
    "duration": 7,
    "start_time": "2022-03-16T05:19:42.384Z"
   },
   {
    "duration": 24,
    "start_time": "2022-03-16T05:19:42.392Z"
   },
   {
    "duration": 4,
    "start_time": "2022-03-16T05:19:42.418Z"
   },
   {
    "duration": 5,
    "start_time": "2022-03-16T05:19:42.423Z"
   },
   {
    "duration": 54,
    "start_time": "2022-03-16T05:19:42.429Z"
   },
   {
    "duration": 8,
    "start_time": "2022-03-16T05:19:42.485Z"
   },
   {
    "duration": 514,
    "start_time": "2022-03-16T05:19:42.495Z"
   },
   {
    "duration": 367,
    "start_time": "2022-03-16T05:19:43.011Z"
   },
   {
    "duration": 292,
    "start_time": "2022-03-16T05:19:43.380Z"
   },
   {
    "duration": 334,
    "start_time": "2022-03-16T05:19:43.674Z"
   },
   {
    "duration": 5,
    "start_time": "2022-03-16T05:19:44.009Z"
   },
   {
    "duration": 4,
    "start_time": "2022-03-16T05:19:44.016Z"
   },
   {
    "duration": 38,
    "start_time": "2022-03-16T05:19:44.022Z"
   },
   {
    "duration": 363,
    "start_time": "2022-03-16T05:19:44.061Z"
   },
   {
    "duration": 377,
    "start_time": "2022-03-16T05:19:44.426Z"
   },
   {
    "duration": 22,
    "start_time": "2022-03-16T05:19:44.804Z"
   },
   {
    "duration": 38,
    "start_time": "2022-03-16T05:19:44.830Z"
   },
   {
    "duration": 13,
    "start_time": "2022-03-16T05:19:44.870Z"
   },
   {
    "duration": 78,
    "start_time": "2022-03-16T05:31:58.252Z"
   },
   {
    "duration": 26,
    "start_time": "2022-03-16T05:31:58.885Z"
   },
   {
    "duration": 14,
    "start_time": "2022-03-16T05:32:02.979Z"
   },
   {
    "duration": 98,
    "start_time": "2022-03-16T05:40:34.915Z"
   },
   {
    "duration": 988,
    "start_time": "2022-03-16T05:40:47.152Z"
   },
   {
    "duration": 813,
    "start_time": "2022-03-16T05:42:47.783Z"
   },
   {
    "duration": 116,
    "start_time": "2022-03-16T05:44:08.783Z"
   },
   {
    "duration": 816,
    "start_time": "2022-03-16T05:44:59.503Z"
   },
   {
    "duration": 933,
    "start_time": "2022-03-16T05:45:12.973Z"
   },
   {
    "duration": 500,
    "start_time": "2022-03-16T05:47:00.651Z"
   },
   {
    "duration": 554,
    "start_time": "2022-03-16T05:58:34.991Z"
   },
   {
    "duration": 557,
    "start_time": "2022-03-16T05:59:53.184Z"
   },
   {
    "duration": 5,
    "start_time": "2022-03-16T06:02:09.829Z"
   },
   {
    "duration": 5,
    "start_time": "2022-03-16T06:02:47.822Z"
   },
   {
    "duration": 508,
    "start_time": "2022-03-16T06:03:15.447Z"
   },
   {
    "duration": 5,
    "start_time": "2022-03-16T06:03:23.746Z"
   },
   {
    "duration": 456,
    "start_time": "2022-03-16T06:03:56.232Z"
   },
   {
    "duration": 6,
    "start_time": "2022-03-16T06:03:57.752Z"
   },
   {
    "duration": 7,
    "start_time": "2022-03-16T06:04:10.472Z"
   },
   {
    "duration": 431,
    "start_time": "2022-03-16T06:04:12.750Z"
   },
   {
    "duration": 110,
    "start_time": "2022-03-16T06:04:54.685Z"
   },
   {
    "duration": 2356,
    "start_time": "2022-03-16T06:05:07.364Z"
   },
   {
    "duration": 423,
    "start_time": "2022-03-16T06:05:12.479Z"
   },
   {
    "duration": 440,
    "start_time": "2022-03-16T06:05:34.322Z"
   },
   {
    "duration": 7,
    "start_time": "2022-03-16T06:05:35.988Z"
   },
   {
    "duration": 6,
    "start_time": "2022-03-16T06:05:42.051Z"
   },
   {
    "duration": 436,
    "start_time": "2022-03-16T06:05:51.895Z"
   },
   {
    "duration": 7,
    "start_time": "2022-03-16T06:05:57.988Z"
   },
   {
    "duration": 453,
    "start_time": "2022-03-16T06:06:05.941Z"
   },
   {
    "duration": 7,
    "start_time": "2022-03-16T06:06:21.365Z"
   },
   {
    "duration": 2417,
    "start_time": "2022-03-16T06:07:33.659Z"
   },
   {
    "duration": 109,
    "start_time": "2022-03-16T06:07:44.162Z"
   },
   {
    "duration": 9,
    "start_time": "2022-03-16T06:09:35.603Z"
   },
   {
    "duration": 17,
    "start_time": "2022-03-16T06:09:38.342Z"
   },
   {
    "duration": 103,
    "start_time": "2022-03-16T06:09:50.901Z"
   },
   {
    "duration": 146,
    "start_time": "2022-03-16T06:10:02.114Z"
   },
   {
    "duration": 14,
    "start_time": "2022-03-16T06:10:12.555Z"
   },
   {
    "duration": 28,
    "start_time": "2022-03-16T06:10:13.443Z"
   },
   {
    "duration": 15,
    "start_time": "2022-03-16T06:10:15.222Z"
   },
   {
    "duration": 446,
    "start_time": "2022-03-16T06:10:24.716Z"
   },
   {
    "duration": 7,
    "start_time": "2022-03-16T06:10:48.695Z"
   },
   {
    "duration": 850,
    "start_time": "2022-03-20T13:53:39.811Z"
   },
   {
    "duration": 119,
    "start_time": "2022-03-20T13:53:40.663Z"
   },
   {
    "duration": 33,
    "start_time": "2022-03-20T13:53:40.784Z"
   },
   {
    "duration": 28,
    "start_time": "2022-03-20T13:53:40.824Z"
   },
   {
    "duration": 4,
    "start_time": "2022-03-20T13:53:40.853Z"
   },
   {
    "duration": 9,
    "start_time": "2022-03-20T13:53:40.859Z"
   },
   {
    "duration": 6,
    "start_time": "2022-03-20T13:53:40.870Z"
   },
   {
    "duration": 58,
    "start_time": "2022-03-20T13:53:40.877Z"
   },
   {
    "duration": 5,
    "start_time": "2022-03-20T13:53:40.937Z"
   },
   {
    "duration": 13,
    "start_time": "2022-03-20T13:53:40.945Z"
   },
   {
    "duration": 5,
    "start_time": "2022-03-20T13:53:40.960Z"
   },
   {
    "duration": 7,
    "start_time": "2022-03-20T13:53:40.966Z"
   },
   {
    "duration": 5,
    "start_time": "2022-03-20T13:53:40.975Z"
   },
   {
    "duration": 7,
    "start_time": "2022-03-20T13:53:41.009Z"
   },
   {
    "duration": 9,
    "start_time": "2022-03-20T13:53:41.020Z"
   },
   {
    "duration": 13,
    "start_time": "2022-03-20T13:53:41.030Z"
   },
   {
    "duration": 7,
    "start_time": "2022-03-20T13:53:41.044Z"
   },
   {
    "duration": 10,
    "start_time": "2022-03-20T13:53:41.052Z"
   },
   {
    "duration": 18,
    "start_time": "2022-03-20T13:53:41.064Z"
   },
   {
    "duration": 37,
    "start_time": "2022-03-20T13:53:41.083Z"
   },
   {
    "duration": 15,
    "start_time": "2022-03-20T13:53:41.122Z"
   },
   {
    "duration": 7,
    "start_time": "2022-03-20T13:53:41.138Z"
   },
   {
    "duration": 5,
    "start_time": "2022-03-20T13:53:41.147Z"
   },
   {
    "duration": 17,
    "start_time": "2022-03-20T13:53:41.153Z"
   },
   {
    "duration": 6,
    "start_time": "2022-03-20T13:53:41.172Z"
   },
   {
    "duration": 32,
    "start_time": "2022-03-20T13:53:41.179Z"
   },
   {
    "duration": 6,
    "start_time": "2022-03-20T13:53:41.214Z"
   },
   {
    "duration": 5,
    "start_time": "2022-03-20T13:53:41.232Z"
   },
   {
    "duration": 66,
    "start_time": "2022-03-20T13:53:41.239Z"
   },
   {
    "duration": 23,
    "start_time": "2022-03-20T13:53:41.307Z"
   },
   {
    "duration": 33,
    "start_time": "2022-03-20T13:53:41.332Z"
   },
   {
    "duration": 13,
    "start_time": "2022-03-20T13:53:41.367Z"
   },
   {
    "duration": 6,
    "start_time": "2022-03-20T13:53:41.381Z"
   },
   {
    "duration": 14,
    "start_time": "2022-03-20T13:53:41.389Z"
   },
   {
    "duration": 14,
    "start_time": "2022-03-20T13:53:41.405Z"
   },
   {
    "duration": 15,
    "start_time": "2022-03-20T13:53:41.421Z"
   },
   {
    "duration": 12,
    "start_time": "2022-03-20T13:53:41.438Z"
   },
   {
    "duration": 10,
    "start_time": "2022-03-20T13:53:41.452Z"
   },
   {
    "duration": 19,
    "start_time": "2022-03-20T13:53:41.464Z"
   },
   {
    "duration": 8,
    "start_time": "2022-03-20T13:53:41.485Z"
   },
   {
    "duration": 46,
    "start_time": "2022-03-20T13:53:41.494Z"
   },
   {
    "duration": 6,
    "start_time": "2022-03-20T13:53:41.542Z"
   },
   {
    "duration": 17,
    "start_time": "2022-03-20T13:53:41.549Z"
   },
   {
    "duration": 44,
    "start_time": "2022-03-20T13:53:41.568Z"
   },
   {
    "duration": 7,
    "start_time": "2022-03-20T13:53:41.615Z"
   },
   {
    "duration": 39,
    "start_time": "2022-03-20T13:53:41.624Z"
   },
   {
    "duration": 11,
    "start_time": "2022-03-20T13:53:41.665Z"
   },
   {
    "duration": 32,
    "start_time": "2022-03-20T13:53:41.677Z"
   },
   {
    "duration": 5,
    "start_time": "2022-03-20T13:53:41.711Z"
   },
   {
    "duration": 24,
    "start_time": "2022-03-20T13:53:41.718Z"
   },
   {
    "duration": 454,
    "start_time": "2022-03-20T13:53:41.743Z"
   },
   {
    "duration": 0,
    "start_time": "2022-03-20T13:53:42.199Z"
   },
   {
    "duration": 0,
    "start_time": "2022-03-20T13:53:42.201Z"
   },
   {
    "duration": 0,
    "start_time": "2022-03-20T13:53:42.202Z"
   },
   {
    "duration": 0,
    "start_time": "2022-03-20T13:53:42.203Z"
   },
   {
    "duration": 0,
    "start_time": "2022-03-20T13:53:42.204Z"
   },
   {
    "duration": 0,
    "start_time": "2022-03-20T13:53:42.205Z"
   },
   {
    "duration": 0,
    "start_time": "2022-03-20T13:53:42.206Z"
   },
   {
    "duration": 0,
    "start_time": "2022-03-20T13:53:42.207Z"
   },
   {
    "duration": 1,
    "start_time": "2022-03-20T13:53:42.209Z"
   },
   {
    "duration": 0,
    "start_time": "2022-03-20T13:53:42.212Z"
   },
   {
    "duration": 0,
    "start_time": "2022-03-20T13:53:42.213Z"
   },
   {
    "duration": 0,
    "start_time": "2022-03-20T13:53:42.214Z"
   },
   {
    "duration": 1,
    "start_time": "2022-03-20T13:53:42.215Z"
   },
   {
    "duration": 0,
    "start_time": "2022-03-20T13:53:42.220Z"
   },
   {
    "duration": 0,
    "start_time": "2022-03-20T13:53:42.222Z"
   },
   {
    "duration": 0,
    "start_time": "2022-03-20T13:53:42.224Z"
   },
   {
    "duration": 0,
    "start_time": "2022-03-20T13:53:42.225Z"
   },
   {
    "duration": 0,
    "start_time": "2022-03-20T13:53:42.226Z"
   },
   {
    "duration": 0,
    "start_time": "2022-03-20T13:53:42.226Z"
   },
   {
    "duration": 0,
    "start_time": "2022-03-20T13:53:42.227Z"
   },
   {
    "duration": 0,
    "start_time": "2022-03-20T13:53:42.229Z"
   },
   {
    "duration": 0,
    "start_time": "2022-03-20T13:53:42.230Z"
   },
   {
    "duration": 0,
    "start_time": "2022-03-20T13:53:42.231Z"
   },
   {
    "duration": 0,
    "start_time": "2022-03-20T13:53:42.232Z"
   },
   {
    "duration": 0,
    "start_time": "2022-03-20T13:53:42.233Z"
   },
   {
    "duration": 0,
    "start_time": "2022-03-20T13:53:42.234Z"
   },
   {
    "duration": 0,
    "start_time": "2022-03-20T13:53:42.236Z"
   },
   {
    "duration": 434,
    "start_time": "2022-03-20T13:54:01.299Z"
   },
   {
    "duration": 7,
    "start_time": "2022-03-20T13:55:19.312Z"
   },
   {
    "duration": 4,
    "start_time": "2022-03-20T13:55:20.392Z"
   },
   {
    "duration": 24,
    "start_time": "2022-03-20T13:55:21.020Z"
   },
   {
    "duration": 4,
    "start_time": "2022-03-20T13:55:24.587Z"
   },
   {
    "duration": 4,
    "start_time": "2022-03-20T13:55:24.942Z"
   },
   {
    "duration": 24,
    "start_time": "2022-03-20T13:55:25.322Z"
   },
   {
    "duration": 8,
    "start_time": "2022-03-20T13:55:34.534Z"
   },
   {
    "duration": 357,
    "start_time": "2022-03-20T13:55:34.766Z"
   },
   {
    "duration": 291,
    "start_time": "2022-03-20T13:55:36.454Z"
   },
   {
    "duration": 218,
    "start_time": "2022-03-20T13:55:37.591Z"
   },
   {
    "duration": 244,
    "start_time": "2022-03-20T13:55:37.987Z"
   },
   {
    "duration": 13,
    "start_time": "2022-03-20T13:55:40.015Z"
   },
   {
    "duration": 10,
    "start_time": "2022-03-20T13:55:40.241Z"
   },
   {
    "duration": 9,
    "start_time": "2022-03-20T13:56:01.945Z"
   },
   {
    "duration": 19,
    "start_time": "2022-03-20T13:56:11.453Z"
   },
   {
    "duration": 4,
    "start_time": "2022-03-20T13:56:25.389Z"
   },
   {
    "duration": 4,
    "start_time": "2022-03-20T13:56:26.790Z"
   },
   {
    "duration": 9,
    "start_time": "2022-03-20T13:56:31.786Z"
   },
   {
    "duration": 9,
    "start_time": "2022-03-20T13:56:37.737Z"
   },
   {
    "duration": 3,
    "start_time": "2022-03-20T13:56:57.360Z"
   },
   {
    "duration": 107,
    "start_time": "2022-03-20T13:56:57.849Z"
   },
   {
    "duration": 21,
    "start_time": "2022-03-20T13:56:58.472Z"
   },
   {
    "duration": 39,
    "start_time": "2022-03-20T13:56:59.497Z"
   },
   {
    "duration": 5,
    "start_time": "2022-03-20T13:57:01.205Z"
   },
   {
    "duration": 75,
    "start_time": "2022-03-20T13:57:01.760Z"
   },
   {
    "duration": 4,
    "start_time": "2022-03-20T13:57:02.242Z"
   },
   {
    "duration": 38,
    "start_time": "2022-03-20T13:57:02.926Z"
   },
   {
    "duration": 5,
    "start_time": "2022-03-20T13:57:03.348Z"
   },
   {
    "duration": 10,
    "start_time": "2022-03-20T13:57:03.792Z"
   },
   {
    "duration": 5,
    "start_time": "2022-03-20T13:57:04.037Z"
   },
   {
    "duration": 5,
    "start_time": "2022-03-20T13:57:04.255Z"
   },
   {
    "duration": 5,
    "start_time": "2022-03-20T13:57:05.133Z"
   },
   {
    "duration": 4,
    "start_time": "2022-03-20T13:57:05.364Z"
   },
   {
    "duration": 5,
    "start_time": "2022-03-20T13:57:05.785Z"
   },
   {
    "duration": 8,
    "start_time": "2022-03-20T13:57:06.014Z"
   },
   {
    "duration": 4,
    "start_time": "2022-03-20T13:57:06.216Z"
   },
   {
    "duration": 6,
    "start_time": "2022-03-20T13:57:06.420Z"
   },
   {
    "duration": 11,
    "start_time": "2022-03-20T13:57:07.838Z"
   },
   {
    "duration": 10,
    "start_time": "2022-03-20T13:57:08.029Z"
   },
   {
    "duration": 11,
    "start_time": "2022-03-20T13:57:08.228Z"
   },
   {
    "duration": 5,
    "start_time": "2022-03-20T13:57:08.435Z"
   },
   {
    "duration": 3,
    "start_time": "2022-03-20T13:57:08.864Z"
   },
   {
    "duration": 9,
    "start_time": "2022-03-20T13:57:09.064Z"
   },
   {
    "duration": 7,
    "start_time": "2022-03-20T13:57:09.368Z"
   },
   {
    "duration": 4,
    "start_time": "2022-03-20T13:57:10.049Z"
   },
   {
    "duration": 5,
    "start_time": "2022-03-20T13:57:10.552Z"
   },
   {
    "duration": 5,
    "start_time": "2022-03-20T13:57:11.114Z"
   },
   {
    "duration": 8,
    "start_time": "2022-03-20T13:57:11.818Z"
   },
   {
    "duration": 5,
    "start_time": "2022-03-20T13:57:12.053Z"
   },
   {
    "duration": 19,
    "start_time": "2022-03-20T13:57:12.510Z"
   },
   {
    "duration": 12,
    "start_time": "2022-03-20T13:57:13.504Z"
   },
   {
    "duration": 3,
    "start_time": "2022-03-20T13:57:13.729Z"
   },
   {
    "duration": 11,
    "start_time": "2022-03-20T13:57:13.968Z"
   },
   {
    "duration": 10,
    "start_time": "2022-03-20T13:57:14.200Z"
   },
   {
    "duration": 5,
    "start_time": "2022-03-20T13:57:14.603Z"
   },
   {
    "duration": 10,
    "start_time": "2022-03-20T13:57:15.713Z"
   },
   {
    "duration": 11,
    "start_time": "2022-03-20T13:57:18.030Z"
   },
   {
    "duration": 21,
    "start_time": "2022-03-20T13:57:18.730Z"
   },
   {
    "duration": 9,
    "start_time": "2022-03-20T13:57:31.361Z"
   },
   {
    "duration": 25,
    "start_time": "2022-03-20T13:57:32.973Z"
   },
   {
    "duration": 7,
    "start_time": "2022-03-20T13:57:39.621Z"
   },
   {
    "duration": 12,
    "start_time": "2022-03-20T13:57:40.902Z"
   },
   {
    "duration": 32,
    "start_time": "2022-03-20T13:57:41.626Z"
   },
   {
    "duration": 6,
    "start_time": "2022-03-20T13:57:43.380Z"
   },
   {
    "duration": 26,
    "start_time": "2022-03-20T13:57:43.669Z"
   },
   {
    "duration": 6,
    "start_time": "2022-03-20T13:57:44.491Z"
   },
   {
    "duration": 6,
    "start_time": "2022-03-20T13:57:44.724Z"
   },
   {
    "duration": 5,
    "start_time": "2022-03-20T13:57:44.962Z"
   },
   {
    "duration": 23,
    "start_time": "2022-03-20T13:57:45.248Z"
   },
   {
    "duration": 91,
    "start_time": "2022-03-20T14:07:22.374Z"
   },
   {
    "duration": 95,
    "start_time": "2022-03-20T14:07:33.694Z"
   },
   {
    "duration": 501,
    "start_time": "2022-03-20T14:08:39.321Z"
   },
   {
    "duration": 6,
    "start_time": "2022-03-20T14:10:48.123Z"
   },
   {
    "duration": 471,
    "start_time": "2022-03-20T14:10:54.949Z"
   },
   {
    "duration": 1254,
    "start_time": "2022-03-20T14:11:49.869Z"
   },
   {
    "duration": 410,
    "start_time": "2022-03-20T14:12:51.804Z"
   },
   {
    "duration": 440,
    "start_time": "2022-03-20T14:12:58.026Z"
   },
   {
    "duration": 475,
    "start_time": "2022-03-20T14:13:36.435Z"
   },
   {
    "duration": 412,
    "start_time": "2022-03-20T14:13:41.495Z"
   },
   {
    "duration": 455,
    "start_time": "2022-03-20T14:14:20.286Z"
   },
   {
    "duration": 365,
    "start_time": "2022-03-20T14:14:59.489Z"
   },
   {
    "duration": 10,
    "start_time": "2022-03-20T14:17:34.147Z"
   },
   {
    "duration": 9,
    "start_time": "2022-03-20T14:17:35.382Z"
   },
   {
    "duration": 20,
    "start_time": "2022-03-20T14:17:39.574Z"
   },
   {
    "duration": 280,
    "start_time": "2022-03-20T14:17:40.578Z"
   },
   {
    "duration": 4,
    "start_time": "2022-03-20T14:17:53.770Z"
   },
   {
    "duration": 16,
    "start_time": "2022-03-20T14:17:55.206Z"
   },
   {
    "duration": 6,
    "start_time": "2022-03-20T14:17:58.383Z"
   },
   {
    "duration": 19,
    "start_time": "2022-03-20T14:18:02.029Z"
   },
   {
    "duration": 364,
    "start_time": "2022-03-20T14:18:03.230Z"
   },
   {
    "duration": 265,
    "start_time": "2022-03-20T14:18:09.184Z"
   },
   {
    "duration": 12,
    "start_time": "2022-03-20T14:18:21.053Z"
   },
   {
    "duration": 27,
    "start_time": "2022-03-20T14:18:21.531Z"
   },
   {
    "duration": 18,
    "start_time": "2022-03-20T14:18:21.974Z"
   },
   {
    "duration": 196,
    "start_time": "2022-03-20T14:18:23.983Z"
   },
   {
    "duration": 6,
    "start_time": "2022-03-20T14:18:24.247Z"
   },
   {
    "duration": 176,
    "start_time": "2022-03-20T14:18:24.516Z"
   },
   {
    "duration": 6,
    "start_time": "2022-03-20T14:18:25.197Z"
   },
   {
    "duration": 181,
    "start_time": "2022-03-20T14:18:25.518Z"
   },
   {
    "duration": 195,
    "start_time": "2022-03-20T14:18:25.971Z"
   },
   {
    "duration": 183,
    "start_time": "2022-03-20T14:18:26.317Z"
   },
   {
    "duration": 7,
    "start_time": "2022-03-20T14:18:26.642Z"
   },
   {
    "duration": 171,
    "start_time": "2022-03-20T14:49:27.483Z"
   },
   {
    "duration": 7,
    "start_time": "2022-03-20T14:49:28.372Z"
   },
   {
    "duration": 175,
    "start_time": "2022-03-20T14:49:30.570Z"
   },
   {
    "duration": 195,
    "start_time": "2022-03-20T14:49:31.522Z"
   },
   {
    "duration": 8,
    "start_time": "2022-03-20T14:53:22.097Z"
   },
   {
    "duration": 9,
    "start_time": "2022-03-20T14:53:33.399Z"
   },
   {
    "duration": 7,
    "start_time": "2022-03-20T14:53:52.184Z"
   },
   {
    "duration": 3,
    "start_time": "2022-03-20T15:05:08.279Z"
   },
   {
    "duration": 4,
    "start_time": "2022-03-20T15:05:29.036Z"
   },
   {
    "duration": 79,
    "start_time": "2022-03-20T15:05:41.686Z"
   },
   {
    "duration": 1422,
    "start_time": "2022-03-20T15:07:34.566Z"
   },
   {
    "duration": 3,
    "start_time": "2022-03-20T17:54:39.933Z"
   },
   {
    "duration": 156,
    "start_time": "2022-03-20T17:54:40.983Z"
   },
   {
    "duration": 4,
    "start_time": "2022-03-20T17:55:08.482Z"
   },
   {
    "duration": 7,
    "start_time": "2022-03-20T17:55:09.346Z"
   },
   {
    "duration": 481,
    "start_time": "2022-03-20T17:55:28.069Z"
   },
   {
    "duration": 3,
    "start_time": "2022-03-20T17:56:05.916Z"
   },
   {
    "duration": 100,
    "start_time": "2022-03-20T17:56:06.940Z"
   },
   {
    "duration": 22,
    "start_time": "2022-03-20T17:56:07.763Z"
   },
   {
    "duration": 3,
    "start_time": "2022-03-20T17:56:14.697Z"
   },
   {
    "duration": 279,
    "start_time": "2022-03-20T17:56:15.320Z"
   },
   {
    "duration": 10,
    "start_time": "2022-03-20T17:57:27.256Z"
   },
   {
    "duration": 15,
    "start_time": "2022-03-20T17:57:31.116Z"
   },
   {
    "duration": 10,
    "start_time": "2022-03-20T17:57:31.572Z"
   },
   {
    "duration": 3,
    "start_time": "2022-03-20T17:57:41.173Z"
   },
   {
    "duration": 108,
    "start_time": "2022-03-20T17:57:41.178Z"
   },
   {
    "duration": 41,
    "start_time": "2022-03-20T17:57:41.287Z"
   },
   {
    "duration": 27,
    "start_time": "2022-03-20T17:57:41.330Z"
   },
   {
    "duration": 4,
    "start_time": "2022-03-20T17:57:41.360Z"
   },
   {
    "duration": 6,
    "start_time": "2022-03-20T17:57:41.365Z"
   },
   {
    "duration": 4,
    "start_time": "2022-03-20T17:57:41.409Z"
   },
   {
    "duration": 25,
    "start_time": "2022-03-20T17:57:41.415Z"
   },
   {
    "duration": 6,
    "start_time": "2022-03-20T17:57:41.442Z"
   },
   {
    "duration": 11,
    "start_time": "2022-03-20T17:57:41.449Z"
   },
   {
    "duration": 6,
    "start_time": "2022-03-20T17:57:41.461Z"
   },
   {
    "duration": 6,
    "start_time": "2022-03-20T17:57:41.469Z"
   },
   {
    "duration": 4,
    "start_time": "2022-03-20T17:57:41.511Z"
   },
   {
    "duration": 7,
    "start_time": "2022-03-20T17:57:41.517Z"
   },
   {
    "duration": 15,
    "start_time": "2022-03-20T17:57:41.525Z"
   },
   {
    "duration": 8,
    "start_time": "2022-03-20T17:57:41.542Z"
   },
   {
    "duration": 6,
    "start_time": "2022-03-20T17:57:41.552Z"
   },
   {
    "duration": 7,
    "start_time": "2022-03-20T17:57:41.559Z"
   },
   {
    "duration": 18,
    "start_time": "2022-03-20T17:57:41.568Z"
   },
   {
    "duration": 27,
    "start_time": "2022-03-20T17:57:41.587Z"
   },
   {
    "duration": 16,
    "start_time": "2022-03-20T17:57:41.615Z"
   },
   {
    "duration": 8,
    "start_time": "2022-03-20T17:57:41.633Z"
   },
   {
    "duration": 6,
    "start_time": "2022-03-20T17:57:41.642Z"
   },
   {
    "duration": 18,
    "start_time": "2022-03-20T17:57:41.650Z"
   },
   {
    "duration": 21,
    "start_time": "2022-03-20T17:57:41.670Z"
   },
   {
    "duration": 19,
    "start_time": "2022-03-20T17:57:41.693Z"
   },
   {
    "duration": 10,
    "start_time": "2022-03-20T17:57:41.713Z"
   },
   {
    "duration": 11,
    "start_time": "2022-03-20T17:57:41.724Z"
   },
   {
    "duration": 10,
    "start_time": "2022-03-20T17:57:41.737Z"
   },
   {
    "duration": 10,
    "start_time": "2022-03-20T17:57:41.748Z"
   },
   {
    "duration": 25,
    "start_time": "2022-03-20T17:57:41.759Z"
   },
   {
    "duration": 21,
    "start_time": "2022-03-20T17:57:41.786Z"
   },
   {
    "duration": 10,
    "start_time": "2022-03-20T17:57:41.809Z"
   },
   {
    "duration": 12,
    "start_time": "2022-03-20T17:57:41.821Z"
   },
   {
    "duration": 10,
    "start_time": "2022-03-20T17:57:41.835Z"
   },
   {
    "duration": 22,
    "start_time": "2022-03-20T17:57:41.846Z"
   },
   {
    "duration": 21,
    "start_time": "2022-03-20T17:57:41.873Z"
   },
   {
    "duration": 16,
    "start_time": "2022-03-20T17:57:41.896Z"
   },
   {
    "duration": 26,
    "start_time": "2022-03-20T17:57:41.913Z"
   },
   {
    "duration": 19,
    "start_time": "2022-03-20T17:57:41.941Z"
   },
   {
    "duration": 15,
    "start_time": "2022-03-20T17:57:41.962Z"
   },
   {
    "duration": 52,
    "start_time": "2022-03-20T17:57:41.978Z"
   },
   {
    "duration": 5,
    "start_time": "2022-03-20T17:57:42.032Z"
   },
   {
    "duration": 29,
    "start_time": "2022-03-20T17:57:42.039Z"
   },
   {
    "duration": 6,
    "start_time": "2022-03-20T17:57:42.069Z"
   },
   {
    "duration": 6,
    "start_time": "2022-03-20T17:57:42.077Z"
   },
   {
    "duration": 29,
    "start_time": "2022-03-20T17:57:42.084Z"
   },
   {
    "duration": 14,
    "start_time": "2022-03-20T17:57:42.115Z"
   },
   {
    "duration": 3,
    "start_time": "2022-03-20T17:57:42.131Z"
   },
   {
    "duration": 357,
    "start_time": "2022-03-20T17:57:42.136Z"
   },
   {
    "duration": 1075,
    "start_time": "2022-03-20T17:57:42.495Z"
   },
   {
    "duration": 0,
    "start_time": "2022-03-20T17:57:43.571Z"
   },
   {
    "duration": 0,
    "start_time": "2022-03-20T17:57:43.572Z"
   },
   {
    "duration": 0,
    "start_time": "2022-03-20T17:57:43.573Z"
   },
   {
    "duration": 0,
    "start_time": "2022-03-20T17:57:43.575Z"
   },
   {
    "duration": 0,
    "start_time": "2022-03-20T17:57:43.575Z"
   },
   {
    "duration": 0,
    "start_time": "2022-03-20T17:57:43.577Z"
   },
   {
    "duration": 0,
    "start_time": "2022-03-20T17:57:43.578Z"
   },
   {
    "duration": 0,
    "start_time": "2022-03-20T17:57:43.579Z"
   },
   {
    "duration": 1,
    "start_time": "2022-03-20T17:57:43.579Z"
   },
   {
    "duration": 0,
    "start_time": "2022-03-20T17:57:43.580Z"
   },
   {
    "duration": 0,
    "start_time": "2022-03-20T17:57:43.581Z"
   },
   {
    "duration": 0,
    "start_time": "2022-03-20T17:57:43.583Z"
   },
   {
    "duration": 0,
    "start_time": "2022-03-20T17:57:43.584Z"
   },
   {
    "duration": 0,
    "start_time": "2022-03-20T17:57:43.585Z"
   },
   {
    "duration": 0,
    "start_time": "2022-03-20T17:57:43.586Z"
   },
   {
    "duration": 0,
    "start_time": "2022-03-20T17:57:43.587Z"
   },
   {
    "duration": 0,
    "start_time": "2022-03-20T17:57:43.588Z"
   },
   {
    "duration": 0,
    "start_time": "2022-03-20T17:57:43.589Z"
   },
   {
    "duration": 0,
    "start_time": "2022-03-20T17:57:43.590Z"
   },
   {
    "duration": 0,
    "start_time": "2022-03-20T17:57:43.591Z"
   },
   {
    "duration": 0,
    "start_time": "2022-03-20T17:57:43.592Z"
   },
   {
    "duration": 0,
    "start_time": "2022-03-20T17:57:43.593Z"
   },
   {
    "duration": 0,
    "start_time": "2022-03-20T17:57:43.594Z"
   },
   {
    "duration": 0,
    "start_time": "2022-03-20T17:57:43.595Z"
   },
   {
    "duration": 0,
    "start_time": "2022-03-20T17:57:43.596Z"
   },
   {
    "duration": 0,
    "start_time": "2022-03-20T17:57:43.597Z"
   },
   {
    "duration": 0,
    "start_time": "2022-03-20T17:57:43.598Z"
   },
   {
    "duration": 0,
    "start_time": "2022-03-20T17:57:43.599Z"
   },
   {
    "duration": 0,
    "start_time": "2022-03-20T17:57:43.600Z"
   },
   {
    "duration": 9,
    "start_time": "2022-03-20T17:58:02.722Z"
   },
   {
    "duration": 887,
    "start_time": "2022-03-22T05:24:46.326Z"
   },
   {
    "duration": 132,
    "start_time": "2022-03-22T05:24:47.215Z"
   },
   {
    "duration": 29,
    "start_time": "2022-03-22T05:24:47.348Z"
   },
   {
    "duration": 42,
    "start_time": "2022-03-22T05:24:47.379Z"
   },
   {
    "duration": 5,
    "start_time": "2022-03-22T05:24:47.422Z"
   },
   {
    "duration": 27,
    "start_time": "2022-03-22T05:24:47.429Z"
   },
   {
    "duration": 15,
    "start_time": "2022-03-22T05:24:47.458Z"
   },
   {
    "duration": 45,
    "start_time": "2022-03-22T05:24:47.475Z"
   },
   {
    "duration": 26,
    "start_time": "2022-03-22T05:24:47.522Z"
   },
   {
    "duration": 25,
    "start_time": "2022-03-22T05:24:47.551Z"
   },
   {
    "duration": 21,
    "start_time": "2022-03-22T05:24:47.578Z"
   },
   {
    "duration": 17,
    "start_time": "2022-03-22T05:24:47.601Z"
   },
   {
    "duration": 15,
    "start_time": "2022-03-22T05:24:47.619Z"
   },
   {
    "duration": 17,
    "start_time": "2022-03-22T05:24:47.636Z"
   },
   {
    "duration": 20,
    "start_time": "2022-03-22T05:24:47.655Z"
   },
   {
    "duration": 20,
    "start_time": "2022-03-22T05:24:47.677Z"
   },
   {
    "duration": 12,
    "start_time": "2022-03-22T05:24:47.699Z"
   },
   {
    "duration": 26,
    "start_time": "2022-03-22T05:24:47.712Z"
   },
   {
    "duration": 29,
    "start_time": "2022-03-22T05:24:47.739Z"
   },
   {
    "duration": 21,
    "start_time": "2022-03-22T05:24:47.770Z"
   },
   {
    "duration": 23,
    "start_time": "2022-03-22T05:24:47.792Z"
   },
   {
    "duration": 36,
    "start_time": "2022-03-22T05:24:47.817Z"
   },
   {
    "duration": 4,
    "start_time": "2022-03-22T05:24:47.855Z"
   },
   {
    "duration": 16,
    "start_time": "2022-03-22T05:24:47.860Z"
   },
   {
    "duration": 7,
    "start_time": "2022-03-22T05:24:47.878Z"
   },
   {
    "duration": 5,
    "start_time": "2022-03-22T05:24:47.887Z"
   },
   {
    "duration": 8,
    "start_time": "2022-03-22T05:24:47.893Z"
   },
   {
    "duration": 5,
    "start_time": "2022-03-22T05:24:47.906Z"
   },
   {
    "duration": 14,
    "start_time": "2022-03-22T05:24:47.913Z"
   },
   {
    "duration": 6,
    "start_time": "2022-03-22T05:24:47.929Z"
   },
   {
    "duration": 28,
    "start_time": "2022-03-22T05:24:47.937Z"
   },
   {
    "duration": 12,
    "start_time": "2022-03-22T05:24:47.967Z"
   },
   {
    "duration": 26,
    "start_time": "2022-03-22T05:24:47.980Z"
   },
   {
    "duration": 8,
    "start_time": "2022-03-22T05:24:48.008Z"
   },
   {
    "duration": 14,
    "start_time": "2022-03-22T05:24:48.018Z"
   },
   {
    "duration": 22,
    "start_time": "2022-03-22T05:24:48.034Z"
   },
   {
    "duration": 29,
    "start_time": "2022-03-22T05:24:48.058Z"
   },
   {
    "duration": 18,
    "start_time": "2022-03-22T05:24:48.089Z"
   },
   {
    "duration": 29,
    "start_time": "2022-03-22T05:24:48.109Z"
   },
   {
    "duration": 10,
    "start_time": "2022-03-22T05:24:48.140Z"
   },
   {
    "duration": 14,
    "start_time": "2022-03-22T05:24:48.152Z"
   },
   {
    "duration": 64,
    "start_time": "2022-03-22T05:24:48.168Z"
   },
   {
    "duration": 6,
    "start_time": "2022-03-22T05:24:48.234Z"
   },
   {
    "duration": 28,
    "start_time": "2022-03-22T05:24:48.241Z"
   },
   {
    "duration": 7,
    "start_time": "2022-03-22T05:24:48.270Z"
   },
   {
    "duration": 28,
    "start_time": "2022-03-22T05:24:48.278Z"
   },
   {
    "duration": 7,
    "start_time": "2022-03-22T05:24:48.308Z"
   },
   {
    "duration": 19,
    "start_time": "2022-03-22T05:24:48.317Z"
   },
   {
    "duration": 4,
    "start_time": "2022-03-22T05:24:48.337Z"
   },
   {
    "duration": 372,
    "start_time": "2022-03-22T05:24:48.342Z"
   },
   {
    "duration": 2826,
    "start_time": "2022-03-22T05:24:48.716Z"
   },
   {
    "duration": 0,
    "start_time": "2022-03-22T05:24:51.545Z"
   },
   {
    "duration": 0,
    "start_time": "2022-03-22T05:24:51.546Z"
   },
   {
    "duration": 0,
    "start_time": "2022-03-22T05:24:51.548Z"
   },
   {
    "duration": 0,
    "start_time": "2022-03-22T05:24:51.550Z"
   },
   {
    "duration": 0,
    "start_time": "2022-03-22T05:24:51.551Z"
   },
   {
    "duration": 0,
    "start_time": "2022-03-22T05:24:51.553Z"
   },
   {
    "duration": 0,
    "start_time": "2022-03-22T05:24:51.554Z"
   },
   {
    "duration": 0,
    "start_time": "2022-03-22T05:24:51.555Z"
   },
   {
    "duration": 0,
    "start_time": "2022-03-22T05:24:51.557Z"
   },
   {
    "duration": 0,
    "start_time": "2022-03-22T05:24:51.558Z"
   },
   {
    "duration": 0,
    "start_time": "2022-03-22T05:24:51.560Z"
   },
   {
    "duration": 0,
    "start_time": "2022-03-22T05:24:51.561Z"
   },
   {
    "duration": 0,
    "start_time": "2022-03-22T05:24:51.562Z"
   },
   {
    "duration": 0,
    "start_time": "2022-03-22T05:24:51.564Z"
   },
   {
    "duration": 0,
    "start_time": "2022-03-22T05:24:51.565Z"
   },
   {
    "duration": 0,
    "start_time": "2022-03-22T05:24:51.567Z"
   },
   {
    "duration": 0,
    "start_time": "2022-03-22T05:24:51.568Z"
   },
   {
    "duration": 0,
    "start_time": "2022-03-22T05:24:51.571Z"
   },
   {
    "duration": 0,
    "start_time": "2022-03-22T05:24:51.572Z"
   },
   {
    "duration": 0,
    "start_time": "2022-03-22T05:24:51.573Z"
   },
   {
    "duration": 0,
    "start_time": "2022-03-22T05:24:51.575Z"
   },
   {
    "duration": 0,
    "start_time": "2022-03-22T05:24:51.577Z"
   },
   {
    "duration": 0,
    "start_time": "2022-03-22T05:24:51.578Z"
   },
   {
    "duration": 0,
    "start_time": "2022-03-22T05:24:51.580Z"
   },
   {
    "duration": 0,
    "start_time": "2022-03-22T05:24:51.581Z"
   },
   {
    "duration": 0,
    "start_time": "2022-03-22T05:24:51.583Z"
   },
   {
    "duration": 0,
    "start_time": "2022-03-22T05:24:51.584Z"
   },
   {
    "duration": 0,
    "start_time": "2022-03-22T05:24:51.600Z"
   },
   {
    "duration": 0,
    "start_time": "2022-03-22T05:24:51.602Z"
   },
   {
    "duration": 27,
    "start_time": "2022-03-22T05:25:21.101Z"
   },
   {
    "duration": 4,
    "start_time": "2022-03-22T05:25:53.314Z"
   },
   {
    "duration": 7,
    "start_time": "2022-03-22T05:25:53.320Z"
   },
   {
    "duration": 29,
    "start_time": "2022-03-22T05:25:53.328Z"
   },
   {
    "duration": 5,
    "start_time": "2022-03-22T05:25:53.359Z"
   },
   {
    "duration": 26,
    "start_time": "2022-03-22T05:25:53.365Z"
   },
   {
    "duration": 36,
    "start_time": "2022-03-22T05:25:53.393Z"
   },
   {
    "duration": 10,
    "start_time": "2022-03-22T05:25:53.431Z"
   },
   {
    "duration": 401,
    "start_time": "2022-03-22T05:25:53.443Z"
   },
   {
    "duration": 269,
    "start_time": "2022-03-22T05:25:53.846Z"
   },
   {
    "duration": 213,
    "start_time": "2022-03-22T05:25:54.119Z"
   },
   {
    "duration": 246,
    "start_time": "2022-03-22T05:25:54.334Z"
   },
   {
    "duration": 6,
    "start_time": "2022-03-22T05:25:54.581Z"
   },
   {
    "duration": 16,
    "start_time": "2022-03-22T05:25:54.589Z"
   },
   {
    "duration": 22,
    "start_time": "2022-03-22T05:25:54.607Z"
   },
   {
    "duration": 272,
    "start_time": "2022-03-22T05:25:54.631Z"
   },
   {
    "duration": 333,
    "start_time": "2022-03-22T05:25:54.905Z"
   },
   {
    "duration": 17,
    "start_time": "2022-03-22T05:25:55.239Z"
   },
   {
    "duration": 50,
    "start_time": "2022-03-22T05:25:55.258Z"
   },
   {
    "duration": 20,
    "start_time": "2022-03-22T05:25:55.309Z"
   },
   {
    "duration": 199,
    "start_time": "2022-03-22T05:25:55.331Z"
   },
   {
    "duration": 7,
    "start_time": "2022-03-22T05:25:55.532Z"
   },
   {
    "duration": 199,
    "start_time": "2022-03-22T05:25:55.540Z"
   },
   {
    "duration": 8,
    "start_time": "2022-03-22T05:25:55.742Z"
   },
   {
    "duration": 192,
    "start_time": "2022-03-22T05:25:55.752Z"
   },
   {
    "duration": 7,
    "start_time": "2022-03-22T05:25:55.946Z"
   },
   {
    "duration": 183,
    "start_time": "2022-03-22T05:25:55.955Z"
   },
   {
    "duration": 6,
    "start_time": "2022-03-22T05:25:56.141Z"
   },
   {
    "duration": 13,
    "start_time": "2022-03-22T05:25:56.150Z"
   },
   {
    "duration": 37,
    "start_time": "2022-03-22T05:25:56.165Z"
   },
   {
    "duration": 12,
    "start_time": "2022-03-22T05:35:11.203Z"
   },
   {
    "duration": 5,
    "start_time": "2022-03-22T05:35:22.845Z"
   },
   {
    "duration": 4,
    "start_time": "2022-03-22T05:35:24.488Z"
   },
   {
    "duration": 717,
    "start_time": "2022-03-22T05:35:25.610Z"
   },
   {
    "duration": 4,
    "start_time": "2022-03-22T05:36:33.170Z"
   },
   {
    "duration": 990,
    "start_time": "2022-03-22T05:36:33.867Z"
   },
   {
    "duration": 29,
    "start_time": "2022-03-22T05:36:42.222Z"
   },
   {
    "duration": 3,
    "start_time": "2022-03-22T05:40:43.373Z"
   },
   {
    "duration": 121,
    "start_time": "2022-03-22T05:40:43.867Z"
   },
   {
    "duration": 4,
    "start_time": "2022-03-22T05:40:53.745Z"
   },
   {
    "duration": 265,
    "start_time": "2022-03-22T05:40:54.519Z"
   },
   {
    "duration": 5,
    "start_time": "2022-03-22T05:43:15.818Z"
   },
   {
    "duration": 3,
    "start_time": "2022-03-22T05:43:16.404Z"
   },
   {
    "duration": 275,
    "start_time": "2022-03-22T05:43:17.334Z"
   },
   {
    "duration": 9,
    "start_time": "2022-03-22T05:43:45.662Z"
   },
   {
    "duration": 3,
    "start_time": "2022-03-22T05:43:46.142Z"
   },
   {
    "duration": 266,
    "start_time": "2022-03-22T05:43:46.685Z"
   },
   {
    "duration": 4,
    "start_time": "2022-03-22T05:44:39.388Z"
   },
   {
    "duration": 6,
    "start_time": "2022-03-22T05:44:39.718Z"
   },
   {
    "duration": 4,
    "start_time": "2022-03-22T05:44:40.326Z"
   },
   {
    "duration": 267,
    "start_time": "2022-03-22T05:44:40.964Z"
   },
   {
    "duration": 14,
    "start_time": "2022-03-22T05:45:25.315Z"
   },
   {
    "duration": 31,
    "start_time": "2022-03-22T05:45:45.561Z"
   },
   {
    "duration": 262,
    "start_time": "2022-03-22T05:47:52.971Z"
   },
   {
    "duration": 2,
    "start_time": "2022-03-22T05:57:41.509Z"
   },
   {
    "duration": 124,
    "start_time": "2022-03-22T05:57:42.074Z"
   },
   {
    "duration": 25,
    "start_time": "2022-03-22T05:57:42.911Z"
   },
   {
    "duration": 4,
    "start_time": "2022-03-22T05:57:49.816Z"
   },
   {
    "duration": 15,
    "start_time": "2022-03-22T05:57:50.379Z"
   },
   {
    "duration": 265,
    "start_time": "2022-03-22T05:57:51.061Z"
   },
   {
    "duration": 4,
    "start_time": "2022-03-22T05:58:29.706Z"
   },
   {
    "duration": 16,
    "start_time": "2022-03-22T05:58:30.040Z"
   },
   {
    "duration": 259,
    "start_time": "2022-03-22T05:58:30.661Z"
   },
   {
    "duration": 3,
    "start_time": "2022-03-22T06:07:36.149Z"
   },
   {
    "duration": 115,
    "start_time": "2022-03-22T06:07:37.562Z"
   },
   {
    "duration": 24,
    "start_time": "2022-03-22T06:07:38.062Z"
   },
   {
    "duration": 5,
    "start_time": "2022-03-22T06:12:25.283Z"
   },
   {
    "duration": 4,
    "start_time": "2022-03-22T06:12:43.563Z"
   },
   {
    "duration": 24,
    "start_time": "2022-03-22T06:12:50.954Z"
   },
   {
    "duration": 6,
    "start_time": "2022-03-22T06:13:17.409Z"
   },
   {
    "duration": 6,
    "start_time": "2022-03-22T06:14:41.288Z"
   },
   {
    "duration": 23,
    "start_time": "2022-03-22T06:14:44.246Z"
   },
   {
    "duration": 5,
    "start_time": "2022-03-22T06:14:47.910Z"
   },
   {
    "duration": 3,
    "start_time": "2022-03-22T06:15:09.983Z"
   },
   {
    "duration": 117,
    "start_time": "2022-03-22T06:15:10.239Z"
   },
   {
    "duration": 25,
    "start_time": "2022-03-22T06:15:10.479Z"
   },
   {
    "duration": 29,
    "start_time": "2022-03-22T06:15:11.208Z"
   },
   {
    "duration": 5,
    "start_time": "2022-03-22T06:15:13.099Z"
   },
   {
    "duration": 5,
    "start_time": "2022-03-22T06:15:13.455Z"
   },
   {
    "duration": 5,
    "start_time": "2022-03-22T06:15:13.821Z"
   },
   {
    "duration": 25,
    "start_time": "2022-03-22T06:15:14.343Z"
   },
   {
    "duration": 6,
    "start_time": "2022-03-22T06:15:15.254Z"
   },
   {
    "duration": 12,
    "start_time": "2022-03-22T06:15:16.051Z"
   },
   {
    "duration": 7,
    "start_time": "2022-03-22T06:15:16.346Z"
   },
   {
    "duration": 7,
    "start_time": "2022-03-22T06:15:16.710Z"
   },
   {
    "duration": 790,
    "start_time": "2022-03-24T05:05:11.584Z"
   },
   {
    "duration": 108,
    "start_time": "2022-03-24T05:05:12.376Z"
   },
   {
    "duration": 27,
    "start_time": "2022-03-24T05:05:12.485Z"
   },
   {
    "duration": 35,
    "start_time": "2022-03-24T05:05:12.513Z"
   },
   {
    "duration": 4,
    "start_time": "2022-03-24T05:05:12.551Z"
   },
   {
    "duration": 17,
    "start_time": "2022-03-24T05:05:12.557Z"
   },
   {
    "duration": 9,
    "start_time": "2022-03-24T05:05:12.576Z"
   },
   {
    "duration": 22,
    "start_time": "2022-03-24T05:05:12.587Z"
   },
   {
    "duration": 23,
    "start_time": "2022-03-24T05:05:12.611Z"
   },
   {
    "duration": 14,
    "start_time": "2022-03-24T05:05:12.635Z"
   },
   {
    "duration": 9,
    "start_time": "2022-03-24T05:05:12.650Z"
   },
   {
    "duration": 7,
    "start_time": "2022-03-24T05:05:12.661Z"
   },
   {
    "duration": 7,
    "start_time": "2022-03-24T05:05:12.670Z"
   },
   {
    "duration": 10,
    "start_time": "2022-03-24T05:05:12.680Z"
   },
   {
    "duration": 9,
    "start_time": "2022-03-24T05:05:12.691Z"
   },
   {
    "duration": 39,
    "start_time": "2022-03-24T05:05:12.701Z"
   },
   {
    "duration": 4,
    "start_time": "2022-03-24T05:05:12.742Z"
   },
   {
    "duration": 8,
    "start_time": "2022-03-24T05:05:12.747Z"
   },
   {
    "duration": 16,
    "start_time": "2022-03-24T05:05:12.757Z"
   },
   {
    "duration": 22,
    "start_time": "2022-03-24T05:05:12.775Z"
   },
   {
    "duration": 10,
    "start_time": "2022-03-24T05:05:12.798Z"
   },
   {
    "duration": 24,
    "start_time": "2022-03-24T05:05:12.810Z"
   },
   {
    "duration": 3,
    "start_time": "2022-03-24T05:05:12.835Z"
   },
   {
    "duration": 19,
    "start_time": "2022-03-24T05:05:12.840Z"
   },
   {
    "duration": 16,
    "start_time": "2022-03-24T05:05:12.861Z"
   },
   {
    "duration": 7,
    "start_time": "2022-03-24T05:05:12.879Z"
   },
   {
    "duration": 12,
    "start_time": "2022-03-24T05:05:12.888Z"
   },
   {
    "duration": 8,
    "start_time": "2022-03-24T05:05:12.902Z"
   },
   {
    "duration": 9,
    "start_time": "2022-03-24T05:05:12.911Z"
   },
   {
    "duration": 13,
    "start_time": "2022-03-24T05:05:12.922Z"
   },
   {
    "duration": 23,
    "start_time": "2022-03-24T05:05:12.937Z"
   },
   {
    "duration": 13,
    "start_time": "2022-03-24T05:05:12.961Z"
   },
   {
    "duration": 16,
    "start_time": "2022-03-24T05:05:12.976Z"
   },
   {
    "duration": 7,
    "start_time": "2022-03-24T05:05:12.994Z"
   },
   {
    "duration": 12,
    "start_time": "2022-03-24T05:05:13.003Z"
   },
   {
    "duration": 25,
    "start_time": "2022-03-24T05:05:13.017Z"
   },
   {
    "duration": 26,
    "start_time": "2022-03-24T05:05:13.044Z"
   },
   {
    "duration": 9,
    "start_time": "2022-03-24T05:05:13.072Z"
   },
   {
    "duration": 30,
    "start_time": "2022-03-24T05:05:13.083Z"
   },
   {
    "duration": 23,
    "start_time": "2022-03-24T05:05:13.114Z"
   },
   {
    "duration": 12,
    "start_time": "2022-03-24T05:05:13.143Z"
   },
   {
    "duration": 36,
    "start_time": "2022-03-24T05:05:13.157Z"
   },
   {
    "duration": 7,
    "start_time": "2022-03-24T05:05:13.195Z"
   },
   {
    "duration": 49,
    "start_time": "2022-03-24T05:05:13.204Z"
   },
   {
    "duration": 7,
    "start_time": "2022-03-24T05:05:13.255Z"
   },
   {
    "duration": 13,
    "start_time": "2022-03-24T05:05:13.264Z"
   },
   {
    "duration": 7,
    "start_time": "2022-03-24T05:05:13.279Z"
   },
   {
    "duration": 14,
    "start_time": "2022-03-24T05:05:13.288Z"
   },
   {
    "duration": 30,
    "start_time": "2022-03-24T05:05:13.304Z"
   },
   {
    "duration": 17,
    "start_time": "2022-03-24T05:05:13.336Z"
   },
   {
    "duration": 327,
    "start_time": "2022-03-24T05:05:13.356Z"
   },
   {
    "duration": 25,
    "start_time": "2022-03-24T05:05:13.686Z"
   },
   {
    "duration": 5,
    "start_time": "2022-03-24T05:05:13.733Z"
   },
   {
    "duration": 11,
    "start_time": "2022-03-24T05:05:13.740Z"
   },
   {
    "duration": 30,
    "start_time": "2022-03-24T05:05:13.753Z"
   },
   {
    "duration": 12,
    "start_time": "2022-03-24T05:05:13.784Z"
   },
   {
    "duration": 8,
    "start_time": "2022-03-24T05:05:13.798Z"
   },
   {
    "duration": 25,
    "start_time": "2022-03-24T05:05:13.808Z"
   },
   {
    "duration": 8,
    "start_time": "2022-03-24T05:05:13.835Z"
   },
   {
    "duration": 344,
    "start_time": "2022-03-24T05:05:13.845Z"
   },
   {
    "duration": 222,
    "start_time": "2022-03-24T05:05:14.191Z"
   },
   {
    "duration": 185,
    "start_time": "2022-03-24T05:05:14.415Z"
   },
   {
    "duration": 213,
    "start_time": "2022-03-24T05:05:14.602Z"
   },
   {
    "duration": 4,
    "start_time": "2022-03-24T05:05:14.817Z"
   },
   {
    "duration": 14,
    "start_time": "2022-03-24T05:05:14.822Z"
   },
   {
    "duration": 24,
    "start_time": "2022-03-24T05:05:14.838Z"
   },
   {
    "duration": 236,
    "start_time": "2022-03-24T05:05:14.863Z"
   },
   {
    "duration": 304,
    "start_time": "2022-03-24T05:05:15.101Z"
   },
   {
    "duration": 15,
    "start_time": "2022-03-24T05:05:15.407Z"
   },
   {
    "duration": 22,
    "start_time": "2022-03-24T05:05:15.432Z"
   },
   {
    "duration": 16,
    "start_time": "2022-03-24T05:05:15.456Z"
   },
   {
    "duration": 183,
    "start_time": "2022-03-24T05:05:15.474Z"
   },
   {
    "duration": 7,
    "start_time": "2022-03-24T05:05:15.659Z"
   },
   {
    "duration": 171,
    "start_time": "2022-03-24T05:05:15.667Z"
   },
   {
    "duration": 7,
    "start_time": "2022-03-24T05:05:15.839Z"
   },
   {
    "duration": 161,
    "start_time": "2022-03-24T05:05:15.847Z"
   },
   {
    "duration": 7,
    "start_time": "2022-03-24T05:05:16.010Z"
   },
   {
    "duration": 166,
    "start_time": "2022-03-24T05:05:16.018Z"
   },
   {
    "duration": 6,
    "start_time": "2022-03-24T05:05:16.186Z"
   },
   {
    "duration": 14,
    "start_time": "2022-03-24T05:05:16.193Z"
   },
   {
    "duration": 90,
    "start_time": "2022-03-24T05:05:16.209Z"
   },
   {
    "duration": 10,
    "start_time": "2022-03-24T05:41:51.064Z"
   },
   {
    "duration": 26,
    "start_time": "2022-03-24T05:48:14.381Z"
   },
   {
    "duration": 48,
    "start_time": "2022-03-24T05:49:52.379Z"
   },
   {
    "duration": 10,
    "start_time": "2022-03-24T05:51:20.865Z"
   },
   {
    "duration": 17,
    "start_time": "2022-03-24T05:51:24.974Z"
   },
   {
    "duration": 4,
    "start_time": "2022-03-24T05:51:50.684Z"
   },
   {
    "duration": 14,
    "start_time": "2022-03-24T05:51:51.265Z"
   },
   {
    "duration": 315,
    "start_time": "2022-03-24T05:51:52.107Z"
   },
   {
    "duration": 4,
    "start_time": "2022-03-24T05:52:41.336Z"
   },
   {
    "duration": 4,
    "start_time": "2022-03-24T05:52:46.118Z"
   },
   {
    "duration": 12,
    "start_time": "2022-03-24T05:52:46.675Z"
   },
   {
    "duration": 11,
    "start_time": "2022-03-24T05:53:11.589Z"
   },
   {
    "duration": 3,
    "start_time": "2022-03-24T05:53:16.426Z"
   },
   {
    "duration": 13,
    "start_time": "2022-03-24T05:53:16.926Z"
   },
   {
    "duration": 298,
    "start_time": "2022-03-24T05:53:17.576Z"
   },
   {
    "duration": 25,
    "start_time": "2022-03-24T05:53:22.426Z"
   },
   {
    "duration": 6,
    "start_time": "2022-03-24T05:58:59.073Z"
   },
   {
    "duration": 365,
    "start_time": "2022-03-24T05:59:02.740Z"
   },
   {
    "duration": 15,
    "start_time": "2022-03-24T05:59:33.132Z"
   },
   {
    "duration": 2,
    "start_time": "2022-03-24T05:59:51.231Z"
   },
   {
    "duration": 122,
    "start_time": "2022-03-24T05:59:51.235Z"
   },
   {
    "duration": 22,
    "start_time": "2022-03-24T05:59:51.359Z"
   },
   {
    "duration": 58,
    "start_time": "2022-03-24T05:59:51.383Z"
   },
   {
    "duration": 4,
    "start_time": "2022-03-24T05:59:51.442Z"
   },
   {
    "duration": 14,
    "start_time": "2022-03-24T05:59:51.448Z"
   },
   {
    "duration": 9,
    "start_time": "2022-03-24T05:59:51.464Z"
   },
   {
    "duration": 24,
    "start_time": "2022-03-24T05:59:51.474Z"
   },
   {
    "duration": 11,
    "start_time": "2022-03-24T05:59:51.500Z"
   },
   {
    "duration": 21,
    "start_time": "2022-03-24T05:59:51.533Z"
   },
   {
    "duration": 9,
    "start_time": "2022-03-24T05:59:51.556Z"
   },
   {
    "duration": 12,
    "start_time": "2022-03-24T05:59:51.566Z"
   },
   {
    "duration": 15,
    "start_time": "2022-03-24T05:59:51.580Z"
   },
   {
    "duration": 9,
    "start_time": "2022-03-24T05:59:51.597Z"
   },
   {
    "duration": 8,
    "start_time": "2022-03-24T05:59:51.608Z"
   },
   {
    "duration": 16,
    "start_time": "2022-03-24T05:59:51.618Z"
   },
   {
    "duration": 16,
    "start_time": "2022-03-24T05:59:51.635Z"
   },
   {
    "duration": 12,
    "start_time": "2022-03-24T05:59:51.652Z"
   },
   {
    "duration": 7,
    "start_time": "2022-03-24T05:59:51.666Z"
   },
   {
    "duration": 12,
    "start_time": "2022-03-24T05:59:51.675Z"
   },
   {
    "duration": 15,
    "start_time": "2022-03-24T05:59:51.688Z"
   },
   {
    "duration": 11,
    "start_time": "2022-03-24T05:59:51.705Z"
   },
   {
    "duration": 20,
    "start_time": "2022-03-24T05:59:51.717Z"
   },
   {
    "duration": 16,
    "start_time": "2022-03-24T05:59:51.739Z"
   },
   {
    "duration": 11,
    "start_time": "2022-03-24T05:59:51.757Z"
   },
   {
    "duration": 12,
    "start_time": "2022-03-24T05:59:51.770Z"
   },
   {
    "duration": 27,
    "start_time": "2022-03-24T05:59:51.784Z"
   },
   {
    "duration": 19,
    "start_time": "2022-03-24T05:59:51.816Z"
   },
   {
    "duration": 12,
    "start_time": "2022-03-24T05:59:51.837Z"
   },
   {
    "duration": 10,
    "start_time": "2022-03-24T05:59:51.851Z"
   },
   {
    "duration": 19,
    "start_time": "2022-03-24T05:59:51.863Z"
   },
   {
    "duration": 10,
    "start_time": "2022-03-24T05:59:51.884Z"
   },
   {
    "duration": 26,
    "start_time": "2022-03-24T05:59:51.895Z"
   },
   {
    "duration": 13,
    "start_time": "2022-03-24T05:59:51.922Z"
   },
   {
    "duration": 14,
    "start_time": "2022-03-24T05:59:51.938Z"
   },
   {
    "duration": 13,
    "start_time": "2022-03-24T05:59:51.953Z"
   },
   {
    "duration": 7,
    "start_time": "2022-03-24T05:59:51.968Z"
   },
   {
    "duration": 15,
    "start_time": "2022-03-24T05:59:51.976Z"
   },
   {
    "duration": 34,
    "start_time": "2022-03-24T05:59:51.992Z"
   },
   {
    "duration": 46,
    "start_time": "2022-03-24T05:59:52.027Z"
   },
   {
    "duration": 8,
    "start_time": "2022-03-24T05:59:52.075Z"
   },
   {
    "duration": 26,
    "start_time": "2022-03-24T05:59:52.084Z"
   },
   {
    "duration": 7,
    "start_time": "2022-03-24T05:59:52.112Z"
   },
   {
    "duration": 13,
    "start_time": "2022-03-24T05:59:52.120Z"
   },
   {
    "duration": 30,
    "start_time": "2022-03-24T05:59:52.135Z"
   },
   {
    "duration": 6,
    "start_time": "2022-03-24T05:59:52.167Z"
   },
   {
    "duration": 36,
    "start_time": "2022-03-24T05:59:52.174Z"
   },
   {
    "duration": 23,
    "start_time": "2022-03-24T05:59:52.212Z"
   },
   {
    "duration": 7,
    "start_time": "2022-03-24T05:59:52.237Z"
   },
   {
    "duration": 7,
    "start_time": "2022-03-24T05:59:52.246Z"
   },
   {
    "duration": 22,
    "start_time": "2022-03-24T05:59:52.254Z"
   },
   {
    "duration": 3,
    "start_time": "2022-03-24T05:59:52.278Z"
   },
   {
    "duration": 17,
    "start_time": "2022-03-24T05:59:52.284Z"
   },
   {
    "duration": 507,
    "start_time": "2022-03-24T05:59:52.303Z"
   },
   {
    "duration": 8,
    "start_time": "2022-03-24T05:59:52.812Z"
   },
   {
    "duration": 4,
    "start_time": "2022-03-24T05:59:52.833Z"
   },
   {
    "duration": 12,
    "start_time": "2022-03-24T05:59:52.839Z"
   },
   {
    "duration": 25,
    "start_time": "2022-03-24T05:59:52.853Z"
   },
   {
    "duration": 4,
    "start_time": "2022-03-24T05:59:52.879Z"
   },
   {
    "duration": 7,
    "start_time": "2022-03-24T05:59:52.885Z"
   },
   {
    "duration": 26,
    "start_time": "2022-03-24T05:59:52.893Z"
   },
   {
    "duration": 8,
    "start_time": "2022-03-24T05:59:52.933Z"
   },
   {
    "duration": 281,
    "start_time": "2022-03-24T05:59:52.943Z"
   },
   {
    "duration": 228,
    "start_time": "2022-03-24T05:59:53.226Z"
   },
   {
    "duration": 188,
    "start_time": "2022-03-24T05:59:53.456Z"
   },
   {
    "duration": 294,
    "start_time": "2022-03-24T05:59:53.647Z"
   },
   {
    "duration": 5,
    "start_time": "2022-03-24T05:59:53.943Z"
   },
   {
    "duration": 7,
    "start_time": "2022-03-24T05:59:53.949Z"
   },
   {
    "duration": 19,
    "start_time": "2022-03-24T05:59:53.957Z"
   },
   {
    "duration": 248,
    "start_time": "2022-03-24T05:59:53.978Z"
   },
   {
    "duration": 218,
    "start_time": "2022-03-24T05:59:54.233Z"
   },
   {
    "duration": 11,
    "start_time": "2022-03-24T05:59:54.453Z"
   },
   {
    "duration": 25,
    "start_time": "2022-03-24T05:59:54.466Z"
   },
   {
    "duration": 40,
    "start_time": "2022-03-24T05:59:54.493Z"
   },
   {
    "duration": 177,
    "start_time": "2022-03-24T05:59:54.535Z"
   },
   {
    "duration": 7,
    "start_time": "2022-03-24T05:59:54.714Z"
   },
   {
    "duration": 173,
    "start_time": "2022-03-24T05:59:54.733Z"
   },
   {
    "duration": 7,
    "start_time": "2022-03-24T05:59:54.907Z"
   },
   {
    "duration": 173,
    "start_time": "2022-03-24T05:59:54.915Z"
   },
   {
    "duration": 7,
    "start_time": "2022-03-24T05:59:55.090Z"
   },
   {
    "duration": 170,
    "start_time": "2022-03-24T05:59:55.098Z"
   },
   {
    "duration": 7,
    "start_time": "2022-03-24T05:59:55.273Z"
   },
   {
    "duration": 11,
    "start_time": "2022-03-24T05:59:55.282Z"
   },
   {
    "duration": 20,
    "start_time": "2022-03-24T05:59:55.295Z"
   },
   {
    "duration": 5,
    "start_time": "2022-03-24T06:04:39.981Z"
   },
   {
    "duration": 17,
    "start_time": "2022-03-24T06:06:07.749Z"
   },
   {
    "duration": 10,
    "start_time": "2022-03-24T06:06:12.953Z"
   },
   {
    "duration": 6,
    "start_time": "2022-03-24T06:07:14.298Z"
   },
   {
    "duration": 11,
    "start_time": "2022-03-24T06:07:14.645Z"
   },
   {
    "duration": 10,
    "start_time": "2022-03-24T06:07:27.980Z"
   },
   {
    "duration": 11,
    "start_time": "2022-03-24T06:10:19.659Z"
   },
   {
    "duration": 4,
    "start_time": "2022-03-24T06:11:34.459Z"
   },
   {
    "duration": 1345,
    "start_time": "2022-03-26T12:59:19.377Z"
   },
   {
    "duration": 134,
    "start_time": "2022-03-26T12:59:20.725Z"
   },
   {
    "duration": 41,
    "start_time": "2022-03-26T12:59:20.861Z"
   },
   {
    "duration": 54,
    "start_time": "2022-03-26T12:59:20.904Z"
   },
   {
    "duration": 6,
    "start_time": "2022-03-26T12:59:20.961Z"
   },
   {
    "duration": 14,
    "start_time": "2022-03-26T12:59:20.969Z"
   },
   {
    "duration": 10,
    "start_time": "2022-03-26T12:59:20.985Z"
   },
   {
    "duration": 65,
    "start_time": "2022-03-26T12:59:20.998Z"
   },
   {
    "duration": 21,
    "start_time": "2022-03-26T12:59:21.066Z"
   },
   {
    "duration": 54,
    "start_time": "2022-03-26T12:59:21.090Z"
   },
   {
    "duration": 8,
    "start_time": "2022-03-26T12:59:21.146Z"
   },
   {
    "duration": 22,
    "start_time": "2022-03-26T12:59:21.156Z"
   },
   {
    "duration": 7,
    "start_time": "2022-03-26T12:59:21.180Z"
   },
   {
    "duration": 11,
    "start_time": "2022-03-26T12:59:21.191Z"
   },
   {
    "duration": 41,
    "start_time": "2022-03-26T12:59:21.204Z"
   },
   {
    "duration": 6,
    "start_time": "2022-03-26T12:59:21.247Z"
   },
   {
    "duration": 12,
    "start_time": "2022-03-26T12:59:21.256Z"
   },
   {
    "duration": 23,
    "start_time": "2022-03-26T12:59:21.271Z"
   },
   {
    "duration": 16,
    "start_time": "2022-03-26T12:59:21.296Z"
   },
   {
    "duration": 33,
    "start_time": "2022-03-26T12:59:21.315Z"
   },
   {
    "duration": 16,
    "start_time": "2022-03-26T12:59:21.353Z"
   },
   {
    "duration": 19,
    "start_time": "2022-03-26T12:59:21.372Z"
   },
   {
    "duration": 17,
    "start_time": "2022-03-26T12:59:21.394Z"
   },
   {
    "duration": 30,
    "start_time": "2022-03-26T12:59:21.414Z"
   },
   {
    "duration": 5,
    "start_time": "2022-03-26T12:59:21.447Z"
   },
   {
    "duration": 15,
    "start_time": "2022-03-26T12:59:21.454Z"
   },
   {
    "duration": 14,
    "start_time": "2022-03-26T12:59:21.472Z"
   },
   {
    "duration": 6,
    "start_time": "2022-03-26T12:59:21.489Z"
   },
   {
    "duration": 47,
    "start_time": "2022-03-26T12:59:21.500Z"
   },
   {
    "duration": 7,
    "start_time": "2022-03-26T12:59:21.550Z"
   },
   {
    "duration": 14,
    "start_time": "2022-03-26T12:59:21.558Z"
   },
   {
    "duration": 6,
    "start_time": "2022-03-26T12:59:21.574Z"
   },
   {
    "duration": 63,
    "start_time": "2022-03-26T12:59:21.582Z"
   },
   {
    "duration": 22,
    "start_time": "2022-03-26T12:59:21.648Z"
   },
   {
    "duration": 18,
    "start_time": "2022-03-26T12:59:21.672Z"
   },
   {
    "duration": 17,
    "start_time": "2022-03-26T12:59:21.692Z"
   },
   {
    "duration": 31,
    "start_time": "2022-03-26T12:59:21.712Z"
   },
   {
    "duration": 15,
    "start_time": "2022-03-26T12:59:21.745Z"
   },
   {
    "duration": 20,
    "start_time": "2022-03-26T12:59:21.762Z"
   },
   {
    "duration": 29,
    "start_time": "2022-03-26T12:59:21.784Z"
   },
   {
    "duration": 32,
    "start_time": "2022-03-26T12:59:21.819Z"
   },
   {
    "duration": 39,
    "start_time": "2022-03-26T12:59:21.854Z"
   },
   {
    "duration": 9,
    "start_time": "2022-03-26T12:59:21.895Z"
   },
   {
    "duration": 47,
    "start_time": "2022-03-26T12:59:21.907Z"
   },
   {
    "duration": 42,
    "start_time": "2022-03-26T12:59:21.956Z"
   },
   {
    "duration": 7,
    "start_time": "2022-03-26T12:59:22.000Z"
   },
   {
    "duration": 51,
    "start_time": "2022-03-26T12:59:22.010Z"
   },
   {
    "duration": 9,
    "start_time": "2022-03-26T12:59:22.064Z"
   },
   {
    "duration": 17,
    "start_time": "2022-03-26T12:59:22.075Z"
   },
   {
    "duration": 7,
    "start_time": "2022-03-26T12:59:22.094Z"
   },
   {
    "duration": 47,
    "start_time": "2022-03-26T12:59:22.102Z"
   },
   {
    "duration": 5,
    "start_time": "2022-03-26T12:59:22.151Z"
   },
   {
    "duration": 18,
    "start_time": "2022-03-26T12:59:22.158Z"
   },
   {
    "duration": 850,
    "start_time": "2022-03-26T12:59:22.178Z"
   },
   {
    "duration": 17,
    "start_time": "2022-03-26T12:59:23.032Z"
   },
   {
    "duration": 7,
    "start_time": "2022-03-26T12:59:23.052Z"
   },
   {
    "duration": 10,
    "start_time": "2022-03-26T12:59:23.062Z"
   },
   {
    "duration": 20,
    "start_time": "2022-03-26T12:59:23.077Z"
   },
   {
    "duration": 6,
    "start_time": "2022-03-26T12:59:23.099Z"
   },
   {
    "duration": 4,
    "start_time": "2022-03-26T12:59:23.144Z"
   },
   {
    "duration": 37,
    "start_time": "2022-03-26T12:59:23.151Z"
   },
   {
    "duration": 11,
    "start_time": "2022-03-26T12:59:23.190Z"
   },
   {
    "duration": 743,
    "start_time": "2022-03-26T12:59:23.204Z"
   },
   {
    "duration": 549,
    "start_time": "2022-03-26T12:59:23.949Z"
   },
   {
    "duration": 403,
    "start_time": "2022-03-26T12:59:24.501Z"
   },
   {
    "duration": 504,
    "start_time": "2022-03-26T12:59:24.907Z"
   },
   {
    "duration": 8,
    "start_time": "2022-03-26T12:59:25.413Z"
   },
   {
    "duration": 24,
    "start_time": "2022-03-26T12:59:25.424Z"
   },
   {
    "duration": 39,
    "start_time": "2022-03-26T12:59:25.450Z"
   },
   {
    "duration": 569,
    "start_time": "2022-03-26T12:59:25.492Z"
   },
   {
    "duration": 458,
    "start_time": "2022-03-26T12:59:26.063Z"
   },
   {
    "duration": 30,
    "start_time": "2022-03-26T12:59:26.524Z"
   },
   {
    "duration": 38,
    "start_time": "2022-03-26T12:59:26.556Z"
   },
   {
    "duration": 49,
    "start_time": "2022-03-26T12:59:26.596Z"
   },
   {
    "duration": 274,
    "start_time": "2022-03-26T12:59:26.647Z"
   },
   {
    "duration": 25,
    "start_time": "2022-03-26T12:59:26.924Z"
   },
   {
    "duration": 283,
    "start_time": "2022-03-26T12:59:26.951Z"
   },
   {
    "duration": 12,
    "start_time": "2022-03-26T12:59:27.236Z"
   },
   {
    "duration": 272,
    "start_time": "2022-03-26T12:59:27.250Z"
   },
   {
    "duration": 40,
    "start_time": "2022-03-26T12:59:27.525Z"
   },
   {
    "duration": 257,
    "start_time": "2022-03-26T12:59:27.567Z"
   },
   {
    "duration": 9,
    "start_time": "2022-03-26T12:59:27.826Z"
   },
   {
    "duration": 15,
    "start_time": "2022-03-26T12:59:27.843Z"
   },
   {
    "duration": 135,
    "start_time": "2022-03-26T12:59:27.860Z"
   },
   {
    "duration": 180,
    "start_time": "2022-03-26T14:40:34.671Z"
   },
   {
    "duration": 9,
    "start_time": "2022-03-26T15:11:24.178Z"
   },
   {
    "duration": 25,
    "start_time": "2022-03-26T15:11:37.504Z"
   },
   {
    "duration": 24,
    "start_time": "2022-03-26T15:12:40.544Z"
   },
   {
    "duration": 10,
    "start_time": "2022-03-26T15:13:05.674Z"
   },
   {
    "duration": 40,
    "start_time": "2022-03-26T15:13:11.769Z"
   },
   {
    "duration": 11,
    "start_time": "2022-03-26T15:13:24.249Z"
   },
   {
    "duration": 12,
    "start_time": "2022-03-26T15:13:34.109Z"
   },
   {
    "duration": 34,
    "start_time": "2022-03-26T15:14:25.512Z"
   },
   {
    "duration": 39,
    "start_time": "2022-03-26T15:14:55.870Z"
   },
   {
    "duration": 47,
    "start_time": "2022-03-26T15:16:21.322Z"
   },
   {
    "duration": 878,
    "start_time": "2022-03-26T15:16:29.131Z"
   },
   {
    "duration": 44,
    "start_time": "2022-03-26T15:16:49.886Z"
   },
   {
    "duration": 43,
    "start_time": "2022-03-26T15:16:56.825Z"
   },
   {
    "duration": 30,
    "start_time": "2022-03-26T15:17:01.653Z"
   },
   {
    "duration": 36,
    "start_time": "2022-03-26T15:17:06.874Z"
   },
   {
    "duration": 34,
    "start_time": "2022-03-26T15:17:31.544Z"
   },
   {
    "duration": 38,
    "start_time": "2022-03-26T15:17:45.007Z"
   },
   {
    "duration": 67,
    "start_time": "2022-03-28T05:51:50.512Z"
   },
   {
    "duration": 1173,
    "start_time": "2022-03-28T05:52:03.010Z"
   },
   {
    "duration": 132,
    "start_time": "2022-03-28T05:52:04.186Z"
   },
   {
    "duration": 45,
    "start_time": "2022-03-28T05:52:04.320Z"
   },
   {
    "duration": 36,
    "start_time": "2022-03-28T05:52:04.368Z"
   },
   {
    "duration": 6,
    "start_time": "2022-03-28T05:52:04.406Z"
   },
   {
    "duration": 37,
    "start_time": "2022-03-28T05:52:04.414Z"
   },
   {
    "duration": 7,
    "start_time": "2022-03-28T05:52:04.453Z"
   },
   {
    "duration": 27,
    "start_time": "2022-03-28T05:52:04.462Z"
   },
   {
    "duration": 52,
    "start_time": "2022-03-28T05:52:04.491Z"
   },
   {
    "duration": 26,
    "start_time": "2022-03-28T05:52:04.547Z"
   },
   {
    "duration": 8,
    "start_time": "2022-03-28T05:52:04.575Z"
   },
   {
    "duration": 20,
    "start_time": "2022-03-28T05:52:04.584Z"
   },
   {
    "duration": 38,
    "start_time": "2022-03-28T05:52:04.606Z"
   },
   {
    "duration": 7,
    "start_time": "2022-03-28T05:52:04.646Z"
   },
   {
    "duration": 6,
    "start_time": "2022-03-28T05:52:04.656Z"
   },
   {
    "duration": 7,
    "start_time": "2022-03-28T05:52:04.664Z"
   },
   {
    "duration": 9,
    "start_time": "2022-03-28T05:52:04.673Z"
   },
   {
    "duration": 15,
    "start_time": "2022-03-28T05:52:04.684Z"
   },
   {
    "duration": 5,
    "start_time": "2022-03-28T05:52:04.743Z"
   },
   {
    "duration": 9,
    "start_time": "2022-03-28T05:52:04.750Z"
   },
   {
    "duration": 17,
    "start_time": "2022-03-28T05:52:04.761Z"
   },
   {
    "duration": 15,
    "start_time": "2022-03-28T05:52:04.780Z"
   },
   {
    "duration": 47,
    "start_time": "2022-03-28T05:52:04.797Z"
   },
   {
    "duration": 9,
    "start_time": "2022-03-28T05:52:04.846Z"
   },
   {
    "duration": 4,
    "start_time": "2022-03-28T05:52:04.858Z"
   },
   {
    "duration": 14,
    "start_time": "2022-03-28T05:52:04.864Z"
   },
   {
    "duration": 11,
    "start_time": "2022-03-28T05:52:04.880Z"
   },
   {
    "duration": 6,
    "start_time": "2022-03-28T05:52:04.897Z"
   },
   {
    "duration": 39,
    "start_time": "2022-03-28T05:52:04.905Z"
   },
   {
    "duration": 7,
    "start_time": "2022-03-28T05:52:04.946Z"
   },
   {
    "duration": 9,
    "start_time": "2022-03-28T05:52:04.955Z"
   },
   {
    "duration": 5,
    "start_time": "2022-03-28T05:52:04.967Z"
   },
   {
    "duration": 24,
    "start_time": "2022-03-28T05:52:04.974Z"
   },
   {
    "duration": 16,
    "start_time": "2022-03-28T05:52:05.042Z"
   },
   {
    "duration": 16,
    "start_time": "2022-03-28T05:52:05.060Z"
   },
   {
    "duration": 13,
    "start_time": "2022-03-28T05:52:05.079Z"
   },
   {
    "duration": 10,
    "start_time": "2022-03-28T05:52:05.095Z"
   },
   {
    "duration": 44,
    "start_time": "2022-03-28T05:52:05.107Z"
   },
   {
    "duration": 17,
    "start_time": "2022-03-28T05:52:05.153Z"
   },
   {
    "duration": 27,
    "start_time": "2022-03-28T05:52:05.173Z"
   },
   {
    "duration": 12,
    "start_time": "2022-03-28T05:52:05.202Z"
   },
   {
    "duration": 39,
    "start_time": "2022-03-28T05:52:05.244Z"
   },
   {
    "duration": 16,
    "start_time": "2022-03-28T05:52:05.285Z"
   },
   {
    "duration": 46,
    "start_time": "2022-03-28T05:52:05.304Z"
   },
   {
    "duration": 41,
    "start_time": "2022-03-28T05:52:05.352Z"
   },
   {
    "duration": 7,
    "start_time": "2022-03-28T05:52:05.395Z"
   },
   {
    "duration": 49,
    "start_time": "2022-03-28T05:52:05.405Z"
   },
   {
    "duration": 8,
    "start_time": "2022-03-28T05:52:05.456Z"
   },
   {
    "duration": 8,
    "start_time": "2022-03-28T05:52:05.466Z"
   },
   {
    "duration": 6,
    "start_time": "2022-03-28T05:52:05.476Z"
   },
   {
    "duration": 15,
    "start_time": "2022-03-28T05:52:05.484Z"
   },
   {
    "duration": 4,
    "start_time": "2022-03-28T05:52:05.542Z"
   },
   {
    "duration": 17,
    "start_time": "2022-03-28T05:52:05.549Z"
   },
   {
    "duration": 531,
    "start_time": "2022-03-28T05:52:05.569Z"
   },
   {
    "duration": 8,
    "start_time": "2022-03-28T05:52:06.103Z"
   },
   {
    "duration": 10,
    "start_time": "2022-03-28T05:52:06.113Z"
   },
   {
    "duration": 5,
    "start_time": "2022-03-28T05:52:06.143Z"
   },
   {
    "duration": 15,
    "start_time": "2022-03-28T05:52:06.151Z"
   },
   {
    "duration": 5,
    "start_time": "2022-03-28T05:52:06.169Z"
   },
   {
    "duration": 5,
    "start_time": "2022-03-28T05:52:06.177Z"
   },
   {
    "duration": 71,
    "start_time": "2022-03-28T05:52:06.184Z"
   },
   {
    "duration": 11,
    "start_time": "2022-03-28T05:52:06.257Z"
   },
   {
    "duration": 537,
    "start_time": "2022-03-28T05:52:06.271Z"
   },
   {
    "duration": 388,
    "start_time": "2022-03-28T05:52:06.810Z"
   },
   {
    "duration": 12,
    "start_time": "2022-03-28T05:52:07.201Z"
   },
   {
    "duration": 304,
    "start_time": "2022-03-28T05:52:07.216Z"
   },
   {
    "duration": 346,
    "start_time": "2022-03-28T05:52:07.523Z"
   },
   {
    "duration": 7,
    "start_time": "2022-03-28T05:52:07.871Z"
   },
   {
    "duration": 14,
    "start_time": "2022-03-28T05:52:07.880Z"
   },
   {
    "duration": 47,
    "start_time": "2022-03-28T05:52:07.896Z"
   },
   {
    "duration": 382,
    "start_time": "2022-03-28T05:52:07.945Z"
   },
   {
    "duration": 454,
    "start_time": "2022-03-28T05:52:08.329Z"
   },
   {
    "duration": 193,
    "start_time": "2022-03-28T05:52:08.786Z"
   },
   {
    "duration": 18,
    "start_time": "2022-03-28T05:52:08.981Z"
   },
   {
    "duration": 58,
    "start_time": "2022-03-28T05:52:09.001Z"
   },
   {
    "duration": 24,
    "start_time": "2022-03-28T05:52:09.061Z"
   },
   {
    "duration": 281,
    "start_time": "2022-03-28T05:52:09.086Z"
   },
   {
    "duration": 10,
    "start_time": "2022-03-28T05:52:09.369Z"
   },
   {
    "duration": 267,
    "start_time": "2022-03-28T05:52:09.381Z"
   },
   {
    "duration": 8,
    "start_time": "2022-03-28T05:52:09.650Z"
   },
   {
    "duration": 260,
    "start_time": "2022-03-28T05:52:09.660Z"
   },
   {
    "duration": 17,
    "start_time": "2022-03-28T05:52:09.927Z"
   },
   {
    "duration": 255,
    "start_time": "2022-03-28T05:52:09.946Z"
   },
   {
    "duration": 8,
    "start_time": "2022-03-28T05:52:10.203Z"
   },
   {
    "duration": 31,
    "start_time": "2022-03-28T05:52:10.213Z"
   },
   {
    "duration": 37,
    "start_time": "2022-03-28T05:52:10.246Z"
   },
   {
    "duration": 10,
    "start_time": "2022-03-28T05:52:37.028Z"
   },
   {
    "duration": 13,
    "start_time": "2022-03-28T05:54:08.878Z"
   },
   {
    "duration": 37,
    "start_time": "2022-03-28T05:54:23.619Z"
   },
   {
    "duration": 21,
    "start_time": "2022-03-28T05:55:02.598Z"
   },
   {
    "duration": 12,
    "start_time": "2022-03-28T05:55:58.210Z"
   },
   {
    "duration": 9,
    "start_time": "2022-03-28T05:56:15.063Z"
   },
   {
    "duration": 4,
    "start_time": "2022-03-28T05:56:22.181Z"
   },
   {
    "duration": 129,
    "start_time": "2022-03-28T05:56:22.586Z"
   },
   {
    "duration": 36,
    "start_time": "2022-03-28T05:56:23.029Z"
   },
   {
    "duration": 112,
    "start_time": "2022-03-28T05:56:31.537Z"
   },
   {
    "duration": 27,
    "start_time": "2022-03-28T05:56:44.991Z"
   },
   {
    "duration": 16,
    "start_time": "2022-03-28T05:56:45.505Z"
   },
   {
    "duration": 4,
    "start_time": "2022-03-28T05:56:54.850Z"
   },
   {
    "duration": 135,
    "start_time": "2022-03-28T05:56:54.856Z"
   },
   {
    "duration": 35,
    "start_time": "2022-03-28T05:56:54.993Z"
   },
   {
    "duration": 36,
    "start_time": "2022-03-28T05:56:55.043Z"
   },
   {
    "duration": 6,
    "start_time": "2022-03-28T05:56:55.082Z"
   },
   {
    "duration": 8,
    "start_time": "2022-03-28T05:56:55.091Z"
   },
   {
    "duration": 5,
    "start_time": "2022-03-28T05:56:55.102Z"
   },
   {
    "duration": 26,
    "start_time": "2022-03-28T05:56:55.144Z"
   },
   {
    "duration": 17,
    "start_time": "2022-03-28T05:56:55.173Z"
   },
   {
    "duration": 54,
    "start_time": "2022-03-28T05:56:55.192Z"
   },
   {
    "duration": 8,
    "start_time": "2022-03-28T05:56:55.248Z"
   },
   {
    "duration": 15,
    "start_time": "2022-03-28T05:56:55.258Z"
   },
   {
    "duration": 6,
    "start_time": "2022-03-28T05:56:55.276Z"
   },
   {
    "duration": 12,
    "start_time": "2022-03-28T05:56:55.287Z"
   },
   {
    "duration": 43,
    "start_time": "2022-03-28T05:56:55.302Z"
   },
   {
    "duration": 10,
    "start_time": "2022-03-28T05:56:55.348Z"
   },
   {
    "duration": 15,
    "start_time": "2022-03-28T05:56:55.360Z"
   },
   {
    "duration": 11,
    "start_time": "2022-03-28T05:56:55.378Z"
   },
   {
    "duration": 8,
    "start_time": "2022-03-28T05:56:55.392Z"
   },
   {
    "duration": 41,
    "start_time": "2022-03-28T05:56:55.402Z"
   },
   {
    "duration": 18,
    "start_time": "2022-03-28T05:56:55.445Z"
   },
   {
    "duration": 17,
    "start_time": "2022-03-28T05:56:55.465Z"
   },
   {
    "duration": 15,
    "start_time": "2022-03-28T05:56:55.485Z"
   },
   {
    "duration": 46,
    "start_time": "2022-03-28T05:56:55.502Z"
   },
   {
    "duration": 5,
    "start_time": "2022-03-28T05:56:55.551Z"
   },
   {
    "duration": 15,
    "start_time": "2022-03-28T05:56:55.559Z"
   },
   {
    "duration": 11,
    "start_time": "2022-03-28T05:56:55.576Z"
   },
   {
    "duration": 7,
    "start_time": "2022-03-28T05:56:55.590Z"
   },
   {
    "duration": 50,
    "start_time": "2022-03-28T05:56:55.599Z"
   },
   {
    "duration": 8,
    "start_time": "2022-03-28T05:56:55.652Z"
   },
   {
    "duration": 11,
    "start_time": "2022-03-28T05:56:55.663Z"
   },
   {
    "duration": 7,
    "start_time": "2022-03-28T05:56:55.676Z"
   },
   {
    "duration": 75,
    "start_time": "2022-03-28T05:56:55.686Z"
   },
   {
    "duration": 18,
    "start_time": "2022-03-28T05:56:55.764Z"
   },
   {
    "duration": 16,
    "start_time": "2022-03-28T05:56:55.784Z"
   },
   {
    "duration": 49,
    "start_time": "2022-03-28T05:56:55.802Z"
   },
   {
    "duration": 6,
    "start_time": "2022-03-28T05:56:55.854Z"
   },
   {
    "duration": 17,
    "start_time": "2022-03-28T05:56:55.862Z"
   },
   {
    "duration": 17,
    "start_time": "2022-03-28T05:56:55.881Z"
   },
   {
    "duration": 65,
    "start_time": "2022-03-28T05:56:55.900Z"
   },
   {
    "duration": 12,
    "start_time": "2022-03-28T05:56:55.973Z"
   },
   {
    "duration": 64,
    "start_time": "2022-03-28T05:56:55.987Z"
   },
   {
    "duration": 12,
    "start_time": "2022-03-28T05:56:56.054Z"
   },
   {
    "duration": 17,
    "start_time": "2022-03-28T05:56:56.068Z"
   },
   {
    "duration": 75,
    "start_time": "2022-03-28T05:56:56.087Z"
   },
   {
    "duration": 7,
    "start_time": "2022-03-28T05:56:56.165Z"
   },
   {
    "duration": 23,
    "start_time": "2022-03-28T05:56:56.174Z"
   },
   {
    "duration": 24,
    "start_time": "2022-03-28T05:56:56.199Z"
   },
   {
    "duration": 22,
    "start_time": "2022-03-28T05:56:56.225Z"
   },
   {
    "duration": 19,
    "start_time": "2022-03-28T05:56:56.249Z"
   },
   {
    "duration": 31,
    "start_time": "2022-03-28T05:56:56.271Z"
   },
   {
    "duration": 5,
    "start_time": "2022-03-28T05:56:56.304Z"
   },
   {
    "duration": 29,
    "start_time": "2022-03-28T05:56:56.310Z"
   },
   {
    "duration": 503,
    "start_time": "2022-03-28T05:56:56.341Z"
   },
   {
    "duration": 9,
    "start_time": "2022-03-28T05:56:56.846Z"
   },
   {
    "duration": 8,
    "start_time": "2022-03-28T05:56:56.857Z"
   },
   {
    "duration": 15,
    "start_time": "2022-03-28T05:56:56.867Z"
   },
   {
    "duration": 25,
    "start_time": "2022-03-28T05:56:56.884Z"
   },
   {
    "duration": 9,
    "start_time": "2022-03-28T05:56:56.911Z"
   },
   {
    "duration": 20,
    "start_time": "2022-03-28T05:56:56.923Z"
   },
   {
    "duration": 33,
    "start_time": "2022-03-28T05:56:56.945Z"
   },
   {
    "duration": 11,
    "start_time": "2022-03-28T05:56:56.981Z"
   },
   {
    "duration": 569,
    "start_time": "2022-03-28T05:56:56.994Z"
   },
   {
    "duration": 405,
    "start_time": "2022-03-28T05:56:57.565Z"
   },
   {
    "duration": 12,
    "start_time": "2022-03-28T05:56:57.972Z"
   },
   {
    "duration": 23,
    "start_time": "2022-03-28T05:56:57.986Z"
   },
   {
    "duration": 321,
    "start_time": "2022-03-28T05:56:58.011Z"
   },
   {
    "duration": 345,
    "start_time": "2022-03-28T05:56:58.334Z"
   },
   {
    "duration": 6,
    "start_time": "2022-03-28T05:56:58.681Z"
   },
   {
    "duration": 8,
    "start_time": "2022-03-28T05:56:58.689Z"
   },
   {
    "duration": 55,
    "start_time": "2022-03-28T05:56:58.699Z"
   },
   {
    "duration": 723,
    "start_time": "2022-03-28T05:56:58.756Z"
   },
   {
    "duration": 765,
    "start_time": "2022-03-28T05:56:59.481Z"
   },
   {
    "duration": 537,
    "start_time": "2022-03-28T05:57:00.248Z"
   },
   {
    "duration": 19,
    "start_time": "2022-03-28T05:57:00.844Z"
   },
   {
    "duration": 96,
    "start_time": "2022-03-28T05:57:00.865Z"
   },
   {
    "duration": 82,
    "start_time": "2022-03-28T05:57:00.963Z"
   },
   {
    "duration": 512,
    "start_time": "2022-03-28T05:57:01.047Z"
   },
   {
    "duration": 10,
    "start_time": "2022-03-28T05:57:01.561Z"
   },
   {
    "duration": 338,
    "start_time": "2022-03-28T05:57:01.573Z"
   },
   {
    "duration": 8,
    "start_time": "2022-03-28T05:57:01.914Z"
   },
   {
    "duration": 270,
    "start_time": "2022-03-28T05:57:01.924Z"
   },
   {
    "duration": 9,
    "start_time": "2022-03-28T05:57:02.196Z"
   },
   {
    "duration": 278,
    "start_time": "2022-03-28T05:57:02.207Z"
   },
   {
    "duration": 8,
    "start_time": "2022-03-28T05:57:02.487Z"
   },
   {
    "duration": 11,
    "start_time": "2022-03-28T05:57:02.497Z"
   },
   {
    "duration": 63,
    "start_time": "2022-03-28T05:57:02.511Z"
   },
   {
    "duration": 9,
    "start_time": "2022-03-28T06:02:01.790Z"
   },
   {
    "duration": 8,
    "start_time": "2022-03-28T06:02:26.907Z"
   },
   {
    "duration": 10,
    "start_time": "2022-03-28T06:02:32.903Z"
   },
   {
    "duration": 15,
    "start_time": "2022-03-28T06:02:57.898Z"
   },
   {
    "duration": 8,
    "start_time": "2022-03-28T06:03:03.500Z"
   },
   {
    "duration": 9,
    "start_time": "2022-03-28T06:03:10.251Z"
   },
   {
    "duration": 9,
    "start_time": "2022-03-28T06:03:32.433Z"
   },
   {
    "duration": 290,
    "start_time": "2022-03-28T06:03:46.895Z"
   },
   {
    "duration": 9,
    "start_time": "2022-03-28T06:05:58.487Z"
   },
   {
    "duration": 10,
    "start_time": "2022-03-28T06:06:47.590Z"
   },
   {
    "duration": 23,
    "start_time": "2022-03-28T06:08:59.276Z"
   },
   {
    "duration": 822,
    "start_time": "2022-03-29T05:13:25.943Z"
   },
   {
    "duration": 109,
    "start_time": "2022-03-29T05:13:26.767Z"
   },
   {
    "duration": 25,
    "start_time": "2022-03-29T05:13:26.878Z"
   },
   {
    "duration": 25,
    "start_time": "2022-03-29T05:13:26.905Z"
   },
   {
    "duration": 4,
    "start_time": "2022-03-29T05:13:26.932Z"
   },
   {
    "duration": 7,
    "start_time": "2022-03-29T05:13:26.937Z"
   },
   {
    "duration": 3,
    "start_time": "2022-03-29T05:13:26.945Z"
   },
   {
    "duration": 21,
    "start_time": "2022-03-29T05:13:26.950Z"
   },
   {
    "duration": 42,
    "start_time": "2022-03-29T05:13:26.972Z"
   },
   {
    "duration": 20,
    "start_time": "2022-03-29T05:13:27.015Z"
   },
   {
    "duration": 5,
    "start_time": "2022-03-29T05:13:27.037Z"
   },
   {
    "duration": 10,
    "start_time": "2022-03-29T05:13:27.044Z"
   },
   {
    "duration": 5,
    "start_time": "2022-03-29T05:13:27.055Z"
   },
   {
    "duration": 6,
    "start_time": "2022-03-29T05:13:27.063Z"
   },
   {
    "duration": 34,
    "start_time": "2022-03-29T05:13:27.070Z"
   },
   {
    "duration": 6,
    "start_time": "2022-03-29T05:13:27.105Z"
   },
   {
    "duration": 6,
    "start_time": "2022-03-29T05:13:27.112Z"
   },
   {
    "duration": 11,
    "start_time": "2022-03-29T05:13:27.120Z"
   },
   {
    "duration": 3,
    "start_time": "2022-03-29T05:13:27.133Z"
   },
   {
    "duration": 10,
    "start_time": "2022-03-29T05:13:27.137Z"
   },
   {
    "duration": 17,
    "start_time": "2022-03-29T05:13:27.148Z"
   },
   {
    "duration": 39,
    "start_time": "2022-03-29T05:13:27.167Z"
   },
   {
    "duration": 9,
    "start_time": "2022-03-29T05:13:27.208Z"
   },
   {
    "duration": 6,
    "start_time": "2022-03-29T05:13:27.218Z"
   },
   {
    "duration": 6,
    "start_time": "2022-03-29T05:13:27.225Z"
   },
   {
    "duration": 15,
    "start_time": "2022-03-29T05:13:27.232Z"
   },
   {
    "duration": 7,
    "start_time": "2022-03-29T05:13:27.249Z"
   },
   {
    "duration": 8,
    "start_time": "2022-03-29T05:13:27.258Z"
   },
   {
    "duration": 8,
    "start_time": "2022-03-29T05:13:27.268Z"
   },
   {
    "duration": 25,
    "start_time": "2022-03-29T05:13:27.277Z"
   },
   {
    "duration": 7,
    "start_time": "2022-03-29T05:13:27.303Z"
   },
   {
    "duration": 5,
    "start_time": "2022-03-29T05:13:27.311Z"
   },
   {
    "duration": 22,
    "start_time": "2022-03-29T05:13:27.317Z"
   },
   {
    "duration": 10,
    "start_time": "2022-03-29T05:13:27.341Z"
   },
   {
    "duration": 11,
    "start_time": "2022-03-29T05:13:27.353Z"
   },
   {
    "duration": 13,
    "start_time": "2022-03-29T05:13:27.366Z"
   },
   {
    "duration": 24,
    "start_time": "2022-03-29T05:13:27.380Z"
   },
   {
    "duration": 12,
    "start_time": "2022-03-29T05:13:27.405Z"
   },
   {
    "duration": 15,
    "start_time": "2022-03-29T05:13:27.418Z"
   },
   {
    "duration": 23,
    "start_time": "2022-03-29T05:13:27.435Z"
   },
   {
    "duration": 8,
    "start_time": "2022-03-29T05:13:27.463Z"
   },
   {
    "duration": 41,
    "start_time": "2022-03-29T05:13:27.473Z"
   },
   {
    "duration": 7,
    "start_time": "2022-03-29T05:13:27.515Z"
   },
   {
    "duration": 25,
    "start_time": "2022-03-29T05:13:27.523Z"
   },
   {
    "duration": 44,
    "start_time": "2022-03-29T05:13:27.549Z"
   },
   {
    "duration": 6,
    "start_time": "2022-03-29T05:13:27.595Z"
   },
   {
    "duration": 23,
    "start_time": "2022-03-29T05:13:27.602Z"
   },
   {
    "duration": 5,
    "start_time": "2022-03-29T05:13:27.627Z"
   },
   {
    "duration": 8,
    "start_time": "2022-03-29T05:13:27.633Z"
   },
   {
    "duration": 9,
    "start_time": "2022-03-29T05:13:27.642Z"
   },
   {
    "duration": 19,
    "start_time": "2022-03-29T05:13:27.652Z"
   },
   {
    "duration": 3,
    "start_time": "2022-03-29T05:13:27.672Z"
   },
   {
    "duration": 25,
    "start_time": "2022-03-29T05:13:27.676Z"
   },
   {
    "duration": 336,
    "start_time": "2022-03-29T05:13:27.703Z"
   },
   {
    "duration": 10,
    "start_time": "2022-03-29T05:13:28.041Z"
   },
   {
    "duration": 5,
    "start_time": "2022-03-29T05:13:28.053Z"
   },
   {
    "duration": 4,
    "start_time": "2022-03-29T05:13:28.060Z"
   },
   {
    "duration": 14,
    "start_time": "2022-03-29T05:13:28.066Z"
   },
   {
    "duration": 21,
    "start_time": "2022-03-29T05:13:28.082Z"
   },
   {
    "duration": 11,
    "start_time": "2022-03-29T05:13:28.105Z"
   },
   {
    "duration": 23,
    "start_time": "2022-03-29T05:13:28.118Z"
   },
   {
    "duration": 8,
    "start_time": "2022-03-29T05:13:28.142Z"
   },
   {
    "duration": 345,
    "start_time": "2022-03-29T05:13:28.152Z"
   },
   {
    "duration": 234,
    "start_time": "2022-03-29T05:13:28.500Z"
   },
   {
    "duration": 11,
    "start_time": "2022-03-29T05:13:28.735Z"
   },
   {
    "duration": 15,
    "start_time": "2022-03-29T05:13:28.748Z"
   },
   {
    "duration": 220,
    "start_time": "2022-03-29T05:13:28.765Z"
   },
   {
    "duration": 15,
    "start_time": "2022-03-29T05:13:28.986Z"
   },
   {
    "duration": 14,
    "start_time": "2022-03-29T05:13:29.003Z"
   },
   {
    "duration": 207,
    "start_time": "2022-03-29T05:13:29.018Z"
   },
   {
    "duration": 4,
    "start_time": "2022-03-29T05:13:29.227Z"
   },
   {
    "duration": 13,
    "start_time": "2022-03-29T05:13:29.233Z"
   },
   {
    "duration": 20,
    "start_time": "2022-03-29T05:13:29.248Z"
   },
   {
    "duration": 233,
    "start_time": "2022-03-29T05:13:29.269Z"
   },
   {
    "duration": 434,
    "start_time": "2022-03-29T05:13:29.504Z"
   },
   {
    "duration": 275,
    "start_time": "2022-03-29T05:13:29.939Z"
   },
   {
    "duration": 12,
    "start_time": "2022-03-29T05:13:30.215Z"
   },
   {
    "duration": 81,
    "start_time": "2022-03-29T05:13:30.228Z"
   },
   {
    "duration": 15,
    "start_time": "2022-03-29T05:13:30.311Z"
   },
   {
    "duration": 373,
    "start_time": "2022-03-29T05:13:30.328Z"
   },
   {
    "duration": 7,
    "start_time": "2022-03-29T05:13:30.703Z"
   },
   {
    "duration": 320,
    "start_time": "2022-03-29T05:13:30.711Z"
   },
   {
    "duration": 7,
    "start_time": "2022-03-29T05:13:31.033Z"
   },
   {
    "duration": 360,
    "start_time": "2022-03-29T05:13:31.041Z"
   },
   {
    "duration": 6,
    "start_time": "2022-03-29T05:13:31.403Z"
   },
   {
    "duration": 314,
    "start_time": "2022-03-29T05:13:31.411Z"
   },
   {
    "duration": 8,
    "start_time": "2022-03-29T05:13:31.728Z"
   },
   {
    "duration": 75,
    "start_time": "2022-03-29T05:13:31.737Z"
   },
   {
    "duration": 41,
    "start_time": "2022-03-29T05:13:31.814Z"
   },
   {
    "duration": 6,
    "start_time": "2022-03-29T05:16:35.500Z"
   },
   {
    "duration": 7,
    "start_time": "2022-03-29T05:17:49.698Z"
   },
   {
    "duration": 11,
    "start_time": "2022-03-29T05:19:17.888Z"
   },
   {
    "duration": 12,
    "start_time": "2022-03-29T05:19:50.964Z"
   },
   {
    "duration": 11,
    "start_time": "2022-03-29T05:20:14.813Z"
   },
   {
    "duration": 2,
    "start_time": "2022-03-29T05:21:06.279Z"
   },
   {
    "duration": 106,
    "start_time": "2022-03-29T05:21:06.283Z"
   },
   {
    "duration": 23,
    "start_time": "2022-03-29T05:21:06.391Z"
   },
   {
    "duration": 31,
    "start_time": "2022-03-29T05:21:06.416Z"
   },
   {
    "duration": 4,
    "start_time": "2022-03-29T05:21:06.450Z"
   },
   {
    "duration": 12,
    "start_time": "2022-03-29T05:21:06.456Z"
   },
   {
    "duration": 5,
    "start_time": "2022-03-29T05:21:06.470Z"
   },
   {
    "duration": 44,
    "start_time": "2022-03-29T05:21:06.476Z"
   },
   {
    "duration": 13,
    "start_time": "2022-03-29T05:21:06.522Z"
   },
   {
    "duration": 20,
    "start_time": "2022-03-29T05:21:06.537Z"
   },
   {
    "duration": 5,
    "start_time": "2022-03-29T05:21:06.559Z"
   },
   {
    "duration": 35,
    "start_time": "2022-03-29T05:21:06.566Z"
   },
   {
    "duration": 5,
    "start_time": "2022-03-29T05:21:06.603Z"
   },
   {
    "duration": 6,
    "start_time": "2022-03-29T05:21:06.611Z"
   },
   {
    "duration": 5,
    "start_time": "2022-03-29T05:21:06.618Z"
   },
   {
    "duration": 8,
    "start_time": "2022-03-29T05:21:06.625Z"
   },
   {
    "duration": 9,
    "start_time": "2022-03-29T05:21:06.635Z"
   },
   {
    "duration": 11,
    "start_time": "2022-03-29T05:21:06.646Z"
   },
   {
    "duration": 5,
    "start_time": "2022-03-29T05:21:06.659Z"
   },
   {
    "duration": 37,
    "start_time": "2022-03-29T05:21:06.666Z"
   },
   {
    "duration": 14,
    "start_time": "2022-03-29T05:21:06.705Z"
   },
   {
    "duration": 15,
    "start_time": "2022-03-29T05:21:06.720Z"
   },
   {
    "duration": 11,
    "start_time": "2022-03-29T05:21:06.738Z"
   },
   {
    "duration": 10,
    "start_time": "2022-03-29T05:21:06.751Z"
   },
   {
    "duration": 5,
    "start_time": "2022-03-29T05:21:06.763Z"
   },
   {
    "duration": 14,
    "start_time": "2022-03-29T05:21:06.770Z"
   },
   {
    "duration": 21,
    "start_time": "2022-03-29T05:21:06.785Z"
   },
   {
    "duration": 5,
    "start_time": "2022-03-29T05:21:06.807Z"
   },
   {
    "duration": 8,
    "start_time": "2022-03-29T05:21:06.814Z"
   },
   {
    "duration": 7,
    "start_time": "2022-03-29T05:21:06.824Z"
   },
   {
    "duration": 9,
    "start_time": "2022-03-29T05:21:06.833Z"
   },
   {
    "duration": 7,
    "start_time": "2022-03-29T05:21:06.844Z"
   },
   {
    "duration": 23,
    "start_time": "2022-03-29T05:21:06.853Z"
   },
   {
    "duration": 33,
    "start_time": "2022-03-29T05:21:06.877Z"
   },
   {
    "duration": 11,
    "start_time": "2022-03-29T05:21:06.912Z"
   },
   {
    "duration": 12,
    "start_time": "2022-03-29T05:21:06.924Z"
   },
   {
    "duration": 8,
    "start_time": "2022-03-29T05:21:06.938Z"
   },
   {
    "duration": 14,
    "start_time": "2022-03-29T05:21:06.947Z"
   },
   {
    "duration": 12,
    "start_time": "2022-03-29T05:21:06.963Z"
   },
   {
    "duration": 39,
    "start_time": "2022-03-29T05:21:06.977Z"
   },
   {
    "duration": 8,
    "start_time": "2022-03-29T05:21:07.021Z"
   },
   {
    "duration": 26,
    "start_time": "2022-03-29T05:21:07.030Z"
   },
   {
    "duration": 6,
    "start_time": "2022-03-29T05:21:07.058Z"
   },
   {
    "duration": 13,
    "start_time": "2022-03-29T05:21:07.065Z"
   },
   {
    "duration": 50,
    "start_time": "2022-03-29T05:21:07.079Z"
   },
   {
    "duration": 5,
    "start_time": "2022-03-29T05:21:07.131Z"
   },
   {
    "duration": 12,
    "start_time": "2022-03-29T05:21:07.137Z"
   },
   {
    "duration": 5,
    "start_time": "2022-03-29T05:21:07.151Z"
   },
   {
    "duration": 9,
    "start_time": "2022-03-29T05:21:07.157Z"
   },
   {
    "duration": 33,
    "start_time": "2022-03-29T05:21:07.168Z"
   },
   {
    "duration": 11,
    "start_time": "2022-03-29T05:21:07.204Z"
   },
   {
    "duration": 4,
    "start_time": "2022-03-29T05:21:07.217Z"
   },
   {
    "duration": 14,
    "start_time": "2022-03-29T05:21:07.222Z"
   },
   {
    "duration": 339,
    "start_time": "2022-03-29T05:21:07.238Z"
   },
   {
    "duration": 7,
    "start_time": "2022-03-29T05:21:07.579Z"
   },
   {
    "duration": 14,
    "start_time": "2022-03-29T05:21:07.587Z"
   },
   {
    "duration": 3,
    "start_time": "2022-03-29T05:21:07.603Z"
   },
   {
    "duration": 14,
    "start_time": "2022-03-29T05:21:07.608Z"
   },
   {
    "duration": 4,
    "start_time": "2022-03-29T05:21:07.624Z"
   },
   {
    "duration": 5,
    "start_time": "2022-03-29T05:21:07.630Z"
   },
   {
    "duration": 26,
    "start_time": "2022-03-29T05:21:07.636Z"
   },
   {
    "duration": 8,
    "start_time": "2022-03-29T05:21:07.663Z"
   },
   {
    "duration": 366,
    "start_time": "2022-03-29T05:21:07.673Z"
   },
   {
    "duration": 238,
    "start_time": "2022-03-29T05:21:08.041Z"
   },
   {
    "duration": 10,
    "start_time": "2022-03-29T05:21:08.281Z"
   },
   {
    "duration": 15,
    "start_time": "2022-03-29T05:21:08.301Z"
   },
   {
    "duration": 196,
    "start_time": "2022-03-29T05:21:08.318Z"
   },
   {
    "duration": 10,
    "start_time": "2022-03-29T05:21:08.515Z"
   },
   {
    "duration": 17,
    "start_time": "2022-03-29T05:21:08.526Z"
   },
   {
    "duration": 224,
    "start_time": "2022-03-29T05:21:08.545Z"
   },
   {
    "duration": 9,
    "start_time": "2022-03-29T05:21:08.771Z"
   },
   {
    "duration": 20,
    "start_time": "2022-03-29T05:21:08.781Z"
   },
   {
    "duration": 14,
    "start_time": "2022-03-29T05:21:08.803Z"
   },
   {
    "duration": 4,
    "start_time": "2022-03-29T05:21:08.819Z"
   },
   {
    "duration": 10,
    "start_time": "2022-03-29T05:21:08.825Z"
   },
   {
    "duration": 17,
    "start_time": "2022-03-29T05:21:08.837Z"
   },
   {
    "duration": 257,
    "start_time": "2022-03-29T05:21:08.856Z"
   },
   {
    "duration": 216,
    "start_time": "2022-03-29T05:21:09.115Z"
   },
   {
    "duration": 209,
    "start_time": "2022-03-29T05:21:09.333Z"
   },
   {
    "duration": 11,
    "start_time": "2022-03-29T05:21:09.544Z"
   },
   {
    "duration": 24,
    "start_time": "2022-03-29T05:21:09.557Z"
   },
   {
    "duration": 34,
    "start_time": "2022-03-29T05:21:09.583Z"
   },
   {
    "duration": 172,
    "start_time": "2022-03-29T05:21:09.619Z"
   },
   {
    "duration": 12,
    "start_time": "2022-03-29T05:21:09.793Z"
   },
   {
    "duration": 166,
    "start_time": "2022-03-29T05:21:09.807Z"
   },
   {
    "duration": 7,
    "start_time": "2022-03-29T05:21:09.975Z"
   },
   {
    "duration": 171,
    "start_time": "2022-03-29T05:21:09.983Z"
   },
   {
    "duration": 6,
    "start_time": "2022-03-29T05:21:10.156Z"
   },
   {
    "duration": 172,
    "start_time": "2022-03-29T05:21:10.163Z"
   },
   {
    "duration": 6,
    "start_time": "2022-03-29T05:21:10.337Z"
   },
   {
    "duration": 9,
    "start_time": "2022-03-29T05:21:10.345Z"
   },
   {
    "duration": 25,
    "start_time": "2022-03-29T05:21:10.356Z"
   },
   {
    "duration": 7,
    "start_time": "2022-03-29T05:22:13.413Z"
   },
   {
    "duration": 1687,
    "start_time": "2022-03-29T05:22:23.419Z"
   },
   {
    "duration": 8,
    "start_time": "2022-03-29T05:22:34.749Z"
   },
   {
    "duration": 8,
    "start_time": "2022-03-29T05:22:50.899Z"
   },
   {
    "duration": 8,
    "start_time": "2022-03-29T05:23:02.840Z"
   },
   {
    "duration": 7,
    "start_time": "2022-03-29T05:23:08.975Z"
   },
   {
    "duration": 8,
    "start_time": "2022-03-29T05:23:18.979Z"
   },
   {
    "duration": 11,
    "start_time": "2022-03-29T05:23:39.391Z"
   },
   {
    "duration": 9,
    "start_time": "2022-03-29T05:23:47.800Z"
   },
   {
    "duration": 7,
    "start_time": "2022-03-29T05:23:52.640Z"
   },
   {
    "duration": 161,
    "start_time": "2022-03-29T05:27:39.496Z"
   },
   {
    "duration": 5,
    "start_time": "2022-03-29T05:27:42.701Z"
   },
   {
    "duration": 138,
    "start_time": "2022-03-29T05:27:45.133Z"
   },
   {
    "duration": 6,
    "start_time": "2022-03-29T05:27:47.888Z"
   },
   {
    "duration": 153,
    "start_time": "2022-03-29T05:27:48.935Z"
   },
   {
    "duration": 7,
    "start_time": "2022-03-29T05:27:58.794Z"
   },
   {
    "duration": 162,
    "start_time": "2022-03-29T05:28:04.172Z"
   },
   {
    "duration": 6,
    "start_time": "2022-03-29T05:28:11.147Z"
   },
   {
    "duration": 159,
    "start_time": "2022-03-29T05:28:16.722Z"
   },
   {
    "duration": 5,
    "start_time": "2022-03-29T05:28:21.720Z"
   },
   {
    "duration": 154,
    "start_time": "2022-03-29T05:28:35.077Z"
   },
   {
    "duration": 5,
    "start_time": "2022-03-29T05:28:39.267Z"
   },
   {
    "duration": 8,
    "start_time": "2022-03-29T05:35:34.163Z"
   },
   {
    "duration": 6,
    "start_time": "2022-03-29T05:39:32.307Z"
   },
   {
    "duration": 7,
    "start_time": "2022-03-29T05:39:39.939Z"
   },
   {
    "duration": 7,
    "start_time": "2022-03-29T05:42:32.090Z"
   },
   {
    "duration": 7,
    "start_time": "2022-03-29T05:42:47.699Z"
   },
   {
    "duration": 7,
    "start_time": "2022-03-29T05:43:37.162Z"
   },
   {
    "duration": 7,
    "start_time": "2022-03-29T05:43:41.082Z"
   },
   {
    "duration": 7,
    "start_time": "2022-03-29T05:43:45.962Z"
   },
   {
    "duration": 10,
    "start_time": "2022-03-29T05:44:21.951Z"
   },
   {
    "duration": 7,
    "start_time": "2022-03-29T05:44:25.489Z"
   },
   {
    "duration": 8,
    "start_time": "2022-03-29T05:45:44.282Z"
   },
   {
    "duration": 16,
    "start_time": "2022-03-29T05:46:01.606Z"
   },
   {
    "duration": 31,
    "start_time": "2022-03-29T05:48:16.314Z"
   },
   {
    "duration": 29,
    "start_time": "2022-03-29T05:48:25.227Z"
   },
   {
    "duration": 15,
    "start_time": "2022-03-29T05:48:36.760Z"
   },
   {
    "duration": 16,
    "start_time": "2022-03-29T05:48:47.951Z"
   },
   {
    "duration": 3,
    "start_time": "2022-03-29T05:48:52.494Z"
   },
   {
    "duration": 108,
    "start_time": "2022-03-29T05:48:52.498Z"
   },
   {
    "duration": 21,
    "start_time": "2022-03-29T05:48:52.608Z"
   },
   {
    "duration": 25,
    "start_time": "2022-03-29T05:48:52.631Z"
   },
   {
    "duration": 4,
    "start_time": "2022-03-29T05:48:52.658Z"
   },
   {
    "duration": 5,
    "start_time": "2022-03-29T05:48:52.664Z"
   },
   {
    "duration": 34,
    "start_time": "2022-03-29T05:48:52.670Z"
   },
   {
    "duration": 24,
    "start_time": "2022-03-29T05:48:52.706Z"
   },
   {
    "duration": 14,
    "start_time": "2022-03-29T05:48:52.732Z"
   },
   {
    "duration": 22,
    "start_time": "2022-03-29T05:48:52.748Z"
   },
   {
    "duration": 9,
    "start_time": "2022-03-29T05:48:52.771Z"
   },
   {
    "duration": 9,
    "start_time": "2022-03-29T05:48:52.802Z"
   },
   {
    "duration": 8,
    "start_time": "2022-03-29T05:48:52.813Z"
   },
   {
    "duration": 14,
    "start_time": "2022-03-29T05:48:52.824Z"
   },
   {
    "duration": 15,
    "start_time": "2022-03-29T05:48:52.839Z"
   },
   {
    "duration": 14,
    "start_time": "2022-03-29T05:48:52.855Z"
   },
   {
    "duration": 17,
    "start_time": "2022-03-29T05:48:52.871Z"
   },
   {
    "duration": 12,
    "start_time": "2022-03-29T05:48:52.890Z"
   },
   {
    "duration": 13,
    "start_time": "2022-03-29T05:48:52.905Z"
   },
   {
    "duration": 26,
    "start_time": "2022-03-29T05:48:52.920Z"
   },
   {
    "duration": 16,
    "start_time": "2022-03-29T05:48:52.948Z"
   },
   {
    "duration": 12,
    "start_time": "2022-03-29T05:48:52.966Z"
   },
   {
    "duration": 13,
    "start_time": "2022-03-29T05:48:52.980Z"
   },
   {
    "duration": 7,
    "start_time": "2022-03-29T05:48:52.995Z"
   },
   {
    "duration": 4,
    "start_time": "2022-03-29T05:48:53.004Z"
   },
   {
    "duration": 14,
    "start_time": "2022-03-29T05:48:53.010Z"
   },
   {
    "duration": 10,
    "start_time": "2022-03-29T05:48:53.026Z"
   },
   {
    "duration": 8,
    "start_time": "2022-03-29T05:48:53.038Z"
   },
   {
    "duration": 8,
    "start_time": "2022-03-29T05:48:53.048Z"
   },
   {
    "duration": 9,
    "start_time": "2022-03-29T05:48:53.058Z"
   },
   {
    "duration": 11,
    "start_time": "2022-03-29T05:48:53.068Z"
   },
   {
    "duration": 5,
    "start_time": "2022-03-29T05:48:53.101Z"
   },
   {
    "duration": 18,
    "start_time": "2022-03-29T05:48:53.107Z"
   },
   {
    "duration": 12,
    "start_time": "2022-03-29T05:48:53.126Z"
   },
   {
    "duration": 13,
    "start_time": "2022-03-29T05:48:53.140Z"
   },
   {
    "duration": 11,
    "start_time": "2022-03-29T05:48:53.154Z"
   },
   {
    "duration": 9,
    "start_time": "2022-03-29T05:48:53.167Z"
   },
   {
    "duration": 30,
    "start_time": "2022-03-29T05:48:53.177Z"
   },
   {
    "duration": 13,
    "start_time": "2022-03-29T05:48:53.208Z"
   },
   {
    "duration": 22,
    "start_time": "2022-03-29T05:48:53.223Z"
   },
   {
    "duration": 7,
    "start_time": "2022-03-29T05:48:53.250Z"
   },
   {
    "duration": 27,
    "start_time": "2022-03-29T05:48:53.259Z"
   },
   {
    "duration": 19,
    "start_time": "2022-03-29T05:48:53.287Z"
   },
   {
    "duration": 11,
    "start_time": "2022-03-29T05:48:53.308Z"
   },
   {
    "duration": 31,
    "start_time": "2022-03-29T05:48:53.321Z"
   },
   {
    "duration": 6,
    "start_time": "2022-03-29T05:48:53.354Z"
   },
   {
    "duration": 15,
    "start_time": "2022-03-29T05:48:53.362Z"
   },
   {
    "duration": 27,
    "start_time": "2022-03-29T05:48:53.379Z"
   },
   {
    "duration": 6,
    "start_time": "2022-03-29T05:48:53.408Z"
   },
   {
    "duration": 7,
    "start_time": "2022-03-29T05:48:53.416Z"
   },
   {
    "duration": 16,
    "start_time": "2022-03-29T05:48:53.424Z"
   },
   {
    "duration": 3,
    "start_time": "2022-03-29T05:48:53.441Z"
   },
   {
    "duration": 15,
    "start_time": "2022-03-29T05:48:53.446Z"
   },
   {
    "duration": 415,
    "start_time": "2022-03-29T05:48:53.463Z"
   },
   {
    "duration": 6,
    "start_time": "2022-03-29T05:48:53.879Z"
   },
   {
    "duration": 18,
    "start_time": "2022-03-29T05:48:53.886Z"
   },
   {
    "duration": 4,
    "start_time": "2022-03-29T05:48:53.906Z"
   },
   {
    "duration": 10,
    "start_time": "2022-03-29T05:48:53.911Z"
   },
   {
    "duration": 3,
    "start_time": "2022-03-29T05:48:53.923Z"
   },
   {
    "duration": 6,
    "start_time": "2022-03-29T05:48:53.927Z"
   },
   {
    "duration": 20,
    "start_time": "2022-03-29T05:48:53.934Z"
   },
   {
    "duration": 7,
    "start_time": "2022-03-29T05:48:53.956Z"
   },
   {
    "duration": 296,
    "start_time": "2022-03-29T05:48:53.964Z"
   },
   {
    "duration": 224,
    "start_time": "2022-03-29T05:48:54.262Z"
   },
   {
    "duration": 16,
    "start_time": "2022-03-29T05:48:54.488Z"
   },
   {
    "duration": 15,
    "start_time": "2022-03-29T05:48:54.506Z"
   },
   {
    "duration": 189,
    "start_time": "2022-03-29T05:48:54.523Z"
   },
   {
    "duration": 8,
    "start_time": "2022-03-29T05:48:54.713Z"
   },
   {
    "duration": 14,
    "start_time": "2022-03-29T05:48:54.723Z"
   },
   {
    "duration": 326,
    "start_time": "2022-03-29T05:48:54.738Z"
   },
   {
    "duration": 11,
    "start_time": "2022-03-29T05:48:55.066Z"
   },
   {
    "duration": 23,
    "start_time": "2022-03-29T05:48:55.079Z"
   },
   {
    "duration": 9,
    "start_time": "2022-03-29T05:48:55.104Z"
   },
   {
    "duration": 19,
    "start_time": "2022-03-29T05:48:55.115Z"
   },
   {
    "duration": 24,
    "start_time": "2022-03-29T05:48:55.136Z"
   },
   {
    "duration": 6,
    "start_time": "2022-03-29T05:48:55.162Z"
   },
   {
    "duration": 34,
    "start_time": "2022-03-29T05:48:55.170Z"
   },
   {
    "duration": 18,
    "start_time": "2022-03-29T05:48:55.206Z"
   },
   {
    "duration": 538,
    "start_time": "2022-03-29T05:48:55.226Z"
   },
   {
    "duration": 228,
    "start_time": "2022-03-29T05:48:55.766Z"
   },
   {
    "duration": 120,
    "start_time": "2022-03-29T05:48:55.996Z"
   },
   {
    "duration": 8,
    "start_time": "2022-03-29T05:48:56.118Z"
   },
   {
    "duration": 6,
    "start_time": "2022-03-29T05:48:56.128Z"
   },
   {
    "duration": 29,
    "start_time": "2022-03-29T05:48:56.136Z"
   },
   {
    "duration": 46,
    "start_time": "2022-03-29T05:48:56.167Z"
   },
   {
    "duration": 180,
    "start_time": "2022-03-29T05:48:56.214Z"
   },
   {
    "duration": 9,
    "start_time": "2022-03-29T05:48:56.396Z"
   },
   {
    "duration": 175,
    "start_time": "2022-03-29T05:48:56.407Z"
   },
   {
    "duration": 17,
    "start_time": "2022-03-29T05:48:56.584Z"
   },
   {
    "duration": 218,
    "start_time": "2022-03-29T05:48:56.603Z"
   },
   {
    "duration": 5,
    "start_time": "2022-03-29T05:48:56.823Z"
   },
   {
    "duration": 310,
    "start_time": "2022-03-29T05:48:56.829Z"
   },
   {
    "duration": 5,
    "start_time": "2022-03-29T05:48:57.141Z"
   },
   {
    "duration": 58,
    "start_time": "2022-03-29T05:48:57.148Z"
   },
   {
    "duration": 33,
    "start_time": "2022-03-29T05:48:57.208Z"
   },
   {
    "duration": 14,
    "start_time": "2022-03-29T05:53:33.233Z"
   },
   {
    "duration": 15,
    "start_time": "2022-03-29T05:53:40.102Z"
   },
   {
    "duration": 13,
    "start_time": "2022-03-29T05:53:53.630Z"
   },
   {
    "duration": 2,
    "start_time": "2022-03-29T05:53:57.925Z"
   },
   {
    "duration": 122,
    "start_time": "2022-03-29T05:53:57.929Z"
   },
   {
    "duration": 54,
    "start_time": "2022-03-29T05:53:58.053Z"
   },
   {
    "duration": 41,
    "start_time": "2022-03-29T05:53:58.109Z"
   },
   {
    "duration": 5,
    "start_time": "2022-03-29T05:53:58.152Z"
   },
   {
    "duration": 26,
    "start_time": "2022-03-29T05:53:58.159Z"
   },
   {
    "duration": 42,
    "start_time": "2022-03-29T05:53:58.186Z"
   },
   {
    "duration": 30,
    "start_time": "2022-03-29T05:53:58.229Z"
   },
   {
    "duration": 12,
    "start_time": "2022-03-29T05:53:58.261Z"
   },
   {
    "duration": 20,
    "start_time": "2022-03-29T05:53:58.274Z"
   },
   {
    "duration": 5,
    "start_time": "2022-03-29T05:53:58.296Z"
   },
   {
    "duration": 10,
    "start_time": "2022-03-29T05:53:58.303Z"
   },
   {
    "duration": 5,
    "start_time": "2022-03-29T05:53:58.316Z"
   },
   {
    "duration": 8,
    "start_time": "2022-03-29T05:53:58.323Z"
   },
   {
    "duration": 5,
    "start_time": "2022-03-29T05:53:58.333Z"
   },
   {
    "duration": 13,
    "start_time": "2022-03-29T05:53:58.339Z"
   },
   {
    "duration": 13,
    "start_time": "2022-03-29T05:53:58.353Z"
   },
   {
    "duration": 12,
    "start_time": "2022-03-29T05:53:58.367Z"
   },
   {
    "duration": 3,
    "start_time": "2022-03-29T05:53:58.401Z"
   },
   {
    "duration": 7,
    "start_time": "2022-03-29T05:53:58.407Z"
   },
   {
    "duration": 15,
    "start_time": "2022-03-29T05:53:58.415Z"
   },
   {
    "duration": 13,
    "start_time": "2022-03-29T05:53:58.432Z"
   },
   {
    "duration": 12,
    "start_time": "2022-03-29T05:53:58.447Z"
   },
   {
    "duration": 8,
    "start_time": "2022-03-29T05:53:58.460Z"
   },
   {
    "duration": 5,
    "start_time": "2022-03-29T05:53:58.469Z"
   },
   {
    "duration": 25,
    "start_time": "2022-03-29T05:53:58.476Z"
   },
   {
    "duration": 10,
    "start_time": "2022-03-29T05:53:58.502Z"
   },
   {
    "duration": 6,
    "start_time": "2022-03-29T05:53:58.514Z"
   },
   {
    "duration": 9,
    "start_time": "2022-03-29T05:53:58.522Z"
   },
   {
    "duration": 8,
    "start_time": "2022-03-29T05:53:58.532Z"
   },
   {
    "duration": 10,
    "start_time": "2022-03-29T05:53:58.542Z"
   },
   {
    "duration": 8,
    "start_time": "2022-03-29T05:53:58.553Z"
   },
   {
    "duration": 25,
    "start_time": "2022-03-29T05:53:58.562Z"
   },
   {
    "duration": 19,
    "start_time": "2022-03-29T05:53:58.589Z"
   },
   {
    "duration": 11,
    "start_time": "2022-03-29T05:53:58.610Z"
   },
   {
    "duration": 13,
    "start_time": "2022-03-29T05:53:58.622Z"
   },
   {
    "duration": 4,
    "start_time": "2022-03-29T05:53:58.639Z"
   },
   {
    "duration": 14,
    "start_time": "2022-03-29T05:53:58.645Z"
   },
   {
    "duration": 14,
    "start_time": "2022-03-29T05:53:58.660Z"
   },
   {
    "duration": 42,
    "start_time": "2022-03-29T05:53:58.675Z"
   },
   {
    "duration": 8,
    "start_time": "2022-03-29T05:53:58.719Z"
   },
   {
    "duration": 24,
    "start_time": "2022-03-29T05:53:58.729Z"
   },
   {
    "duration": 6,
    "start_time": "2022-03-29T05:53:58.755Z"
   },
   {
    "duration": 12,
    "start_time": "2022-03-29T05:53:58.763Z"
   },
   {
    "duration": 28,
    "start_time": "2022-03-29T05:53:58.802Z"
   },
   {
    "duration": 5,
    "start_time": "2022-03-29T05:53:58.832Z"
   },
   {
    "duration": 13,
    "start_time": "2022-03-29T05:53:58.839Z"
   },
   {
    "duration": 6,
    "start_time": "2022-03-29T05:53:58.854Z"
   },
   {
    "duration": 7,
    "start_time": "2022-03-29T05:53:58.861Z"
   },
   {
    "duration": 31,
    "start_time": "2022-03-29T05:53:58.870Z"
   },
   {
    "duration": 10,
    "start_time": "2022-03-29T05:53:58.903Z"
   },
   {
    "duration": 3,
    "start_time": "2022-03-29T05:53:58.915Z"
   },
   {
    "duration": 14,
    "start_time": "2022-03-29T05:53:58.920Z"
   },
   {
    "duration": 331,
    "start_time": "2022-03-29T05:53:58.935Z"
   },
   {
    "duration": 6,
    "start_time": "2022-03-29T05:53:59.268Z"
   },
   {
    "duration": 10,
    "start_time": "2022-03-29T05:53:59.276Z"
   },
   {
    "duration": 14,
    "start_time": "2022-03-29T05:53:59.287Z"
   },
   {
    "duration": 11,
    "start_time": "2022-03-29T05:53:59.303Z"
   },
   {
    "duration": 4,
    "start_time": "2022-03-29T05:53:59.315Z"
   },
   {
    "duration": 5,
    "start_time": "2022-03-29T05:53:59.320Z"
   },
   {
    "duration": 23,
    "start_time": "2022-03-29T05:53:59.326Z"
   },
   {
    "duration": 7,
    "start_time": "2022-03-29T05:53:59.350Z"
   },
   {
    "duration": 401,
    "start_time": "2022-03-29T05:53:59.359Z"
   },
   {
    "duration": 226,
    "start_time": "2022-03-29T05:53:59.761Z"
   },
   {
    "duration": 17,
    "start_time": "2022-03-29T05:53:59.988Z"
   },
   {
    "duration": 17,
    "start_time": "2022-03-29T05:54:00.006Z"
   },
   {
    "duration": 192,
    "start_time": "2022-03-29T05:54:00.025Z"
   },
   {
    "duration": 9,
    "start_time": "2022-03-29T05:54:00.218Z"
   },
   {
    "duration": 16,
    "start_time": "2022-03-29T05:54:00.229Z"
   },
   {
    "duration": 220,
    "start_time": "2022-03-29T05:54:00.247Z"
   },
   {
    "duration": 8,
    "start_time": "2022-03-29T05:54:00.469Z"
   },
   {
    "duration": 26,
    "start_time": "2022-03-29T05:54:00.478Z"
   },
   {
    "duration": 7,
    "start_time": "2022-03-29T05:54:00.506Z"
   },
   {
    "duration": 16,
    "start_time": "2022-03-29T05:54:00.515Z"
   },
   {
    "duration": 28,
    "start_time": "2022-03-29T05:54:00.533Z"
   },
   {
    "duration": 4,
    "start_time": "2022-03-29T05:54:00.563Z"
   },
   {
    "duration": 9,
    "start_time": "2022-03-29T05:54:00.569Z"
   },
   {
    "duration": 31,
    "start_time": "2022-03-29T05:54:00.580Z"
   },
   {
    "duration": 229,
    "start_time": "2022-03-29T05:54:00.613Z"
   },
   {
    "duration": 221,
    "start_time": "2022-03-29T05:54:00.844Z"
   },
   {
    "duration": 248,
    "start_time": "2022-03-29T05:54:01.067Z"
   },
   {
    "duration": 9,
    "start_time": "2022-03-29T05:54:01.316Z"
   },
   {
    "duration": 17,
    "start_time": "2022-03-29T05:54:01.326Z"
   },
   {
    "duration": 35,
    "start_time": "2022-03-29T05:54:01.345Z"
   },
   {
    "duration": 14,
    "start_time": "2022-03-29T05:54:01.381Z"
   },
   {
    "duration": 218,
    "start_time": "2022-03-29T05:54:01.401Z"
   },
   {
    "duration": 5,
    "start_time": "2022-03-29T05:54:01.621Z"
   },
   {
    "duration": 374,
    "start_time": "2022-03-29T05:54:01.627Z"
   },
   {
    "duration": 6,
    "start_time": "2022-03-29T05:54:02.003Z"
   },
   {
    "duration": 332,
    "start_time": "2022-03-29T05:54:02.010Z"
   },
   {
    "duration": 60,
    "start_time": "2022-03-29T05:54:02.344Z"
   },
   {
    "duration": 338,
    "start_time": "2022-03-29T05:54:02.405Z"
   },
   {
    "duration": 7,
    "start_time": "2022-03-29T05:54:02.801Z"
   },
   {
    "duration": 18,
    "start_time": "2022-03-29T05:54:02.809Z"
   },
   {
    "duration": 23,
    "start_time": "2022-03-29T05:54:02.829Z"
   },
   {
    "duration": 1240,
    "start_time": "2022-03-29T20:01:05.142Z"
   },
   {
    "duration": 142,
    "start_time": "2022-03-29T20:01:06.386Z"
   },
   {
    "duration": 45,
    "start_time": "2022-03-29T20:01:06.530Z"
   },
   {
    "duration": 37,
    "start_time": "2022-03-29T20:01:06.579Z"
   },
   {
    "duration": 7,
    "start_time": "2022-03-29T20:01:06.644Z"
   },
   {
    "duration": 9,
    "start_time": "2022-03-29T20:01:06.654Z"
   },
   {
    "duration": 7,
    "start_time": "2022-03-29T20:01:06.665Z"
   },
   {
    "duration": 73,
    "start_time": "2022-03-29T20:01:06.675Z"
   },
   {
    "duration": 22,
    "start_time": "2022-03-29T20:01:06.751Z"
   },
   {
    "duration": 27,
    "start_time": "2022-03-29T20:01:06.779Z"
   },
   {
    "duration": 41,
    "start_time": "2022-03-29T20:01:06.809Z"
   },
   {
    "duration": 17,
    "start_time": "2022-03-29T20:01:06.853Z"
   },
   {
    "duration": 9,
    "start_time": "2022-03-29T20:01:06.872Z"
   },
   {
    "duration": 10,
    "start_time": "2022-03-29T20:01:06.883Z"
   },
   {
    "duration": 52,
    "start_time": "2022-03-29T20:01:06.896Z"
   },
   {
    "duration": 10,
    "start_time": "2022-03-29T20:01:06.951Z"
   },
   {
    "duration": 10,
    "start_time": "2022-03-29T20:01:06.963Z"
   },
   {
    "duration": 21,
    "start_time": "2022-03-29T20:01:06.976Z"
   },
   {
    "duration": 6,
    "start_time": "2022-03-29T20:01:07.000Z"
   },
   {
    "duration": 10,
    "start_time": "2022-03-29T20:01:07.043Z"
   },
   {
    "duration": 18,
    "start_time": "2022-03-29T20:01:07.056Z"
   },
   {
    "duration": 18,
    "start_time": "2022-03-29T20:01:07.077Z"
   },
   {
    "duration": 48,
    "start_time": "2022-03-29T20:01:07.097Z"
   },
   {
    "duration": 9,
    "start_time": "2022-03-29T20:01:07.147Z"
   },
   {
    "duration": 5,
    "start_time": "2022-03-29T20:01:07.159Z"
   },
   {
    "duration": 19,
    "start_time": "2022-03-29T20:01:07.167Z"
   },
   {
    "duration": 11,
    "start_time": "2022-03-29T20:01:07.189Z"
   },
   {
    "duration": 37,
    "start_time": "2022-03-29T20:01:07.207Z"
   },
   {
    "duration": 7,
    "start_time": "2022-03-29T20:01:07.246Z"
   },
   {
    "duration": 9,
    "start_time": "2022-03-29T20:01:07.255Z"
   },
   {
    "duration": 12,
    "start_time": "2022-03-29T20:01:07.266Z"
   },
   {
    "duration": 17,
    "start_time": "2022-03-29T20:01:07.280Z"
   },
   {
    "duration": 56,
    "start_time": "2022-03-29T20:01:07.299Z"
   },
   {
    "duration": 15,
    "start_time": "2022-03-29T20:01:07.357Z"
   },
   {
    "duration": 18,
    "start_time": "2022-03-29T20:01:07.374Z"
   },
   {
    "duration": 19,
    "start_time": "2022-03-29T20:01:07.394Z"
   },
   {
    "duration": 28,
    "start_time": "2022-03-29T20:01:07.415Z"
   },
   {
    "duration": 14,
    "start_time": "2022-03-29T20:01:07.445Z"
   },
   {
    "duration": 20,
    "start_time": "2022-03-29T20:01:07.461Z"
   },
   {
    "duration": 28,
    "start_time": "2022-03-29T20:01:07.483Z"
   },
   {
    "duration": 33,
    "start_time": "2022-03-29T20:01:07.514Z"
   },
   {
    "duration": 49,
    "start_time": "2022-03-29T20:01:07.549Z"
   },
   {
    "duration": 10,
    "start_time": "2022-03-29T20:01:07.600Z"
   },
   {
    "duration": 42,
    "start_time": "2022-03-29T20:01:07.612Z"
   },
   {
    "duration": 43,
    "start_time": "2022-03-29T20:01:07.656Z"
   },
   {
    "duration": 8,
    "start_time": "2022-03-29T20:01:07.701Z"
   },
   {
    "duration": 48,
    "start_time": "2022-03-29T20:01:07.711Z"
   },
   {
    "duration": 8,
    "start_time": "2022-03-29T20:01:07.761Z"
   },
   {
    "duration": 8,
    "start_time": "2022-03-29T20:01:07.771Z"
   },
   {
    "duration": 7,
    "start_time": "2022-03-29T20:01:07.782Z"
   },
   {
    "duration": 51,
    "start_time": "2022-03-29T20:01:07.791Z"
   },
   {
    "duration": 5,
    "start_time": "2022-03-29T20:01:07.845Z"
   },
   {
    "duration": 20,
    "start_time": "2022-03-29T20:01:07.852Z"
   },
   {
    "duration": 531,
    "start_time": "2022-03-29T20:01:07.875Z"
   },
   {
    "duration": 8,
    "start_time": "2022-03-29T20:01:08.409Z"
   },
   {
    "duration": 24,
    "start_time": "2022-03-29T20:01:08.419Z"
   },
   {
    "duration": 6,
    "start_time": "2022-03-29T20:01:08.445Z"
   },
   {
    "duration": 17,
    "start_time": "2022-03-29T20:01:08.453Z"
   },
   {
    "duration": 5,
    "start_time": "2022-03-29T20:01:08.473Z"
   },
   {
    "duration": 5,
    "start_time": "2022-03-29T20:01:08.480Z"
   },
   {
    "duration": 74,
    "start_time": "2022-03-29T20:01:08.487Z"
   },
   {
    "duration": 11,
    "start_time": "2022-03-29T20:01:08.563Z"
   },
   {
    "duration": 563,
    "start_time": "2022-03-29T20:01:08.576Z"
   },
   {
    "duration": 397,
    "start_time": "2022-03-29T20:01:09.141Z"
   },
   {
    "duration": 14,
    "start_time": "2022-03-29T20:01:09.540Z"
   },
   {
    "duration": 23,
    "start_time": "2022-03-29T20:01:09.557Z"
   },
   {
    "duration": 346,
    "start_time": "2022-03-29T20:01:09.582Z"
   },
   {
    "duration": 16,
    "start_time": "2022-03-29T20:01:09.931Z"
   },
   {
    "duration": 25,
    "start_time": "2022-03-29T20:01:09.949Z"
   },
   {
    "duration": 361,
    "start_time": "2022-03-29T20:01:09.976Z"
   },
   {
    "duration": 11,
    "start_time": "2022-03-29T20:01:10.343Z"
   },
   {
    "duration": 12,
    "start_time": "2022-03-29T20:01:10.356Z"
   },
   {
    "duration": 9,
    "start_time": "2022-03-29T20:01:10.370Z"
   },
   {
    "duration": 4,
    "start_time": "2022-03-29T20:01:10.381Z"
   },
   {
    "duration": 60,
    "start_time": "2022-03-29T20:01:10.387Z"
   },
   {
    "duration": 6,
    "start_time": "2022-03-29T20:01:10.449Z"
   },
   {
    "duration": 11,
    "start_time": "2022-03-29T20:01:10.457Z"
   },
   {
    "duration": 23,
    "start_time": "2022-03-29T20:01:10.471Z"
   },
   {
    "duration": 411,
    "start_time": "2022-03-29T20:01:10.497Z"
   },
   {
    "duration": 454,
    "start_time": "2022-03-29T20:01:10.910Z"
   },
   {
    "duration": 287,
    "start_time": "2022-03-29T20:01:11.366Z"
   },
   {
    "duration": 12,
    "start_time": "2022-03-29T20:01:11.662Z"
   },
   {
    "duration": 11,
    "start_time": "2022-03-29T20:01:11.676Z"
   },
   {
    "duration": 144,
    "start_time": "2022-03-29T20:01:11.689Z"
   },
   {
    "duration": 0,
    "start_time": "2022-03-29T20:01:11.842Z"
   },
   {
    "duration": 0,
    "start_time": "2022-03-29T20:01:11.844Z"
   },
   {
    "duration": 0,
    "start_time": "2022-03-29T20:01:11.845Z"
   },
   {
    "duration": 0,
    "start_time": "2022-03-29T20:01:11.847Z"
   },
   {
    "duration": 0,
    "start_time": "2022-03-29T20:01:11.848Z"
   },
   {
    "duration": 0,
    "start_time": "2022-03-29T20:01:11.849Z"
   },
   {
    "duration": 0,
    "start_time": "2022-03-29T20:01:11.851Z"
   },
   {
    "duration": 0,
    "start_time": "2022-03-29T20:01:11.852Z"
   },
   {
    "duration": 0,
    "start_time": "2022-03-29T20:01:11.853Z"
   },
   {
    "duration": 0,
    "start_time": "2022-03-29T20:01:11.854Z"
   },
   {
    "duration": 0,
    "start_time": "2022-03-29T20:01:11.856Z"
   },
   {
    "duration": 762,
    "start_time": "2022-03-30T04:53:50.581Z"
   },
   {
    "duration": 97,
    "start_time": "2022-03-30T04:53:51.345Z"
   },
   {
    "duration": 28,
    "start_time": "2022-03-30T04:53:51.443Z"
   },
   {
    "duration": 24,
    "start_time": "2022-03-30T04:53:51.472Z"
   },
   {
    "duration": 3,
    "start_time": "2022-03-30T04:53:51.498Z"
   },
   {
    "duration": 8,
    "start_time": "2022-03-30T04:53:51.503Z"
   },
   {
    "duration": 6,
    "start_time": "2022-03-30T04:53:51.512Z"
   },
   {
    "duration": 21,
    "start_time": "2022-03-30T04:53:51.520Z"
   },
   {
    "duration": 13,
    "start_time": "2022-03-30T04:53:51.563Z"
   },
   {
    "duration": 19,
    "start_time": "2022-03-30T04:53:51.577Z"
   },
   {
    "duration": 15,
    "start_time": "2022-03-30T04:53:51.598Z"
   },
   {
    "duration": 15,
    "start_time": "2022-03-30T04:53:51.615Z"
   },
   {
    "duration": 8,
    "start_time": "2022-03-30T04:53:51.631Z"
   },
   {
    "duration": 13,
    "start_time": "2022-03-30T04:53:51.642Z"
   },
   {
    "duration": 7,
    "start_time": "2022-03-30T04:53:51.657Z"
   },
   {
    "duration": 6,
    "start_time": "2022-03-30T04:53:51.665Z"
   },
   {
    "duration": 6,
    "start_time": "2022-03-30T04:53:51.673Z"
   },
   {
    "duration": 11,
    "start_time": "2022-03-30T04:53:51.680Z"
   },
   {
    "duration": 3,
    "start_time": "2022-03-30T04:53:51.692Z"
   },
   {
    "duration": 6,
    "start_time": "2022-03-30T04:53:51.696Z"
   },
   {
    "duration": 11,
    "start_time": "2022-03-30T04:53:51.703Z"
   },
   {
    "duration": 11,
    "start_time": "2022-03-30T04:53:51.715Z"
   },
   {
    "duration": 38,
    "start_time": "2022-03-30T04:53:51.727Z"
   },
   {
    "duration": 6,
    "start_time": "2022-03-30T04:53:51.767Z"
   },
   {
    "duration": 3,
    "start_time": "2022-03-30T04:53:51.775Z"
   },
   {
    "duration": 11,
    "start_time": "2022-03-30T04:53:51.779Z"
   },
   {
    "duration": 6,
    "start_time": "2022-03-30T04:53:51.791Z"
   },
   {
    "duration": 8,
    "start_time": "2022-03-30T04:53:51.799Z"
   },
   {
    "duration": 8,
    "start_time": "2022-03-30T04:53:51.809Z"
   },
   {
    "duration": 14,
    "start_time": "2022-03-30T04:53:51.819Z"
   },
   {
    "duration": 29,
    "start_time": "2022-03-30T04:53:51.834Z"
   },
   {
    "duration": 5,
    "start_time": "2022-03-30T04:53:51.864Z"
   },
   {
    "duration": 22,
    "start_time": "2022-03-30T04:53:51.870Z"
   },
   {
    "duration": 10,
    "start_time": "2022-03-30T04:53:51.893Z"
   },
   {
    "duration": 15,
    "start_time": "2022-03-30T04:53:51.904Z"
   },
   {
    "duration": 10,
    "start_time": "2022-03-30T04:53:51.920Z"
   },
   {
    "duration": 6,
    "start_time": "2022-03-30T04:53:51.932Z"
   },
   {
    "duration": 27,
    "start_time": "2022-03-30T04:53:51.939Z"
   },
   {
    "duration": 10,
    "start_time": "2022-03-30T04:53:51.967Z"
   },
   {
    "duration": 21,
    "start_time": "2022-03-30T04:53:51.978Z"
   },
   {
    "duration": 8,
    "start_time": "2022-03-30T04:53:52.002Z"
   },
   {
    "duration": 25,
    "start_time": "2022-03-30T04:53:52.012Z"
   },
   {
    "duration": 26,
    "start_time": "2022-03-30T04:53:52.039Z"
   },
   {
    "duration": 11,
    "start_time": "2022-03-30T04:53:52.067Z"
   },
   {
    "duration": 32,
    "start_time": "2022-03-30T04:53:52.079Z"
   },
   {
    "duration": 5,
    "start_time": "2022-03-30T04:53:52.113Z"
   },
   {
    "duration": 16,
    "start_time": "2022-03-30T04:53:52.120Z"
   },
   {
    "duration": 25,
    "start_time": "2022-03-30T04:53:52.138Z"
   },
   {
    "duration": 5,
    "start_time": "2022-03-30T04:53:52.165Z"
   },
   {
    "duration": 6,
    "start_time": "2022-03-30T04:53:52.171Z"
   },
   {
    "duration": 11,
    "start_time": "2022-03-30T04:53:52.178Z"
   },
   {
    "duration": 3,
    "start_time": "2022-03-30T04:53:52.191Z"
   },
   {
    "duration": 12,
    "start_time": "2022-03-30T04:53:52.195Z"
   },
   {
    "duration": 419,
    "start_time": "2022-03-30T04:53:52.208Z"
   },
   {
    "duration": 6,
    "start_time": "2022-03-30T04:53:52.628Z"
   },
   {
    "duration": 6,
    "start_time": "2022-03-30T04:53:52.635Z"
   },
   {
    "duration": 8,
    "start_time": "2022-03-30T04:53:52.643Z"
   },
   {
    "duration": 9,
    "start_time": "2022-03-30T04:53:52.662Z"
   },
   {
    "duration": 3,
    "start_time": "2022-03-30T04:53:52.673Z"
   },
   {
    "duration": 10,
    "start_time": "2022-03-30T04:53:52.677Z"
   },
   {
    "duration": 21,
    "start_time": "2022-03-30T04:53:52.689Z"
   },
   {
    "duration": 7,
    "start_time": "2022-03-30T04:53:52.712Z"
   },
   {
    "duration": 339,
    "start_time": "2022-03-30T04:53:52.720Z"
   },
   {
    "duration": 78,
    "start_time": "2022-03-30T04:53:58.022Z"
   },
   {
    "duration": 2,
    "start_time": "2022-03-30T04:54:36.419Z"
   },
   {
    "duration": 100,
    "start_time": "2022-03-30T04:54:36.423Z"
   },
   {
    "duration": 40,
    "start_time": "2022-03-30T04:54:36.525Z"
   },
   {
    "duration": 29,
    "start_time": "2022-03-30T04:54:36.567Z"
   },
   {
    "duration": 4,
    "start_time": "2022-03-30T04:54:36.598Z"
   },
   {
    "duration": 7,
    "start_time": "2022-03-30T04:54:36.604Z"
   },
   {
    "duration": 4,
    "start_time": "2022-03-30T04:54:36.612Z"
   },
   {
    "duration": 45,
    "start_time": "2022-03-30T04:54:36.618Z"
   },
   {
    "duration": 11,
    "start_time": "2022-03-30T04:54:36.664Z"
   },
   {
    "duration": 18,
    "start_time": "2022-03-30T04:54:36.676Z"
   },
   {
    "duration": 5,
    "start_time": "2022-03-30T04:54:36.696Z"
   },
   {
    "duration": 10,
    "start_time": "2022-03-30T04:54:36.703Z"
   },
   {
    "duration": 4,
    "start_time": "2022-03-30T04:54:36.716Z"
   },
   {
    "duration": 6,
    "start_time": "2022-03-30T04:54:36.721Z"
   },
   {
    "duration": 37,
    "start_time": "2022-03-30T04:54:36.728Z"
   },
   {
    "duration": 11,
    "start_time": "2022-03-30T04:54:36.766Z"
   },
   {
    "duration": 12,
    "start_time": "2022-03-30T04:54:36.778Z"
   },
   {
    "duration": 17,
    "start_time": "2022-03-30T04:54:36.792Z"
   },
   {
    "duration": 3,
    "start_time": "2022-03-30T04:54:36.811Z"
   },
   {
    "duration": 6,
    "start_time": "2022-03-30T04:54:36.816Z"
   },
   {
    "duration": 12,
    "start_time": "2022-03-30T04:54:36.823Z"
   },
   {
    "duration": 11,
    "start_time": "2022-03-30T04:54:36.836Z"
   },
   {
    "duration": 19,
    "start_time": "2022-03-30T04:54:36.848Z"
   },
   {
    "duration": 6,
    "start_time": "2022-03-30T04:54:36.868Z"
   },
   {
    "duration": 3,
    "start_time": "2022-03-30T04:54:36.875Z"
   },
   {
    "duration": 12,
    "start_time": "2022-03-30T04:54:36.879Z"
   },
   {
    "duration": 6,
    "start_time": "2022-03-30T04:54:36.893Z"
   },
   {
    "duration": 4,
    "start_time": "2022-03-30T04:54:36.900Z"
   },
   {
    "duration": 6,
    "start_time": "2022-03-30T04:54:36.906Z"
   },
   {
    "duration": 5,
    "start_time": "2022-03-30T04:54:36.913Z"
   },
   {
    "duration": 7,
    "start_time": "2022-03-30T04:54:36.919Z"
   },
   {
    "duration": 5,
    "start_time": "2022-03-30T04:54:36.962Z"
   },
   {
    "duration": 19,
    "start_time": "2022-03-30T04:54:36.968Z"
   },
   {
    "duration": 10,
    "start_time": "2022-03-30T04:54:36.989Z"
   },
   {
    "duration": 12,
    "start_time": "2022-03-30T04:54:37.000Z"
   },
   {
    "duration": 13,
    "start_time": "2022-03-30T04:54:37.013Z"
   },
   {
    "duration": 4,
    "start_time": "2022-03-30T04:54:37.030Z"
   },
   {
    "duration": 34,
    "start_time": "2022-03-30T04:54:37.035Z"
   },
   {
    "duration": 10,
    "start_time": "2022-03-30T04:54:37.070Z"
   },
   {
    "duration": 17,
    "start_time": "2022-03-30T04:54:37.081Z"
   },
   {
    "duration": 7,
    "start_time": "2022-03-30T04:54:37.100Z"
   },
   {
    "duration": 23,
    "start_time": "2022-03-30T04:54:37.108Z"
   },
   {
    "duration": 6,
    "start_time": "2022-03-30T04:54:37.132Z"
   },
   {
    "duration": 10,
    "start_time": "2022-03-30T04:54:37.162Z"
   },
   {
    "duration": 25,
    "start_time": "2022-03-30T04:54:37.174Z"
   },
   {
    "duration": 5,
    "start_time": "2022-03-30T04:54:37.200Z"
   },
   {
    "duration": 11,
    "start_time": "2022-03-30T04:54:37.207Z"
   },
   {
    "duration": 6,
    "start_time": "2022-03-30T04:54:37.220Z"
   },
   {
    "duration": 5,
    "start_time": "2022-03-30T04:54:37.227Z"
   },
   {
    "duration": 5,
    "start_time": "2022-03-30T04:54:37.263Z"
   },
   {
    "duration": 10,
    "start_time": "2022-03-30T04:54:37.270Z"
   },
   {
    "duration": 3,
    "start_time": "2022-03-30T04:54:37.282Z"
   },
   {
    "duration": 13,
    "start_time": "2022-03-30T04:54:37.286Z"
   },
   {
    "duration": 308,
    "start_time": "2022-03-30T04:54:37.300Z"
   },
   {
    "duration": 6,
    "start_time": "2022-03-30T04:54:37.609Z"
   },
   {
    "duration": 6,
    "start_time": "2022-03-30T04:54:37.616Z"
   },
   {
    "duration": 6,
    "start_time": "2022-03-30T04:54:37.624Z"
   },
   {
    "duration": 10,
    "start_time": "2022-03-30T04:54:37.632Z"
   },
   {
    "duration": 3,
    "start_time": "2022-03-30T04:54:37.644Z"
   },
   {
    "duration": 3,
    "start_time": "2022-03-30T04:54:37.663Z"
   },
   {
    "duration": 27,
    "start_time": "2022-03-30T04:54:37.667Z"
   },
   {
    "duration": 8,
    "start_time": "2022-03-30T04:54:37.695Z"
   },
   {
    "duration": 261,
    "start_time": "2022-03-30T04:54:37.704Z"
   },
   {
    "duration": 12,
    "start_time": "2022-03-30T04:54:50.175Z"
   },
   {
    "duration": 9,
    "start_time": "2022-03-30T04:55:02.695Z"
   },
   {
    "duration": 230,
    "start_time": "2022-03-30T04:55:36.128Z"
   },
   {
    "duration": 7,
    "start_time": "2022-03-30T04:55:45.697Z"
   },
   {
    "duration": 7,
    "start_time": "2022-03-30T04:55:51.827Z"
   },
   {
    "duration": 310,
    "start_time": "2022-03-30T04:55:58.128Z"
   },
   {
    "duration": 7,
    "start_time": "2022-03-30T04:56:06.345Z"
   },
   {
    "duration": 7,
    "start_time": "2022-03-30T04:56:10.823Z"
   },
   {
    "duration": 8,
    "start_time": "2022-03-30T04:56:20.343Z"
   },
   {
    "duration": 7,
    "start_time": "2022-03-30T04:56:25.770Z"
   },
   {
    "duration": 16,
    "start_time": "2022-03-30T05:12:10.475Z"
   },
   {
    "duration": 23,
    "start_time": "2022-03-30T05:40:49.351Z"
   },
   {
    "duration": 340,
    "start_time": "2022-03-30T05:40:50.451Z"
   },
   {
    "duration": 8,
    "start_time": "2022-03-30T05:40:52.840Z"
   },
   {
    "duration": 20,
    "start_time": "2022-03-30T05:40:53.834Z"
   },
   {
    "duration": 268,
    "start_time": "2022-03-30T05:40:55.959Z"
   },
   {
    "duration": 8,
    "start_time": "2022-03-30T05:41:00.810Z"
   },
   {
    "duration": 17,
    "start_time": "2022-03-30T05:41:02.146Z"
   },
   {
    "duration": 192,
    "start_time": "2022-03-30T05:42:29.121Z"
   },
   {
    "duration": 1035,
    "start_time": "2022-03-31T05:56:52.577Z"
   },
   {
    "duration": 125,
    "start_time": "2022-03-31T05:56:53.615Z"
   },
   {
    "duration": 44,
    "start_time": "2022-03-31T05:56:53.742Z"
   },
   {
    "duration": 36,
    "start_time": "2022-03-31T05:56:53.789Z"
   },
   {
    "duration": 5,
    "start_time": "2022-03-31T05:56:53.829Z"
   },
   {
    "duration": 7,
    "start_time": "2022-03-31T05:56:53.868Z"
   },
   {
    "duration": 6,
    "start_time": "2022-03-31T05:56:53.877Z"
   },
   {
    "duration": 26,
    "start_time": "2022-03-31T05:56:53.886Z"
   },
   {
    "duration": 54,
    "start_time": "2022-03-31T05:56:53.914Z"
   },
   {
    "duration": 27,
    "start_time": "2022-03-31T05:56:53.970Z"
   },
   {
    "duration": 8,
    "start_time": "2022-03-31T05:56:53.999Z"
   },
   {
    "duration": 16,
    "start_time": "2022-03-31T05:56:54.009Z"
   },
   {
    "duration": 6,
    "start_time": "2022-03-31T05:56:54.028Z"
   },
   {
    "duration": 8,
    "start_time": "2022-03-31T05:56:54.070Z"
   },
   {
    "duration": 493,
    "start_time": "2022-03-31T05:58:16.983Z"
   },
   {
    "duration": 1010,
    "start_time": "2022-03-31T06:00:23.859Z"
   },
   {
    "duration": 387,
    "start_time": "2022-03-31T06:01:39.298Z"
   },
   {
    "duration": 446,
    "start_time": "2022-03-31T06:01:55.231Z"
   },
   {
    "duration": 584,
    "start_time": "2022-03-31T06:02:09.771Z"
   },
   {
    "duration": 11,
    "start_time": "2022-03-31T06:08:41.978Z"
   },
   {
    "duration": 5,
    "start_time": "2022-03-31T06:09:24.860Z"
   },
   {
    "duration": 33,
    "start_time": "2022-03-31T06:09:58.580Z"
   },
   {
    "duration": 35,
    "start_time": "2022-03-31T06:15:40.054Z"
   },
   {
    "duration": 36,
    "start_time": "2022-03-31T06:16:14.640Z"
   },
   {
    "duration": 18,
    "start_time": "2022-03-31T06:17:07.401Z"
   },
   {
    "duration": 782,
    "start_time": "2022-04-03T11:14:50.581Z"
   },
   {
    "duration": 104,
    "start_time": "2022-04-03T11:14:51.365Z"
   },
   {
    "duration": 25,
    "start_time": "2022-04-03T11:14:51.471Z"
   },
   {
    "duration": 39,
    "start_time": "2022-04-03T11:14:51.498Z"
   },
   {
    "duration": 4,
    "start_time": "2022-04-03T11:14:51.539Z"
   },
   {
    "duration": 12,
    "start_time": "2022-04-03T11:14:51.544Z"
   },
   {
    "duration": 5,
    "start_time": "2022-04-03T11:14:51.558Z"
   },
   {
    "duration": 22,
    "start_time": "2022-04-03T11:14:51.565Z"
   },
   {
    "duration": 14,
    "start_time": "2022-04-03T11:14:51.588Z"
   },
   {
    "duration": 45,
    "start_time": "2022-04-03T11:14:51.604Z"
   },
   {
    "duration": 6,
    "start_time": "2022-04-03T11:14:51.650Z"
   },
   {
    "duration": 13,
    "start_time": "2022-04-03T11:14:51.658Z"
   },
   {
    "duration": 6,
    "start_time": "2022-04-03T11:14:51.673Z"
   },
   {
    "duration": 7,
    "start_time": "2022-04-03T11:14:51.680Z"
   },
   {
    "duration": 53,
    "start_time": "2022-04-03T11:14:51.689Z"
   },
   {
    "duration": 74,
    "start_time": "2022-04-03T11:17:16.443Z"
   },
   {
    "duration": 30,
    "start_time": "2022-04-03T11:17:29.310Z"
   },
   {
    "duration": 29,
    "start_time": "2022-04-03T11:17:48.748Z"
   },
   {
    "duration": 25,
    "start_time": "2022-04-03T11:18:06.081Z"
   },
   {
    "duration": 25,
    "start_time": "2022-04-03T11:18:23.554Z"
   },
   {
    "duration": 4,
    "start_time": "2022-04-03T13:17:35.968Z"
   },
   {
    "duration": 5,
    "start_time": "2022-04-03T13:18:40.768Z"
   },
   {
    "duration": 5,
    "start_time": "2022-04-03T13:18:49.172Z"
   },
   {
    "duration": 4,
    "start_time": "2022-04-03T13:19:15.593Z"
   },
   {
    "duration": 12,
    "start_time": "2022-04-03T13:22:12.505Z"
   },
   {
    "duration": 20,
    "start_time": "2022-04-03T13:22:13.938Z"
   },
   {
    "duration": 6,
    "start_time": "2022-04-03T13:22:17.088Z"
   },
   {
    "duration": 4,
    "start_time": "2022-04-03T13:22:32.233Z"
   },
   {
    "duration": 5,
    "start_time": "2022-04-03T13:22:32.650Z"
   },
   {
    "duration": 6,
    "start_time": "2022-04-03T13:22:33.241Z"
   },
   {
    "duration": 27,
    "start_time": "2022-04-03T13:22:39.609Z"
   },
   {
    "duration": 27,
    "start_time": "2022-04-03T13:23:34.422Z"
   },
   {
    "duration": 23,
    "start_time": "2022-04-03T13:23:41.450Z"
   },
   {
    "duration": 23,
    "start_time": "2022-04-03T13:24:59.490Z"
   },
   {
    "duration": 23,
    "start_time": "2022-04-03T13:25:02.865Z"
   },
   {
    "duration": 13,
    "start_time": "2022-04-03T13:26:17.023Z"
   },
   {
    "duration": 10,
    "start_time": "2022-04-03T13:26:17.250Z"
   },
   {
    "duration": 11,
    "start_time": "2022-04-03T13:26:17.449Z"
   },
   {
    "duration": 5,
    "start_time": "2022-04-03T13:26:17.666Z"
   },
   {
    "duration": 3,
    "start_time": "2022-04-03T13:26:18.075Z"
   },
   {
    "duration": 9,
    "start_time": "2022-04-03T13:26:18.458Z"
   },
   {
    "duration": 7,
    "start_time": "2022-04-03T13:26:18.651Z"
   },
   {
    "duration": 5,
    "start_time": "2022-04-03T13:26:18.806Z"
   },
   {
    "duration": 5,
    "start_time": "2022-04-03T13:26:19.099Z"
   },
   {
    "duration": 5,
    "start_time": "2022-04-03T13:26:19.742Z"
   },
   {
    "duration": 7,
    "start_time": "2022-04-03T13:26:23.925Z"
   },
   {
    "duration": 6,
    "start_time": "2022-04-03T13:26:24.163Z"
   },
   {
    "duration": 20,
    "start_time": "2022-04-03T13:26:24.377Z"
   },
   {
    "duration": 2,
    "start_time": "2022-04-03T13:26:59.675Z"
   },
   {
    "duration": 104,
    "start_time": "2022-04-03T13:26:59.679Z"
   },
   {
    "duration": 24,
    "start_time": "2022-04-03T13:26:59.784Z"
   },
   {
    "duration": 36,
    "start_time": "2022-04-03T13:26:59.810Z"
   },
   {
    "duration": 7,
    "start_time": "2022-04-03T13:26:59.849Z"
   },
   {
    "duration": 6,
    "start_time": "2022-04-03T13:26:59.857Z"
   },
   {
    "duration": 5,
    "start_time": "2022-04-03T13:26:59.864Z"
   },
   {
    "duration": 22,
    "start_time": "2022-04-03T13:26:59.870Z"
   },
   {
    "duration": 12,
    "start_time": "2022-04-03T13:27:00.190Z"
   },
   {
    "duration": 23,
    "start_time": "2022-04-03T13:27:00.205Z"
   },
   {
    "duration": 9,
    "start_time": "2022-04-03T13:27:00.230Z"
   },
   {
    "duration": 20,
    "start_time": "2022-04-03T13:27:00.241Z"
   },
   {
    "duration": 12,
    "start_time": "2022-04-03T13:27:00.264Z"
   },
   {
    "duration": 17,
    "start_time": "2022-04-03T13:27:00.278Z"
   },
   {
    "duration": 49,
    "start_time": "2022-04-03T13:27:00.296Z"
   },
   {
    "duration": 22,
    "start_time": "2022-04-03T13:27:00.347Z"
   },
   {
    "duration": 37,
    "start_time": "2022-04-03T13:27:00.371Z"
   },
   {
    "duration": 6,
    "start_time": "2022-04-03T13:27:00.434Z"
   },
   {
    "duration": 18,
    "start_time": "2022-04-03T13:27:00.442Z"
   },
   {
    "duration": 15,
    "start_time": "2022-04-03T13:27:00.462Z"
   },
   {
    "duration": 15,
    "start_time": "2022-04-03T13:27:00.479Z"
   },
   {
    "duration": 9,
    "start_time": "2022-04-03T13:27:00.497Z"
   },
   {
    "duration": 14,
    "start_time": "2022-04-03T13:27:00.508Z"
   },
   {
    "duration": 22,
    "start_time": "2022-04-03T13:27:00.523Z"
   },
   {
    "duration": 14,
    "start_time": "2022-04-03T13:27:00.547Z"
   },
   {
    "duration": 25,
    "start_time": "2022-04-03T13:27:00.563Z"
   },
   {
    "duration": 19,
    "start_time": "2022-04-03T13:27:00.589Z"
   },
   {
    "duration": 4,
    "start_time": "2022-04-03T13:27:00.610Z"
   },
   {
    "duration": 24,
    "start_time": "2022-04-03T13:27:00.615Z"
   },
   {
    "duration": 18,
    "start_time": "2022-04-03T13:27:00.640Z"
   },
   {
    "duration": 16,
    "start_time": "2022-04-03T13:27:00.660Z"
   },
   {
    "duration": 15,
    "start_time": "2022-04-03T13:27:00.678Z"
   },
   {
    "duration": 8,
    "start_time": "2022-04-03T13:27:00.694Z"
   },
   {
    "duration": 12,
    "start_time": "2022-04-03T13:27:00.703Z"
   },
   {
    "duration": 16,
    "start_time": "2022-04-03T13:27:00.716Z"
   },
   {
    "duration": 22,
    "start_time": "2022-04-03T13:27:00.734Z"
   },
   {
    "duration": 14,
    "start_time": "2022-04-03T13:27:00.757Z"
   },
   {
    "duration": 13,
    "start_time": "2022-04-03T13:27:00.773Z"
   },
   {
    "duration": 10,
    "start_time": "2022-04-03T13:27:00.788Z"
   },
   {
    "duration": 5,
    "start_time": "2022-04-03T13:27:00.800Z"
   },
   {
    "duration": 27,
    "start_time": "2022-04-03T13:27:00.806Z"
   },
   {
    "duration": 11,
    "start_time": "2022-04-03T13:27:00.834Z"
   },
   {
    "duration": 21,
    "start_time": "2022-04-03T13:27:00.847Z"
   },
   {
    "duration": 8,
    "start_time": "2022-04-03T13:27:00.870Z"
   },
   {
    "duration": 26,
    "start_time": "2022-04-03T13:27:00.879Z"
   },
   {
    "duration": 32,
    "start_time": "2022-04-03T13:27:00.907Z"
   },
   {
    "duration": 17,
    "start_time": "2022-04-03T13:27:00.940Z"
   },
   {
    "duration": 37,
    "start_time": "2022-04-03T13:27:00.958Z"
   },
   {
    "duration": 6,
    "start_time": "2022-04-03T13:27:01.000Z"
   },
   {
    "duration": 26,
    "start_time": "2022-04-03T13:27:01.008Z"
   },
   {
    "duration": 6,
    "start_time": "2022-04-03T13:27:01.036Z"
   },
   {
    "duration": 8,
    "start_time": "2022-04-03T13:27:01.044Z"
   },
   {
    "duration": 8,
    "start_time": "2022-04-03T13:27:01.054Z"
   },
   {
    "duration": 15,
    "start_time": "2022-04-03T13:27:01.064Z"
   },
   {
    "duration": 5,
    "start_time": "2022-04-03T13:27:01.080Z"
   },
   {
    "duration": 25,
    "start_time": "2022-04-03T13:27:01.087Z"
   },
   {
    "duration": 326,
    "start_time": "2022-04-03T13:27:01.114Z"
   },
   {
    "duration": 6,
    "start_time": "2022-04-03T13:27:01.442Z"
   },
   {
    "duration": 8,
    "start_time": "2022-04-03T13:27:01.450Z"
   },
   {
    "duration": 5,
    "start_time": "2022-04-03T13:27:01.459Z"
   },
   {
    "duration": 12,
    "start_time": "2022-04-03T13:27:01.466Z"
   },
   {
    "duration": 4,
    "start_time": "2022-04-03T13:27:01.480Z"
   },
   {
    "duration": 15,
    "start_time": "2022-04-03T13:27:01.485Z"
   },
   {
    "duration": 33,
    "start_time": "2022-04-03T13:27:01.501Z"
   },
   {
    "duration": 10,
    "start_time": "2022-04-03T13:27:01.535Z"
   },
   {
    "duration": 348,
    "start_time": "2022-04-03T13:27:01.547Z"
   },
   {
    "duration": 9,
    "start_time": "2022-04-03T13:27:01.897Z"
   },
   {
    "duration": 26,
    "start_time": "2022-04-03T13:27:01.908Z"
   },
   {
    "duration": 16,
    "start_time": "2022-04-03T13:27:01.936Z"
   },
   {
    "duration": 240,
    "start_time": "2022-04-03T13:27:01.953Z"
   },
   {
    "duration": 6,
    "start_time": "2022-04-03T13:27:02.195Z"
   },
   {
    "duration": 31,
    "start_time": "2022-04-03T13:27:02.203Z"
   },
   {
    "duration": 181,
    "start_time": "2022-04-03T13:27:02.236Z"
   },
   {
    "duration": 19,
    "start_time": "2022-04-03T13:27:02.419Z"
   },
   {
    "duration": 17,
    "start_time": "2022-04-03T13:27:02.439Z"
   },
   {
    "duration": 210,
    "start_time": "2022-04-03T13:27:02.458Z"
   },
   {
    "duration": 8,
    "start_time": "2022-04-03T13:27:02.671Z"
   },
   {
    "duration": 8,
    "start_time": "2022-04-03T13:27:02.681Z"
   },
   {
    "duration": 8,
    "start_time": "2022-04-03T13:27:02.691Z"
   },
   {
    "duration": 3,
    "start_time": "2022-04-03T13:27:02.700Z"
   },
   {
    "duration": 20,
    "start_time": "2022-04-03T13:27:02.733Z"
   },
   {
    "duration": 4,
    "start_time": "2022-04-03T13:27:02.755Z"
   },
   {
    "duration": 5,
    "start_time": "2022-04-03T13:27:02.761Z"
   },
   {
    "duration": 19,
    "start_time": "2022-04-03T13:27:02.768Z"
   },
   {
    "duration": 244,
    "start_time": "2022-04-03T13:27:02.788Z"
   },
   {
    "duration": 291,
    "start_time": "2022-04-03T13:27:03.034Z"
   },
   {
    "duration": 126,
    "start_time": "2022-04-03T13:27:03.327Z"
   },
   {
    "duration": 9,
    "start_time": "2022-04-03T13:27:03.454Z"
   },
   {
    "duration": 7,
    "start_time": "2022-04-03T13:27:03.464Z"
   },
   {
    "duration": 8,
    "start_time": "2022-04-03T13:27:03.473Z"
   },
   {
    "duration": 0,
    "start_time": "2022-04-03T13:27:03.482Z"
   },
   {
    "duration": 0,
    "start_time": "2022-04-03T13:27:03.484Z"
   },
   {
    "duration": 0,
    "start_time": "2022-04-03T13:27:03.485Z"
   },
   {
    "duration": 0,
    "start_time": "2022-04-03T13:27:03.486Z"
   },
   {
    "duration": 0,
    "start_time": "2022-04-03T13:27:03.487Z"
   },
   {
    "duration": 0,
    "start_time": "2022-04-03T13:27:03.488Z"
   },
   {
    "duration": 0,
    "start_time": "2022-04-03T13:27:03.489Z"
   },
   {
    "duration": 0,
    "start_time": "2022-04-03T13:27:03.490Z"
   },
   {
    "duration": 0,
    "start_time": "2022-04-03T13:27:03.491Z"
   },
   {
    "duration": 0,
    "start_time": "2022-04-03T13:27:03.492Z"
   },
   {
    "duration": 0,
    "start_time": "2022-04-03T13:27:03.493Z"
   },
   {
    "duration": 13,
    "start_time": "2022-04-03T13:27:56.360Z"
   },
   {
    "duration": 18,
    "start_time": "2022-04-03T13:29:38.593Z"
   },
   {
    "duration": 17,
    "start_time": "2022-04-03T13:31:10.715Z"
   },
   {
    "duration": 19,
    "start_time": "2022-04-03T13:31:18.678Z"
   },
   {
    "duration": 20,
    "start_time": "2022-04-03T13:31:18.902Z"
   },
   {
    "duration": 207,
    "start_time": "2022-04-03T14:08:46.200Z"
   },
   {
    "duration": 17,
    "start_time": "2022-04-03T14:10:55.240Z"
   },
   {
    "duration": 29,
    "start_time": "2022-04-03T14:19:12.879Z"
   },
   {
    "duration": 51,
    "start_time": "2022-04-03T14:19:22.091Z"
   },
   {
    "duration": 25,
    "start_time": "2022-04-03T14:20:00.006Z"
   },
   {
    "duration": 15,
    "start_time": "2022-04-03T14:33:54.913Z"
   },
   {
    "duration": 180,
    "start_time": "2022-04-03T14:33:56.836Z"
   },
   {
    "duration": 7,
    "start_time": "2022-04-03T14:33:57.474Z"
   },
   {
    "duration": 58,
    "start_time": "2022-04-03T15:44:46.128Z"
   },
   {
    "duration": 14,
    "start_time": "2022-04-03T15:45:33.226Z"
   },
   {
    "duration": 11,
    "start_time": "2022-04-03T15:45:56.017Z"
   },
   {
    "duration": 99,
    "start_time": "2022-04-03T15:46:28.155Z"
   },
   {
    "duration": 107,
    "start_time": "2022-04-03T15:46:41.697Z"
   },
   {
    "duration": 204,
    "start_time": "2022-04-03T15:46:50.089Z"
   },
   {
    "duration": 281,
    "start_time": "2022-04-03T15:48:09.836Z"
   },
   {
    "duration": 5,
    "start_time": "2022-04-03T17:45:42.647Z"
   },
   {
    "duration": 5,
    "start_time": "2022-04-03T17:45:47.769Z"
   },
   {
    "duration": 215,
    "start_time": "2022-04-03T17:45:55.395Z"
   },
   {
    "duration": 226,
    "start_time": "2022-04-03T17:46:02.232Z"
   },
   {
    "duration": 112,
    "start_time": "2022-04-03T17:46:08.384Z"
   },
   {
    "duration": 110,
    "start_time": "2022-04-03T17:47:24.917Z"
   },
   {
    "duration": 96,
    "start_time": "2022-04-03T17:50:14.946Z"
   },
   {
    "duration": 99,
    "start_time": "2022-04-03T17:50:22.697Z"
   },
   {
    "duration": 149,
    "start_time": "2022-04-03T17:52:42.425Z"
   },
   {
    "duration": 31,
    "start_time": "2022-04-03T17:55:46.516Z"
   },
   {
    "duration": 35,
    "start_time": "2022-04-03T17:56:31.740Z"
   },
   {
    "duration": 14,
    "start_time": "2022-04-03T18:17:43.320Z"
   },
   {
    "duration": 4,
    "start_time": "2022-04-03T18:18:00.649Z"
   },
   {
    "duration": 3,
    "start_time": "2022-04-03T18:18:55.598Z"
   },
   {
    "duration": 105,
    "start_time": "2022-04-03T18:18:55.603Z"
   },
   {
    "duration": 42,
    "start_time": "2022-04-03T18:18:55.710Z"
   },
   {
    "duration": 24,
    "start_time": "2022-04-03T18:18:55.754Z"
   },
   {
    "duration": 4,
    "start_time": "2022-04-03T18:18:55.780Z"
   },
   {
    "duration": 6,
    "start_time": "2022-04-03T18:18:55.786Z"
   },
   {
    "duration": 40,
    "start_time": "2022-04-03T18:18:55.794Z"
   },
   {
    "duration": 21,
    "start_time": "2022-04-03T18:18:55.835Z"
   },
   {
    "duration": 12,
    "start_time": "2022-04-03T18:18:55.857Z"
   },
   {
    "duration": 34,
    "start_time": "2022-04-03T18:18:55.871Z"
   },
   {
    "duration": 11,
    "start_time": "2022-04-03T18:18:55.906Z"
   },
   {
    "duration": 9,
    "start_time": "2022-04-03T18:18:55.933Z"
   },
   {
    "duration": 7,
    "start_time": "2022-04-03T18:18:55.944Z"
   },
   {
    "duration": 6,
    "start_time": "2022-04-03T18:18:55.954Z"
   },
   {
    "duration": 27,
    "start_time": "2022-04-03T18:18:55.962Z"
   },
   {
    "duration": 48,
    "start_time": "2022-04-03T18:18:55.991Z"
   },
   {
    "duration": 24,
    "start_time": "2022-04-03T18:18:56.040Z"
   },
   {
    "duration": 5,
    "start_time": "2022-04-03T18:18:56.066Z"
   },
   {
    "duration": 7,
    "start_time": "2022-04-03T18:18:56.072Z"
   },
   {
    "duration": 8,
    "start_time": "2022-04-03T18:18:56.081Z"
   },
   {
    "duration": 9,
    "start_time": "2022-04-03T18:18:56.090Z"
   },
   {
    "duration": 34,
    "start_time": "2022-04-03T18:18:56.100Z"
   },
   {
    "duration": 6,
    "start_time": "2022-04-03T18:18:56.136Z"
   },
   {
    "duration": 11,
    "start_time": "2022-04-03T18:18:56.144Z"
   },
   {
    "duration": 15,
    "start_time": "2022-04-03T18:18:56.156Z"
   },
   {
    "duration": 13,
    "start_time": "2022-04-03T18:18:56.172Z"
   },
   {
    "duration": 5,
    "start_time": "2022-04-03T18:18:56.187Z"
   },
   {
    "duration": 3,
    "start_time": "2022-04-03T18:18:56.194Z"
   },
   {
    "duration": 41,
    "start_time": "2022-04-03T18:18:56.199Z"
   },
   {
    "duration": 9,
    "start_time": "2022-04-03T18:18:56.242Z"
   },
   {
    "duration": 5,
    "start_time": "2022-04-03T18:18:56.252Z"
   },
   {
    "duration": 7,
    "start_time": "2022-04-03T18:18:56.258Z"
   },
   {
    "duration": 7,
    "start_time": "2022-04-03T18:18:56.266Z"
   },
   {
    "duration": 10,
    "start_time": "2022-04-03T18:18:56.275Z"
   },
   {
    "duration": 7,
    "start_time": "2022-04-03T18:18:56.287Z"
   },
   {
    "duration": 43,
    "start_time": "2022-04-03T18:18:56.295Z"
   },
   {
    "duration": 10,
    "start_time": "2022-04-03T18:18:56.340Z"
   },
   {
    "duration": 13,
    "start_time": "2022-04-03T18:18:56.352Z"
   },
   {
    "duration": 14,
    "start_time": "2022-04-03T18:18:56.366Z"
   },
   {
    "duration": 8,
    "start_time": "2022-04-03T18:18:56.382Z"
   },
   {
    "duration": 9,
    "start_time": "2022-04-03T18:18:56.395Z"
   },
   {
    "duration": 33,
    "start_time": "2022-04-03T18:18:56.406Z"
   },
   {
    "duration": 20,
    "start_time": "2022-04-03T18:18:56.441Z"
   },
   {
    "duration": 9,
    "start_time": "2022-04-03T18:18:56.463Z"
   },
   {
    "duration": 25,
    "start_time": "2022-04-03T18:18:56.474Z"
   },
   {
    "duration": 6,
    "start_time": "2022-04-03T18:18:56.501Z"
   },
   {
    "duration": 33,
    "start_time": "2022-04-03T18:18:56.508Z"
   },
   {
    "duration": 29,
    "start_time": "2022-04-03T18:18:56.542Z"
   },
   {
    "duration": 5,
    "start_time": "2022-04-03T18:18:56.573Z"
   },
   {
    "duration": 15,
    "start_time": "2022-04-03T18:18:56.579Z"
   },
   {
    "duration": 5,
    "start_time": "2022-04-03T18:18:56.596Z"
   },
   {
    "duration": 32,
    "start_time": "2022-04-03T18:18:56.602Z"
   },
   {
    "duration": 8,
    "start_time": "2022-04-03T18:18:56.636Z"
   },
   {
    "duration": 11,
    "start_time": "2022-04-03T18:18:56.646Z"
   },
   {
    "duration": 4,
    "start_time": "2022-04-03T18:18:56.658Z"
   },
   {
    "duration": 14,
    "start_time": "2022-04-03T18:18:56.663Z"
   },
   {
    "duration": 425,
    "start_time": "2022-04-03T18:18:56.678Z"
   },
   {
    "duration": 6,
    "start_time": "2022-04-03T18:18:57.104Z"
   },
   {
    "duration": 21,
    "start_time": "2022-04-03T18:18:57.112Z"
   },
   {
    "duration": 4,
    "start_time": "2022-04-03T18:18:57.134Z"
   },
   {
    "duration": 14,
    "start_time": "2022-04-03T18:18:57.140Z"
   },
   {
    "duration": 5,
    "start_time": "2022-04-03T18:18:57.156Z"
   },
   {
    "duration": 6,
    "start_time": "2022-04-03T18:18:57.162Z"
   },
   {
    "duration": 12,
    "start_time": "2022-04-03T18:18:57.169Z"
   },
   {
    "duration": 8,
    "start_time": "2022-04-03T18:18:57.183Z"
   },
   {
    "duration": 304,
    "start_time": "2022-04-03T18:18:57.192Z"
   },
   {
    "duration": 8,
    "start_time": "2022-04-03T18:18:57.498Z"
   },
   {
    "duration": 27,
    "start_time": "2022-04-03T18:18:57.507Z"
   },
   {
    "duration": 14,
    "start_time": "2022-04-03T18:18:57.535Z"
   },
   {
    "duration": 243,
    "start_time": "2022-04-03T18:18:57.551Z"
   },
   {
    "duration": 7,
    "start_time": "2022-04-03T18:18:57.796Z"
   },
   {
    "duration": 29,
    "start_time": "2022-04-03T18:18:57.805Z"
   },
   {
    "duration": 192,
    "start_time": "2022-04-03T18:18:57.835Z"
   },
   {
    "duration": 10,
    "start_time": "2022-04-03T18:18:58.028Z"
   },
   {
    "duration": 17,
    "start_time": "2022-04-03T18:18:58.040Z"
   },
   {
    "duration": 221,
    "start_time": "2022-04-03T18:18:58.059Z"
   },
   {
    "duration": 7,
    "start_time": "2022-04-03T18:18:58.282Z"
   },
   {
    "duration": 9,
    "start_time": "2022-04-03T18:18:58.291Z"
   },
   {
    "duration": 7,
    "start_time": "2022-04-03T18:18:58.301Z"
   },
   {
    "duration": 38,
    "start_time": "2022-04-03T18:18:58.309Z"
   },
   {
    "duration": 18,
    "start_time": "2022-04-03T18:18:58.349Z"
   },
   {
    "duration": 17,
    "start_time": "2022-04-03T18:18:58.368Z"
   },
   {
    "duration": 4,
    "start_time": "2022-04-03T18:18:58.387Z"
   },
   {
    "duration": 7,
    "start_time": "2022-04-03T18:18:58.392Z"
   },
   {
    "duration": 323,
    "start_time": "2022-04-03T18:18:58.433Z"
   },
   {
    "duration": 105,
    "start_time": "2022-04-03T18:18:58.758Z"
   },
   {
    "duration": 223,
    "start_time": "2022-04-03T18:18:58.864Z"
   },
   {
    "duration": 14,
    "start_time": "2022-04-03T18:18:59.089Z"
   },
   {
    "duration": 3,
    "start_time": "2022-04-03T18:18:59.105Z"
   },
   {
    "duration": 216,
    "start_time": "2022-04-03T18:18:59.109Z"
   },
   {
    "duration": 15,
    "start_time": "2022-04-03T18:18:59.327Z"
   },
   {
    "duration": 7,
    "start_time": "2022-04-03T18:28:14.813Z"
   },
   {
    "duration": 177,
    "start_time": "2022-04-03T18:28:16.821Z"
   },
   {
    "duration": 1725,
    "start_time": "2022-04-03T18:28:45.727Z"
   },
   {
    "duration": 2041,
    "start_time": "2022-04-03T18:28:49.885Z"
   },
   {
    "duration": 174,
    "start_time": "2022-04-03T18:28:58.883Z"
   },
   {
    "duration": 6,
    "start_time": "2022-04-03T18:29:03.250Z"
   },
   {
    "duration": 6,
    "start_time": "2022-04-03T18:29:13.478Z"
   },
   {
    "duration": 5,
    "start_time": "2022-04-03T18:30:05.360Z"
   },
   {
    "duration": 6,
    "start_time": "2022-04-03T18:30:11.602Z"
   },
   {
    "duration": 6,
    "start_time": "2022-04-03T18:31:42.001Z"
   },
   {
    "duration": 179,
    "start_time": "2022-04-03T18:31:44.195Z"
   },
   {
    "duration": 180,
    "start_time": "2022-04-03T18:32:16.870Z"
   },
   {
    "duration": 6,
    "start_time": "2022-04-03T18:32:22.228Z"
   },
   {
    "duration": 190,
    "start_time": "2022-04-03T18:32:29.068Z"
   },
   {
    "duration": 6,
    "start_time": "2022-04-03T18:32:34.506Z"
   },
   {
    "duration": 126,
    "start_time": "2022-04-03T18:33:58.259Z"
   },
   {
    "duration": 314,
    "start_time": "2022-04-03T18:34:06.934Z"
   },
   {
    "duration": 6,
    "start_time": "2022-04-03T18:34:09.246Z"
   },
   {
    "duration": 29,
    "start_time": "2022-04-03T18:35:35.724Z"
   },
   {
    "duration": 29,
    "start_time": "2022-04-03T18:36:18.633Z"
   },
   {
    "duration": 17,
    "start_time": "2022-04-03T18:36:29.205Z"
   },
   {
    "duration": 27,
    "start_time": "2022-04-03T18:36:37.063Z"
   },
   {
    "duration": 26,
    "start_time": "2022-04-03T18:39:44.584Z"
   },
   {
    "duration": 1462,
    "start_time": "2022-04-03T18:41:32.995Z"
   },
   {
    "duration": 140,
    "start_time": "2022-04-03T18:42:13.822Z"
   },
   {
    "duration": 369,
    "start_time": "2022-04-03T18:42:30.485Z"
   },
   {
    "duration": 115,
    "start_time": "2022-04-03T18:42:50.868Z"
   },
   {
    "duration": 134,
    "start_time": "2022-04-03T18:42:54.249Z"
   },
   {
    "duration": 166,
    "start_time": "2022-04-03T18:43:42.851Z"
   },
   {
    "duration": 169,
    "start_time": "2022-04-03T18:43:52.423Z"
   },
   {
    "duration": 184,
    "start_time": "2022-04-03T18:44:09.209Z"
   },
   {
    "duration": 184,
    "start_time": "2022-04-03T18:45:00.629Z"
   },
   {
    "duration": 171,
    "start_time": "2022-04-03T18:45:13.890Z"
   },
   {
    "duration": 31,
    "start_time": "2022-04-03T18:50:09.571Z"
   },
   {
    "duration": 5,
    "start_time": "2022-04-03T18:57:46.432Z"
   },
   {
    "duration": 189,
    "start_time": "2022-04-03T18:57:48.809Z"
   },
   {
    "duration": 7,
    "start_time": "2022-04-03T18:59:39.300Z"
   },
   {
    "duration": 32,
    "start_time": "2022-04-03T18:59:41.627Z"
   },
   {
    "duration": 839,
    "start_time": "2022-04-10T11:52:41.124Z"
   },
   {
    "duration": 110,
    "start_time": "2022-04-10T11:52:41.965Z"
   },
   {
    "duration": 32,
    "start_time": "2022-04-10T11:52:42.076Z"
   },
   {
    "duration": 26,
    "start_time": "2022-04-10T11:52:42.109Z"
   },
   {
    "duration": 4,
    "start_time": "2022-04-10T11:52:42.137Z"
   },
   {
    "duration": 37,
    "start_time": "2022-04-10T11:52:42.143Z"
   },
   {
    "duration": 7,
    "start_time": "2022-04-10T11:52:42.182Z"
   },
   {
    "duration": 27,
    "start_time": "2022-04-10T11:52:42.192Z"
   },
   {
    "duration": 14,
    "start_time": "2022-04-10T11:52:42.221Z"
   },
   {
    "duration": 48,
    "start_time": "2022-04-10T11:52:42.236Z"
   },
   {
    "duration": 8,
    "start_time": "2022-04-10T11:52:42.287Z"
   },
   {
    "duration": 20,
    "start_time": "2022-04-10T11:52:42.297Z"
   },
   {
    "duration": 9,
    "start_time": "2022-04-10T11:52:42.319Z"
   },
   {
    "duration": 6,
    "start_time": "2022-04-10T11:52:42.331Z"
   },
   {
    "duration": 48,
    "start_time": "2022-04-10T11:52:42.338Z"
   },
   {
    "duration": 23,
    "start_time": "2022-04-10T11:52:42.388Z"
   },
   {
    "duration": 24,
    "start_time": "2022-04-10T11:52:42.413Z"
   },
   {
    "duration": 5,
    "start_time": "2022-04-10T11:52:42.438Z"
   },
   {
    "duration": 35,
    "start_time": "2022-04-10T11:52:42.444Z"
   },
   {
    "duration": 11,
    "start_time": "2022-04-10T11:52:42.481Z"
   },
   {
    "duration": 17,
    "start_time": "2022-04-10T11:52:42.493Z"
   },
   {
    "duration": 3,
    "start_time": "2022-04-10T11:52:42.512Z"
   },
   {
    "duration": 7,
    "start_time": "2022-04-10T11:52:42.516Z"
   },
   {
    "duration": 10,
    "start_time": "2022-04-10T11:52:42.525Z"
   },
   {
    "duration": 10,
    "start_time": "2022-04-10T11:52:42.537Z"
   },
   {
    "duration": 41,
    "start_time": "2022-04-10T11:52:42.549Z"
   },
   {
    "duration": 7,
    "start_time": "2022-04-10T11:52:42.593Z"
   },
   {
    "duration": 3,
    "start_time": "2022-04-10T11:52:42.602Z"
   },
   {
    "duration": 11,
    "start_time": "2022-04-10T11:52:42.607Z"
   },
   {
    "duration": 7,
    "start_time": "2022-04-10T11:52:42.620Z"
   },
   {
    "duration": 7,
    "start_time": "2022-04-10T11:52:42.628Z"
   },
   {
    "duration": 14,
    "start_time": "2022-04-10T11:52:42.637Z"
   },
   {
    "duration": 32,
    "start_time": "2022-04-10T11:52:42.653Z"
   },
   {
    "duration": 22,
    "start_time": "2022-04-10T11:52:42.687Z"
   },
   {
    "duration": 9,
    "start_time": "2022-04-10T11:52:42.711Z"
   },
   {
    "duration": 18,
    "start_time": "2022-04-10T11:52:42.721Z"
   },
   {
    "duration": 10,
    "start_time": "2022-04-10T11:52:42.741Z"
   },
   {
    "duration": 27,
    "start_time": "2022-04-10T11:52:42.753Z"
   },
   {
    "duration": 17,
    "start_time": "2022-04-10T11:52:42.782Z"
   },
   {
    "duration": 8,
    "start_time": "2022-04-10T11:52:42.801Z"
   },
   {
    "duration": 9,
    "start_time": "2022-04-10T11:52:42.814Z"
   },
   {
    "duration": 12,
    "start_time": "2022-04-10T11:52:42.825Z"
   },
   {
    "duration": 45,
    "start_time": "2022-04-10T11:52:42.839Z"
   },
   {
    "duration": 9,
    "start_time": "2022-04-10T11:52:42.885Z"
   },
   {
    "duration": 33,
    "start_time": "2022-04-10T11:52:42.896Z"
   },
   {
    "duration": 7,
    "start_time": "2022-04-10T11:52:42.931Z"
   },
   {
    "duration": 11,
    "start_time": "2022-04-10T11:52:42.940Z"
   },
   {
    "duration": 56,
    "start_time": "2022-04-10T11:52:42.952Z"
   },
   {
    "duration": 5,
    "start_time": "2022-04-10T11:52:43.009Z"
   },
   {
    "duration": 15,
    "start_time": "2022-04-10T11:52:43.016Z"
   },
   {
    "duration": 6,
    "start_time": "2022-04-10T11:52:43.032Z"
   },
   {
    "duration": 6,
    "start_time": "2022-04-10T11:52:43.039Z"
   },
   {
    "duration": 40,
    "start_time": "2022-04-10T11:52:43.046Z"
   },
   {
    "duration": 17,
    "start_time": "2022-04-10T11:52:43.088Z"
   },
   {
    "duration": 3,
    "start_time": "2022-04-10T11:52:43.108Z"
   },
   {
    "duration": 15,
    "start_time": "2022-04-10T11:52:43.112Z"
   },
   {
    "duration": 365,
    "start_time": "2022-04-10T11:52:43.128Z"
   },
   {
    "duration": 7,
    "start_time": "2022-04-10T11:52:43.495Z"
   },
   {
    "duration": 9,
    "start_time": "2022-04-10T11:52:43.504Z"
   },
   {
    "duration": 4,
    "start_time": "2022-04-10T11:52:43.515Z"
   },
   {
    "duration": 12,
    "start_time": "2022-04-10T11:52:43.521Z"
   },
   {
    "duration": 4,
    "start_time": "2022-04-10T11:52:43.534Z"
   },
   {
    "duration": 7,
    "start_time": "2022-04-10T11:52:43.540Z"
   },
   {
    "duration": 38,
    "start_time": "2022-04-10T11:52:43.549Z"
   },
   {
    "duration": 11,
    "start_time": "2022-04-10T11:52:43.589Z"
   },
   {
    "duration": 402,
    "start_time": "2022-04-10T11:52:43.602Z"
   },
   {
    "duration": 9,
    "start_time": "2022-04-10T11:52:44.006Z"
   },
   {
    "duration": 13,
    "start_time": "2022-04-10T11:52:44.017Z"
   },
   {
    "duration": 18,
    "start_time": "2022-04-10T11:52:44.032Z"
   },
   {
    "duration": 264,
    "start_time": "2022-04-10T11:52:44.051Z"
   },
   {
    "duration": 6,
    "start_time": "2022-04-10T11:52:44.317Z"
   },
   {
    "duration": 20,
    "start_time": "2022-04-10T11:52:44.325Z"
   },
   {
    "duration": 206,
    "start_time": "2022-04-10T11:52:44.347Z"
   },
   {
    "duration": 7,
    "start_time": "2022-04-10T11:52:44.555Z"
   },
   {
    "duration": 31,
    "start_time": "2022-04-10T11:52:44.564Z"
   },
   {
    "duration": 215,
    "start_time": "2022-04-10T11:52:44.597Z"
   },
   {
    "duration": 7,
    "start_time": "2022-04-10T11:52:44.814Z"
   },
   {
    "duration": 7,
    "start_time": "2022-04-10T11:52:44.823Z"
   },
   {
    "duration": 11,
    "start_time": "2022-04-10T11:52:44.832Z"
   },
   {
    "duration": 39,
    "start_time": "2022-04-10T11:52:44.845Z"
   },
   {
    "duration": 24,
    "start_time": "2022-04-10T11:52:44.886Z"
   },
   {
    "duration": 18,
    "start_time": "2022-04-10T11:52:44.912Z"
   },
   {
    "duration": 4,
    "start_time": "2022-04-10T11:52:44.932Z"
   },
   {
    "duration": 5,
    "start_time": "2022-04-10T11:52:44.938Z"
   },
   {
    "duration": 280,
    "start_time": "2022-04-10T11:52:44.944Z"
   },
   {
    "duration": 114,
    "start_time": "2022-04-10T11:52:45.226Z"
   },
   {
    "duration": 14,
    "start_time": "2022-04-10T11:52:45.342Z"
   },
   {
    "duration": 4,
    "start_time": "2022-04-10T11:52:45.357Z"
   },
   {
    "duration": 318,
    "start_time": "2022-04-10T11:52:45.363Z"
   },
   {
    "duration": 18,
    "start_time": "2022-04-10T11:52:45.684Z"
   },
   {
    "duration": 247,
    "start_time": "2022-04-10T11:52:45.703Z"
   },
   {
    "duration": 212,
    "start_time": "2022-04-10T11:52:45.952Z"
   },
   {
    "duration": 17,
    "start_time": "2022-04-10T11:52:46.166Z"
   },
   {
    "duration": 225,
    "start_time": "2022-04-10T11:52:46.185Z"
   },
   {
    "duration": 5,
    "start_time": "2022-04-10T11:52:46.412Z"
   },
   {
    "duration": 201,
    "start_time": "2022-04-10T11:52:46.419Z"
   },
   {
    "duration": 217,
    "start_time": "2022-04-10T11:52:46.621Z"
   },
   {
    "duration": 191,
    "start_time": "2022-04-10T11:52:46.839Z"
   },
   {
    "duration": 304,
    "start_time": "2022-04-10T11:52:47.032Z"
   },
   {
    "duration": 6,
    "start_time": "2022-04-10T11:52:47.337Z"
   },
   {
    "duration": 187,
    "start_time": "2022-04-10T11:54:39.133Z"
   },
   {
    "duration": 5,
    "start_time": "2022-04-10T11:55:04.574Z"
   },
   {
    "duration": 185,
    "start_time": "2022-04-10T11:56:04.942Z"
   },
   {
    "duration": 5,
    "start_time": "2022-04-10T11:56:19.556Z"
   },
   {
    "duration": 185,
    "start_time": "2022-04-10T11:57:17.095Z"
   },
   {
    "duration": 5,
    "start_time": "2022-04-10T11:57:34.575Z"
   },
   {
    "duration": 72,
    "start_time": "2022-04-10T12:04:09.472Z"
   },
   {
    "duration": 8,
    "start_time": "2022-04-10T12:04:15.662Z"
   },
   {
    "duration": 25,
    "start_time": "2022-04-10T12:04:17.296Z"
   },
   {
    "duration": 4,
    "start_time": "2022-04-10T12:04:19.437Z"
   },
   {
    "duration": 2191,
    "start_time": "2022-04-10T12:05:25.498Z"
   },
   {
    "duration": 2018,
    "start_time": "2022-04-10T12:06:10.125Z"
   },
   {
    "duration": 1743,
    "start_time": "2022-04-10T12:06:16.334Z"
   },
   {
    "duration": 6,
    "start_time": "2022-04-10T12:06:43.407Z"
   },
   {
    "duration": 7,
    "start_time": "2022-04-10T12:07:00.061Z"
   },
   {
    "duration": 25,
    "start_time": "2022-04-10T12:07:27.632Z"
   },
   {
    "duration": 1742,
    "start_time": "2022-04-10T12:07:32.536Z"
   },
   {
    "duration": 7,
    "start_time": "2022-04-10T12:08:10.414Z"
   },
   {
    "duration": 26,
    "start_time": "2022-04-10T12:08:39.563Z"
   },
   {
    "duration": 5,
    "start_time": "2022-04-10T12:08:46.743Z"
   },
   {
    "duration": 4,
    "start_time": "2022-04-10T12:08:52.686Z"
   },
   {
    "duration": 445,
    "start_time": "2022-04-10T12:14:02.881Z"
   },
   {
    "duration": 38,
    "start_time": "2022-04-10T12:16:33.746Z"
   },
   {
    "duration": 106,
    "start_time": "2022-04-10T12:16:50.446Z"
   },
   {
    "duration": 302,
    "start_time": "2022-04-10T12:17:08.479Z"
   },
   {
    "duration": 378,
    "start_time": "2022-04-10T12:17:25.581Z"
   },
   {
    "duration": 277,
    "start_time": "2022-04-10T12:17:41.684Z"
   },
   {
    "duration": 349,
    "start_time": "2022-04-10T12:18:52.444Z"
   },
   {
    "duration": 349,
    "start_time": "2022-04-10T12:19:02.916Z"
   },
   {
    "duration": 365,
    "start_time": "2022-04-10T12:19:09.391Z"
   },
   {
    "duration": 593,
    "start_time": "2022-04-10T12:19:20.335Z"
   },
   {
    "duration": 396,
    "start_time": "2022-04-10T12:24:06.949Z"
   },
   {
    "duration": 352,
    "start_time": "2022-04-10T12:24:22.154Z"
   },
   {
    "duration": 708,
    "start_time": "2022-04-10T12:24:27.724Z"
   },
   {
    "duration": 1107,
    "start_time": "2022-04-10T12:24:58.742Z"
   },
   {
    "duration": 403,
    "start_time": "2022-04-10T12:25:32.328Z"
   },
   {
    "duration": 647,
    "start_time": "2022-04-10T12:25:40.726Z"
   },
   {
    "duration": 13,
    "start_time": "2022-04-10T12:26:19.142Z"
   },
   {
    "duration": 1277,
    "start_time": "2022-04-10T12:26:28.536Z"
   },
   {
    "duration": 761,
    "start_time": "2022-04-10T12:27:37.807Z"
   },
   {
    "duration": 2004,
    "start_time": "2022-04-10T12:31:44.661Z"
   },
   {
    "duration": 12,
    "start_time": "2022-04-10T12:36:21.531Z"
   },
   {
    "duration": 10,
    "start_time": "2022-04-10T12:36:37.732Z"
   },
   {
    "duration": 21,
    "start_time": "2022-04-10T12:38:16.903Z"
   },
   {
    "duration": 56,
    "start_time": "2022-04-10T12:39:00.933Z"
   },
   {
    "duration": 59,
    "start_time": "2022-04-10T12:39:12.800Z"
   },
   {
    "duration": 61,
    "start_time": "2022-04-10T12:39:27.442Z"
   },
   {
    "duration": 25,
    "start_time": "2022-04-10T12:39:39.743Z"
   },
   {
    "duration": 26,
    "start_time": "2022-04-10T12:40:24.044Z"
   },
   {
    "duration": 28,
    "start_time": "2022-04-10T12:42:24.522Z"
   },
   {
    "duration": 27,
    "start_time": "2022-04-10T12:43:20.208Z"
   },
   {
    "duration": 28,
    "start_time": "2022-04-10T12:43:53.741Z"
   },
   {
    "duration": 17,
    "start_time": "2022-04-10T12:49:09.521Z"
   },
   {
    "duration": 4,
    "start_time": "2022-04-10T12:49:10.554Z"
   },
   {
    "duration": 1470,
    "start_time": "2022-04-10T16:02:23.134Z"
   },
   {
    "duration": 118,
    "start_time": "2022-04-10T16:02:24.606Z"
   },
   {
    "duration": 30,
    "start_time": "2022-04-10T16:02:24.726Z"
   },
   {
    "duration": 31,
    "start_time": "2022-04-10T16:02:24.757Z"
   },
   {
    "duration": 6,
    "start_time": "2022-04-10T16:02:24.791Z"
   },
   {
    "duration": 36,
    "start_time": "2022-04-10T16:02:24.799Z"
   },
   {
    "duration": 6,
    "start_time": "2022-04-10T16:02:24.837Z"
   },
   {
    "duration": 26,
    "start_time": "2022-04-10T16:02:24.845Z"
   },
   {
    "duration": 20,
    "start_time": "2022-04-10T16:02:24.873Z"
   },
   {
    "duration": 63,
    "start_time": "2022-04-10T16:02:24.895Z"
   },
   {
    "duration": 12,
    "start_time": "2022-04-10T16:02:24.960Z"
   },
   {
    "duration": 29,
    "start_time": "2022-04-10T16:02:24.974Z"
   },
   {
    "duration": 11,
    "start_time": "2022-04-10T16:02:25.005Z"
   },
   {
    "duration": 16,
    "start_time": "2022-04-10T16:02:25.019Z"
   },
   {
    "duration": 34,
    "start_time": "2022-04-10T16:02:25.038Z"
   },
   {
    "duration": 40,
    "start_time": "2022-04-10T16:02:25.074Z"
   },
   {
    "duration": 46,
    "start_time": "2022-04-10T16:02:25.116Z"
   },
   {
    "duration": 5,
    "start_time": "2022-04-10T16:02:25.164Z"
   },
   {
    "duration": 11,
    "start_time": "2022-04-10T16:02:25.171Z"
   },
   {
    "duration": 14,
    "start_time": "2022-04-10T16:02:25.184Z"
   },
   {
    "duration": 37,
    "start_time": "2022-04-10T16:02:25.200Z"
   },
   {
    "duration": 4,
    "start_time": "2022-04-10T16:02:25.239Z"
   },
   {
    "duration": 10,
    "start_time": "2022-04-10T16:02:25.245Z"
   },
   {
    "duration": 15,
    "start_time": "2022-04-10T16:02:25.257Z"
   },
   {
    "duration": 20,
    "start_time": "2022-04-10T16:02:25.274Z"
   },
   {
    "duration": 18,
    "start_time": "2022-04-10T16:02:25.295Z"
   },
   {
    "duration": 18,
    "start_time": "2022-04-10T16:02:25.315Z"
   },
   {
    "duration": 3,
    "start_time": "2022-04-10T16:02:25.335Z"
   },
   {
    "duration": 21,
    "start_time": "2022-04-10T16:02:25.340Z"
   },
   {
    "duration": 17,
    "start_time": "2022-04-10T16:02:25.363Z"
   },
   {
    "duration": 7,
    "start_time": "2022-04-10T16:02:25.383Z"
   },
   {
    "duration": 19,
    "start_time": "2022-04-10T16:02:25.392Z"
   },
   {
    "duration": 24,
    "start_time": "2022-04-10T16:02:25.413Z"
   },
   {
    "duration": 13,
    "start_time": "2022-04-10T16:02:25.439Z"
   },
   {
    "duration": 7,
    "start_time": "2022-04-10T16:02:25.454Z"
   },
   {
    "duration": 27,
    "start_time": "2022-04-10T16:02:25.462Z"
   },
   {
    "duration": 18,
    "start_time": "2022-04-10T16:02:25.491Z"
   },
   {
    "duration": 36,
    "start_time": "2022-04-10T16:02:25.511Z"
   },
   {
    "duration": 17,
    "start_time": "2022-04-10T16:02:25.548Z"
   },
   {
    "duration": 6,
    "start_time": "2022-04-10T16:02:25.567Z"
   },
   {
    "duration": 14,
    "start_time": "2022-04-10T16:02:25.580Z"
   },
   {
    "duration": 44,
    "start_time": "2022-04-10T16:02:25.597Z"
   },
   {
    "duration": 24,
    "start_time": "2022-04-10T16:02:25.643Z"
   },
   {
    "duration": 10,
    "start_time": "2022-04-10T16:02:25.668Z"
   },
   {
    "duration": 29,
    "start_time": "2022-04-10T16:02:25.679Z"
   },
   {
    "duration": 7,
    "start_time": "2022-04-10T16:02:25.732Z"
   },
   {
    "duration": 13,
    "start_time": "2022-04-10T16:02:25.741Z"
   },
   {
    "duration": 37,
    "start_time": "2022-04-10T16:02:25.756Z"
   },
   {
    "duration": 37,
    "start_time": "2022-04-10T16:02:25.795Z"
   },
   {
    "duration": 16,
    "start_time": "2022-04-10T16:02:25.834Z"
   },
   {
    "duration": 6,
    "start_time": "2022-04-10T16:02:25.852Z"
   },
   {
    "duration": 14,
    "start_time": "2022-04-10T16:02:25.860Z"
   },
   {
    "duration": 13,
    "start_time": "2022-04-10T16:02:25.877Z"
   },
   {
    "duration": 14,
    "start_time": "2022-04-10T16:02:25.892Z"
   },
   {
    "duration": 4,
    "start_time": "2022-04-10T16:02:25.931Z"
   },
   {
    "duration": 16,
    "start_time": "2022-04-10T16:02:25.937Z"
   },
   {
    "duration": 355,
    "start_time": "2022-04-10T16:02:25.954Z"
   },
   {
    "duration": 6,
    "start_time": "2022-04-10T16:02:26.311Z"
   },
   {
    "duration": 4,
    "start_time": "2022-04-10T16:02:26.332Z"
   },
   {
    "duration": 7,
    "start_time": "2022-04-10T16:02:26.338Z"
   },
   {
    "duration": 19,
    "start_time": "2022-04-10T16:02:26.347Z"
   },
   {
    "duration": 5,
    "start_time": "2022-04-10T16:02:26.368Z"
   },
   {
    "duration": 11,
    "start_time": "2022-04-10T16:02:26.374Z"
   },
   {
    "duration": 19,
    "start_time": "2022-04-10T16:02:26.387Z"
   },
   {
    "duration": 11,
    "start_time": "2022-04-10T16:02:26.433Z"
   },
   {
    "duration": 382,
    "start_time": "2022-04-10T16:02:26.446Z"
   },
   {
    "duration": 11,
    "start_time": "2022-04-10T16:02:26.832Z"
   },
   {
    "duration": 10,
    "start_time": "2022-04-10T16:02:26.845Z"
   },
   {
    "duration": 306,
    "start_time": "2022-04-10T16:02:26.858Z"
   },
   {
    "duration": 7,
    "start_time": "2022-04-10T16:02:27.166Z"
   },
   {
    "duration": 304,
    "start_time": "2022-04-10T16:02:27.175Z"
   },
   {
    "duration": 7,
    "start_time": "2022-04-10T16:02:27.481Z"
   },
   {
    "duration": 256,
    "start_time": "2022-04-10T16:02:27.490Z"
   },
   {
    "duration": 8,
    "start_time": "2022-04-10T16:02:27.748Z"
   },
   {
    "duration": 11,
    "start_time": "2022-04-10T16:02:27.757Z"
   },
   {
    "duration": 7,
    "start_time": "2022-04-10T16:02:27.770Z"
   },
   {
    "duration": 20,
    "start_time": "2022-04-10T16:02:27.779Z"
   },
   {
    "duration": 6,
    "start_time": "2022-04-10T16:02:27.831Z"
   },
   {
    "duration": 6,
    "start_time": "2022-04-10T16:02:27.838Z"
   },
   {
    "duration": 132,
    "start_time": "2022-04-10T16:02:27.846Z"
   },
   {
    "duration": 0,
    "start_time": "2022-04-10T16:02:27.979Z"
   },
   {
    "duration": 0,
    "start_time": "2022-04-10T16:02:27.981Z"
   },
   {
    "duration": 0,
    "start_time": "2022-04-10T16:02:27.983Z"
   },
   {
    "duration": 0,
    "start_time": "2022-04-10T16:02:27.984Z"
   },
   {
    "duration": 0,
    "start_time": "2022-04-10T16:02:27.985Z"
   },
   {
    "duration": 0,
    "start_time": "2022-04-10T16:02:27.986Z"
   },
   {
    "duration": 0,
    "start_time": "2022-04-10T16:02:27.987Z"
   },
   {
    "duration": 0,
    "start_time": "2022-04-10T16:02:27.988Z"
   },
   {
    "duration": 0,
    "start_time": "2022-04-10T16:02:27.989Z"
   },
   {
    "duration": 0,
    "start_time": "2022-04-10T16:02:27.991Z"
   },
   {
    "duration": 0,
    "start_time": "2022-04-10T16:02:27.992Z"
   },
   {
    "duration": 0,
    "start_time": "2022-04-10T16:02:27.993Z"
   },
   {
    "duration": 0,
    "start_time": "2022-04-10T16:02:27.994Z"
   },
   {
    "duration": 0,
    "start_time": "2022-04-10T16:02:27.995Z"
   },
   {
    "duration": 0,
    "start_time": "2022-04-10T16:02:27.996Z"
   },
   {
    "duration": 0,
    "start_time": "2022-04-10T16:02:27.998Z"
   },
   {
    "duration": 0,
    "start_time": "2022-04-10T16:02:28.031Z"
   },
   {
    "duration": 0,
    "start_time": "2022-04-10T16:02:28.033Z"
   },
   {
    "duration": 0,
    "start_time": "2022-04-10T16:02:28.034Z"
   },
   {
    "duration": 0,
    "start_time": "2022-04-10T16:02:28.035Z"
   },
   {
    "duration": 0,
    "start_time": "2022-04-10T16:02:28.036Z"
   },
   {
    "duration": 0,
    "start_time": "2022-04-10T16:02:28.038Z"
   },
   {
    "duration": 0,
    "start_time": "2022-04-10T16:02:28.038Z"
   },
   {
    "duration": 263,
    "start_time": "2022-04-10T16:03:15.943Z"
   },
   {
    "duration": 112,
    "start_time": "2022-04-10T16:03:22.472Z"
   },
   {
    "duration": 20,
    "start_time": "2022-04-10T16:03:31.395Z"
   },
   {
    "duration": 5,
    "start_time": "2022-04-10T16:03:31.612Z"
   },
   {
    "duration": 264,
    "start_time": "2022-04-10T16:03:31.824Z"
   },
   {
    "duration": 14,
    "start_time": "2022-04-10T16:03:32.278Z"
   },
   {
    "duration": 33,
    "start_time": "2022-04-10T16:03:53.975Z"
   },
   {
    "duration": 255,
    "start_time": "2022-04-10T16:03:56.778Z"
   },
   {
    "duration": 209,
    "start_time": "2022-04-10T16:04:01.136Z"
   },
   {
    "duration": 8,
    "start_time": "2022-04-10T16:04:01.466Z"
   },
   {
    "duration": 906,
    "start_time": "2022-04-10T16:04:03.042Z"
   },
   {
    "duration": 215,
    "start_time": "2022-04-10T16:04:03.950Z"
   },
   {
    "duration": 5,
    "start_time": "2022-04-10T16:04:04.167Z"
   },
   {
    "duration": 414,
    "start_time": "2022-04-10T16:04:42.388Z"
   },
   {
    "duration": 780,
    "start_time": "2022-04-10T16:05:07.268Z"
   },
   {
    "duration": 1418,
    "start_time": "2022-04-10T16:05:12.096Z"
   },
   {
    "duration": 752,
    "start_time": "2022-04-10T16:05:16.616Z"
   },
   {
    "duration": 211,
    "start_time": "2022-04-10T16:17:55.091Z"
   },
   {
    "duration": 6,
    "start_time": "2022-04-10T16:17:59.850Z"
   },
   {
    "duration": 22,
    "start_time": "2022-04-10T16:19:04.451Z"
   },
   {
    "duration": 5,
    "start_time": "2022-04-10T16:19:05.226Z"
   },
   {
    "duration": 251,
    "start_time": "2022-04-10T16:19:05.823Z"
   },
   {
    "duration": 17,
    "start_time": "2022-04-10T16:19:36.751Z"
   },
   {
    "duration": 4,
    "start_time": "2022-04-10T16:19:37.387Z"
   },
   {
    "duration": 239,
    "start_time": "2022-04-10T16:19:37.709Z"
   },
   {
    "duration": 21,
    "start_time": "2022-04-10T16:20:10.297Z"
   },
   {
    "duration": 4,
    "start_time": "2022-04-10T16:20:11.299Z"
   },
   {
    "duration": 241,
    "start_time": "2022-04-10T16:20:11.781Z"
   },
   {
    "duration": 312,
    "start_time": "2022-04-10T16:20:26.456Z"
   },
   {
    "duration": 13,
    "start_time": "2022-04-10T16:20:43.770Z"
   },
   {
    "duration": 5,
    "start_time": "2022-04-10T16:20:44.059Z"
   },
   {
    "duration": 444,
    "start_time": "2022-04-10T16:20:44.490Z"
   },
   {
    "duration": 120,
    "start_time": "2022-04-10T16:47:54.411Z"
   },
   {
    "duration": 15,
    "start_time": "2022-04-10T16:47:55.977Z"
   },
   {
    "duration": 4,
    "start_time": "2022-04-10T16:48:02.532Z"
   },
   {
    "duration": 312,
    "start_time": "2022-04-10T16:48:02.977Z"
   },
   {
    "duration": 236,
    "start_time": "2022-04-10T16:48:08.771Z"
   },
   {
    "duration": 14,
    "start_time": "2022-04-10T16:49:30.364Z"
   },
   {
    "duration": 180,
    "start_time": "2022-04-10T16:50:06.026Z"
   },
   {
    "duration": 12,
    "start_time": "2022-04-10T16:54:58.189Z"
   },
   {
    "duration": 263,
    "start_time": "2022-04-10T16:54:58.589Z"
   },
   {
    "duration": 13,
    "start_time": "2022-04-10T16:57:57.746Z"
   },
   {
    "duration": 390,
    "start_time": "2022-04-10T16:57:58.032Z"
   },
   {
    "duration": 221,
    "start_time": "2022-04-10T16:58:57.915Z"
   },
   {
    "duration": 13,
    "start_time": "2022-04-10T16:59:19.100Z"
   },
   {
    "duration": 226,
    "start_time": "2022-04-10T16:59:22.510Z"
   },
   {
    "duration": 246,
    "start_time": "2022-04-10T17:00:05.400Z"
   },
   {
    "duration": 9,
    "start_time": "2022-04-10T17:00:17.699Z"
   },
   {
    "duration": 31,
    "start_time": "2022-04-10T17:02:21.642Z"
   },
   {
    "duration": 31,
    "start_time": "2022-04-10T17:02:28.389Z"
   },
   {
    "duration": 29,
    "start_time": "2022-04-10T17:02:32.282Z"
   },
   {
    "duration": 212,
    "start_time": "2022-04-10T17:02:54.807Z"
   },
   {
    "duration": 7,
    "start_time": "2022-04-10T17:02:56.350Z"
   },
   {
    "duration": 813,
    "start_time": "2022-04-10T17:02:59.633Z"
   },
   {
    "duration": 200,
    "start_time": "2022-04-10T17:03:33.985Z"
   },
   {
    "duration": 7,
    "start_time": "2022-04-10T17:04:53.686Z"
   },
   {
    "duration": 373,
    "start_time": "2022-04-10T17:05:01.120Z"
   },
   {
    "duration": 203,
    "start_time": "2022-04-10T17:05:49.588Z"
   },
   {
    "duration": 5,
    "start_time": "2022-04-10T17:05:50.693Z"
   },
   {
    "duration": 700,
    "start_time": "2022-04-10T17:06:04.157Z"
   },
   {
    "duration": 1480,
    "start_time": "2022-04-10T17:06:17.826Z"
   },
   {
    "duration": 596,
    "start_time": "2022-04-10T17:06:34.873Z"
   },
   {
    "duration": 7,
    "start_time": "2022-04-10T17:06:51.769Z"
   },
   {
    "duration": 27,
    "start_time": "2022-04-10T17:06:53.566Z"
   },
   {
    "duration": 8,
    "start_time": "2022-04-10T17:06:54.350Z"
   },
   {
    "duration": 5,
    "start_time": "2022-04-10T17:07:09.299Z"
   },
   {
    "duration": 5,
    "start_time": "2022-04-10T17:07:09.831Z"
   },
   {
    "duration": 26,
    "start_time": "2022-04-10T17:17:28.849Z"
   },
   {
    "duration": 29,
    "start_time": "2022-04-10T17:18:27.121Z"
   },
   {
    "duration": 21,
    "start_time": "2022-04-10T17:18:51.976Z"
   },
   {
    "duration": 3,
    "start_time": "2022-04-10T17:18:59.755Z"
   },
   {
    "duration": 114,
    "start_time": "2022-04-10T17:18:59.760Z"
   },
   {
    "duration": 23,
    "start_time": "2022-04-10T17:18:59.876Z"
   },
   {
    "duration": 50,
    "start_time": "2022-04-10T17:18:59.900Z"
   },
   {
    "duration": 4,
    "start_time": "2022-04-10T17:18:59.952Z"
   },
   {
    "duration": 14,
    "start_time": "2022-04-10T17:18:59.958Z"
   },
   {
    "duration": 8,
    "start_time": "2022-04-10T17:18:59.974Z"
   },
   {
    "duration": 58,
    "start_time": "2022-04-10T17:18:59.984Z"
   },
   {
    "duration": 14,
    "start_time": "2022-04-10T17:19:00.045Z"
   },
   {
    "duration": 23,
    "start_time": "2022-04-10T17:19:00.061Z"
   },
   {
    "duration": 10,
    "start_time": "2022-04-10T17:19:00.087Z"
   },
   {
    "duration": 47,
    "start_time": "2022-04-10T17:19:00.100Z"
   },
   {
    "duration": 9,
    "start_time": "2022-04-10T17:19:00.149Z"
   },
   {
    "duration": 12,
    "start_time": "2022-04-10T17:19:00.160Z"
   },
   {
    "duration": 32,
    "start_time": "2022-04-10T17:19:00.174Z"
   },
   {
    "duration": 31,
    "start_time": "2022-04-10T17:19:00.208Z"
   },
   {
    "duration": 27,
    "start_time": "2022-04-10T17:19:00.241Z"
   },
   {
    "duration": 5,
    "start_time": "2022-04-10T17:19:00.270Z"
   },
   {
    "duration": 14,
    "start_time": "2022-04-10T17:19:00.276Z"
   },
   {
    "duration": 18,
    "start_time": "2022-04-10T17:19:00.292Z"
   },
   {
    "duration": 22,
    "start_time": "2022-04-10T17:19:00.311Z"
   },
   {
    "duration": 7,
    "start_time": "2022-04-10T17:19:00.335Z"
   },
   {
    "duration": 11,
    "start_time": "2022-04-10T17:19:00.343Z"
   },
   {
    "duration": 19,
    "start_time": "2022-04-10T17:19:00.356Z"
   },
   {
    "duration": 16,
    "start_time": "2022-04-10T17:19:00.377Z"
   },
   {
    "duration": 16,
    "start_time": "2022-04-10T17:19:00.395Z"
   },
   {
    "duration": 14,
    "start_time": "2022-04-10T17:19:00.413Z"
   },
   {
    "duration": 4,
    "start_time": "2022-04-10T17:19:00.429Z"
   },
   {
    "duration": 9,
    "start_time": "2022-04-10T17:19:00.438Z"
   },
   {
    "duration": 15,
    "start_time": "2022-04-10T17:19:00.449Z"
   },
   {
    "duration": 10,
    "start_time": "2022-04-10T17:19:00.465Z"
   },
   {
    "duration": 16,
    "start_time": "2022-04-10T17:19:00.476Z"
   },
   {
    "duration": 11,
    "start_time": "2022-04-10T17:19:00.494Z"
   },
   {
    "duration": 16,
    "start_time": "2022-04-10T17:19:00.507Z"
   },
   {
    "duration": 10,
    "start_time": "2022-04-10T17:19:00.524Z"
   },
   {
    "duration": 27,
    "start_time": "2022-04-10T17:19:00.536Z"
   },
   {
    "duration": 15,
    "start_time": "2022-04-10T17:19:00.564Z"
   },
   {
    "duration": 14,
    "start_time": "2022-04-10T17:19:00.581Z"
   },
   {
    "duration": 13,
    "start_time": "2022-04-10T17:19:00.597Z"
   },
   {
    "duration": 20,
    "start_time": "2022-04-10T17:19:00.612Z"
   },
   {
    "duration": 11,
    "start_time": "2022-04-10T17:19:00.633Z"
   },
   {
    "duration": 16,
    "start_time": "2022-04-10T17:19:00.646Z"
   },
   {
    "duration": 29,
    "start_time": "2022-04-10T17:19:00.663Z"
   },
   {
    "duration": 9,
    "start_time": "2022-04-10T17:19:00.693Z"
   },
   {
    "duration": 42,
    "start_time": "2022-04-10T17:19:00.704Z"
   },
   {
    "duration": 7,
    "start_time": "2022-04-10T17:19:00.748Z"
   },
   {
    "duration": 17,
    "start_time": "2022-04-10T17:19:00.756Z"
   },
   {
    "duration": 38,
    "start_time": "2022-04-10T17:19:00.774Z"
   },
   {
    "duration": 22,
    "start_time": "2022-04-10T17:19:00.813Z"
   },
   {
    "duration": 18,
    "start_time": "2022-04-10T17:19:00.836Z"
   },
   {
    "duration": 10,
    "start_time": "2022-04-10T17:19:00.856Z"
   },
   {
    "duration": 7,
    "start_time": "2022-04-10T17:19:00.868Z"
   },
   {
    "duration": 26,
    "start_time": "2022-04-10T17:19:00.877Z"
   },
   {
    "duration": 20,
    "start_time": "2022-04-10T17:19:00.905Z"
   },
   {
    "duration": 3,
    "start_time": "2022-04-10T17:19:00.927Z"
   },
   {
    "duration": 14,
    "start_time": "2022-04-10T17:19:00.932Z"
   },
   {
    "duration": 349,
    "start_time": "2022-04-10T17:19:00.948Z"
   },
   {
    "duration": 6,
    "start_time": "2022-04-10T17:19:01.299Z"
   },
   {
    "duration": 10,
    "start_time": "2022-04-10T17:19:01.307Z"
   },
   {
    "duration": 12,
    "start_time": "2022-04-10T17:19:01.319Z"
   },
   {
    "duration": 14,
    "start_time": "2022-04-10T17:19:01.333Z"
   },
   {
    "duration": 12,
    "start_time": "2022-04-10T17:19:01.349Z"
   },
   {
    "duration": 12,
    "start_time": "2022-04-10T17:19:01.362Z"
   },
   {
    "duration": 22,
    "start_time": "2022-04-10T17:19:01.375Z"
   },
   {
    "duration": 14,
    "start_time": "2022-04-10T17:19:01.399Z"
   },
   {
    "duration": 335,
    "start_time": "2022-04-10T17:19:01.415Z"
   },
   {
    "duration": 9,
    "start_time": "2022-04-10T17:19:01.752Z"
   },
   {
    "duration": 25,
    "start_time": "2022-04-10T17:19:01.762Z"
   },
   {
    "duration": 289,
    "start_time": "2022-04-10T17:19:01.789Z"
   },
   {
    "duration": 6,
    "start_time": "2022-04-10T17:19:02.080Z"
   },
   {
    "duration": 232,
    "start_time": "2022-04-10T17:19:02.088Z"
   },
   {
    "duration": 14,
    "start_time": "2022-04-10T17:19:02.321Z"
   },
   {
    "duration": 249,
    "start_time": "2022-04-10T17:19:02.337Z"
   },
   {
    "duration": 7,
    "start_time": "2022-04-10T17:19:02.588Z"
   },
   {
    "duration": 14,
    "start_time": "2022-04-10T17:19:02.596Z"
   },
   {
    "duration": 19,
    "start_time": "2022-04-10T17:19:02.612Z"
   },
   {
    "duration": 20,
    "start_time": "2022-04-10T17:19:02.633Z"
   },
   {
    "duration": 5,
    "start_time": "2022-04-10T17:19:02.655Z"
   },
   {
    "duration": 6,
    "start_time": "2022-04-10T17:19:02.662Z"
   },
   {
    "duration": 298,
    "start_time": "2022-04-10T17:19:02.670Z"
   },
   {
    "duration": 334,
    "start_time": "2022-04-10T17:19:02.971Z"
   },
   {
    "duration": 24,
    "start_time": "2022-04-10T17:19:03.308Z"
   },
   {
    "duration": 4,
    "start_time": "2022-04-10T17:19:03.340Z"
   },
   {
    "duration": 189,
    "start_time": "2022-04-10T17:19:03.345Z"
   },
   {
    "duration": 13,
    "start_time": "2022-04-10T17:19:03.536Z"
   },
   {
    "duration": 230,
    "start_time": "2022-04-10T17:19:03.551Z"
   },
   {
    "duration": 8,
    "start_time": "2022-04-10T17:19:03.783Z"
   },
   {
    "duration": 43,
    "start_time": "2022-04-10T17:19:03.793Z"
   },
   {
    "duration": 199,
    "start_time": "2022-04-10T17:19:03.838Z"
   },
   {
    "duration": 7,
    "start_time": "2022-04-10T17:19:04.039Z"
   },
   {
    "duration": 805,
    "start_time": "2022-04-10T17:19:04.048Z"
   },
   {
    "duration": 7,
    "start_time": "2022-04-10T17:19:04.855Z"
   },
   {
    "duration": 395,
    "start_time": "2022-04-10T17:19:04.864Z"
   },
   {
    "duration": 216,
    "start_time": "2022-04-10T17:19:05.262Z"
   },
   {
    "duration": 6,
    "start_time": "2022-04-10T17:19:05.479Z"
   },
   {
    "duration": 703,
    "start_time": "2022-04-10T17:19:05.487Z"
   },
   {
    "duration": 2183,
    "start_time": "2022-04-10T17:19:06.192Z"
   },
   {
    "duration": 597,
    "start_time": "2022-04-10T17:19:08.377Z"
   },
   {
    "duration": 8,
    "start_time": "2022-04-10T17:19:08.975Z"
   },
   {
    "duration": 29,
    "start_time": "2022-04-10T17:19:08.985Z"
   },
   {
    "duration": 17,
    "start_time": "2022-04-10T17:19:09.016Z"
   },
   {
    "duration": 5,
    "start_time": "2022-04-10T17:19:09.035Z"
   },
   {
    "duration": 25,
    "start_time": "2022-04-10T17:19:14.240Z"
   },
   {
    "duration": 26,
    "start_time": "2022-04-10T17:20:18.698Z"
   },
   {
    "duration": 2,
    "start_time": "2022-04-10T17:20:25.668Z"
   },
   {
    "duration": 126,
    "start_time": "2022-04-10T17:20:25.672Z"
   },
   {
    "duration": 46,
    "start_time": "2022-04-10T17:20:25.800Z"
   },
   {
    "duration": 28,
    "start_time": "2022-04-10T17:20:25.848Z"
   },
   {
    "duration": 7,
    "start_time": "2022-04-10T17:20:25.878Z"
   },
   {
    "duration": 46,
    "start_time": "2022-04-10T17:20:25.886Z"
   },
   {
    "duration": 11,
    "start_time": "2022-04-10T17:20:25.934Z"
   },
   {
    "duration": 39,
    "start_time": "2022-04-10T17:20:25.947Z"
   },
   {
    "duration": 12,
    "start_time": "2022-04-10T17:20:25.988Z"
   },
   {
    "duration": 31,
    "start_time": "2022-04-10T17:20:26.002Z"
   },
   {
    "duration": 6,
    "start_time": "2022-04-10T17:20:26.036Z"
   },
   {
    "duration": 25,
    "start_time": "2022-04-10T17:20:26.043Z"
   },
   {
    "duration": 13,
    "start_time": "2022-04-10T17:20:26.070Z"
   },
   {
    "duration": 13,
    "start_time": "2022-04-10T17:20:26.085Z"
   },
   {
    "duration": 39,
    "start_time": "2022-04-10T17:20:26.100Z"
   },
   {
    "duration": 25,
    "start_time": "2022-04-10T17:20:26.141Z"
   },
   {
    "duration": 26,
    "start_time": "2022-04-10T17:20:26.168Z"
   },
   {
    "duration": 5,
    "start_time": "2022-04-10T17:20:26.196Z"
   },
   {
    "duration": 30,
    "start_time": "2022-04-10T17:20:26.203Z"
   },
   {
    "duration": 10,
    "start_time": "2022-04-10T17:20:26.234Z"
   },
   {
    "duration": 25,
    "start_time": "2022-04-10T17:20:26.245Z"
   },
   {
    "duration": 17,
    "start_time": "2022-04-10T17:20:26.272Z"
   },
   {
    "duration": 17,
    "start_time": "2022-04-10T17:20:26.290Z"
   },
   {
    "duration": 24,
    "start_time": "2022-04-10T17:20:26.309Z"
   },
   {
    "duration": 27,
    "start_time": "2022-04-10T17:20:26.335Z"
   },
   {
    "duration": 25,
    "start_time": "2022-04-10T17:20:26.364Z"
   },
   {
    "duration": 16,
    "start_time": "2022-04-10T17:20:26.391Z"
   },
   {
    "duration": 11,
    "start_time": "2022-04-10T17:20:26.409Z"
   },
   {
    "duration": 20,
    "start_time": "2022-04-10T17:20:26.424Z"
   },
   {
    "duration": 30,
    "start_time": "2022-04-10T17:20:26.446Z"
   },
   {
    "duration": 15,
    "start_time": "2022-04-10T17:20:26.478Z"
   },
   {
    "duration": 23,
    "start_time": "2022-04-10T17:20:26.495Z"
   },
   {
    "duration": 14,
    "start_time": "2022-04-10T17:20:26.519Z"
   },
   {
    "duration": 20,
    "start_time": "2022-04-10T17:20:26.535Z"
   },
   {
    "duration": 12,
    "start_time": "2022-04-10T17:20:26.557Z"
   },
   {
    "duration": 32,
    "start_time": "2022-04-10T17:20:26.571Z"
   },
   {
    "duration": 15,
    "start_time": "2022-04-10T17:20:26.604Z"
   },
   {
    "duration": 17,
    "start_time": "2022-04-10T17:20:26.621Z"
   },
   {
    "duration": 15,
    "start_time": "2022-04-10T17:20:26.640Z"
   },
   {
    "duration": 9,
    "start_time": "2022-04-10T17:20:26.657Z"
   },
   {
    "duration": 21,
    "start_time": "2022-04-10T17:20:26.667Z"
   },
   {
    "duration": 27,
    "start_time": "2022-04-10T17:20:26.690Z"
   },
   {
    "duration": 25,
    "start_time": "2022-04-10T17:20:26.719Z"
   },
   {
    "duration": 9,
    "start_time": "2022-04-10T17:20:26.745Z"
   },
   {
    "duration": 34,
    "start_time": "2022-04-10T17:20:26.756Z"
   },
   {
    "duration": 6,
    "start_time": "2022-04-10T17:20:26.792Z"
   },
   {
    "duration": 16,
    "start_time": "2022-04-10T17:20:26.800Z"
   },
   {
    "duration": 31,
    "start_time": "2022-04-10T17:20:26.832Z"
   },
   {
    "duration": 6,
    "start_time": "2022-04-10T17:20:26.864Z"
   },
   {
    "duration": 27,
    "start_time": "2022-04-10T17:20:26.871Z"
   },
   {
    "duration": 6,
    "start_time": "2022-04-10T17:20:26.899Z"
   },
   {
    "duration": 11,
    "start_time": "2022-04-10T17:20:26.907Z"
   },
   {
    "duration": 6,
    "start_time": "2022-04-10T17:20:26.931Z"
   },
   {
    "duration": 15,
    "start_time": "2022-04-10T17:20:26.939Z"
   },
   {
    "duration": 3,
    "start_time": "2022-04-10T17:20:26.956Z"
   },
   {
    "duration": 14,
    "start_time": "2022-04-10T17:20:26.961Z"
   },
   {
    "duration": 565,
    "start_time": "2022-04-10T17:20:26.977Z"
   },
   {
    "duration": 6,
    "start_time": "2022-04-10T17:20:27.544Z"
   },
   {
    "duration": 7,
    "start_time": "2022-04-10T17:20:27.552Z"
   },
   {
    "duration": 5,
    "start_time": "2022-04-10T17:20:27.561Z"
   },
   {
    "duration": 13,
    "start_time": "2022-04-10T17:20:27.568Z"
   },
   {
    "duration": 3,
    "start_time": "2022-04-10T17:20:27.583Z"
   },
   {
    "duration": 7,
    "start_time": "2022-04-10T17:20:27.588Z"
   },
   {
    "duration": 41,
    "start_time": "2022-04-10T17:20:27.596Z"
   },
   {
    "duration": 9,
    "start_time": "2022-04-10T17:20:27.638Z"
   },
   {
    "duration": 343,
    "start_time": "2022-04-10T17:20:27.649Z"
   },
   {
    "duration": 9,
    "start_time": "2022-04-10T17:20:27.994Z"
   },
   {
    "duration": 11,
    "start_time": "2022-04-10T17:20:28.004Z"
   },
   {
    "duration": 283,
    "start_time": "2022-04-10T17:20:28.017Z"
   },
   {
    "duration": 7,
    "start_time": "2022-04-10T17:20:28.301Z"
   },
   {
    "duration": 215,
    "start_time": "2022-04-10T17:20:28.310Z"
   },
   {
    "duration": 10,
    "start_time": "2022-04-10T17:20:28.527Z"
   },
   {
    "duration": 237,
    "start_time": "2022-04-10T17:20:28.538Z"
   },
   {
    "duration": 7,
    "start_time": "2022-04-10T17:20:28.777Z"
   },
   {
    "duration": 9,
    "start_time": "2022-04-10T17:20:28.786Z"
   },
   {
    "duration": 11,
    "start_time": "2022-04-10T17:20:28.797Z"
   },
   {
    "duration": 37,
    "start_time": "2022-04-10T17:20:28.809Z"
   },
   {
    "duration": 5,
    "start_time": "2022-04-10T17:20:28.847Z"
   },
   {
    "duration": 8,
    "start_time": "2022-04-10T17:20:28.854Z"
   },
   {
    "duration": 277,
    "start_time": "2022-04-10T17:20:28.863Z"
   },
   {
    "duration": 122,
    "start_time": "2022-04-10T17:20:29.142Z"
   },
   {
    "duration": 15,
    "start_time": "2022-04-10T17:20:29.266Z"
   },
   {
    "duration": 4,
    "start_time": "2022-04-10T17:20:29.287Z"
   },
   {
    "duration": 195,
    "start_time": "2022-04-10T17:20:29.292Z"
   },
   {
    "duration": 13,
    "start_time": "2022-04-10T17:20:29.489Z"
   },
   {
    "duration": 234,
    "start_time": "2022-04-10T17:20:29.504Z"
   },
   {
    "duration": 9,
    "start_time": "2022-04-10T17:20:29.740Z"
   },
   {
    "duration": 40,
    "start_time": "2022-04-10T17:20:29.750Z"
   },
   {
    "duration": 204,
    "start_time": "2022-04-10T17:20:29.792Z"
   },
   {
    "duration": 7,
    "start_time": "2022-04-10T17:20:29.998Z"
   },
   {
    "duration": 1260,
    "start_time": "2022-04-10T17:20:30.007Z"
   },
   {
    "duration": 6,
    "start_time": "2022-04-10T17:20:31.268Z"
   },
   {
    "duration": 724,
    "start_time": "2022-04-10T17:20:31.331Z"
   },
   {
    "duration": 235,
    "start_time": "2022-04-10T17:20:32.057Z"
   },
   {
    "duration": 6,
    "start_time": "2022-04-10T17:20:32.293Z"
   },
   {
    "duration": 732,
    "start_time": "2022-04-10T17:20:32.301Z"
   },
   {
    "duration": 1340,
    "start_time": "2022-04-10T17:20:33.035Z"
   },
   {
    "duration": 910,
    "start_time": "2022-04-10T17:20:34.377Z"
   },
   {
    "duration": 8,
    "start_time": "2022-04-10T17:20:35.288Z"
   },
   {
    "duration": 41,
    "start_time": "2022-04-10T17:20:35.298Z"
   },
   {
    "duration": 4,
    "start_time": "2022-04-10T17:20:35.340Z"
   },
   {
    "duration": 7,
    "start_time": "2022-04-10T17:20:35.346Z"
   },
   {
    "duration": 25,
    "start_time": "2022-04-10T17:20:39.331Z"
   },
   {
    "duration": 14,
    "start_time": "2022-04-10T17:21:10.060Z"
   },
   {
    "duration": 16,
    "start_time": "2022-04-10T17:21:29.617Z"
   },
   {
    "duration": 27,
    "start_time": "2022-04-10T17:21:51.594Z"
   },
   {
    "duration": 16,
    "start_time": "2022-04-10T17:22:53.413Z"
   },
   {
    "duration": 27,
    "start_time": "2022-04-10T17:22:54.327Z"
   },
   {
    "duration": 11,
    "start_time": "2022-04-10T17:29:24.552Z"
   },
   {
    "duration": 16,
    "start_time": "2022-04-10T17:29:37.201Z"
   },
   {
    "duration": 2534,
    "start_time": "2022-04-10T17:30:50.858Z"
   },
   {
    "duration": 10,
    "start_time": "2022-04-10T17:31:22.659Z"
   },
   {
    "duration": 16,
    "start_time": "2022-04-10T17:32:17.161Z"
   },
   {
    "duration": 17,
    "start_time": "2022-04-10T17:32:41.789Z"
   },
   {
    "duration": 15,
    "start_time": "2022-04-10T17:33:29.008Z"
   },
   {
    "duration": 13,
    "start_time": "2022-04-10T17:33:39.565Z"
   },
   {
    "duration": 15,
    "start_time": "2022-04-10T17:34:08.558Z"
   },
   {
    "duration": 11,
    "start_time": "2022-04-10T17:34:17.200Z"
   },
   {
    "duration": 11,
    "start_time": "2022-04-10T17:34:21.224Z"
   },
   {
    "duration": 16,
    "start_time": "2022-04-10T17:34:39.899Z"
   },
   {
    "duration": 18,
    "start_time": "2022-04-10T17:34:54.175Z"
   },
   {
    "duration": 18,
    "start_time": "2022-04-10T17:35:04.522Z"
   },
   {
    "duration": 16,
    "start_time": "2022-04-10T17:36:18.699Z"
   },
   {
    "duration": 122,
    "start_time": "2022-04-10T17:39:39.190Z"
   },
   {
    "duration": 128,
    "start_time": "2022-04-10T17:39:52.737Z"
   },
   {
    "duration": 130,
    "start_time": "2022-04-10T17:40:05.907Z"
   },
   {
    "duration": 122,
    "start_time": "2022-04-10T17:40:25.439Z"
   },
   {
    "duration": 14,
    "start_time": "2022-04-10T17:43:30.088Z"
   },
   {
    "duration": 14,
    "start_time": "2022-04-10T17:44:09.499Z"
   },
   {
    "duration": 15,
    "start_time": "2022-04-10T17:44:32.617Z"
   },
   {
    "duration": 20,
    "start_time": "2022-04-10T17:44:54.411Z"
   },
   {
    "duration": 120,
    "start_time": "2022-04-10T17:44:59.651Z"
   },
   {
    "duration": 128,
    "start_time": "2022-04-10T17:45:05.993Z"
   },
   {
    "duration": 130,
    "start_time": "2022-04-10T18:01:19.005Z"
   },
   {
    "duration": 172,
    "start_time": "2022-04-10T18:01:29.549Z"
   },
   {
    "duration": 135,
    "start_time": "2022-04-10T18:01:55.489Z"
   },
   {
    "duration": 156,
    "start_time": "2022-04-10T18:02:01.544Z"
   },
   {
    "duration": 150,
    "start_time": "2022-04-10T18:03:03.333Z"
   },
   {
    "duration": 154,
    "start_time": "2022-04-10T18:03:07.332Z"
   },
   {
    "duration": 153,
    "start_time": "2022-04-10T18:03:58.320Z"
   },
   {
    "duration": 10,
    "start_time": "2022-04-10T18:05:12.153Z"
   },
   {
    "duration": 9,
    "start_time": "2022-04-10T18:05:19.393Z"
   },
   {
    "duration": 599,
    "start_time": "2022-04-10T18:05:23.606Z"
   },
   {
    "duration": 53,
    "start_time": "2022-04-10T22:17:42.074Z"
   },
   {
    "duration": 1527,
    "start_time": "2022-04-10T22:17:48.215Z"
   },
   {
    "duration": 127,
    "start_time": "2022-04-10T22:17:49.745Z"
   },
   {
    "duration": 28,
    "start_time": "2022-04-10T22:17:49.874Z"
   },
   {
    "duration": 38,
    "start_time": "2022-04-10T22:17:49.905Z"
   },
   {
    "duration": 5,
    "start_time": "2022-04-10T22:17:49.944Z"
   },
   {
    "duration": 13,
    "start_time": "2022-04-10T22:17:49.950Z"
   },
   {
    "duration": 12,
    "start_time": "2022-04-10T22:17:49.965Z"
   },
   {
    "duration": 28,
    "start_time": "2022-04-10T22:17:49.979Z"
   },
   {
    "duration": 35,
    "start_time": "2022-04-10T22:17:50.008Z"
   },
   {
    "duration": 22,
    "start_time": "2022-04-10T22:17:50.046Z"
   },
   {
    "duration": 12,
    "start_time": "2022-04-10T22:17:50.070Z"
   },
   {
    "duration": 21,
    "start_time": "2022-04-10T22:17:50.083Z"
   },
   {
    "duration": 27,
    "start_time": "2022-04-10T22:17:50.105Z"
   },
   {
    "duration": 6,
    "start_time": "2022-04-10T22:17:50.134Z"
   },
   {
    "duration": 35,
    "start_time": "2022-04-10T22:17:50.142Z"
   },
   {
    "duration": 24,
    "start_time": "2022-04-10T22:17:50.179Z"
   },
   {
    "duration": 45,
    "start_time": "2022-04-10T22:17:50.205Z"
   },
   {
    "duration": 5,
    "start_time": "2022-04-10T22:17:50.252Z"
   },
   {
    "duration": 7,
    "start_time": "2022-04-10T22:17:50.259Z"
   },
   {
    "duration": 8,
    "start_time": "2022-04-10T22:17:50.267Z"
   },
   {
    "duration": 18,
    "start_time": "2022-04-10T22:17:50.276Z"
   },
   {
    "duration": 3,
    "start_time": "2022-04-10T22:17:50.296Z"
   },
   {
    "duration": 32,
    "start_time": "2022-04-10T22:17:50.301Z"
   },
   {
    "duration": 12,
    "start_time": "2022-04-10T22:17:50.335Z"
   },
   {
    "duration": 12,
    "start_time": "2022-04-10T22:17:50.349Z"
   },
   {
    "duration": 12,
    "start_time": "2022-04-10T22:17:50.363Z"
   },
   {
    "duration": 6,
    "start_time": "2022-04-10T22:17:50.377Z"
   },
   {
    "duration": 3,
    "start_time": "2022-04-10T22:17:50.388Z"
   },
   {
    "duration": 10,
    "start_time": "2022-04-10T22:17:50.431Z"
   },
   {
    "duration": 11,
    "start_time": "2022-04-10T22:17:50.442Z"
   },
   {
    "duration": 11,
    "start_time": "2022-04-10T22:17:50.454Z"
   },
   {
    "duration": 11,
    "start_time": "2022-04-10T22:17:50.467Z"
   },
   {
    "duration": 7,
    "start_time": "2022-04-10T22:17:50.479Z"
   },
   {
    "duration": 8,
    "start_time": "2022-04-10T22:17:50.487Z"
   },
   {
    "duration": 5,
    "start_time": "2022-04-10T22:17:50.496Z"
   },
   {
    "duration": 46,
    "start_time": "2022-04-10T22:17:50.502Z"
   },
   {
    "duration": 11,
    "start_time": "2022-04-10T22:17:50.550Z"
   },
   {
    "duration": 13,
    "start_time": "2022-04-10T22:17:50.563Z"
   },
   {
    "duration": 12,
    "start_time": "2022-04-10T22:17:50.578Z"
   },
   {
    "duration": 7,
    "start_time": "2022-04-10T22:17:50.592Z"
   },
   {
    "duration": 34,
    "start_time": "2022-04-10T22:17:50.600Z"
   },
   {
    "duration": 13,
    "start_time": "2022-04-10T22:17:50.636Z"
   },
   {
    "duration": 23,
    "start_time": "2022-04-10T22:17:50.651Z"
   },
   {
    "duration": 10,
    "start_time": "2022-04-10T22:17:50.675Z"
   },
   {
    "duration": 47,
    "start_time": "2022-04-10T22:17:50.686Z"
   },
   {
    "duration": 7,
    "start_time": "2022-04-10T22:17:50.734Z"
   },
   {
    "duration": 15,
    "start_time": "2022-04-10T22:17:50.743Z"
   },
   {
    "duration": 31,
    "start_time": "2022-04-10T22:17:50.760Z"
   },
   {
    "duration": 6,
    "start_time": "2022-04-10T22:17:50.793Z"
   },
   {
    "duration": 46,
    "start_time": "2022-04-10T22:17:50.800Z"
   },
   {
    "duration": 6,
    "start_time": "2022-04-10T22:17:50.848Z"
   },
   {
    "duration": 17,
    "start_time": "2022-04-10T22:17:50.856Z"
   },
   {
    "duration": 8,
    "start_time": "2022-04-10T22:17:50.875Z"
   },
   {
    "duration": 17,
    "start_time": "2022-04-10T22:17:50.885Z"
   },
   {
    "duration": 3,
    "start_time": "2022-04-10T22:17:50.904Z"
   },
   {
    "duration": 12,
    "start_time": "2022-04-10T22:17:50.931Z"
   },
   {
    "duration": 331,
    "start_time": "2022-04-10T22:17:50.945Z"
   },
   {
    "duration": 7,
    "start_time": "2022-04-10T22:17:51.278Z"
   },
   {
    "duration": 6,
    "start_time": "2022-04-10T22:17:51.287Z"
   },
   {
    "duration": 5,
    "start_time": "2022-04-10T22:17:51.294Z"
   },
   {
    "duration": 32,
    "start_time": "2022-04-10T22:17:51.301Z"
   },
   {
    "duration": 4,
    "start_time": "2022-04-10T22:17:51.335Z"
   },
   {
    "duration": 8,
    "start_time": "2022-04-10T22:17:51.340Z"
   },
   {
    "duration": 14,
    "start_time": "2022-04-10T22:17:51.349Z"
   },
   {
    "duration": 9,
    "start_time": "2022-04-10T22:17:51.365Z"
   },
   {
    "duration": 350,
    "start_time": "2022-04-10T22:17:51.376Z"
   },
   {
    "duration": 11,
    "start_time": "2022-04-10T22:17:51.728Z"
   },
   {
    "duration": 9,
    "start_time": "2022-04-10T22:17:51.741Z"
   },
   {
    "duration": 271,
    "start_time": "2022-04-10T22:17:51.752Z"
   },
   {
    "duration": 8,
    "start_time": "2022-04-10T22:17:52.026Z"
   },
   {
    "duration": 287,
    "start_time": "2022-04-10T22:17:52.035Z"
   },
   {
    "duration": 14,
    "start_time": "2022-04-10T22:17:52.323Z"
   },
   {
    "duration": 231,
    "start_time": "2022-04-10T22:17:52.339Z"
   },
   {
    "duration": 7,
    "start_time": "2022-04-10T22:17:52.572Z"
   },
   {
    "duration": 10,
    "start_time": "2022-04-10T22:17:52.581Z"
   },
   {
    "duration": 7,
    "start_time": "2022-04-10T22:17:52.592Z"
   },
   {
    "duration": 43,
    "start_time": "2022-04-10T22:17:52.601Z"
   },
   {
    "duration": 5,
    "start_time": "2022-04-10T22:17:52.645Z"
   },
   {
    "duration": 6,
    "start_time": "2022-04-10T22:17:52.652Z"
   },
   {
    "duration": 271,
    "start_time": "2022-04-10T22:17:52.660Z"
   },
   {
    "duration": 120,
    "start_time": "2022-04-10T22:17:52.934Z"
   },
   {
    "duration": 15,
    "start_time": "2022-04-10T22:17:53.061Z"
   },
   {
    "duration": 4,
    "start_time": "2022-04-10T22:17:53.078Z"
   },
   {
    "duration": 194,
    "start_time": "2022-04-10T22:17:53.084Z"
   },
   {
    "duration": 14,
    "start_time": "2022-04-10T22:17:53.280Z"
   },
   {
    "duration": 237,
    "start_time": "2022-04-10T22:17:53.296Z"
   },
   {
    "duration": 9,
    "start_time": "2022-04-10T22:17:53.535Z"
   },
   {
    "duration": 32,
    "start_time": "2022-04-10T22:17:53.546Z"
   },
   {
    "duration": 213,
    "start_time": "2022-04-10T22:17:53.580Z"
   },
   {
    "duration": 8,
    "start_time": "2022-04-10T22:17:53.795Z"
   },
   {
    "duration": 862,
    "start_time": "2022-04-10T22:17:53.804Z"
   },
   {
    "duration": 6,
    "start_time": "2022-04-10T22:17:54.668Z"
   },
   {
    "duration": 378,
    "start_time": "2022-04-10T22:17:54.676Z"
   },
   {
    "duration": 322,
    "start_time": "2022-04-10T22:17:55.056Z"
   },
   {
    "duration": 6,
    "start_time": "2022-04-10T22:17:55.433Z"
   },
   {
    "duration": 1304,
    "start_time": "2022-04-10T22:17:55.441Z"
   },
   {
    "duration": 1276,
    "start_time": "2022-04-10T22:17:56.747Z"
   },
   {
    "duration": 681,
    "start_time": "2022-04-10T22:17:58.024Z"
   },
   {
    "duration": 8,
    "start_time": "2022-04-10T22:17:58.707Z"
   },
   {
    "duration": 37,
    "start_time": "2022-04-10T22:17:58.716Z"
   },
   {
    "duration": 4,
    "start_time": "2022-04-10T22:17:58.755Z"
   },
   {
    "duration": 8,
    "start_time": "2022-04-10T22:17:58.761Z"
   },
   {
    "duration": 20,
    "start_time": "2022-04-10T22:17:58.771Z"
   },
   {
    "duration": 13,
    "start_time": "2022-04-10T22:17:58.793Z"
   },
   {
    "duration": 16,
    "start_time": "2022-04-10T22:17:58.832Z"
   },
   {
    "duration": 151,
    "start_time": "2022-04-10T22:18:05.706Z"
   },
   {
    "duration": 32,
    "start_time": "2022-04-10T22:25:21.711Z"
   },
   {
    "duration": 32,
    "start_time": "2022-04-10T22:25:44.661Z"
   },
   {
    "duration": 30,
    "start_time": "2022-04-10T22:26:00.657Z"
   },
   {
    "duration": 67,
    "start_time": "2022-04-10T22:26:36.120Z"
   },
   {
    "duration": 15,
    "start_time": "2022-04-10T22:26:42.798Z"
   },
   {
    "duration": 149,
    "start_time": "2022-04-10T22:30:29.828Z"
   },
   {
    "duration": 6,
    "start_time": "2022-04-10T22:32:38.446Z"
   },
   {
    "duration": 1436,
    "start_time": "2022-04-11T05:15:27.665Z"
   },
   {
    "duration": 114,
    "start_time": "2022-04-11T05:15:29.104Z"
   },
   {
    "duration": 25,
    "start_time": "2022-04-11T05:15:29.220Z"
   },
   {
    "duration": 26,
    "start_time": "2022-04-11T05:15:29.247Z"
   },
   {
    "duration": 5,
    "start_time": "2022-04-11T05:15:29.275Z"
   },
   {
    "duration": 27,
    "start_time": "2022-04-11T05:15:29.281Z"
   },
   {
    "duration": 6,
    "start_time": "2022-04-11T05:15:29.309Z"
   },
   {
    "duration": 21,
    "start_time": "2022-04-11T05:15:29.317Z"
   },
   {
    "duration": 14,
    "start_time": "2022-04-11T05:15:29.339Z"
   },
   {
    "duration": 20,
    "start_time": "2022-04-11T05:15:29.355Z"
   },
   {
    "duration": 6,
    "start_time": "2022-04-11T05:15:29.402Z"
   },
   {
    "duration": 13,
    "start_time": "2022-04-11T05:15:29.410Z"
   },
   {
    "duration": 6,
    "start_time": "2022-04-11T05:15:29.424Z"
   },
   {
    "duration": 6,
    "start_time": "2022-04-11T05:15:29.433Z"
   },
   {
    "duration": 27,
    "start_time": "2022-04-11T05:15:29.440Z"
   },
   {
    "duration": 54,
    "start_time": "2022-04-11T05:15:29.468Z"
   },
   {
    "duration": 24,
    "start_time": "2022-04-11T05:15:29.524Z"
   },
   {
    "duration": 5,
    "start_time": "2022-04-11T05:15:29.550Z"
   },
   {
    "duration": 8,
    "start_time": "2022-04-11T05:15:29.557Z"
   },
   {
    "duration": 6,
    "start_time": "2022-04-11T05:15:29.567Z"
   },
   {
    "duration": 10,
    "start_time": "2022-04-11T05:15:29.602Z"
   },
   {
    "duration": 3,
    "start_time": "2022-04-11T05:15:29.614Z"
   },
   {
    "duration": 7,
    "start_time": "2022-04-11T05:15:29.619Z"
   },
   {
    "duration": 11,
    "start_time": "2022-04-11T05:15:29.627Z"
   },
   {
    "duration": 11,
    "start_time": "2022-04-11T05:15:29.639Z"
   },
   {
    "duration": 12,
    "start_time": "2022-04-11T05:15:29.652Z"
   },
   {
    "duration": 37,
    "start_time": "2022-04-11T05:15:29.665Z"
   },
   {
    "duration": 4,
    "start_time": "2022-04-11T05:15:29.704Z"
   },
   {
    "duration": 11,
    "start_time": "2022-04-11T05:15:29.709Z"
   },
   {
    "duration": 13,
    "start_time": "2022-04-11T05:15:29.722Z"
   },
   {
    "duration": 6,
    "start_time": "2022-04-11T05:15:29.737Z"
   },
   {
    "duration": 9,
    "start_time": "2022-04-11T05:15:29.745Z"
   },
   {
    "duration": 9,
    "start_time": "2022-04-11T05:15:29.756Z"
   },
   {
    "duration": 41,
    "start_time": "2022-04-11T05:15:29.766Z"
   },
   {
    "duration": 6,
    "start_time": "2022-04-11T05:15:29.809Z"
   },
   {
    "duration": 33,
    "start_time": "2022-04-11T05:15:29.817Z"
   },
   {
    "duration": 16,
    "start_time": "2022-04-11T05:15:29.852Z"
   },
   {
    "duration": 40,
    "start_time": "2022-04-11T05:15:29.871Z"
   },
   {
    "duration": 16,
    "start_time": "2022-04-11T05:15:29.913Z"
   },
   {
    "duration": 6,
    "start_time": "2022-04-11T05:15:29.931Z"
   },
   {
    "duration": 14,
    "start_time": "2022-04-11T05:15:29.945Z"
   },
   {
    "duration": 15,
    "start_time": "2022-04-11T05:15:29.961Z"
   },
   {
    "duration": 19,
    "start_time": "2022-04-11T05:15:30.002Z"
   },
   {
    "duration": 9,
    "start_time": "2022-04-11T05:15:30.022Z"
   },
   {
    "duration": 30,
    "start_time": "2022-04-11T05:15:30.032Z"
   },
   {
    "duration": 7,
    "start_time": "2022-04-11T05:15:30.064Z"
   },
   {
    "duration": 36,
    "start_time": "2022-04-11T05:15:30.073Z"
   },
   {
    "duration": 32,
    "start_time": "2022-04-11T05:15:30.111Z"
   },
   {
    "duration": 7,
    "start_time": "2022-04-11T05:15:30.145Z"
   },
   {
    "duration": 21,
    "start_time": "2022-04-11T05:15:30.154Z"
   },
   {
    "duration": 6,
    "start_time": "2022-04-11T05:15:30.202Z"
   },
   {
    "duration": 7,
    "start_time": "2022-04-11T05:15:30.211Z"
   },
   {
    "duration": 19,
    "start_time": "2022-04-11T05:15:30.220Z"
   },
   {
    "duration": 26,
    "start_time": "2022-04-11T05:15:30.241Z"
   },
   {
    "duration": 4,
    "start_time": "2022-04-11T05:15:30.269Z"
   },
   {
    "duration": 22,
    "start_time": "2022-04-11T05:15:30.275Z"
   },
   {
    "duration": 330,
    "start_time": "2022-04-11T05:15:30.299Z"
   },
   {
    "duration": 7,
    "start_time": "2022-04-11T05:15:30.632Z"
   },
   {
    "duration": 7,
    "start_time": "2022-04-11T05:15:30.642Z"
   },
   {
    "duration": 7,
    "start_time": "2022-04-11T05:15:30.651Z"
   },
   {
    "duration": 17,
    "start_time": "2022-04-11T05:15:30.660Z"
   },
   {
    "duration": 24,
    "start_time": "2022-04-11T05:15:30.679Z"
   },
   {
    "duration": 16,
    "start_time": "2022-04-11T05:15:30.704Z"
   },
   {
    "duration": 23,
    "start_time": "2022-04-11T05:15:30.722Z"
   },
   {
    "duration": 15,
    "start_time": "2022-04-11T05:15:30.747Z"
   },
   {
    "duration": 314,
    "start_time": "2022-04-11T05:15:30.764Z"
   },
   {
    "duration": 11,
    "start_time": "2022-04-11T05:15:31.079Z"
   },
   {
    "duration": 7,
    "start_time": "2022-04-11T05:15:31.102Z"
   },
   {
    "duration": 243,
    "start_time": "2022-04-11T05:15:31.111Z"
   },
   {
    "duration": 7,
    "start_time": "2022-04-11T05:15:31.356Z"
   },
   {
    "duration": 265,
    "start_time": "2022-04-11T05:15:31.364Z"
   },
   {
    "duration": 7,
    "start_time": "2022-04-11T05:15:31.631Z"
   },
   {
    "duration": 212,
    "start_time": "2022-04-11T05:15:31.640Z"
   },
   {
    "duration": 8,
    "start_time": "2022-04-11T05:15:31.854Z"
   },
   {
    "duration": 18,
    "start_time": "2022-04-11T05:15:31.864Z"
   },
   {
    "duration": 19,
    "start_time": "2022-04-11T05:15:31.884Z"
   },
   {
    "duration": 27,
    "start_time": "2022-04-11T05:15:31.905Z"
   },
   {
    "duration": 5,
    "start_time": "2022-04-11T05:15:31.934Z"
   },
   {
    "duration": 15,
    "start_time": "2022-04-11T05:15:31.940Z"
   },
   {
    "duration": 253,
    "start_time": "2022-04-11T05:15:31.957Z"
   },
   {
    "duration": 109,
    "start_time": "2022-04-11T05:15:32.211Z"
   },
   {
    "duration": 14,
    "start_time": "2022-04-11T05:15:32.322Z"
   },
   {
    "duration": 5,
    "start_time": "2022-04-11T05:15:32.338Z"
   },
   {
    "duration": 167,
    "start_time": "2022-04-11T05:15:32.345Z"
   },
   {
    "duration": 13,
    "start_time": "2022-04-11T05:15:32.514Z"
   },
   {
    "duration": 186,
    "start_time": "2022-04-11T05:15:32.528Z"
   },
   {
    "duration": 8,
    "start_time": "2022-04-11T05:15:32.716Z"
   },
   {
    "duration": 34,
    "start_time": "2022-04-11T05:15:32.725Z"
   },
   {
    "duration": 187,
    "start_time": "2022-04-11T05:15:32.761Z"
   },
   {
    "duration": 7,
    "start_time": "2022-04-11T05:15:32.950Z"
   },
   {
    "duration": 764,
    "start_time": "2022-04-11T05:15:32.958Z"
   },
   {
    "duration": 6,
    "start_time": "2022-04-11T05:15:33.723Z"
   },
   {
    "duration": 342,
    "start_time": "2022-04-11T05:15:33.730Z"
   },
   {
    "duration": 272,
    "start_time": "2022-04-11T05:15:34.074Z"
   },
   {
    "duration": 6,
    "start_time": "2022-04-11T05:15:34.348Z"
   },
   {
    "duration": 626,
    "start_time": "2022-04-11T05:15:34.356Z"
   },
   {
    "duration": 1171,
    "start_time": "2022-04-11T05:15:34.984Z"
   },
   {
    "duration": 623,
    "start_time": "2022-04-11T05:15:36.157Z"
   },
   {
    "duration": 8,
    "start_time": "2022-04-11T05:15:36.781Z"
   },
   {
    "duration": 33,
    "start_time": "2022-04-11T05:15:36.791Z"
   },
   {
    "duration": 4,
    "start_time": "2022-04-11T05:15:36.825Z"
   },
   {
    "duration": 4,
    "start_time": "2022-04-11T05:15:36.831Z"
   },
   {
    "duration": 16,
    "start_time": "2022-04-11T05:15:36.837Z"
   },
   {
    "duration": 15,
    "start_time": "2022-04-11T05:15:36.855Z"
   },
   {
    "duration": 20,
    "start_time": "2022-04-11T05:15:36.902Z"
   },
   {
    "duration": 212,
    "start_time": "2022-04-11T05:15:36.924Z"
   },
   {
    "duration": 42,
    "start_time": "2022-04-11T05:15:37.138Z"
   },
   {
    "duration": 34,
    "start_time": "2022-04-11T05:15:37.182Z"
   },
   {
    "duration": 952,
    "start_time": "2022-04-11T05:21:06.585Z"
   },
   {
    "duration": 7,
    "start_time": "2022-04-11T05:21:36.855Z"
   },
   {
    "duration": 330,
    "start_time": "2022-04-11T05:22:19.671Z"
   },
   {
    "duration": 736,
    "start_time": "2022-04-11T05:22:42.050Z"
   },
   {
    "duration": 827,
    "start_time": "2022-04-11T05:23:23.550Z"
   },
   {
    "duration": 601,
    "start_time": "2022-04-11T05:23:35.234Z"
   },
   {
    "duration": 6,
    "start_time": "2022-04-11T05:26:55.619Z"
   },
   {
    "duration": 6,
    "start_time": "2022-04-11T05:27:43.614Z"
   },
   {
    "duration": 6,
    "start_time": "2022-04-11T05:28:00.529Z"
   },
   {
    "duration": 5,
    "start_time": "2022-04-11T05:28:18.657Z"
   },
   {
    "duration": 6,
    "start_time": "2022-04-11T05:34:27.766Z"
   },
   {
    "duration": 526,
    "start_time": "2022-04-11T05:35:31.441Z"
   },
   {
    "duration": 6,
    "start_time": "2022-04-11T05:36:08.030Z"
   },
   {
    "duration": 1796,
    "start_time": "2022-04-11T05:59:26.251Z"
   },
   {
    "duration": 1207,
    "start_time": "2022-04-11T05:59:45.639Z"
   },
   {
    "duration": 1096,
    "start_time": "2022-04-11T05:59:55.579Z"
   },
   {
    "duration": 6,
    "start_time": "2022-04-11T06:00:17.650Z"
   },
   {
    "duration": 1887,
    "start_time": "2022-04-11T18:12:49.892Z"
   },
   {
    "duration": 129,
    "start_time": "2022-04-11T18:12:51.782Z"
   },
   {
    "duration": 40,
    "start_time": "2022-04-11T18:12:51.914Z"
   },
   {
    "duration": 37,
    "start_time": "2022-04-11T18:12:51.970Z"
   },
   {
    "duration": 7,
    "start_time": "2022-04-11T18:12:52.010Z"
   },
   {
    "duration": 47,
    "start_time": "2022-04-11T18:12:52.020Z"
   },
   {
    "duration": 7,
    "start_time": "2022-04-11T18:12:52.070Z"
   },
   {
    "duration": 31,
    "start_time": "2022-04-11T18:12:52.080Z"
   },
   {
    "duration": 22,
    "start_time": "2022-04-11T18:12:52.114Z"
   },
   {
    "duration": 28,
    "start_time": "2022-04-11T18:12:52.169Z"
   },
   {
    "duration": 9,
    "start_time": "2022-04-11T18:12:52.199Z"
   },
   {
    "duration": 19,
    "start_time": "2022-04-11T18:12:52.210Z"
   },
   {
    "duration": 36,
    "start_time": "2022-04-11T18:12:52.231Z"
   },
   {
    "duration": 10,
    "start_time": "2022-04-11T18:12:52.269Z"
   },
   {
    "duration": 36,
    "start_time": "2022-04-11T18:12:52.282Z"
   },
   {
    "duration": 68,
    "start_time": "2022-04-11T18:12:52.321Z"
   },
   {
    "duration": 33,
    "start_time": "2022-04-11T18:12:52.391Z"
   },
   {
    "duration": 6,
    "start_time": "2022-04-11T18:12:52.427Z"
   },
   {
    "duration": 33,
    "start_time": "2022-04-11T18:12:52.436Z"
   },
   {
    "duration": 9,
    "start_time": "2022-04-11T18:12:52.471Z"
   },
   {
    "duration": 18,
    "start_time": "2022-04-11T18:12:52.481Z"
   },
   {
    "duration": 5,
    "start_time": "2022-04-11T18:12:52.502Z"
   },
   {
    "duration": 7,
    "start_time": "2022-04-11T18:12:52.510Z"
   },
   {
    "duration": 53,
    "start_time": "2022-04-11T18:12:52.519Z"
   },
   {
    "duration": 15,
    "start_time": "2022-04-11T18:12:52.574Z"
   },
   {
    "duration": 17,
    "start_time": "2022-04-11T18:12:52.591Z"
   },
   {
    "duration": 8,
    "start_time": "2022-04-11T18:12:52.611Z"
   },
   {
    "duration": 4,
    "start_time": "2022-04-11T18:12:52.626Z"
   },
   {
    "duration": 13,
    "start_time": "2022-04-11T18:12:52.668Z"
   },
   {
    "duration": 12,
    "start_time": "2022-04-11T18:12:52.683Z"
   },
   {
    "duration": 6,
    "start_time": "2022-04-11T18:12:52.698Z"
   },
   {
    "duration": 7,
    "start_time": "2022-04-11T18:12:52.706Z"
   },
   {
    "duration": 8,
    "start_time": "2022-04-11T18:12:52.716Z"
   },
   {
    "duration": 10,
    "start_time": "2022-04-11T18:12:52.767Z"
   },
   {
    "duration": 6,
    "start_time": "2022-04-11T18:12:52.779Z"
   },
   {
    "duration": 27,
    "start_time": "2022-04-11T18:12:52.787Z"
   },
   {
    "duration": 15,
    "start_time": "2022-04-11T18:12:52.816Z"
   },
   {
    "duration": 44,
    "start_time": "2022-04-11T18:12:52.833Z"
   },
   {
    "duration": 14,
    "start_time": "2022-04-11T18:12:52.879Z"
   },
   {
    "duration": 8,
    "start_time": "2022-04-11T18:12:52.895Z"
   },
   {
    "duration": 15,
    "start_time": "2022-04-11T18:12:52.905Z"
   },
   {
    "duration": 48,
    "start_time": "2022-04-11T18:12:52.922Z"
   },
   {
    "duration": 28,
    "start_time": "2022-04-11T18:12:52.973Z"
   },
   {
    "duration": 11,
    "start_time": "2022-04-11T18:12:53.003Z"
   },
   {
    "duration": 62,
    "start_time": "2022-04-11T18:12:53.017Z"
   },
   {
    "duration": 12,
    "start_time": "2022-04-11T18:12:53.082Z"
   },
   {
    "duration": 17,
    "start_time": "2022-04-11T18:12:53.097Z"
   },
   {
    "duration": 76,
    "start_time": "2022-04-11T18:12:53.116Z"
   },
   {
    "duration": 8,
    "start_time": "2022-04-11T18:12:53.194Z"
   },
   {
    "duration": 23,
    "start_time": "2022-04-11T18:12:53.204Z"
   },
   {
    "duration": 7,
    "start_time": "2022-04-11T18:12:53.230Z"
   },
   {
    "duration": 33,
    "start_time": "2022-04-11T18:12:53.239Z"
   },
   {
    "duration": 7,
    "start_time": "2022-04-11T18:12:53.274Z"
   },
   {
    "duration": 18,
    "start_time": "2022-04-11T18:12:53.283Z"
   },
   {
    "duration": 5,
    "start_time": "2022-04-11T18:12:53.303Z"
   },
   {
    "duration": 18,
    "start_time": "2022-04-11T18:12:53.311Z"
   },
   {
    "duration": 521,
    "start_time": "2022-04-11T18:12:53.368Z"
   },
   {
    "duration": 9,
    "start_time": "2022-04-11T18:12:53.892Z"
   },
   {
    "duration": 7,
    "start_time": "2022-04-11T18:12:53.903Z"
   },
   {
    "duration": 9,
    "start_time": "2022-04-11T18:12:53.912Z"
   },
   {
    "duration": 46,
    "start_time": "2022-04-11T18:12:53.923Z"
   },
   {
    "duration": 6,
    "start_time": "2022-04-11T18:12:53.971Z"
   },
   {
    "duration": 7,
    "start_time": "2022-04-11T18:12:53.980Z"
   },
   {
    "duration": 17,
    "start_time": "2022-04-11T18:12:53.989Z"
   },
   {
    "duration": 12,
    "start_time": "2022-04-11T18:12:54.008Z"
   },
   {
    "duration": 558,
    "start_time": "2022-04-11T18:12:54.022Z"
   },
   {
    "duration": 13,
    "start_time": "2022-04-11T18:12:54.583Z"
   },
   {
    "duration": 12,
    "start_time": "2022-04-11T18:12:54.599Z"
   },
   {
    "duration": 520,
    "start_time": "2022-04-11T18:12:54.614Z"
   },
   {
    "duration": 9,
    "start_time": "2022-04-11T18:12:55.137Z"
   },
   {
    "duration": 454,
    "start_time": "2022-04-11T18:12:55.148Z"
   },
   {
    "duration": 13,
    "start_time": "2022-04-11T18:12:55.605Z"
   },
   {
    "duration": 347,
    "start_time": "2022-04-11T18:12:55.620Z"
   },
   {
    "duration": 13,
    "start_time": "2022-04-11T18:12:55.969Z"
   },
   {
    "duration": 10,
    "start_time": "2022-04-11T18:12:55.985Z"
   },
   {
    "duration": 10,
    "start_time": "2022-04-11T18:12:55.997Z"
   },
   {
    "duration": 66,
    "start_time": "2022-04-11T18:12:56.010Z"
   },
   {
    "duration": 7,
    "start_time": "2022-04-11T18:12:56.079Z"
   },
   {
    "duration": 9,
    "start_time": "2022-04-11T18:12:56.089Z"
   },
   {
    "duration": 413,
    "start_time": "2022-04-11T18:12:56.101Z"
   },
   {
    "duration": 217,
    "start_time": "2022-04-11T18:12:56.517Z"
   },
   {
    "duration": 35,
    "start_time": "2022-04-11T18:12:56.744Z"
   },
   {
    "duration": 6,
    "start_time": "2022-04-11T18:12:56.781Z"
   },
   {
    "duration": 278,
    "start_time": "2022-04-11T18:12:56.790Z"
   },
   {
    "duration": 18,
    "start_time": "2022-04-11T18:12:57.070Z"
   },
   {
    "duration": 334,
    "start_time": "2022-04-11T18:12:57.091Z"
   },
   {
    "duration": 11,
    "start_time": "2022-04-11T18:12:57.427Z"
   },
   {
    "duration": 59,
    "start_time": "2022-04-11T18:12:57.440Z"
   },
   {
    "duration": 287,
    "start_time": "2022-04-11T18:12:57.502Z"
   },
   {
    "duration": 10,
    "start_time": "2022-04-11T18:12:57.792Z"
   },
   {
    "duration": 1344,
    "start_time": "2022-04-11T18:12:57.804Z"
   },
   {
    "duration": 19,
    "start_time": "2022-04-11T18:12:59.150Z"
   },
   {
    "duration": 554,
    "start_time": "2022-04-11T18:12:59.172Z"
   },
   {
    "duration": 279,
    "start_time": "2022-04-11T18:12:59.728Z"
   },
   {
    "duration": 7,
    "start_time": "2022-04-11T18:13:00.009Z"
   },
   {
    "duration": 1055,
    "start_time": "2022-04-11T18:13:00.019Z"
   },
   {
    "duration": 6,
    "start_time": "2022-04-11T18:13:01.077Z"
   },
   {
    "duration": 1997,
    "start_time": "2022-04-11T18:13:01.086Z"
   },
   {
    "duration": 7,
    "start_time": "2022-04-11T18:13:03.085Z"
   },
   {
    "duration": 1016,
    "start_time": "2022-04-11T18:13:03.094Z"
   },
   {
    "duration": 7,
    "start_time": "2022-04-11T18:13:04.112Z"
   },
   {
    "duration": 10,
    "start_time": "2022-04-11T18:13:04.121Z"
   },
   {
    "duration": 65,
    "start_time": "2022-04-11T18:13:04.133Z"
   },
   {
    "duration": 6,
    "start_time": "2022-04-11T18:13:04.200Z"
   },
   {
    "duration": 6,
    "start_time": "2022-04-11T18:13:04.208Z"
   },
   {
    "duration": 62,
    "start_time": "2022-04-11T18:13:04.216Z"
   },
   {
    "duration": 23,
    "start_time": "2022-04-11T18:13:04.281Z"
   },
   {
    "duration": 26,
    "start_time": "2022-04-11T18:13:04.306Z"
   },
   {
    "duration": 299,
    "start_time": "2022-04-11T18:13:04.335Z"
   },
   {
    "duration": 63,
    "start_time": "2022-04-11T18:13:04.636Z"
   },
   {
    "duration": 19,
    "start_time": "2022-04-11T18:13:04.702Z"
   },
   {
    "duration": 237,
    "start_time": "2022-04-11T18:13:04.723Z"
   },
   {
    "duration": 11,
    "start_time": "2022-04-11T18:13:04.962Z"
   },
   {
    "duration": 1182,
    "start_time": "2022-04-11T18:13:04.975Z"
   },
   {
    "duration": 14,
    "start_time": "2022-04-11T18:13:06.159Z"
   },
   {
    "duration": 518,
    "start_time": "2022-04-11T18:13:06.176Z"
   },
   {
    "duration": 1121,
    "start_time": "2022-04-11T18:13:06.697Z"
   },
   {
    "duration": 6,
    "start_time": "2022-04-11T18:13:07.820Z"
   },
   {
    "duration": 2410,
    "start_time": "2022-04-11T18:13:07.828Z"
   },
   {
    "duration": 8,
    "start_time": "2022-04-11T18:13:10.240Z"
   },
   {
    "duration": 1145,
    "start_time": "2022-04-11T18:13:10.250Z"
   },
   {
    "duration": 8,
    "start_time": "2022-04-11T18:13:11.401Z"
   },
   {
    "duration": 44,
    "start_time": "2022-04-11T18:42:43.157Z"
   },
   {
    "duration": 268,
    "start_time": "2022-04-11T18:42:49.334Z"
   },
   {
    "duration": 8,
    "start_time": "2022-04-11T18:42:49.605Z"
   },
   {
    "duration": 1308,
    "start_time": "2022-04-11T18:42:49.615Z"
   },
   {
    "duration": 9,
    "start_time": "2022-04-11T18:42:50.927Z"
   },
   {
    "duration": 1023,
    "start_time": "2022-04-11T18:42:50.939Z"
   },
   {
    "duration": 366,
    "start_time": "2022-04-11T18:42:51.968Z"
   },
   {
    "duration": 8,
    "start_time": "2022-04-11T18:42:52.336Z"
   },
   {
    "duration": 1107,
    "start_time": "2022-04-11T18:42:52.346Z"
   },
   {
    "duration": 17,
    "start_time": "2022-04-11T18:42:53.455Z"
   },
   {
    "duration": 3692,
    "start_time": "2022-04-11T18:42:53.478Z"
   },
   {
    "duration": 9,
    "start_time": "2022-04-11T18:42:57.173Z"
   },
   {
    "duration": 910,
    "start_time": "2022-04-11T18:42:57.185Z"
   },
   {
    "duration": 7,
    "start_time": "2022-04-11T18:42:58.097Z"
   },
   {
    "duration": 10,
    "start_time": "2022-04-11T18:42:58.107Z"
   },
   {
    "duration": 75,
    "start_time": "2022-04-11T18:42:58.120Z"
   },
   {
    "duration": 5,
    "start_time": "2022-04-11T18:42:58.198Z"
   },
   {
    "duration": 7,
    "start_time": "2022-04-11T18:42:58.206Z"
   },
   {
    "duration": 62,
    "start_time": "2022-04-11T18:42:58.215Z"
   },
   {
    "duration": 23,
    "start_time": "2022-04-11T18:42:58.280Z"
   },
   {
    "duration": 30,
    "start_time": "2022-04-11T18:42:58.306Z"
   },
   {
    "duration": 388,
    "start_time": "2022-04-11T18:42:58.339Z"
   },
   {
    "duration": 79,
    "start_time": "2022-04-11T18:42:58.730Z"
   },
   {
    "duration": 20,
    "start_time": "2022-04-11T18:42:58.811Z"
   },
   {
    "duration": 256,
    "start_time": "2022-04-11T18:42:58.833Z"
   },
   {
    "duration": 7,
    "start_time": "2022-04-11T18:42:59.092Z"
   },
   {
    "duration": 1025,
    "start_time": "2022-04-11T18:42:59.102Z"
   },
   {
    "duration": 7,
    "start_time": "2022-04-11T18:43:00.129Z"
   },
   {
    "duration": 430,
    "start_time": "2022-04-11T18:43:00.140Z"
   },
   {
    "duration": 1676,
    "start_time": "2022-04-11T18:43:00.573Z"
   },
   {
    "duration": 18,
    "start_time": "2022-04-11T18:43:02.252Z"
   },
   {
    "duration": 1856,
    "start_time": "2022-04-11T18:43:02.272Z"
   },
   {
    "duration": 9,
    "start_time": "2022-04-11T18:43:04.131Z"
   },
   {
    "duration": 1290,
    "start_time": "2022-04-11T18:43:04.143Z"
   },
   {
    "duration": 6,
    "start_time": "2022-04-11T18:43:05.435Z"
   },
   {
    "duration": 10,
    "start_time": "2022-04-11T19:03:59.731Z"
   },
   {
    "duration": 13,
    "start_time": "2022-04-11T19:04:21.686Z"
   },
   {
    "duration": 14,
    "start_time": "2022-04-11T19:05:10.616Z"
   },
   {
    "duration": 16,
    "start_time": "2022-04-11T19:06:51.137Z"
   },
   {
    "duration": 14,
    "start_time": "2022-04-11T19:08:07.895Z"
   },
   {
    "duration": 15,
    "start_time": "2022-04-11T19:08:21.715Z"
   },
   {
    "duration": 14,
    "start_time": "2022-04-11T19:08:52.799Z"
   },
   {
    "duration": 14,
    "start_time": "2022-04-11T19:08:57.239Z"
   },
   {
    "duration": 299,
    "start_time": "2022-04-11T19:28:18.097Z"
   },
   {
    "duration": 10,
    "start_time": "2022-04-11T19:28:33.129Z"
   },
   {
    "duration": 1769,
    "start_time": "2022-05-23T16:22:40.823Z"
   },
   {
    "duration": 163,
    "start_time": "2022-05-23T16:22:42.595Z"
   },
   {
    "duration": 24,
    "start_time": "2022-05-23T16:22:42.760Z"
   },
   {
    "duration": 26,
    "start_time": "2022-05-23T16:22:42.786Z"
   },
   {
    "duration": 5,
    "start_time": "2022-05-23T16:22:42.813Z"
   },
   {
    "duration": 13,
    "start_time": "2022-05-23T16:22:42.819Z"
   },
   {
    "duration": 10,
    "start_time": "2022-05-23T16:22:42.833Z"
   },
   {
    "duration": 23,
    "start_time": "2022-05-23T16:22:42.845Z"
   },
   {
    "duration": 13,
    "start_time": "2022-05-23T16:22:42.870Z"
   },
   {
    "duration": 19,
    "start_time": "2022-05-23T16:22:42.885Z"
   },
   {
    "duration": 5,
    "start_time": "2022-05-23T16:22:42.906Z"
   },
   {
    "duration": 9,
    "start_time": "2022-05-23T16:22:42.942Z"
   },
   {
    "duration": 6,
    "start_time": "2022-05-23T16:22:42.953Z"
   },
   {
    "duration": 5,
    "start_time": "2022-05-23T16:22:42.962Z"
   },
   {
    "duration": 28,
    "start_time": "2022-05-23T16:22:42.969Z"
   },
   {
    "duration": 52,
    "start_time": "2022-05-23T16:22:42.999Z"
   },
   {
    "duration": 38,
    "start_time": "2022-05-23T16:22:43.053Z"
   },
   {
    "duration": 6,
    "start_time": "2022-05-23T16:22:43.092Z"
   },
   {
    "duration": 16,
    "start_time": "2022-05-23T16:22:43.099Z"
   },
   {
    "duration": 26,
    "start_time": "2022-05-23T16:22:43.117Z"
   },
   {
    "duration": 17,
    "start_time": "2022-05-23T16:22:43.146Z"
   },
   {
    "duration": 4,
    "start_time": "2022-05-23T16:22:43.165Z"
   },
   {
    "duration": 8,
    "start_time": "2022-05-23T16:22:43.171Z"
   },
   {
    "duration": 17,
    "start_time": "2022-05-23T16:22:43.181Z"
   },
   {
    "duration": 15,
    "start_time": "2022-05-23T16:22:43.199Z"
   },
   {
    "duration": 32,
    "start_time": "2022-05-23T16:22:43.216Z"
   },
   {
    "duration": 9,
    "start_time": "2022-05-23T16:22:43.250Z"
   },
   {
    "duration": 7,
    "start_time": "2022-05-23T16:22:43.261Z"
   },
   {
    "duration": 11,
    "start_time": "2022-05-23T16:22:43.269Z"
   },
   {
    "duration": 7,
    "start_time": "2022-05-23T16:22:43.282Z"
   },
   {
    "duration": 5,
    "start_time": "2022-05-23T16:22:43.291Z"
   },
   {
    "duration": 8,
    "start_time": "2022-05-23T16:22:43.298Z"
   },
   {
    "duration": 40,
    "start_time": "2022-05-23T16:22:43.307Z"
   },
   {
    "duration": 13,
    "start_time": "2022-05-23T16:22:43.349Z"
   },
   {
    "duration": 12,
    "start_time": "2022-05-23T16:22:43.364Z"
   },
   {
    "duration": 25,
    "start_time": "2022-05-23T16:22:43.378Z"
   },
   {
    "duration": 34,
    "start_time": "2022-05-23T16:22:43.404Z"
   },
   {
    "duration": 23,
    "start_time": "2022-05-23T16:22:43.440Z"
   },
   {
    "duration": 15,
    "start_time": "2022-05-23T16:22:43.465Z"
   },
   {
    "duration": 12,
    "start_time": "2022-05-23T16:22:43.482Z"
   },
   {
    "duration": 11,
    "start_time": "2022-05-23T16:22:43.500Z"
   },
   {
    "duration": 18,
    "start_time": "2022-05-23T16:22:43.513Z"
   },
   {
    "duration": 24,
    "start_time": "2022-05-23T16:22:43.533Z"
   },
   {
    "duration": 8,
    "start_time": "2022-05-23T16:22:43.559Z"
   },
   {
    "duration": 26,
    "start_time": "2022-05-23T16:22:43.569Z"
   },
   {
    "duration": 6,
    "start_time": "2022-05-23T16:22:43.597Z"
   },
   {
    "duration": 37,
    "start_time": "2022-05-23T16:22:43.604Z"
   },
   {
    "duration": 30,
    "start_time": "2022-05-23T16:22:43.643Z"
   },
   {
    "duration": 5,
    "start_time": "2022-05-23T16:22:43.675Z"
   },
   {
    "duration": 19,
    "start_time": "2022-05-23T16:22:43.682Z"
   },
   {
    "duration": 12,
    "start_time": "2022-05-23T16:22:43.702Z"
   },
   {
    "duration": 25,
    "start_time": "2022-05-23T16:22:43.716Z"
   },
   {
    "duration": 21,
    "start_time": "2022-05-23T16:22:43.743Z"
   },
   {
    "duration": 24,
    "start_time": "2022-05-23T16:22:43.766Z"
   },
   {
    "duration": 6,
    "start_time": "2022-05-23T16:22:43.792Z"
   },
   {
    "duration": 31,
    "start_time": "2022-05-23T16:22:43.800Z"
   },
   {
    "duration": 402,
    "start_time": "2022-05-23T16:22:43.833Z"
   },
   {
    "duration": 6,
    "start_time": "2022-05-23T16:22:44.236Z"
   },
   {
    "duration": 8,
    "start_time": "2022-05-23T16:22:44.244Z"
   },
   {
    "duration": 7,
    "start_time": "2022-05-23T16:22:44.254Z"
   },
   {
    "duration": 17,
    "start_time": "2022-05-23T16:22:44.263Z"
   },
   {
    "duration": 4,
    "start_time": "2022-05-23T16:22:44.282Z"
   },
   {
    "duration": 11,
    "start_time": "2022-05-23T16:22:44.287Z"
   },
   {
    "duration": 15,
    "start_time": "2022-05-23T16:22:44.300Z"
   },
   {
    "duration": 32,
    "start_time": "2022-05-23T16:22:44.317Z"
   },
   {
    "duration": 359,
    "start_time": "2022-05-23T16:22:44.351Z"
   },
   {
    "duration": 12,
    "start_time": "2022-05-23T16:22:44.712Z"
   },
   {
    "duration": 23,
    "start_time": "2022-05-23T16:22:44.726Z"
   },
   {
    "duration": 269,
    "start_time": "2022-05-23T16:22:44.751Z"
   },
   {
    "duration": 21,
    "start_time": "2022-05-23T16:22:45.022Z"
   },
   {
    "duration": 220,
    "start_time": "2022-05-23T16:22:45.045Z"
   },
   {
    "duration": 7,
    "start_time": "2022-05-23T16:22:45.266Z"
   },
   {
    "duration": 231,
    "start_time": "2022-05-23T16:22:45.275Z"
   },
   {
    "duration": 6,
    "start_time": "2022-05-23T16:22:45.508Z"
   },
   {
    "duration": 26,
    "start_time": "2022-05-23T16:22:45.516Z"
   },
   {
    "duration": 14,
    "start_time": "2022-05-23T16:22:45.543Z"
   },
   {
    "duration": 27,
    "start_time": "2022-05-23T16:22:45.558Z"
   },
   {
    "duration": 5,
    "start_time": "2022-05-23T16:22:45.587Z"
   },
   {
    "duration": 8,
    "start_time": "2022-05-23T16:22:45.594Z"
   },
   {
    "duration": 385,
    "start_time": "2022-05-23T16:22:45.604Z"
   },
   {
    "duration": 128,
    "start_time": "2022-05-23T16:22:45.991Z"
   },
   {
    "duration": 21,
    "start_time": "2022-05-23T16:22:46.121Z"
   },
   {
    "duration": 5,
    "start_time": "2022-05-23T16:22:46.144Z"
   },
   {
    "duration": 179,
    "start_time": "2022-05-23T16:22:46.151Z"
   },
   {
    "duration": 18,
    "start_time": "2022-05-23T16:22:46.332Z"
   },
   {
    "duration": 215,
    "start_time": "2022-05-23T16:22:46.351Z"
   },
   {
    "duration": 9,
    "start_time": "2022-05-23T16:22:46.567Z"
   },
   {
    "duration": 28,
    "start_time": "2022-05-23T16:22:46.577Z"
   },
   {
    "duration": 10,
    "start_time": "2022-05-23T16:22:46.607Z"
   },
   {
    "duration": 205,
    "start_time": "2022-05-23T16:22:46.642Z"
   },
   {
    "duration": 10,
    "start_time": "2022-05-23T16:22:46.849Z"
   },
   {
    "duration": 860,
    "start_time": "2022-05-23T16:22:46.861Z"
   },
   {
    "duration": 19,
    "start_time": "2022-05-23T16:22:47.723Z"
   },
   {
    "duration": 414,
    "start_time": "2022-05-23T16:22:47.744Z"
   },
   {
    "duration": 216,
    "start_time": "2022-05-23T16:22:48.160Z"
   },
   {
    "duration": 5,
    "start_time": "2022-05-23T16:22:48.378Z"
   },
   {
    "duration": 779,
    "start_time": "2022-05-23T16:22:48.385Z"
   },
   {
    "duration": 6,
    "start_time": "2022-05-23T16:22:49.166Z"
   },
   {
    "duration": 1334,
    "start_time": "2022-05-23T16:22:49.174Z"
   },
   {
    "duration": 6,
    "start_time": "2022-05-23T16:22:50.510Z"
   },
   {
    "duration": 608,
    "start_time": "2022-05-23T16:22:50.518Z"
   },
   {
    "duration": 20,
    "start_time": "2022-05-23T16:22:51.128Z"
   },
   {
    "duration": 16,
    "start_time": "2022-05-23T16:22:51.150Z"
   },
   {
    "duration": 57,
    "start_time": "2022-05-23T16:22:51.167Z"
   },
   {
    "duration": 4,
    "start_time": "2022-05-23T16:22:51.227Z"
   },
   {
    "duration": 21,
    "start_time": "2022-05-23T16:22:51.233Z"
   },
   {
    "duration": 32,
    "start_time": "2022-05-23T16:22:51.256Z"
   },
   {
    "duration": 15,
    "start_time": "2022-05-23T16:22:51.290Z"
   },
   {
    "duration": 19,
    "start_time": "2022-05-23T16:22:51.308Z"
   },
   {
    "duration": 175,
    "start_time": "2022-05-23T16:22:51.330Z"
   },
   {
    "duration": 45,
    "start_time": "2022-05-23T16:22:51.507Z"
   },
   {
    "duration": 12,
    "start_time": "2022-05-23T16:22:51.553Z"
   },
   {
    "duration": 176,
    "start_time": "2022-05-23T16:22:51.567Z"
   },
   {
    "duration": 4,
    "start_time": "2022-05-23T16:22:51.745Z"
   },
   {
    "duration": 297,
    "start_time": "2022-05-23T16:22:51.751Z"
   },
   {
    "duration": 7,
    "start_time": "2022-05-23T16:22:52.050Z"
   },
   {
    "duration": 704,
    "start_time": "2022-05-23T16:22:52.059Z"
   },
   {
    "duration": 5,
    "start_time": "2022-05-23T16:22:52.765Z"
   },
   {
    "duration": 277,
    "start_time": "2022-05-23T16:22:52.772Z"
   },
   {
    "duration": 620,
    "start_time": "2022-05-23T16:22:53.051Z"
   },
   {
    "duration": 6,
    "start_time": "2022-05-23T16:22:53.673Z"
   },
   {
    "duration": 1218,
    "start_time": "2022-05-23T16:22:53.686Z"
   },
   {
    "duration": 8,
    "start_time": "2022-05-23T16:22:54.905Z"
   },
   {
    "duration": 712,
    "start_time": "2022-05-23T16:22:54.915Z"
   },
   {
    "duration": 14,
    "start_time": "2022-05-23T16:22:55.629Z"
   }
  ],
  "kernelspec": {
   "display_name": "Python 3 (ipykernel)",
   "language": "python",
   "name": "python3"
  },
  "language_info": {
   "codemirror_mode": {
    "name": "ipython",
    "version": 3
   },
   "file_extension": ".py",
   "mimetype": "text/x-python",
   "name": "python",
   "nbconvert_exporter": "python",
   "pygments_lexer": "ipython3",
   "version": "3.9.7"
  },
  "toc": {
   "base_numbering": 1,
   "nav_menu": {},
   "number_sections": true,
   "sideBar": true,
   "skip_h1_title": true,
   "title_cell": "Содержание",
   "title_sidebar": "Contents",
   "toc_cell": true,
   "toc_position": {
    "height": "calc(100% - 180px)",
    "left": "10px",
    "top": "150px",
    "width": "206.81985473632812px"
   },
   "toc_section_display": true,
   "toc_window_display": true
  }
 },
 "nbformat": 4,
 "nbformat_minor": 2
}
