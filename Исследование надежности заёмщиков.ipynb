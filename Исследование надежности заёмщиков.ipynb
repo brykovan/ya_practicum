{
 "cells": [
  {
   "cell_type": "markdown",
   "metadata": {},
   "source": [
    "# Исследование надёжности заёмщиков\n",
    "\n",
    "**Описание проекта**\n",
    "\n",
    "Заказчик — кредитный отдел банка. Нужно разобраться, влияет ли семейное положение и количество детей клиента на факт погашения кредита в срок. Входные данные от банка — статистика о платёжеспособности клиентов.\n",
    "\n",
    "Результаты исследования будут учтены при построении модели **кредитного скоринга** — специальной системы, которая оценивает способность потенциального заёмщика вернуть кредит банку.\n",
    "\n",
    "**В рамках проекта предстоит ответить на 4 вопроса:**\n",
    "1. Есть ли зависимость между наличием детей и возратом кредита в срок?\n",
    "2. Есть ли зависимость между семейным положением и возвратом кредита в срок?\n",
    "3. Есть ли зависимость между уровнем дохода и возвратом кредита в срок?\n",
    "4. Как разные цели кредита влияют на возврат кредита в срок?\n",
    "\n",
    "**Проект будет состоять из 4 частей:**\n",
    "1. Обзор данных\n",
    "2. Предобработка данных\n",
    "3. Ответ на поставленные вопросы\n",
    "4. Вывод"
   ]
  },
  {
   "cell_type": "markdown",
   "metadata": {},
   "source": [
    "## Шаг 1. Обзор данных"
   ]
  },
  {
   "cell_type": "code",
   "execution_count": 1,
   "metadata": {},
   "outputs": [
    {
     "data": {
      "text/html": [
       "<div>\n",
       "<style scoped>\n",
       "    .dataframe tbody tr th:only-of-type {\n",
       "        vertical-align: middle;\n",
       "    }\n",
       "\n",
       "    .dataframe tbody tr th {\n",
       "        vertical-align: top;\n",
       "    }\n",
       "\n",
       "    .dataframe thead th {\n",
       "        text-align: right;\n",
       "    }\n",
       "</style>\n",
       "<table border=\"1\" class=\"dataframe\">\n",
       "  <thead>\n",
       "    <tr style=\"text-align: right;\">\n",
       "      <th></th>\n",
       "      <th>children</th>\n",
       "      <th>days_employed</th>\n",
       "      <th>dob_years</th>\n",
       "      <th>education</th>\n",
       "      <th>education_id</th>\n",
       "      <th>family_status</th>\n",
       "      <th>family_status_id</th>\n",
       "      <th>gender</th>\n",
       "      <th>income_type</th>\n",
       "      <th>debt</th>\n",
       "      <th>total_income</th>\n",
       "      <th>purpose</th>\n",
       "    </tr>\n",
       "  </thead>\n",
       "  <tbody>\n",
       "    <tr>\n",
       "      <td>0</td>\n",
       "      <td>1</td>\n",
       "      <td>-8437.673028</td>\n",
       "      <td>42</td>\n",
       "      <td>высшее</td>\n",
       "      <td>0</td>\n",
       "      <td>женат / замужем</td>\n",
       "      <td>0</td>\n",
       "      <td>F</td>\n",
       "      <td>сотрудник</td>\n",
       "      <td>0</td>\n",
       "      <td>253875.639453</td>\n",
       "      <td>покупка жилья</td>\n",
       "    </tr>\n",
       "    <tr>\n",
       "      <td>1</td>\n",
       "      <td>1</td>\n",
       "      <td>-4024.803754</td>\n",
       "      <td>36</td>\n",
       "      <td>среднее</td>\n",
       "      <td>1</td>\n",
       "      <td>женат / замужем</td>\n",
       "      <td>0</td>\n",
       "      <td>F</td>\n",
       "      <td>сотрудник</td>\n",
       "      <td>0</td>\n",
       "      <td>112080.014102</td>\n",
       "      <td>приобретение автомобиля</td>\n",
       "    </tr>\n",
       "    <tr>\n",
       "      <td>2</td>\n",
       "      <td>0</td>\n",
       "      <td>-5623.422610</td>\n",
       "      <td>33</td>\n",
       "      <td>Среднее</td>\n",
       "      <td>1</td>\n",
       "      <td>женат / замужем</td>\n",
       "      <td>0</td>\n",
       "      <td>M</td>\n",
       "      <td>сотрудник</td>\n",
       "      <td>0</td>\n",
       "      <td>145885.952297</td>\n",
       "      <td>покупка жилья</td>\n",
       "    </tr>\n",
       "    <tr>\n",
       "      <td>3</td>\n",
       "      <td>3</td>\n",
       "      <td>-4124.747207</td>\n",
       "      <td>32</td>\n",
       "      <td>среднее</td>\n",
       "      <td>1</td>\n",
       "      <td>женат / замужем</td>\n",
       "      <td>0</td>\n",
       "      <td>M</td>\n",
       "      <td>сотрудник</td>\n",
       "      <td>0</td>\n",
       "      <td>267628.550329</td>\n",
       "      <td>дополнительное образование</td>\n",
       "    </tr>\n",
       "    <tr>\n",
       "      <td>4</td>\n",
       "      <td>0</td>\n",
       "      <td>340266.072047</td>\n",
       "      <td>53</td>\n",
       "      <td>среднее</td>\n",
       "      <td>1</td>\n",
       "      <td>гражданский брак</td>\n",
       "      <td>1</td>\n",
       "      <td>F</td>\n",
       "      <td>пенсионер</td>\n",
       "      <td>0</td>\n",
       "      <td>158616.077870</td>\n",
       "      <td>сыграть свадьбу</td>\n",
       "    </tr>\n",
       "    <tr>\n",
       "      <td>5</td>\n",
       "      <td>0</td>\n",
       "      <td>-926.185831</td>\n",
       "      <td>27</td>\n",
       "      <td>высшее</td>\n",
       "      <td>0</td>\n",
       "      <td>гражданский брак</td>\n",
       "      <td>1</td>\n",
       "      <td>M</td>\n",
       "      <td>компаньон</td>\n",
       "      <td>0</td>\n",
       "      <td>255763.565419</td>\n",
       "      <td>покупка жилья</td>\n",
       "    </tr>\n",
       "    <tr>\n",
       "      <td>6</td>\n",
       "      <td>0</td>\n",
       "      <td>-2879.202052</td>\n",
       "      <td>43</td>\n",
       "      <td>высшее</td>\n",
       "      <td>0</td>\n",
       "      <td>женат / замужем</td>\n",
       "      <td>0</td>\n",
       "      <td>F</td>\n",
       "      <td>компаньон</td>\n",
       "      <td>0</td>\n",
       "      <td>240525.971920</td>\n",
       "      <td>операции с жильем</td>\n",
       "    </tr>\n",
       "    <tr>\n",
       "      <td>7</td>\n",
       "      <td>0</td>\n",
       "      <td>-152.779569</td>\n",
       "      <td>50</td>\n",
       "      <td>СРЕДНЕЕ</td>\n",
       "      <td>1</td>\n",
       "      <td>женат / замужем</td>\n",
       "      <td>0</td>\n",
       "      <td>M</td>\n",
       "      <td>сотрудник</td>\n",
       "      <td>0</td>\n",
       "      <td>135823.934197</td>\n",
       "      <td>образование</td>\n",
       "    </tr>\n",
       "    <tr>\n",
       "      <td>8</td>\n",
       "      <td>2</td>\n",
       "      <td>-6929.865299</td>\n",
       "      <td>35</td>\n",
       "      <td>ВЫСШЕЕ</td>\n",
       "      <td>0</td>\n",
       "      <td>гражданский брак</td>\n",
       "      <td>1</td>\n",
       "      <td>F</td>\n",
       "      <td>сотрудник</td>\n",
       "      <td>0</td>\n",
       "      <td>95856.832424</td>\n",
       "      <td>на проведение свадьбы</td>\n",
       "    </tr>\n",
       "    <tr>\n",
       "      <td>9</td>\n",
       "      <td>0</td>\n",
       "      <td>-2188.756445</td>\n",
       "      <td>41</td>\n",
       "      <td>среднее</td>\n",
       "      <td>1</td>\n",
       "      <td>женат / замужем</td>\n",
       "      <td>0</td>\n",
       "      <td>M</td>\n",
       "      <td>сотрудник</td>\n",
       "      <td>0</td>\n",
       "      <td>144425.938277</td>\n",
       "      <td>покупка жилья для семьи</td>\n",
       "    </tr>\n",
       "  </tbody>\n",
       "</table>\n",
       "</div>"
      ],
      "text/plain": [
       "   children  days_employed  dob_years education  education_id  \\\n",
       "0         1   -8437.673028         42    высшее             0   \n",
       "1         1   -4024.803754         36   среднее             1   \n",
       "2         0   -5623.422610         33   Среднее             1   \n",
       "3         3   -4124.747207         32   среднее             1   \n",
       "4         0  340266.072047         53   среднее             1   \n",
       "5         0    -926.185831         27    высшее             0   \n",
       "6         0   -2879.202052         43    высшее             0   \n",
       "7         0    -152.779569         50   СРЕДНЕЕ             1   \n",
       "8         2   -6929.865299         35    ВЫСШЕЕ             0   \n",
       "9         0   -2188.756445         41   среднее             1   \n",
       "\n",
       "      family_status  family_status_id gender income_type  debt   total_income  \\\n",
       "0   женат / замужем                 0      F   сотрудник     0  253875.639453   \n",
       "1   женат / замужем                 0      F   сотрудник     0  112080.014102   \n",
       "2   женат / замужем                 0      M   сотрудник     0  145885.952297   \n",
       "3   женат / замужем                 0      M   сотрудник     0  267628.550329   \n",
       "4  гражданский брак                 1      F   пенсионер     0  158616.077870   \n",
       "5  гражданский брак                 1      M   компаньон     0  255763.565419   \n",
       "6   женат / замужем                 0      F   компаньон     0  240525.971920   \n",
       "7   женат / замужем                 0      M   сотрудник     0  135823.934197   \n",
       "8  гражданский брак                 1      F   сотрудник     0   95856.832424   \n",
       "9   женат / замужем                 0      M   сотрудник     0  144425.938277   \n",
       "\n",
       "                      purpose  \n",
       "0               покупка жилья  \n",
       "1     приобретение автомобиля  \n",
       "2               покупка жилья  \n",
       "3  дополнительное образование  \n",
       "4             сыграть свадьбу  \n",
       "5               покупка жилья  \n",
       "6           операции с жильем  \n",
       "7                 образование  \n",
       "8       на проведение свадьбы  \n",
       "9     покупка жилья для семьи  "
      ]
     },
     "execution_count": 1,
     "metadata": {},
     "output_type": "execute_result"
    }
   ],
   "source": [
    "# импортируем библиотеку pandas\n",
    "# прочитаем файл с данными для исследования\n",
    "# посмотрим, как выглядит таблица\n",
    "\n",
    "import pandas as pd\n",
    "\n",
    "df = pd.read_csv('/datasets/data.csv')\n",
    "df.head(10)"
   ]
  },
  {
   "cell_type": "markdown",
   "metadata": {},
   "source": [
    "При выводе первых 10 строк датасета сразу можно заметить проблемы в данных. \n",
    "\n",
    "В столбце `days_employed` встречаются отрицательные значения, отрицательных рабочих дней не существует. Вероятно, данные были неправильно переданы в систему или произошел какой-то сбой. \n",
    "\n",
    "Значения колонки `total_income` представляют собой средний доход. Для лучшего восприятия и работы с данными их следует перевести в целые числа.\n",
    "\n",
    "В столбце `education` присутствуют неявные дубликаты. Например, среднее образование представлено разными значениями - \"среднее\", \"Среднее\", \"СРЕДНЕЕ\". Необходимо выявить все неявные дубликаты и избавиться от них."
   ]
  },
  {
   "cell_type": "code",
   "execution_count": 2,
   "metadata": {},
   "outputs": [
    {
     "name": "stdout",
     "output_type": "stream",
     "text": [
      "<class 'pandas.core.frame.DataFrame'>\n",
      "RangeIndex: 21525 entries, 0 to 21524\n",
      "Data columns (total 12 columns):\n",
      "children            21525 non-null int64\n",
      "days_employed       19351 non-null float64\n",
      "dob_years           21525 non-null int64\n",
      "education           21525 non-null object\n",
      "education_id        21525 non-null int64\n",
      "family_status       21525 non-null object\n",
      "family_status_id    21525 non-null int64\n",
      "gender              21525 non-null object\n",
      "income_type         21525 non-null object\n",
      "debt                21525 non-null int64\n",
      "total_income        19351 non-null float64\n",
      "purpose             21525 non-null object\n",
      "dtypes: float64(2), int64(5), object(5)\n",
      "memory usage: 2.0+ MB\n"
     ]
    }
   ],
   "source": [
    "# извлечем основную информацию о данных\n",
    "df.info()"
   ]
  },
  {
   "cell_type": "markdown",
   "metadata": {},
   "source": [
    "**Вывод**"
   ]
  },
  {
   "cell_type": "markdown",
   "metadata": {},
   "source": [
    "В таблице 12 столбцов, 3 ключевых вида данных - `int64`, `float64`, `object`.\n",
    "\n",
    "**Согласно документации к данным:**  \n",
    "* `children` – количество детей в семье;\n",
    "* `days_employed` — общий трудовой стаж в днях;\n",
    "* `dob_years` — возраст клиента в годах;\n",
    "* `education` — уровень образования клиента;\n",
    "* `education_id` — идентификатор уровня образования;\n",
    "* `family_status` — семейное положение;\n",
    "* `family_status_id` — идентификатор семейного положения;\n",
    "* `gender` — пол клиента;\n",
    "* `income_type` — тип занятости;\n",
    "* `debt` — имел ли задолженность по возврату кредитов;\n",
    "* `total_income` — ежемесячный доход;\n",
    "* `purpose` — цель получения кредита.\n",
    "\n",
    "В названиях колонок нет нарушений стиля. \n",
    "\n",
    "Количество значений в данных разнится, что говорит нам о пропусках в данных в столбцах `days_employed` - общий трудовой стаж в днях, `total_income` - ежемесячный доход. Для дальнейшей работы с данными необходимо обработать пропуски. \n",
    "\n",
    "При первом обзоре данных уже можно выявить ошибки и неявные дубликаты в данных. В следующем шаге необходимо подготовить данные к исследованию, чтобы получить адекватные результаты исследования."
   ]
  },
  {
   "cell_type": "markdown",
   "metadata": {},
   "source": [
    "## Шаг 2. Предобработка данных"
   ]
  },
  {
   "cell_type": "markdown",
   "metadata": {},
   "source": [
    "### Обработка пропусков"
   ]
  },
  {
   "cell_type": "code",
   "execution_count": 3,
   "metadata": {
    "scrolled": true
   },
   "outputs": [
    {
     "data": {
      "text/plain": [
       "children               0\n",
       "days_employed       2174\n",
       "dob_years              0\n",
       "education              0\n",
       "education_id           0\n",
       "family_status          0\n",
       "family_status_id       0\n",
       "gender                 0\n",
       "income_type            0\n",
       "debt                   0\n",
       "total_income        2174\n",
       "purpose                0\n",
       "dtype: int64"
      ]
     },
     "execution_count": 3,
     "metadata": {},
     "output_type": "execute_result"
    }
   ],
   "source": [
    "# подсчитаем количество пропусков в каждом столбце\n",
    "df.isna().sum()"
   ]
  },
  {
   "cell_type": "markdown",
   "metadata": {},
   "source": [
    "Для подсчета пропусков применили метод `isna()`. А чтобы подсчитать пропуски воспользуемся методом `sum()`.\n",
    "\n",
    "Пропуски встречаются в двух колонках `days_employed` и `total_income`. Вероятно, пропуски в столбцах взаимосвязаны - если нет данных о стаже пользователя в днях, не будет и данных о его доходах. Данное предположение исходит из количества пропусков в обоих столбцах, оно одинаковое."
   ]
  },
  {
   "cell_type": "markdown",
   "metadata": {},
   "source": [
    "Данные в столбце `total_income` являются важными для ответа на один из поставленных вопросов в ходе исследования - \"Есть ли зависимость между уровнем дохода и возвратом кредита в срок?\", поэтому мы не можем заменить пропуски на 0. Избавиться от строк с пропущенными значениями этого столбца мы тоже не можем, так как пропуски составляют около 10% от всех данных и могут существенно повлиять на ход исследования и на ответы на другие вопросы.\n",
    "\n",
    "Заменим пропуски в столбце `total_income` на медианные значения ежемесячных доходов, исходя из типа занятости респондента. Выбираем именно медианное значение, а не среднее арифметическое, так как в данных об уровне дохода могут быть выбросы в большую и меньшую сторону, что может привести к неверным расчетам.\n",
    "\n",
    "Данные в столбце `days_employed` не являются важными для ответа ни на один из поставленных вопросов, поэтому этот столбец удаляем из таблицы."
   ]
  },
  {
   "cell_type": "markdown",
   "metadata": {},
   "source": [
    "Посмотрим, сколько уникальных значений содержит столбец `income_type`. Для этого вызовем метод **`.unique()`**. Заодно проверим, чтобы в этом столбце не было неявных дубликатов."
   ]
  },
  {
   "cell_type": "code",
   "execution_count": 4,
   "metadata": {},
   "outputs": [
    {
     "data": {
      "text/plain": [
       "array(['сотрудник', 'пенсионер', 'компаньон', 'госслужащий',\n",
       "       'безработный', 'предприниматель', 'студент', 'в декрете'],\n",
       "      dtype=object)"
      ]
     },
     "execution_count": 4,
     "metadata": {},
     "output_type": "execute_result"
    }
   ],
   "source": [
    "df['income_type'].unique()"
   ]
  },
  {
   "cell_type": "markdown",
   "metadata": {},
   "source": [
    "В столбце `income_type` респонденты разделены на 8 типов занятости: сотрудник, пенсионер, компаньон, госслужащий, безработный, предприниматель, студент, в декрете. Заменим пропущенные значения на медианные в разрезе типа занятости с помощью метода **`.transform()`**"
   ]
  },
  {
   "cell_type": "code",
   "execution_count": 5,
   "metadata": {},
   "outputs": [],
   "source": [
    "df['total_income'] = df['total_income'].fillna(df.groupby('income_type')['total_income'].transform('median'))"
   ]
  },
  {
   "cell_type": "markdown",
   "metadata": {},
   "source": [
    "Проверим, остались ли пропущенные значения в данных в столбце `total_income`."
   ]
  },
  {
   "cell_type": "code",
   "execution_count": 6,
   "metadata": {},
   "outputs": [
    {
     "data": {
      "text/plain": [
       "children               0\n",
       "days_employed       2174\n",
       "dob_years              0\n",
       "education              0\n",
       "education_id           0\n",
       "family_status          0\n",
       "family_status_id       0\n",
       "gender                 0\n",
       "income_type            0\n",
       "debt                   0\n",
       "total_income           0\n",
       "purpose                0\n",
       "dtype: int64"
      ]
     },
     "execution_count": 6,
     "metadata": {},
     "output_type": "execute_result"
    }
   ],
   "source": [
    "df.isna().sum()"
   ]
  },
  {
   "cell_type": "markdown",
   "metadata": {},
   "source": [
    "Так как данные в столбце `days_employed` не несут сущетсвенного значения для ответа на поставленные вопросы в ходе исследования. Можно удалить столбец, однако всегда есть вероятность, что данные пригодятся в дальнейшем. Столбец оставим без изменений в датасете, при необходимости использования данных этого столбца, он будет преобразован и приведен к удовлетворительному для исследования виду."
   ]
  },
  {
   "cell_type": "code",
   "execution_count": 7,
   "metadata": {},
   "outputs": [
    {
     "name": "stdout",
     "output_type": "stream",
     "text": [
      "<class 'pandas.core.frame.DataFrame'>\n",
      "RangeIndex: 21525 entries, 0 to 21524\n",
      "Data columns (total 12 columns):\n",
      "children            21525 non-null int64\n",
      "days_employed       19351 non-null float64\n",
      "dob_years           21525 non-null int64\n",
      "education           21525 non-null object\n",
      "education_id        21525 non-null int64\n",
      "family_status       21525 non-null object\n",
      "family_status_id    21525 non-null int64\n",
      "gender              21525 non-null object\n",
      "income_type         21525 non-null object\n",
      "debt                21525 non-null int64\n",
      "total_income        21525 non-null float64\n",
      "purpose             21525 non-null object\n",
      "dtypes: float64(2), int64(5), object(5)\n",
      "memory usage: 2.0+ MB\n"
     ]
    }
   ],
   "source": [
    "df.info()"
   ]
  },
  {
   "cell_type": "markdown",
   "metadata": {},
   "source": [
    "**Вывод**"
   ]
  },
  {
   "cell_type": "markdown",
   "metadata": {},
   "source": [
    "Первичная обработка пропусков завершена. С помощью методов `isna()` и `sum()` были обнаружены и посчитаны пропуски в датасете. Пропуски могут быть связаны с ошибкой хранения данных, некоторые значения могли быть утеряны. Также вероятно, что клиенты банка могли не указать такие данные о себе. \n",
    "\n",
    "Следующим шагом пропуски были заменены на медианные значения в зависимости от типа занятости клиентов. Это позволило избежать удаления практичести 10% важных для анализа сведений. Замена на нулевые значения не представлялась возможной, так как могла сильно исказить результаты исследования в ответе на один из поставленных вопросов. \n",
    "\n",
    "Данные столбца `total_income` все еще не являются до конца пригодными для качественного исследования. Следующим этапом предстоит перевести данные из вещественного типа в целочисленный.\n",
    "\n",
    "Столбец `days_employed` содержал отрицательные значения, что противоречит здравому смыслу, стаж работы клиентов не может быть представлен в виде отрицательных значений. Причиной такого отображения данных может быть ошибка в обработке базы данных. Было принято решение оставить этот столбец без изменений. В случае необходимости использования данных для исследования, столбец будет обработан должным образом."
   ]
  },
  {
   "cell_type": "markdown",
   "metadata": {},
   "source": [
    "### Замена типа данных"
   ]
  },
  {
   "cell_type": "markdown",
   "metadata": {},
   "source": [
    "Необходимо изменить тип данных в столбце `total_income` с `float` на `int`. Применим метод `astype()`, в качестве аргумента подставим `int`."
   ]
  },
  {
   "cell_type": "code",
   "execution_count": 8,
   "metadata": {},
   "outputs": [
    {
     "name": "stdout",
     "output_type": "stream",
     "text": [
      "<class 'pandas.core.frame.DataFrame'>\n",
      "RangeIndex: 21525 entries, 0 to 21524\n",
      "Data columns (total 12 columns):\n",
      "children            21525 non-null int64\n",
      "days_employed       19351 non-null float64\n",
      "dob_years           21525 non-null int64\n",
      "education           21525 non-null object\n",
      "education_id        21525 non-null int64\n",
      "family_status       21525 non-null object\n",
      "family_status_id    21525 non-null int64\n",
      "gender              21525 non-null object\n",
      "income_type         21525 non-null object\n",
      "debt                21525 non-null int64\n",
      "total_income        21525 non-null int64\n",
      "purpose             21525 non-null object\n",
      "dtypes: float64(1), int64(6), object(5)\n",
      "memory usage: 2.0+ MB\n"
     ]
    }
   ],
   "source": [
    "df.loc[:, 'total_income'] = df.loc[:, 'total_income'].astype('int')\n",
    "df.info()"
   ]
  },
  {
   "cell_type": "code",
   "execution_count": 9,
   "metadata": {},
   "outputs": [
    {
     "data": {
      "text/html": [
       "<div>\n",
       "<style scoped>\n",
       "    .dataframe tbody tr th:only-of-type {\n",
       "        vertical-align: middle;\n",
       "    }\n",
       "\n",
       "    .dataframe tbody tr th {\n",
       "        vertical-align: top;\n",
       "    }\n",
       "\n",
       "    .dataframe thead th {\n",
       "        text-align: right;\n",
       "    }\n",
       "</style>\n",
       "<table border=\"1\" class=\"dataframe\">\n",
       "  <thead>\n",
       "    <tr style=\"text-align: right;\">\n",
       "      <th></th>\n",
       "      <th>children</th>\n",
       "      <th>days_employed</th>\n",
       "      <th>dob_years</th>\n",
       "      <th>education</th>\n",
       "      <th>education_id</th>\n",
       "      <th>family_status</th>\n",
       "      <th>family_status_id</th>\n",
       "      <th>gender</th>\n",
       "      <th>income_type</th>\n",
       "      <th>debt</th>\n",
       "      <th>total_income</th>\n",
       "      <th>purpose</th>\n",
       "    </tr>\n",
       "  </thead>\n",
       "  <tbody>\n",
       "    <tr>\n",
       "      <td>0</td>\n",
       "      <td>1</td>\n",
       "      <td>-8437.673028</td>\n",
       "      <td>42</td>\n",
       "      <td>высшее</td>\n",
       "      <td>0</td>\n",
       "      <td>женат / замужем</td>\n",
       "      <td>0</td>\n",
       "      <td>F</td>\n",
       "      <td>сотрудник</td>\n",
       "      <td>0</td>\n",
       "      <td>253875</td>\n",
       "      <td>покупка жилья</td>\n",
       "    </tr>\n",
       "    <tr>\n",
       "      <td>1</td>\n",
       "      <td>1</td>\n",
       "      <td>-4024.803754</td>\n",
       "      <td>36</td>\n",
       "      <td>среднее</td>\n",
       "      <td>1</td>\n",
       "      <td>женат / замужем</td>\n",
       "      <td>0</td>\n",
       "      <td>F</td>\n",
       "      <td>сотрудник</td>\n",
       "      <td>0</td>\n",
       "      <td>112080</td>\n",
       "      <td>приобретение автомобиля</td>\n",
       "    </tr>\n",
       "    <tr>\n",
       "      <td>2</td>\n",
       "      <td>0</td>\n",
       "      <td>-5623.422610</td>\n",
       "      <td>33</td>\n",
       "      <td>Среднее</td>\n",
       "      <td>1</td>\n",
       "      <td>женат / замужем</td>\n",
       "      <td>0</td>\n",
       "      <td>M</td>\n",
       "      <td>сотрудник</td>\n",
       "      <td>0</td>\n",
       "      <td>145885</td>\n",
       "      <td>покупка жилья</td>\n",
       "    </tr>\n",
       "    <tr>\n",
       "      <td>3</td>\n",
       "      <td>3</td>\n",
       "      <td>-4124.747207</td>\n",
       "      <td>32</td>\n",
       "      <td>среднее</td>\n",
       "      <td>1</td>\n",
       "      <td>женат / замужем</td>\n",
       "      <td>0</td>\n",
       "      <td>M</td>\n",
       "      <td>сотрудник</td>\n",
       "      <td>0</td>\n",
       "      <td>267628</td>\n",
       "      <td>дополнительное образование</td>\n",
       "    </tr>\n",
       "    <tr>\n",
       "      <td>4</td>\n",
       "      <td>0</td>\n",
       "      <td>340266.072047</td>\n",
       "      <td>53</td>\n",
       "      <td>среднее</td>\n",
       "      <td>1</td>\n",
       "      <td>гражданский брак</td>\n",
       "      <td>1</td>\n",
       "      <td>F</td>\n",
       "      <td>пенсионер</td>\n",
       "      <td>0</td>\n",
       "      <td>158616</td>\n",
       "      <td>сыграть свадьбу</td>\n",
       "    </tr>\n",
       "    <tr>\n",
       "      <td>5</td>\n",
       "      <td>0</td>\n",
       "      <td>-926.185831</td>\n",
       "      <td>27</td>\n",
       "      <td>высшее</td>\n",
       "      <td>0</td>\n",
       "      <td>гражданский брак</td>\n",
       "      <td>1</td>\n",
       "      <td>M</td>\n",
       "      <td>компаньон</td>\n",
       "      <td>0</td>\n",
       "      <td>255763</td>\n",
       "      <td>покупка жилья</td>\n",
       "    </tr>\n",
       "    <tr>\n",
       "      <td>6</td>\n",
       "      <td>0</td>\n",
       "      <td>-2879.202052</td>\n",
       "      <td>43</td>\n",
       "      <td>высшее</td>\n",
       "      <td>0</td>\n",
       "      <td>женат / замужем</td>\n",
       "      <td>0</td>\n",
       "      <td>F</td>\n",
       "      <td>компаньон</td>\n",
       "      <td>0</td>\n",
       "      <td>240525</td>\n",
       "      <td>операции с жильем</td>\n",
       "    </tr>\n",
       "    <tr>\n",
       "      <td>7</td>\n",
       "      <td>0</td>\n",
       "      <td>-152.779569</td>\n",
       "      <td>50</td>\n",
       "      <td>СРЕДНЕЕ</td>\n",
       "      <td>1</td>\n",
       "      <td>женат / замужем</td>\n",
       "      <td>0</td>\n",
       "      <td>M</td>\n",
       "      <td>сотрудник</td>\n",
       "      <td>0</td>\n",
       "      <td>135823</td>\n",
       "      <td>образование</td>\n",
       "    </tr>\n",
       "    <tr>\n",
       "      <td>8</td>\n",
       "      <td>2</td>\n",
       "      <td>-6929.865299</td>\n",
       "      <td>35</td>\n",
       "      <td>ВЫСШЕЕ</td>\n",
       "      <td>0</td>\n",
       "      <td>гражданский брак</td>\n",
       "      <td>1</td>\n",
       "      <td>F</td>\n",
       "      <td>сотрудник</td>\n",
       "      <td>0</td>\n",
       "      <td>95856</td>\n",
       "      <td>на проведение свадьбы</td>\n",
       "    </tr>\n",
       "    <tr>\n",
       "      <td>9</td>\n",
       "      <td>0</td>\n",
       "      <td>-2188.756445</td>\n",
       "      <td>41</td>\n",
       "      <td>среднее</td>\n",
       "      <td>1</td>\n",
       "      <td>женат / замужем</td>\n",
       "      <td>0</td>\n",
       "      <td>M</td>\n",
       "      <td>сотрудник</td>\n",
       "      <td>0</td>\n",
       "      <td>144425</td>\n",
       "      <td>покупка жилья для семьи</td>\n",
       "    </tr>\n",
       "  </tbody>\n",
       "</table>\n",
       "</div>"
      ],
      "text/plain": [
       "   children  days_employed  dob_years education  education_id  \\\n",
       "0         1   -8437.673028         42    высшее             0   \n",
       "1         1   -4024.803754         36   среднее             1   \n",
       "2         0   -5623.422610         33   Среднее             1   \n",
       "3         3   -4124.747207         32   среднее             1   \n",
       "4         0  340266.072047         53   среднее             1   \n",
       "5         0    -926.185831         27    высшее             0   \n",
       "6         0   -2879.202052         43    высшее             0   \n",
       "7         0    -152.779569         50   СРЕДНЕЕ             1   \n",
       "8         2   -6929.865299         35    ВЫСШЕЕ             0   \n",
       "9         0   -2188.756445         41   среднее             1   \n",
       "\n",
       "      family_status  family_status_id gender income_type  debt  total_income  \\\n",
       "0   женат / замужем                 0      F   сотрудник     0        253875   \n",
       "1   женат / замужем                 0      F   сотрудник     0        112080   \n",
       "2   женат / замужем                 0      M   сотрудник     0        145885   \n",
       "3   женат / замужем                 0      M   сотрудник     0        267628   \n",
       "4  гражданский брак                 1      F   пенсионер     0        158616   \n",
       "5  гражданский брак                 1      M   компаньон     0        255763   \n",
       "6   женат / замужем                 0      F   компаньон     0        240525   \n",
       "7   женат / замужем                 0      M   сотрудник     0        135823   \n",
       "8  гражданский брак                 1      F   сотрудник     0         95856   \n",
       "9   женат / замужем                 0      M   сотрудник     0        144425   \n",
       "\n",
       "                      purpose  \n",
       "0               покупка жилья  \n",
       "1     приобретение автомобиля  \n",
       "2               покупка жилья  \n",
       "3  дополнительное образование  \n",
       "4             сыграть свадьбу  \n",
       "5               покупка жилья  \n",
       "6           операции с жильем  \n",
       "7                 образование  \n",
       "8       на проведение свадьбы  \n",
       "9     покупка жилья для семьи  "
      ]
     },
     "execution_count": 9,
     "metadata": {},
     "output_type": "execute_result"
    }
   ],
   "source": [
    "# посмотрим, как теперь выглядят данные в столбце total_income\n",
    "\n",
    "df.head(10)"
   ]
  },
  {
   "cell_type": "markdown",
   "metadata": {},
   "source": [
    "**Вывод**"
   ]
  },
  {
   "cell_type": "markdown",
   "metadata": {},
   "source": [
    "В этом шаге мы заменили тип данных столбца `total_income` методом `astype()`, в качестве аргумента подставили `int` - целые числа. Данный метод позволяет заменить значения в нужный тип. Данная операция была проведена для лаконичности представления значений и дальнейших подсчетов."
   ]
  },
  {
   "cell_type": "markdown",
   "metadata": {},
   "source": [
    "### Обработка дубликатов"
   ]
  },
  {
   "cell_type": "markdown",
   "metadata": {},
   "source": [
    "Для начала выявим явные дубликаты. Найдем их с помощью метода `duplicated()` и найдем общее количество дубликатов."
   ]
  },
  {
   "cell_type": "code",
   "execution_count": 10,
   "metadata": {},
   "outputs": [
    {
     "data": {
      "text/plain": [
       "54"
      ]
     },
     "execution_count": 10,
     "metadata": {},
     "output_type": "execute_result"
    }
   ],
   "source": [
    "df.duplicated().sum()"
   ]
  },
  {
   "cell_type": "markdown",
   "metadata": {},
   "source": [
    "С помощью логической индексацией получим таблицу с дубликатами и посмотрим на первые 10 строк."
   ]
  },
  {
   "cell_type": "code",
   "execution_count": 11,
   "metadata": {},
   "outputs": [
    {
     "data": {
      "text/html": [
       "<div>\n",
       "<style scoped>\n",
       "    .dataframe tbody tr th:only-of-type {\n",
       "        vertical-align: middle;\n",
       "    }\n",
       "\n",
       "    .dataframe tbody tr th {\n",
       "        vertical-align: top;\n",
       "    }\n",
       "\n",
       "    .dataframe thead th {\n",
       "        text-align: right;\n",
       "    }\n",
       "</style>\n",
       "<table border=\"1\" class=\"dataframe\">\n",
       "  <thead>\n",
       "    <tr style=\"text-align: right;\">\n",
       "      <th></th>\n",
       "      <th>children</th>\n",
       "      <th>days_employed</th>\n",
       "      <th>dob_years</th>\n",
       "      <th>education</th>\n",
       "      <th>education_id</th>\n",
       "      <th>family_status</th>\n",
       "      <th>family_status_id</th>\n",
       "      <th>gender</th>\n",
       "      <th>income_type</th>\n",
       "      <th>debt</th>\n",
       "      <th>total_income</th>\n",
       "      <th>purpose</th>\n",
       "    </tr>\n",
       "  </thead>\n",
       "  <tbody>\n",
       "    <tr>\n",
       "      <td>2849</td>\n",
       "      <td>0</td>\n",
       "      <td>NaN</td>\n",
       "      <td>41</td>\n",
       "      <td>среднее</td>\n",
       "      <td>1</td>\n",
       "      <td>женат / замужем</td>\n",
       "      <td>0</td>\n",
       "      <td>F</td>\n",
       "      <td>сотрудник</td>\n",
       "      <td>0</td>\n",
       "      <td>142594</td>\n",
       "      <td>покупка жилья для семьи</td>\n",
       "    </tr>\n",
       "    <tr>\n",
       "      <td>4182</td>\n",
       "      <td>1</td>\n",
       "      <td>NaN</td>\n",
       "      <td>34</td>\n",
       "      <td>ВЫСШЕЕ</td>\n",
       "      <td>0</td>\n",
       "      <td>гражданский брак</td>\n",
       "      <td>1</td>\n",
       "      <td>F</td>\n",
       "      <td>сотрудник</td>\n",
       "      <td>0</td>\n",
       "      <td>142594</td>\n",
       "      <td>свадьба</td>\n",
       "    </tr>\n",
       "    <tr>\n",
       "      <td>4851</td>\n",
       "      <td>0</td>\n",
       "      <td>NaN</td>\n",
       "      <td>60</td>\n",
       "      <td>среднее</td>\n",
       "      <td>1</td>\n",
       "      <td>гражданский брак</td>\n",
       "      <td>1</td>\n",
       "      <td>F</td>\n",
       "      <td>пенсионер</td>\n",
       "      <td>0</td>\n",
       "      <td>118514</td>\n",
       "      <td>свадьба</td>\n",
       "    </tr>\n",
       "    <tr>\n",
       "      <td>5557</td>\n",
       "      <td>0</td>\n",
       "      <td>NaN</td>\n",
       "      <td>58</td>\n",
       "      <td>среднее</td>\n",
       "      <td>1</td>\n",
       "      <td>гражданский брак</td>\n",
       "      <td>1</td>\n",
       "      <td>F</td>\n",
       "      <td>пенсионер</td>\n",
       "      <td>0</td>\n",
       "      <td>118514</td>\n",
       "      <td>сыграть свадьбу</td>\n",
       "    </tr>\n",
       "    <tr>\n",
       "      <td>7808</td>\n",
       "      <td>0</td>\n",
       "      <td>NaN</td>\n",
       "      <td>57</td>\n",
       "      <td>среднее</td>\n",
       "      <td>1</td>\n",
       "      <td>гражданский брак</td>\n",
       "      <td>1</td>\n",
       "      <td>F</td>\n",
       "      <td>пенсионер</td>\n",
       "      <td>0</td>\n",
       "      <td>118514</td>\n",
       "      <td>на проведение свадьбы</td>\n",
       "    </tr>\n",
       "    <tr>\n",
       "      <td>8583</td>\n",
       "      <td>0</td>\n",
       "      <td>NaN</td>\n",
       "      <td>58</td>\n",
       "      <td>высшее</td>\n",
       "      <td>0</td>\n",
       "      <td>Не женат / не замужем</td>\n",
       "      <td>4</td>\n",
       "      <td>F</td>\n",
       "      <td>пенсионер</td>\n",
       "      <td>0</td>\n",
       "      <td>118514</td>\n",
       "      <td>дополнительное образование</td>\n",
       "    </tr>\n",
       "    <tr>\n",
       "      <td>9238</td>\n",
       "      <td>2</td>\n",
       "      <td>NaN</td>\n",
       "      <td>34</td>\n",
       "      <td>среднее</td>\n",
       "      <td>1</td>\n",
       "      <td>женат / замужем</td>\n",
       "      <td>0</td>\n",
       "      <td>F</td>\n",
       "      <td>сотрудник</td>\n",
       "      <td>0</td>\n",
       "      <td>142594</td>\n",
       "      <td>покупка жилья для сдачи</td>\n",
       "    </tr>\n",
       "    <tr>\n",
       "      <td>9528</td>\n",
       "      <td>0</td>\n",
       "      <td>NaN</td>\n",
       "      <td>66</td>\n",
       "      <td>среднее</td>\n",
       "      <td>1</td>\n",
       "      <td>вдовец / вдова</td>\n",
       "      <td>2</td>\n",
       "      <td>F</td>\n",
       "      <td>пенсионер</td>\n",
       "      <td>0</td>\n",
       "      <td>118514</td>\n",
       "      <td>операции со своей недвижимостью</td>\n",
       "    </tr>\n",
       "    <tr>\n",
       "      <td>9627</td>\n",
       "      <td>0</td>\n",
       "      <td>NaN</td>\n",
       "      <td>56</td>\n",
       "      <td>среднее</td>\n",
       "      <td>1</td>\n",
       "      <td>женат / замужем</td>\n",
       "      <td>0</td>\n",
       "      <td>F</td>\n",
       "      <td>пенсионер</td>\n",
       "      <td>0</td>\n",
       "      <td>118514</td>\n",
       "      <td>операции со своей недвижимостью</td>\n",
       "    </tr>\n",
       "    <tr>\n",
       "      <td>10462</td>\n",
       "      <td>0</td>\n",
       "      <td>NaN</td>\n",
       "      <td>62</td>\n",
       "      <td>среднее</td>\n",
       "      <td>1</td>\n",
       "      <td>женат / замужем</td>\n",
       "      <td>0</td>\n",
       "      <td>F</td>\n",
       "      <td>пенсионер</td>\n",
       "      <td>0</td>\n",
       "      <td>118514</td>\n",
       "      <td>покупка коммерческой недвижимости</td>\n",
       "    </tr>\n",
       "  </tbody>\n",
       "</table>\n",
       "</div>"
      ],
      "text/plain": [
       "       children  days_employed  dob_years education  education_id  \\\n",
       "2849          0            NaN         41   среднее             1   \n",
       "4182          1            NaN         34    ВЫСШЕЕ             0   \n",
       "4851          0            NaN         60   среднее             1   \n",
       "5557          0            NaN         58   среднее             1   \n",
       "7808          0            NaN         57   среднее             1   \n",
       "8583          0            NaN         58    высшее             0   \n",
       "9238          2            NaN         34   среднее             1   \n",
       "9528          0            NaN         66   среднее             1   \n",
       "9627          0            NaN         56   среднее             1   \n",
       "10462         0            NaN         62   среднее             1   \n",
       "\n",
       "               family_status  family_status_id gender income_type  debt  \\\n",
       "2849         женат / замужем                 0      F   сотрудник     0   \n",
       "4182        гражданский брак                 1      F   сотрудник     0   \n",
       "4851        гражданский брак                 1      F   пенсионер     0   \n",
       "5557        гражданский брак                 1      F   пенсионер     0   \n",
       "7808        гражданский брак                 1      F   пенсионер     0   \n",
       "8583   Не женат / не замужем                 4      F   пенсионер     0   \n",
       "9238         женат / замужем                 0      F   сотрудник     0   \n",
       "9528          вдовец / вдова                 2      F   пенсионер     0   \n",
       "9627         женат / замужем                 0      F   пенсионер     0   \n",
       "10462        женат / замужем                 0      F   пенсионер     0   \n",
       "\n",
       "       total_income                            purpose  \n",
       "2849         142594            покупка жилья для семьи  \n",
       "4182         142594                            свадьба  \n",
       "4851         118514                            свадьба  \n",
       "5557         118514                    сыграть свадьбу  \n",
       "7808         118514              на проведение свадьбы  \n",
       "8583         118514         дополнительное образование  \n",
       "9238         142594            покупка жилья для сдачи  \n",
       "9528         118514    операции со своей недвижимостью  \n",
       "9627         118514    операции со своей недвижимостью  \n",
       "10462        118514  покупка коммерческой недвижимости  "
      ]
     },
     "execution_count": 11,
     "metadata": {},
     "output_type": "execute_result"
    }
   ],
   "source": [
    "df_duplicated = df[df.duplicated()].head(10)\n",
    "df_duplicated"
   ]
  },
  {
   "cell_type": "markdown",
   "metadata": {},
   "source": [
    "Избавимся от явных дубликатов с помощью метода `drop_duplicates()`, обновим индексацию через `reset_index()` и удалим старые индексы, применив параметр `drop=True`."
   ]
  },
  {
   "cell_type": "code",
   "execution_count": 12,
   "metadata": {},
   "outputs": [],
   "source": [
    "df = df.drop_duplicates().reset_index(drop=True)"
   ]
  },
  {
   "cell_type": "markdown",
   "metadata": {},
   "source": [
    "Ещё раз проверим датафрейм на наличие явных дубликатов."
   ]
  },
  {
   "cell_type": "code",
   "execution_count": 13,
   "metadata": {},
   "outputs": [
    {
     "data": {
      "text/plain": [
       "0"
      ]
     },
     "execution_count": 13,
     "metadata": {},
     "output_type": "execute_result"
    }
   ],
   "source": [
    "df.duplicated().sum()"
   ]
  },
  {
   "cell_type": "markdown",
   "metadata": {},
   "source": [
    "Мы избавились от всех явных дубликатов. Время проверить датафрейм на наличие неявных дубликатов.\n",
    "\n",
    "При первом выводе строчек датафрейма были найдены неявные дубликаты в столбце `education`. Посмотрим, сколько уникальных значений содержит этот столбец. Вызовем метод `unique`. "
   ]
  },
  {
   "cell_type": "code",
   "execution_count": 14,
   "metadata": {},
   "outputs": [
    {
     "data": {
      "text/plain": [
       "array(['высшее', 'среднее', 'Среднее', 'СРЕДНЕЕ', 'ВЫСШЕЕ',\n",
       "       'неоконченное высшее', 'начальное', 'Высшее',\n",
       "       'НЕОКОНЧЕННОЕ ВЫСШЕЕ', 'Неоконченное высшее', 'НАЧАЛЬНОЕ',\n",
       "       'Начальное', 'Ученая степень', 'УЧЕНАЯ СТЕПЕНЬ', 'ученая степень'],\n",
       "      dtype=object)"
      ]
     },
     "execution_count": 14,
     "metadata": {},
     "output_type": "execute_result"
    }
   ],
   "source": [
    "df['education'].unique()"
   ]
  },
  {
   "cell_type": "markdown",
   "metadata": {},
   "source": [
    "В столбце представлено 5 типов образования клиента, но уникальных названий 15. Так тип образования представлен в 3 уникальных значениях каждый. Приведем их к единому стилю и исправим альтернативные написания значений. \n",
    "\n",
    "Можно заменить значения с помощью метода `replace()`, а для автоматизации процесса написать функцию, которой будем передавать в качестве первого аргумента неверное значение (список неверных значений), а в качестве второго - корректное значение.\n",
    "\n",
    "Но есть вариант, который заметно сократит время работы кода и уместится в одну строчку - строковый метод `str.lower()`, который можем применить ко всему столбцу датафрейма."
   ]
  },
  {
   "cell_type": "code",
   "execution_count": 15,
   "metadata": {},
   "outputs": [],
   "source": [
    "df['education'] = df['education'].str.lower()"
   ]
  },
  {
   "cell_type": "code",
   "execution_count": 16,
   "metadata": {
    "scrolled": true
   },
   "outputs": [
    {
     "data": {
      "text/plain": [
       "array(['высшее', 'среднее', 'неоконченное высшее', 'начальное',\n",
       "       'ученая степень'], dtype=object)"
      ]
     },
     "execution_count": 16,
     "metadata": {},
     "output_type": "execute_result"
    }
   ],
   "source": [
    "# снова вызовем метод unique() и проверим уникальные значения\n",
    "\n",
    "df['education'].unique()"
   ]
  },
  {
   "cell_type": "markdown",
   "metadata": {},
   "source": [
    "Мы избавились от всех неявных дубликатов в столбце `education`. Проверим значения других столбцов, которые могут повлиять на качество проводимого нами исследования.\n",
    "\n",
    "Рассмотрим столбцы `children`, `dob_years` и `family_status`. Применим метод `unique()`."
   ]
  },
  {
   "cell_type": "code",
   "execution_count": 17,
   "metadata": {},
   "outputs": [
    {
     "data": {
      "text/plain": [
       "array([ 1,  0,  3,  2, -1,  4, 20,  5])"
      ]
     },
     "execution_count": 17,
     "metadata": {},
     "output_type": "execute_result"
    }
   ],
   "source": [
    "df['children'].unique()"
   ]
  },
  {
   "cell_type": "markdown",
   "metadata": {},
   "source": [
    "Значения -1 и 20 явно являются ошибочными: не может быть отрицательное количество детей, а 20 - слишком большое число.\n",
    "\n",
    "Посмотрим, какое распределение количества детей среди клиентов банка при помощи метода `value_counts()`. Если количество ошибочных значений небольшое и составит меньше 1% от всех данных, то строки с такими значениями можно удалить или заменить на наиболее реалистичные. "
   ]
  },
  {
   "cell_type": "code",
   "execution_count": 18,
   "metadata": {},
   "outputs": [
    {
     "data": {
      "text/plain": [
       " 0     14107\n",
       " 1      4809\n",
       " 2      2052\n",
       " 3       330\n",
       " 20       76\n",
       "-1        47\n",
       " 4        41\n",
       " 5         9\n",
       "Name: children, dtype: int64"
      ]
     },
     "execution_count": 18,
     "metadata": {},
     "output_type": "execute_result"
    }
   ],
   "source": [
    "df['children'].value_counts()"
   ]
  },
  {
   "cell_type": "markdown",
   "metadata": {},
   "source": [
    "Всего ошибочных значений 123, что составляет примерно 0,5% от всех данных. Удаление или замена таких значений существенно не повлияет на результаты исследования. \n",
    "\n",
    "Вероятно, такие данные появились по ошибке программы. Предположим, что -1 - это 1 ребенок в семье, а 20 - 2 ребенка. Заменим некорректные значения в столбце с помощью метода `replace()`."
   ]
  },
  {
   "cell_type": "code",
   "execution_count": 19,
   "metadata": {},
   "outputs": [],
   "source": [
    "df['children'] = df['children'].replace(-1, 1)\n",
    "df['children'] = df['children'].replace(20, 2)"
   ]
  },
  {
   "cell_type": "code",
   "execution_count": 20,
   "metadata": {},
   "outputs": [
    {
     "data": {
      "text/plain": [
       "array([1, 0, 3, 2, 4, 5])"
      ]
     },
     "execution_count": 20,
     "metadata": {},
     "output_type": "execute_result"
    }
   ],
   "source": [
    "df['children'].unique()"
   ]
  },
  {
   "cell_type": "markdown",
   "metadata": {},
   "source": [
    "Теперь данные о количестве детей выглядят реалистичнее. \n",
    "\n",
    "Посмотрим, есть ли неявные дубликаты в столбце `family_status`."
   ]
  },
  {
   "cell_type": "code",
   "execution_count": 21,
   "metadata": {},
   "outputs": [
    {
     "data": {
      "text/plain": [
       "array(['женат / замужем', 'гражданский брак', 'вдовец / вдова',\n",
       "       'в разводе', 'Не женат / не замужем'], dtype=object)"
      ]
     },
     "execution_count": 21,
     "metadata": {},
     "output_type": "execute_result"
    }
   ],
   "source": [
    "df['family_status'].unique()"
   ]
  },
  {
   "cell_type": "markdown",
   "metadata": {},
   "source": [
    "Неявные дубликаты обнаружены не были, но не все значения записаны в едином стиле. Исправим это с помощью метода `replace()`."
   ]
  },
  {
   "cell_type": "code",
   "execution_count": 22,
   "metadata": {},
   "outputs": [],
   "source": [
    "df['family_status'] = df['family_status'].replace('Не женат / не замужем', 'не женат / не замужем')"
   ]
  },
  {
   "cell_type": "code",
   "execution_count": 23,
   "metadata": {},
   "outputs": [
    {
     "data": {
      "text/plain": [
       "array(['женат / замужем', 'гражданский брак', 'вдовец / вдова',\n",
       "       'в разводе', 'не женат / не замужем'], dtype=object)"
      ]
     },
     "execution_count": 23,
     "metadata": {},
     "output_type": "execute_result"
    }
   ],
   "source": [
    "df['family_status'].unique()"
   ]
  },
  {
   "cell_type": "markdown",
   "metadata": {},
   "source": [
    "Теперь все значения столбца приведены к единому стилю.\n",
    "\n",
    "Проверим, если ли неявные дубликаты или ошибочные значения в столбце `dob_years`."
   ]
  },
  {
   "cell_type": "code",
   "execution_count": 24,
   "metadata": {},
   "outputs": [
    {
     "data": {
      "text/plain": [
       "35    616\n",
       "40    607\n",
       "41    606\n",
       "34    601\n",
       "38    597\n",
       "42    596\n",
       "33    581\n",
       "39    572\n",
       "31    559\n",
       "36    554\n",
       "44    545\n",
       "29    544\n",
       "30    538\n",
       "48    537\n",
       "37    536\n",
       "50    513\n",
       "43    512\n",
       "32    509\n",
       "49    508\n",
       "28    503\n",
       "45    497\n",
       "27    493\n",
       "56    484\n",
       "52    484\n",
       "47    477\n",
       "54    476\n",
       "46    473\n",
       "53    459\n",
       "57    456\n",
       "58    456\n",
       "51    448\n",
       "55    443\n",
       "59    443\n",
       "26    408\n",
       "60    374\n",
       "25    357\n",
       "61    354\n",
       "62    349\n",
       "63    269\n",
       "24    264\n",
       "64    262\n",
       "23    253\n",
       "65    194\n",
       "22    183\n",
       "66    182\n",
       "67    167\n",
       "21    111\n",
       "0     101\n",
       "68     99\n",
       "69     85\n",
       "70     65\n",
       "71     58\n",
       "20     51\n",
       "72     33\n",
       "19     14\n",
       "73      8\n",
       "74      6\n",
       "75      1\n",
       "Name: dob_years, dtype: int64"
      ]
     },
     "execution_count": 24,
     "metadata": {},
     "output_type": "execute_result"
    }
   ],
   "source": [
    "df['dob_years'].value_counts()"
   ]
  },
  {
   "cell_type": "markdown",
   "metadata": {},
   "source": [
    "В столбце обнаржены клиенты с нулевым возрастом, что является явной ошибкой. Количество таких значений составляет меньше 0,5%. Этот столбец никак не участвует в решении поставленных задач, поэтому данные можно оставить без изменения, на ход исследования они не повлияют."
   ]
  },
  {
   "cell_type": "markdown",
   "metadata": {},
   "source": [
    "Проверим преобразованный датафрейм на наличие явных дубликатов. Возможно, в ходе работы с ошибочными значениями и неявными дубликатами какие-то строки стали дублированными."
   ]
  },
  {
   "cell_type": "code",
   "execution_count": 25,
   "metadata": {},
   "outputs": [
    {
     "data": {
      "text/plain": [
       "17"
      ]
     },
     "execution_count": 25,
     "metadata": {},
     "output_type": "execute_result"
    }
   ],
   "source": [
    "df.duplicated().sum()"
   ]
  },
  {
   "cell_type": "markdown",
   "metadata": {},
   "source": [
    "В таблице снова появились дубликаты. Это может быть связано с преобразованием значений в столбце `education`. Например, было две строчки с одинаковыми значениями во всех столбцах, но в типе образования не совпадали значения, потому что в одной строке было значение 'ВЫСШЕЕ',  а в другой 'Высшее'. Избавимся от дубликатов."
   ]
  },
  {
   "cell_type": "code",
   "execution_count": 26,
   "metadata": {},
   "outputs": [],
   "source": [
    "df = df.drop_duplicates().reset_index(drop=True)"
   ]
  },
  {
   "cell_type": "code",
   "execution_count": 27,
   "metadata": {},
   "outputs": [
    {
     "data": {
      "text/plain": [
       "0"
      ]
     },
     "execution_count": 27,
     "metadata": {},
     "output_type": "execute_result"
    }
   ],
   "source": [
    "df.duplicated().sum()"
   ]
  },
  {
   "cell_type": "markdown",
   "metadata": {},
   "source": [
    "**Вывод**"
   ]
  },
  {
   "cell_type": "markdown",
   "metadata": {},
   "source": [
    "Была проведена работа с явными и неявными дубликатами, а также ошибочными значениями в данных.\n",
    "\n",
    "С помощью метода `duplicated()` и метода `sum()` были обнаружены дубликаты датасета. Явные дубликаты были удалены с помощью метода `drop_duplicates()`, также была обновлена индексацию через `reset_index()` и удалены старые индексы. Для удаления старых индексов применили параметр `drop=True`.\n",
    "\n",
    "На неявные дубликаты проверяли столбцы `education`, `children` и `family_status`, применив метод `unique()`. Данный метод позволяет посмотреть на уникальные значения столбца. \n",
    "\n",
    "В столбце `education` заменили неявные дубликаты, написав отдельную функцию `replace_wrong_values(wrong_values, correct_value)`, которая заменяет неправильное значение на корректное.\n",
    "\n",
    "При вызове метода `unique()` для столбца `children` были обнаружены несвойственные этому столбцу значения - -1 и 20. Вероятно, данные были внесены по ошибке. Предположили, что -1 - это 1 ребенок, а 20 - это 2 ребенка, и преобразовали столбец, вызвав метод `replace()`, где в качестве первого аргумента поставили некорректное значение, а в качестве второго - то, на которое приняли решение это значение заменить.\n",
    "\n",
    "Столбец `family_status` не содержал неявные или ошибочные значения, но данные были представлены не в едином стиле. Преобразовали столбец также с помощью метода `replace()`.\n",
    "\n",
    "`dob_years` содержал нулевые значения, что не соответствует действительности. Процент таких значений меньше 0,5, поэтому было принято решение оставить эти данные без изменения, тем более, что данные не участвуют в исследовании.\n",
    "\n",
    "В конце еще раз проверили датасет на явные дубликаты и избавились еще от 17 строк, которые появились в ходе работы с неявными дубликатами и ошибочными значениями."
   ]
  },
  {
   "cell_type": "markdown",
   "metadata": {},
   "source": [
    "### Лемматизация"
   ]
  },
  {
   "cell_type": "markdown",
   "metadata": {},
   "source": [
    "Для ответа на один из поставленных в ходе исследования вопросов, нам необходимо выяснить причину, по которой клиенты брали кредит. Посмотрим, какие значения содержит столбец `purpose`."
   ]
  },
  {
   "cell_type": "code",
   "execution_count": 28,
   "metadata": {},
   "outputs": [
    {
     "data": {
      "text/plain": [
       "свадьба                                   791\n",
       "на проведение свадьбы                     768\n",
       "сыграть свадьбу                           765\n",
       "операции с недвижимостью                  675\n",
       "покупка коммерческой недвижимости         661\n",
       "операции с жильем                         652\n",
       "покупка жилья для сдачи                   651\n",
       "операции с коммерческой недвижимостью     650\n",
       "покупка жилья                             646\n",
       "жилье                                     646\n",
       "покупка жилья для семьи                   638\n",
       "строительство собственной недвижимости    635\n",
       "недвижимость                              633\n",
       "операции со своей недвижимостью           627\n",
       "строительство жилой недвижимости          624\n",
       "покупка недвижимости                      621\n",
       "покупка своего жилья                      620\n",
       "строительство недвижимости                619\n",
       "ремонт жилью                              607\n",
       "покупка жилой недвижимости                606\n",
       "на покупку своего автомобиля              505\n",
       "заняться высшим образованием              496\n",
       "автомобиль                                494\n",
       "сделка с подержанным автомобилем          486\n",
       "автомобили                                478\n",
       "на покупку подержанного автомобиля        478\n",
       "свой автомобиль                           478\n",
       "на покупку автомобиля                     471\n",
       "приобретение автомобиля                   461\n",
       "дополнительное образование                460\n",
       "сделка с автомобилем                      455\n",
       "высшее образование                        452\n",
       "образование                               447\n",
       "получение дополнительного образования     446\n",
       "получение образования                     442\n",
       "профильное образование                    436\n",
       "получение высшего образования             426\n",
       "заняться образованием                     408\n",
       "Name: purpose, dtype: int64"
      ]
     },
     "metadata": {},
     "output_type": "display_data"
    }
   ],
   "source": [
    "display(df['purpose'].value_counts())"
   ]
  },
  {
   "cell_type": "markdown",
   "metadata": {},
   "source": [
    "Все причины можно сгруппировать по общей цели кредита, используя лемматизацию. \n",
    "\n",
    "Однако, если бы причин было больше, было бы практически невозможно их категоризировать и визуально оценить. Оценим частотность встречаемости отдельных лемм в столбце `purpose`. Для этого ипортируем библиотеку `pymystem3` и  специальный контейнер `Counter` из модуля `collections`."
   ]
  },
  {
   "cell_type": "code",
   "execution_count": 29,
   "metadata": {},
   "outputs": [],
   "source": [
    "# импортируем библиотеку pymystem3\n",
    "\n",
    "from pymystem3 import Mystem\n",
    "m = Mystem()"
   ]
  },
  {
   "cell_type": "code",
   "execution_count": 30,
   "metadata": {},
   "outputs": [],
   "source": [
    "# импортируем контейнер Counter из модуля collections\n",
    "\n",
    "from collections import Counter"
   ]
  },
  {
   "cell_type": "code",
   "execution_count": 31,
   "metadata": {
    "scrolled": true
   },
   "outputs": [
    {
     "name": "stdout",
     "output_type": "stream",
     "text": [
      "Counter({'автомобиль': 972, 'свадьба': 791, 'на проведение свадьба': 768, 'сыграть свадьба': 765, 'операция с недвижимость': 675, 'покупка коммерческий недвижимость': 661, 'операция с жилье': 652, 'покупка жилье для сдача': 651, 'операция с коммерческий недвижимость': 650, 'покупка жилье': 646, 'жилье': 646, 'покупка жилье для семья': 638, 'строительство собственный недвижимость': 635, 'недвижимость': 633, 'операция со свой недвижимость': 627, 'строительство жилой недвижимость': 624, 'покупка недвижимость': 621, 'покупка свой жилье': 620, 'строительство недвижимость': 619, 'ремонт жилье': 607, 'покупка жилой недвижимость': 606, 'на покупка свой автомобиль': 505, 'заниматься высокий образование': 496, 'сделка с подержанный автомобиль': 486, 'на покупка подержать автомобиль': 478, 'свой автомобиль': 478, 'на покупка автомобиль': 471, 'приобретение автомобиль': 461, 'дополнительный образование': 460, 'сделка с автомобиль': 455, 'высокий образование': 452, 'образование': 447, 'получение дополнительный образование': 446, 'получение образование': 442, 'профильный образование': 436, 'получение высокий образование': 426, 'заниматься образование': 408})\n"
     ]
    }
   ],
   "source": [
    "lemmas_list = []\n",
    "for lemma in df['purpose']:\n",
    "    lemmas = ''.join(m.lemmatize(lemma)).strip()\n",
    "    lemmas_list.append(lemmas)\n",
    "print(Counter(lemmas_list))\n"
   ]
  },
  {
   "cell_type": "code",
   "execution_count": 32,
   "metadata": {},
   "outputs": [],
   "source": [
    "# напишем цикл, который будет с помощью лемматизации категоризовать данные\n",
    "\n",
    "def lemmatize_purpose(row):\n",
    "    purpose_category = m.lemmatize(row['purpose'])\n",
    "    if 'свадьба' in purpose_category:\n",
    "        return 'свадьба'\n",
    "    if ('жилье' in purpose_category) or ('недвижимость' in purpose_category):\n",
    "        return 'недвижимость'\n",
    "    if 'автомобиль' in purpose_category:\n",
    "        return 'автомобиль'\n",
    "    if 'образование' in purpose_category:\n",
    "        return 'образование'"
   ]
  },
  {
   "cell_type": "markdown",
   "metadata": {},
   "source": [
    "**Вывод**"
   ]
  },
  {
   "cell_type": "markdown",
   "metadata": {},
   "source": [
    "В этом шаге мы создали функцию, в которой применили лемматизацию к значениям в столбце `purpose` и сгруппировали данные по общей цели кредита. Это нам понадобится в дальнейшем для категоризации по столбцу цель кредита и ответа на один из вопросов исследования. "
   ]
  },
  {
   "cell_type": "markdown",
   "metadata": {},
   "source": [
    "### Категоризация данных"
   ]
  },
  {
   "cell_type": "code",
   "execution_count": 33,
   "metadata": {},
   "outputs": [],
   "source": [
    "# добавим к датафрейму новый столбец с отсортированными по цели взятия кредита данными\n",
    "\n",
    "df['purpose_category'] = df.apply(lemmatize_purpose, axis=1)"
   ]
  },
  {
   "cell_type": "code",
   "execution_count": 34,
   "metadata": {
    "scrolled": true
   },
   "outputs": [
    {
     "data": {
      "text/plain": [
       "недвижимость    10811\n",
       "автомобиль       4306\n",
       "образование      4013\n",
       "свадьба          2324\n",
       "Name: purpose_category, dtype: int64"
      ]
     },
     "execution_count": 34,
     "metadata": {},
     "output_type": "execute_result"
    }
   ],
   "source": [
    "# посмотрим, распределение клиентов по целям кредита\n",
    "\n",
    "df['purpose_category'].value_counts()"
   ]
  },
  {
   "cell_type": "markdown",
   "metadata": {},
   "source": [
    "Разделим столбец `children` на категории. Для этого напишем функцию, которая будет определять значение 0 как семьи без детей, 1-2 - семьи с детьми и 3 и более - многодетные семьи."
   ]
  },
  {
   "cell_type": "code",
   "execution_count": 35,
   "metadata": {},
   "outputs": [
    {
     "data": {
      "text/html": [
       "<div>\n",
       "<style scoped>\n",
       "    .dataframe tbody tr th:only-of-type {\n",
       "        vertical-align: middle;\n",
       "    }\n",
       "\n",
       "    .dataframe tbody tr th {\n",
       "        vertical-align: top;\n",
       "    }\n",
       "\n",
       "    .dataframe thead th {\n",
       "        text-align: right;\n",
       "    }\n",
       "</style>\n",
       "<table border=\"1\" class=\"dataframe\">\n",
       "  <thead>\n",
       "    <tr style=\"text-align: right;\">\n",
       "      <th></th>\n",
       "      <th>children</th>\n",
       "      <th>days_employed</th>\n",
       "      <th>dob_years</th>\n",
       "      <th>education</th>\n",
       "      <th>education_id</th>\n",
       "      <th>family_status</th>\n",
       "      <th>family_status_id</th>\n",
       "      <th>gender</th>\n",
       "      <th>income_type</th>\n",
       "      <th>debt</th>\n",
       "      <th>total_income</th>\n",
       "      <th>purpose</th>\n",
       "      <th>purpose_category</th>\n",
       "      <th>children_id</th>\n",
       "    </tr>\n",
       "  </thead>\n",
       "  <tbody>\n",
       "    <tr>\n",
       "      <td>0</td>\n",
       "      <td>1</td>\n",
       "      <td>-8437.673028</td>\n",
       "      <td>42</td>\n",
       "      <td>высшее</td>\n",
       "      <td>0</td>\n",
       "      <td>женат / замужем</td>\n",
       "      <td>0</td>\n",
       "      <td>F</td>\n",
       "      <td>сотрудник</td>\n",
       "      <td>0</td>\n",
       "      <td>253875</td>\n",
       "      <td>покупка жилья</td>\n",
       "      <td>недвижимость</td>\n",
       "      <td>есть дети</td>\n",
       "    </tr>\n",
       "    <tr>\n",
       "      <td>1</td>\n",
       "      <td>1</td>\n",
       "      <td>-4024.803754</td>\n",
       "      <td>36</td>\n",
       "      <td>среднее</td>\n",
       "      <td>1</td>\n",
       "      <td>женат / замужем</td>\n",
       "      <td>0</td>\n",
       "      <td>F</td>\n",
       "      <td>сотрудник</td>\n",
       "      <td>0</td>\n",
       "      <td>112080</td>\n",
       "      <td>приобретение автомобиля</td>\n",
       "      <td>автомобиль</td>\n",
       "      <td>есть дети</td>\n",
       "    </tr>\n",
       "    <tr>\n",
       "      <td>2</td>\n",
       "      <td>0</td>\n",
       "      <td>-5623.422610</td>\n",
       "      <td>33</td>\n",
       "      <td>среднее</td>\n",
       "      <td>1</td>\n",
       "      <td>женат / замужем</td>\n",
       "      <td>0</td>\n",
       "      <td>M</td>\n",
       "      <td>сотрудник</td>\n",
       "      <td>0</td>\n",
       "      <td>145885</td>\n",
       "      <td>покупка жилья</td>\n",
       "      <td>недвижимость</td>\n",
       "      <td>нет детей</td>\n",
       "    </tr>\n",
       "    <tr>\n",
       "      <td>3</td>\n",
       "      <td>3</td>\n",
       "      <td>-4124.747207</td>\n",
       "      <td>32</td>\n",
       "      <td>среднее</td>\n",
       "      <td>1</td>\n",
       "      <td>женат / замужем</td>\n",
       "      <td>0</td>\n",
       "      <td>M</td>\n",
       "      <td>сотрудник</td>\n",
       "      <td>0</td>\n",
       "      <td>267628</td>\n",
       "      <td>дополнительное образование</td>\n",
       "      <td>образование</td>\n",
       "      <td>многодетные</td>\n",
       "    </tr>\n",
       "    <tr>\n",
       "      <td>4</td>\n",
       "      <td>0</td>\n",
       "      <td>340266.072047</td>\n",
       "      <td>53</td>\n",
       "      <td>среднее</td>\n",
       "      <td>1</td>\n",
       "      <td>гражданский брак</td>\n",
       "      <td>1</td>\n",
       "      <td>F</td>\n",
       "      <td>пенсионер</td>\n",
       "      <td>0</td>\n",
       "      <td>158616</td>\n",
       "      <td>сыграть свадьбу</td>\n",
       "      <td>свадьба</td>\n",
       "      <td>нет детей</td>\n",
       "    </tr>\n",
       "    <tr>\n",
       "      <td>5</td>\n",
       "      <td>0</td>\n",
       "      <td>-926.185831</td>\n",
       "      <td>27</td>\n",
       "      <td>высшее</td>\n",
       "      <td>0</td>\n",
       "      <td>гражданский брак</td>\n",
       "      <td>1</td>\n",
       "      <td>M</td>\n",
       "      <td>компаньон</td>\n",
       "      <td>0</td>\n",
       "      <td>255763</td>\n",
       "      <td>покупка жилья</td>\n",
       "      <td>недвижимость</td>\n",
       "      <td>нет детей</td>\n",
       "    </tr>\n",
       "    <tr>\n",
       "      <td>6</td>\n",
       "      <td>0</td>\n",
       "      <td>-2879.202052</td>\n",
       "      <td>43</td>\n",
       "      <td>высшее</td>\n",
       "      <td>0</td>\n",
       "      <td>женат / замужем</td>\n",
       "      <td>0</td>\n",
       "      <td>F</td>\n",
       "      <td>компаньон</td>\n",
       "      <td>0</td>\n",
       "      <td>240525</td>\n",
       "      <td>операции с жильем</td>\n",
       "      <td>недвижимость</td>\n",
       "      <td>нет детей</td>\n",
       "    </tr>\n",
       "    <tr>\n",
       "      <td>7</td>\n",
       "      <td>0</td>\n",
       "      <td>-152.779569</td>\n",
       "      <td>50</td>\n",
       "      <td>среднее</td>\n",
       "      <td>1</td>\n",
       "      <td>женат / замужем</td>\n",
       "      <td>0</td>\n",
       "      <td>M</td>\n",
       "      <td>сотрудник</td>\n",
       "      <td>0</td>\n",
       "      <td>135823</td>\n",
       "      <td>образование</td>\n",
       "      <td>образование</td>\n",
       "      <td>нет детей</td>\n",
       "    </tr>\n",
       "    <tr>\n",
       "      <td>8</td>\n",
       "      <td>2</td>\n",
       "      <td>-6929.865299</td>\n",
       "      <td>35</td>\n",
       "      <td>высшее</td>\n",
       "      <td>0</td>\n",
       "      <td>гражданский брак</td>\n",
       "      <td>1</td>\n",
       "      <td>F</td>\n",
       "      <td>сотрудник</td>\n",
       "      <td>0</td>\n",
       "      <td>95856</td>\n",
       "      <td>на проведение свадьбы</td>\n",
       "      <td>свадьба</td>\n",
       "      <td>есть дети</td>\n",
       "    </tr>\n",
       "    <tr>\n",
       "      <td>9</td>\n",
       "      <td>0</td>\n",
       "      <td>-2188.756445</td>\n",
       "      <td>41</td>\n",
       "      <td>среднее</td>\n",
       "      <td>1</td>\n",
       "      <td>женат / замужем</td>\n",
       "      <td>0</td>\n",
       "      <td>M</td>\n",
       "      <td>сотрудник</td>\n",
       "      <td>0</td>\n",
       "      <td>144425</td>\n",
       "      <td>покупка жилья для семьи</td>\n",
       "      <td>недвижимость</td>\n",
       "      <td>нет детей</td>\n",
       "    </tr>\n",
       "  </tbody>\n",
       "</table>\n",
       "</div>"
      ],
      "text/plain": [
       "   children  days_employed  dob_years education  education_id  \\\n",
       "0         1   -8437.673028         42    высшее             0   \n",
       "1         1   -4024.803754         36   среднее             1   \n",
       "2         0   -5623.422610         33   среднее             1   \n",
       "3         3   -4124.747207         32   среднее             1   \n",
       "4         0  340266.072047         53   среднее             1   \n",
       "5         0    -926.185831         27    высшее             0   \n",
       "6         0   -2879.202052         43    высшее             0   \n",
       "7         0    -152.779569         50   среднее             1   \n",
       "8         2   -6929.865299         35    высшее             0   \n",
       "9         0   -2188.756445         41   среднее             1   \n",
       "\n",
       "      family_status  family_status_id gender income_type  debt  total_income  \\\n",
       "0   женат / замужем                 0      F   сотрудник     0        253875   \n",
       "1   женат / замужем                 0      F   сотрудник     0        112080   \n",
       "2   женат / замужем                 0      M   сотрудник     0        145885   \n",
       "3   женат / замужем                 0      M   сотрудник     0        267628   \n",
       "4  гражданский брак                 1      F   пенсионер     0        158616   \n",
       "5  гражданский брак                 1      M   компаньон     0        255763   \n",
       "6   женат / замужем                 0      F   компаньон     0        240525   \n",
       "7   женат / замужем                 0      M   сотрудник     0        135823   \n",
       "8  гражданский брак                 1      F   сотрудник     0         95856   \n",
       "9   женат / замужем                 0      M   сотрудник     0        144425   \n",
       "\n",
       "                      purpose purpose_category  children_id  \n",
       "0               покупка жилья     недвижимость    есть дети  \n",
       "1     приобретение автомобиля       автомобиль    есть дети  \n",
       "2               покупка жилья     недвижимость    нет детей  \n",
       "3  дополнительное образование      образование  многодетные  \n",
       "4             сыграть свадьбу          свадьба    нет детей  \n",
       "5               покупка жилья     недвижимость    нет детей  \n",
       "6           операции с жильем     недвижимость    нет детей  \n",
       "7                 образование      образование    нет детей  \n",
       "8       на проведение свадьбы          свадьба    есть дети  \n",
       "9     покупка жилья для семьи     недвижимость    нет детей  "
      ]
     },
     "execution_count": 35,
     "metadata": {},
     "output_type": "execute_result"
    }
   ],
   "source": [
    "def children_category(child):\n",
    "    if child == 0:\n",
    "        return 'нет детей'\n",
    "    if 1 <= child < 3:\n",
    "        return 'есть дети'\n",
    "    return 'многодетные'\n",
    "\n",
    "# добавим к датафрейму столбец с категориями семей в разрезе количества детей\n",
    "\n",
    "df['children_id'] = df['children'].apply(children_category)\n",
    "\n",
    "# посмотрим на первые 10 строк датафрейма с новым столбцом\n",
    "\n",
    "df.head(10)"
   ]
  },
  {
   "cell_type": "markdown",
   "metadata": {},
   "source": [
    "Разделим столбец `total_income` на 5 категорий заработной платы. Для начала посмотрим на минимум, максимум и медианное значение уровня ежемесячного дохода по всему датафрейму.  "
   ]
  },
  {
   "cell_type": "code",
   "execution_count": 36,
   "metadata": {},
   "outputs": [
    {
     "data": {
      "text/plain": [
       "20667"
      ]
     },
     "execution_count": 36,
     "metadata": {},
     "output_type": "execute_result"
    }
   ],
   "source": [
    "min_income = df['total_income'].min()\n",
    "min_income"
   ]
  },
  {
   "cell_type": "code",
   "execution_count": 37,
   "metadata": {},
   "outputs": [
    {
     "data": {
      "text/plain": [
       "2265604"
      ]
     },
     "execution_count": 37,
     "metadata": {},
     "output_type": "execute_result"
    }
   ],
   "source": [
    "max_income = df['total_income'].max()\n",
    "max_income"
   ]
  },
  {
   "cell_type": "code",
   "execution_count": 38,
   "metadata": {
    "scrolled": true
   },
   "outputs": [
    {
     "data": {
      "text/plain": [
       "142594.0"
      ]
     },
     "execution_count": 38,
     "metadata": {},
     "output_type": "execute_result"
    }
   ],
   "source": [
    "median_income = df['total_income'].median()\n",
    "median_income"
   ]
  },
  {
   "cell_type": "code",
   "execution_count": 39,
   "metadata": {},
   "outputs": [
    {
     "data": {
      "text/plain": [
       "165320.0"
      ]
     },
     "execution_count": 39,
     "metadata": {},
     "output_type": "execute_result"
    }
   ],
   "source": [
    "mean_income = df['total_income'].mean()\n",
    "mean_income.round()"
   ]
  },
  {
   "cell_type": "markdown",
   "metadata": {},
   "source": [
    "Минимальное значение зработной платы - 20 667. Средняя зарплата по России на 2020-2021 год составляет около 54 000 рублей. Условимся, что доход ниже этого уровня - низкий уровень дохода (в эту категорию попадут значения от минимума до 54 000 рублей). Средний уровень дохода будем считать от 54 000 рублей до 85 000 рублей. В категорию выше среднего попадут значения от 85 000 рублей до 140 000 рублей. Высокой будет считаться зарплата, которая присуща руководящему звену (от 140 до 350 тысяч рублей). Все, что выше распределим в категорию сверхвысокий уровень дохода. \n",
    "\n",
    "Напишем функцию, которая разделит доходы клиентов банка на категории."
   ]
  },
  {
   "cell_type": "code",
   "execution_count": 40,
   "metadata": {},
   "outputs": [],
   "source": [
    "def income_category(income):\n",
    "    if income < 54000:\n",
    "        return 'ниже среднего'\n",
    "    if 54000 <= income < 85000 :\n",
    "        return 'средний'\n",
    "    if 85000 <= income < 140000:\n",
    "        return 'выше среднего'\n",
    "    if 140000 <= income < 350000:\n",
    "        return 'высокий'\n",
    "    return 'сверхвысокий'"
   ]
  },
  {
   "cell_type": "code",
   "execution_count": 41,
   "metadata": {},
   "outputs": [],
   "source": [
    "# создадим новый столбец, в который попадут значения total_income с применением функции\n",
    "\n",
    "df['income_id'] = df['total_income'].apply(income_category)"
   ]
  },
  {
   "cell_type": "code",
   "execution_count": 42,
   "metadata": {
    "scrolled": true
   },
   "outputs": [
    {
     "data": {
      "text/html": [
       "<div>\n",
       "<style scoped>\n",
       "    .dataframe tbody tr th:only-of-type {\n",
       "        vertical-align: middle;\n",
       "    }\n",
       "\n",
       "    .dataframe tbody tr th {\n",
       "        vertical-align: top;\n",
       "    }\n",
       "\n",
       "    .dataframe thead th {\n",
       "        text-align: right;\n",
       "    }\n",
       "</style>\n",
       "<table border=\"1\" class=\"dataframe\">\n",
       "  <thead>\n",
       "    <tr style=\"text-align: right;\">\n",
       "      <th></th>\n",
       "      <th>children</th>\n",
       "      <th>days_employed</th>\n",
       "      <th>dob_years</th>\n",
       "      <th>education</th>\n",
       "      <th>education_id</th>\n",
       "      <th>family_status</th>\n",
       "      <th>family_status_id</th>\n",
       "      <th>gender</th>\n",
       "      <th>income_type</th>\n",
       "      <th>debt</th>\n",
       "      <th>total_income</th>\n",
       "      <th>purpose</th>\n",
       "      <th>purpose_category</th>\n",
       "      <th>children_id</th>\n",
       "      <th>income_id</th>\n",
       "    </tr>\n",
       "  </thead>\n",
       "  <tbody>\n",
       "    <tr>\n",
       "      <td>0</td>\n",
       "      <td>1</td>\n",
       "      <td>-8437.673028</td>\n",
       "      <td>42</td>\n",
       "      <td>высшее</td>\n",
       "      <td>0</td>\n",
       "      <td>женат / замужем</td>\n",
       "      <td>0</td>\n",
       "      <td>F</td>\n",
       "      <td>сотрудник</td>\n",
       "      <td>0</td>\n",
       "      <td>253875</td>\n",
       "      <td>покупка жилья</td>\n",
       "      <td>недвижимость</td>\n",
       "      <td>есть дети</td>\n",
       "      <td>высокий</td>\n",
       "    </tr>\n",
       "    <tr>\n",
       "      <td>1</td>\n",
       "      <td>1</td>\n",
       "      <td>-4024.803754</td>\n",
       "      <td>36</td>\n",
       "      <td>среднее</td>\n",
       "      <td>1</td>\n",
       "      <td>женат / замужем</td>\n",
       "      <td>0</td>\n",
       "      <td>F</td>\n",
       "      <td>сотрудник</td>\n",
       "      <td>0</td>\n",
       "      <td>112080</td>\n",
       "      <td>приобретение автомобиля</td>\n",
       "      <td>автомобиль</td>\n",
       "      <td>есть дети</td>\n",
       "      <td>выше среднего</td>\n",
       "    </tr>\n",
       "    <tr>\n",
       "      <td>2</td>\n",
       "      <td>0</td>\n",
       "      <td>-5623.422610</td>\n",
       "      <td>33</td>\n",
       "      <td>среднее</td>\n",
       "      <td>1</td>\n",
       "      <td>женат / замужем</td>\n",
       "      <td>0</td>\n",
       "      <td>M</td>\n",
       "      <td>сотрудник</td>\n",
       "      <td>0</td>\n",
       "      <td>145885</td>\n",
       "      <td>покупка жилья</td>\n",
       "      <td>недвижимость</td>\n",
       "      <td>нет детей</td>\n",
       "      <td>высокий</td>\n",
       "    </tr>\n",
       "    <tr>\n",
       "      <td>3</td>\n",
       "      <td>3</td>\n",
       "      <td>-4124.747207</td>\n",
       "      <td>32</td>\n",
       "      <td>среднее</td>\n",
       "      <td>1</td>\n",
       "      <td>женат / замужем</td>\n",
       "      <td>0</td>\n",
       "      <td>M</td>\n",
       "      <td>сотрудник</td>\n",
       "      <td>0</td>\n",
       "      <td>267628</td>\n",
       "      <td>дополнительное образование</td>\n",
       "      <td>образование</td>\n",
       "      <td>многодетные</td>\n",
       "      <td>высокий</td>\n",
       "    </tr>\n",
       "    <tr>\n",
       "      <td>4</td>\n",
       "      <td>0</td>\n",
       "      <td>340266.072047</td>\n",
       "      <td>53</td>\n",
       "      <td>среднее</td>\n",
       "      <td>1</td>\n",
       "      <td>гражданский брак</td>\n",
       "      <td>1</td>\n",
       "      <td>F</td>\n",
       "      <td>пенсионер</td>\n",
       "      <td>0</td>\n",
       "      <td>158616</td>\n",
       "      <td>сыграть свадьбу</td>\n",
       "      <td>свадьба</td>\n",
       "      <td>нет детей</td>\n",
       "      <td>высокий</td>\n",
       "    </tr>\n",
       "  </tbody>\n",
       "</table>\n",
       "</div>"
      ],
      "text/plain": [
       "   children  days_employed  dob_years education  education_id  \\\n",
       "0         1   -8437.673028         42    высшее             0   \n",
       "1         1   -4024.803754         36   среднее             1   \n",
       "2         0   -5623.422610         33   среднее             1   \n",
       "3         3   -4124.747207         32   среднее             1   \n",
       "4         0  340266.072047         53   среднее             1   \n",
       "\n",
       "      family_status  family_status_id gender income_type  debt  total_income  \\\n",
       "0   женат / замужем                 0      F   сотрудник     0        253875   \n",
       "1   женат / замужем                 0      F   сотрудник     0        112080   \n",
       "2   женат / замужем                 0      M   сотрудник     0        145885   \n",
       "3   женат / замужем                 0      M   сотрудник     0        267628   \n",
       "4  гражданский брак                 1      F   пенсионер     0        158616   \n",
       "\n",
       "                      purpose purpose_category  children_id      income_id  \n",
       "0               покупка жилья     недвижимость    есть дети        высокий  \n",
       "1     приобретение автомобиля       автомобиль    есть дети  выше среднего  \n",
       "2               покупка жилья     недвижимость    нет детей        высокий  \n",
       "3  дополнительное образование      образование  многодетные        высокий  \n",
       "4             сыграть свадьбу          свадьба    нет детей        высокий  "
      ]
     },
     "execution_count": 42,
     "metadata": {},
     "output_type": "execute_result"
    }
   ],
   "source": [
    "# выведем первые 10 строк датафрейма\n",
    "\n",
    "df.head()"
   ]
  },
  {
   "cell_type": "markdown",
   "metadata": {},
   "source": [
    "**Вывод**"
   ]
  },
  {
   "cell_type": "markdown",
   "metadata": {},
   "source": [
    "Мы разделили на категории 3 столбца `purpose`, `children` и `total_income`. Это необходимо для дальнейшего упрощения анализа данных при ответе на поставленные вопросы.\n",
    "\n",
    "В столбце `purpose` сначала применили лемматизацию, а затем добавили новый столбец в датасет с категориями целей кредита (всего их получилось 4: 1) недвижимость, 2) автомобиль, 3) образование и 4) свадьба.\n",
    "\n",
    "Для столбца `children` написали функцию, которая принимает в качестве аргумента значение столбца, а на выходе определяет название категории. Получилось 3 категории: 1) нет детей, 2) есть дети, 3) многодетные.\n",
    "\n",
    "`total_income` отражает уровень дохода. Этот столбец был разделен на 5 групп: 1) ниже среднего, 2) средний, 3) выше среднего, 4) высокий, 5) сверхвысокий."
   ]
  },
  {
   "cell_type": "markdown",
   "metadata": {},
   "source": [
    "## Шаг 3. Ответы на вопросы исследвания"
   ]
  },
  {
   "cell_type": "markdown",
   "metadata": {},
   "source": [
    "- **Есть ли зависимость между наличием детей и возвратом кредита в срок?**"
   ]
  },
  {
   "cell_type": "code",
   "execution_count": 43,
   "metadata": {},
   "outputs": [],
   "source": [
    "# создадим сводную таблицу\n",
    "\n",
    "pivot_table_children = df.pivot_table(index='children_id', columns='debt', \n",
    "                                      values='total_income', aggfunc='count')"
   ]
  },
  {
   "cell_type": "code",
   "execution_count": 44,
   "metadata": {},
   "outputs": [],
   "source": [
    "# добавим столбец, который считает процентное соотношение клиентов, непогасивших задолженность \n",
    "# к общему числу клиентов\n",
    "\n",
    "pivot_table_children['percent'] = (pivot_table_children[1] / \n",
    "                                   (pivot_table_children[1] + pivot_table_children[0]) * 100)\n",
    "\n",
    "# округлим значения до одного символа после запятой\n",
    "\n",
    "pivot_table_children['percent'] = pivot_table_children['percent'].round(1)"
   ]
  },
  {
   "cell_type": "code",
   "execution_count": 45,
   "metadata": {},
   "outputs": [
    {
     "data": {
      "text/html": [
       "<div>\n",
       "<style scoped>\n",
       "    .dataframe tbody tr th:only-of-type {\n",
       "        vertical-align: middle;\n",
       "    }\n",
       "\n",
       "    .dataframe tbody tr th {\n",
       "        vertical-align: top;\n",
       "    }\n",
       "\n",
       "    .dataframe thead th {\n",
       "        text-align: right;\n",
       "    }\n",
       "</style>\n",
       "<table border=\"1\" class=\"dataframe\">\n",
       "  <thead>\n",
       "    <tr style=\"text-align: right;\">\n",
       "      <th>debt</th>\n",
       "      <th>0</th>\n",
       "      <th>1</th>\n",
       "      <th>percent</th>\n",
       "    </tr>\n",
       "    <tr>\n",
       "      <th>children_id</th>\n",
       "      <th></th>\n",
       "      <th></th>\n",
       "      <th></th>\n",
       "    </tr>\n",
       "  </thead>\n",
       "  <tbody>\n",
       "    <tr>\n",
       "      <td>есть дети</td>\n",
       "      <td>6336</td>\n",
       "      <td>647</td>\n",
       "      <td>9.3</td>\n",
       "    </tr>\n",
       "    <tr>\n",
       "      <td>многодетные</td>\n",
       "      <td>349</td>\n",
       "      <td>31</td>\n",
       "      <td>8.2</td>\n",
       "    </tr>\n",
       "    <tr>\n",
       "      <td>нет детей</td>\n",
       "      <td>13028</td>\n",
       "      <td>1063</td>\n",
       "      <td>7.5</td>\n",
       "    </tr>\n",
       "  </tbody>\n",
       "</table>\n",
       "</div>"
      ],
      "text/plain": [
       "debt             0     1  percent\n",
       "children_id                      \n",
       "есть дети     6336   647      9.3\n",
       "многодетные    349    31      8.2\n",
       "нет детей    13028  1063      7.5"
      ]
     },
     "execution_count": 45,
     "metadata": {},
     "output_type": "execute_result"
    }
   ],
   "source": [
    "# выведем таблицу, отсортировав значения по убыванию по столбцу percent\n",
    "\n",
    "pivot_table_children.sort_values('percent', ascending=False)"
   ]
  },
  {
   "cell_type": "markdown",
   "metadata": {},
   "source": [
    "**Вывод**"
   ]
  },
  {
   "cell_type": "markdown",
   "metadata": {},
   "source": [
    "Наличие детей влияет на возврат кредита в срок. 9,3% клиентов с детьми не погасиили задолженность в срок, тогда как из общего числа клиентов без детей не погасили задолженность в срок только 7,5%. Возможно, в семьях с детьми существует большая вероятность незапланированных расходов, что приводит к усложненному процессу планирования бюджета и, в следствие, просроченных выплат по погашению кредита."
   ]
  },
  {
   "cell_type": "markdown",
   "metadata": {},
   "source": [
    "- **Есть ли зависимость между семейным положением и возвратом кредита в срок?**"
   ]
  },
  {
   "cell_type": "code",
   "execution_count": 46,
   "metadata": {},
   "outputs": [
    {
     "data": {
      "text/html": [
       "<div>\n",
       "<style scoped>\n",
       "    .dataframe tbody tr th:only-of-type {\n",
       "        vertical-align: middle;\n",
       "    }\n",
       "\n",
       "    .dataframe tbody tr th {\n",
       "        vertical-align: top;\n",
       "    }\n",
       "\n",
       "    .dataframe thead th {\n",
       "        text-align: right;\n",
       "    }\n",
       "</style>\n",
       "<table border=\"1\" class=\"dataframe\">\n",
       "  <thead>\n",
       "    <tr style=\"text-align: right;\">\n",
       "      <th>debt</th>\n",
       "      <th>0</th>\n",
       "      <th>1</th>\n",
       "      <th>percent</th>\n",
       "    </tr>\n",
       "    <tr>\n",
       "      <th>family_status</th>\n",
       "      <th></th>\n",
       "      <th></th>\n",
       "      <th></th>\n",
       "    </tr>\n",
       "  </thead>\n",
       "  <tbody>\n",
       "    <tr>\n",
       "      <td>не женат / не замужем</td>\n",
       "      <td>2536</td>\n",
       "      <td>274</td>\n",
       "      <td>9.8</td>\n",
       "    </tr>\n",
       "    <tr>\n",
       "      <td>гражданский брак</td>\n",
       "      <td>3763</td>\n",
       "      <td>388</td>\n",
       "      <td>9.3</td>\n",
       "    </tr>\n",
       "    <tr>\n",
       "      <td>женат / замужем</td>\n",
       "      <td>11408</td>\n",
       "      <td>931</td>\n",
       "      <td>7.5</td>\n",
       "    </tr>\n",
       "    <tr>\n",
       "      <td>в разводе</td>\n",
       "      <td>1110</td>\n",
       "      <td>85</td>\n",
       "      <td>7.1</td>\n",
       "    </tr>\n",
       "    <tr>\n",
       "      <td>вдовец / вдова</td>\n",
       "      <td>896</td>\n",
       "      <td>63</td>\n",
       "      <td>6.6</td>\n",
       "    </tr>\n",
       "  </tbody>\n",
       "</table>\n",
       "</div>"
      ],
      "text/plain": [
       "debt                       0    1  percent\n",
       "family_status                             \n",
       "не женат / не замужем   2536  274      9.8\n",
       "гражданский брак        3763  388      9.3\n",
       "женат / замужем        11408  931      7.5\n",
       "в разводе               1110   85      7.1\n",
       "вдовец / вдова           896   63      6.6"
      ]
     },
     "execution_count": 46,
     "metadata": {},
     "output_type": "execute_result"
    }
   ],
   "source": [
    "pivot_table_family_status = df.pivot_table(index='family_status', columns='debt', \n",
    "                                           values='total_income', aggfunc='count')\n",
    "pivot_table_family_status['percent'] = (pivot_table_family_status[1] /\n",
    "                                        (pivot_table_family_status[1] + pivot_table_family_status[0]) *100)\n",
    "pivot_table_family_status['percent'] = pivot_table_family_status['percent'].round(1)\n",
    "pivot_table_family_status.sort_values('percent', ascending=False)"
   ]
  },
  {
   "cell_type": "markdown",
   "metadata": {},
   "source": [
    "**Вывод**"
   ]
  },
  {
   "cell_type": "markdown",
   "metadata": {},
   "source": [
    "Клиенты, не состоящие в браке, более склонны к просроченным задолженностям (9,8%), на ряду с ними - клиенты, состоящие в гражданском браке (9,3%). Это может быть вызвано тем, что такие клиенты зависят только от своих доходов и не могут положиться на помощь супруга/супруги. Такие задолженности людям сложнее погашать в одиночку. \n",
    "\n",
    "У клиентов, состоящих в браке, показатель возврата кредита выше на ~2%. Это можно обосновать наличием общего бюджета, а также финансового вовлечение с двух сторон, что приводит к вовремя погашенному долгу.\n",
    "\n",
    "В категории \"в разводе\" и \"вдовец/вдова\" маленькая выборка клиентов для формулирования обоснованных выводов."
   ]
  },
  {
   "cell_type": "markdown",
   "metadata": {},
   "source": [
    "- **Есть ли зависимость между уровнем дохода и возвратом кредита в срок?**"
   ]
  },
  {
   "cell_type": "code",
   "execution_count": 47,
   "metadata": {},
   "outputs": [
    {
     "data": {
      "text/html": [
       "<div>\n",
       "<style scoped>\n",
       "    .dataframe tbody tr th:only-of-type {\n",
       "        vertical-align: middle;\n",
       "    }\n",
       "\n",
       "    .dataframe tbody tr th {\n",
       "        vertical-align: top;\n",
       "    }\n",
       "\n",
       "    .dataframe thead th {\n",
       "        text-align: right;\n",
       "    }\n",
       "</style>\n",
       "<table border=\"1\" class=\"dataframe\">\n",
       "  <thead>\n",
       "    <tr style=\"text-align: right;\">\n",
       "      <th>debt</th>\n",
       "      <th>0</th>\n",
       "      <th>1</th>\n",
       "      <th>percent</th>\n",
       "    </tr>\n",
       "    <tr>\n",
       "      <th>income_id</th>\n",
       "      <th></th>\n",
       "      <th></th>\n",
       "      <th></th>\n",
       "    </tr>\n",
       "  </thead>\n",
       "  <tbody>\n",
       "    <tr>\n",
       "      <td>выше среднего</td>\n",
       "      <td>6128</td>\n",
       "      <td>570</td>\n",
       "      <td>8.5</td>\n",
       "    </tr>\n",
       "    <tr>\n",
       "      <td>высокий</td>\n",
       "      <td>10199</td>\n",
       "      <td>905</td>\n",
       "      <td>8.2</td>\n",
       "    </tr>\n",
       "    <tr>\n",
       "      <td>средний</td>\n",
       "      <td>2090</td>\n",
       "      <td>177</td>\n",
       "      <td>7.8</td>\n",
       "    </tr>\n",
       "    <tr>\n",
       "      <td>ниже среднего</td>\n",
       "      <td>492</td>\n",
       "      <td>34</td>\n",
       "      <td>6.5</td>\n",
       "    </tr>\n",
       "    <tr>\n",
       "      <td>сверхвысокий</td>\n",
       "      <td>804</td>\n",
       "      <td>55</td>\n",
       "      <td>6.4</td>\n",
       "    </tr>\n",
       "  </tbody>\n",
       "</table>\n",
       "</div>"
      ],
      "text/plain": [
       "debt               0    1  percent\n",
       "income_id                         \n",
       "выше среднего   6128  570      8.5\n",
       "высокий        10199  905      8.2\n",
       "средний         2090  177      7.8\n",
       "ниже среднего    492   34      6.5\n",
       "сверхвысокий     804   55      6.4"
      ]
     },
     "execution_count": 47,
     "metadata": {},
     "output_type": "execute_result"
    }
   ],
   "source": [
    "pivot_table_income = df.pivot_table(index='income_id', columns='debt', \n",
    "                                    values='total_income', aggfunc='count')\n",
    "pivot_table_income['percent'] = (pivot_table_income[1] / \n",
    "                                 (pivot_table_income[1] + pivot_table_income[0]) *100)\n",
    "pivot_table_income['percent'] = pivot_table_income['percent'].round(1)\n",
    "pivot_table_income.sort_values('percent', ascending=False)"
   ]
  },
  {
   "cell_type": "markdown",
   "metadata": {},
   "source": [
    "**Вывод**"
   ]
  },
  {
   "cell_type": "markdown",
   "metadata": {},
   "source": [
    "Процент клиентов, погасивших в срок задолженность, не зависит напрямую от уровня их доходов. Логично было бы предположить, что те, у кого доходы выше, своевременнее возвращают кредит в срок. Данные говорят об обратном. На удивление клиенты с высоким доходом и доходом выше среднего чаще остальных групп имеют проблемы со своевременным погашением кредита в срок. Клиенты со средним доходом имеют более хорошую возвратную историю. Можно это связать с тем, что такие клиенты хорошо умеют жить с урезанным бюджетом, умеют правильно планировать расходы и чаще откладывают деньги на особый случай.\n",
    "\n",
    "Клиентов со сверхвысоким доходом и доходом ниже среднего по отношению к другим группам достаточно маленькое количество. На основании этих данных нельзя сделать точные выводы."
   ]
  },
  {
   "cell_type": "markdown",
   "metadata": {},
   "source": [
    "- **Как разные цели кредита влияют на его возврат в срок?**"
   ]
  },
  {
   "cell_type": "code",
   "execution_count": 48,
   "metadata": {},
   "outputs": [
    {
     "data": {
      "text/html": [
       "<div>\n",
       "<style scoped>\n",
       "    .dataframe tbody tr th:only-of-type {\n",
       "        vertical-align: middle;\n",
       "    }\n",
       "\n",
       "    .dataframe tbody tr th {\n",
       "        vertical-align: top;\n",
       "    }\n",
       "\n",
       "    .dataframe thead th {\n",
       "        text-align: right;\n",
       "    }\n",
       "</style>\n",
       "<table border=\"1\" class=\"dataframe\">\n",
       "  <thead>\n",
       "    <tr style=\"text-align: right;\">\n",
       "      <th>debt</th>\n",
       "      <th>0</th>\n",
       "      <th>1</th>\n",
       "      <th>percent</th>\n",
       "    </tr>\n",
       "    <tr>\n",
       "      <th>purpose_category</th>\n",
       "      <th></th>\n",
       "      <th></th>\n",
       "      <th></th>\n",
       "    </tr>\n",
       "  </thead>\n",
       "  <tbody>\n",
       "    <tr>\n",
       "      <td>автомобиль</td>\n",
       "      <td>3903</td>\n",
       "      <td>403</td>\n",
       "      <td>9.4</td>\n",
       "    </tr>\n",
       "    <tr>\n",
       "      <td>образование</td>\n",
       "      <td>3643</td>\n",
       "      <td>370</td>\n",
       "      <td>9.2</td>\n",
       "    </tr>\n",
       "    <tr>\n",
       "      <td>свадьба</td>\n",
       "      <td>2138</td>\n",
       "      <td>186</td>\n",
       "      <td>8.0</td>\n",
       "    </tr>\n",
       "    <tr>\n",
       "      <td>недвижимость</td>\n",
       "      <td>10029</td>\n",
       "      <td>782</td>\n",
       "      <td>7.2</td>\n",
       "    </tr>\n",
       "  </tbody>\n",
       "</table>\n",
       "</div>"
      ],
      "text/plain": [
       "debt                  0    1  percent\n",
       "purpose_category                     \n",
       "автомобиль         3903  403      9.4\n",
       "образование        3643  370      9.2\n",
       "свадьба            2138  186      8.0\n",
       "недвижимость      10029  782      7.2"
      ]
     },
     "execution_count": 48,
     "metadata": {},
     "output_type": "execute_result"
    }
   ],
   "source": [
    "pivot_table_purpose = df.pivot_table(index='purpose_category', columns='debt', \n",
    "                                     values='total_income', aggfunc='count')\n",
    "pivot_table_purpose['percent'] = (pivot_table_purpose[1] / \n",
    "                                  (pivot_table_purpose[1] + pivot_table_purpose[0]) *100)\n",
    "pivot_table_purpose['percent'] = pivot_table_purpose['percent'].round(1)\n",
    "pivot_table_purpose.sort_values('percent', ascending=False)"
   ]
  },
  {
   "cell_type": "markdown",
   "metadata": {},
   "source": [
    "**Вывод**"
   ]
  },
  {
   "cell_type": "markdown",
   "metadata": {},
   "source": [
    "Кредит на недвижимость и связанные с ней действия является самой распространенной целью среди клиентов банка. Клиенты, относящиеся к данной категории, вероятно осознаннее относятся к планированию своего бюджета, в следствие чего чаще закрывают задолженность в срок. Это может быть связано с тем, что такая цель достаточно масштабна и требует больших вложений, что приводит к более тщательному и взвешенному отношению со стороны клиентов.\n",
    "\n",
    "Образование часто является вынужденной мерой взятия кредита, например, на образование детей в высшем учебном заведении. Доход и срочность получения услуги не всегда соизмеримы. Это может быть причиной бóльшего процента клиентов, не погасивших задолженность в срок (9,2%).\n",
    "\n",
    "Клиенты, получившие кредит с целю покупки автомобиля, чаще остальных не выплачивают своевременно долг (9,4%)."
   ]
  },
  {
   "cell_type": "markdown",
   "metadata": {},
   "source": [
    "## Шаг 4. Общий вывод"
   ]
  },
  {
   "cell_type": "markdown",
   "metadata": {},
   "source": [
    "В проекте было поставлено 4 вопроса, при ответе на которые выяснилось:\n",
    "\n",
    "1. Зависимость между наличием детей и возвратом кредита в срок существует. Клиенты с детьми чаще просрачивают выплаты по кредиту в срок, чем клиенты без детей.\n",
    "* **9,3%** клиентов с 1-2 детьми, не вернувших кредит вовремя;\n",
    "* **8,2%** многодетных клиентов, не вернувших кредит вовремя;\n",
    "* **7,5%** клиентов без детей, не вернувших кредит вовремя.\n",
    "\n",
    "2. Зависимость между семейным положением и возвратом кредита в срок есть. Клиенты, не состоящие в браке или состоящие в гражданском браке, чаще не погашают долг в срок по сравнению с клиентами, состоящими в браке.\n",
    "* **9,8%** клиентов, не состоящих в браке, не вернули кредит вовремя;\n",
    "* **9,3%** клиентов, состоящих в гражданском браке, не вернули кредит вовремя;\n",
    "* **7,5%** клиентов, состоящих в браке, не вернули кредит вовремя.\n",
    "\n",
    "3. Зависимость между уровнем дохода и возвратом кредита в срок есть, но она не такая значительная.\n",
    "* **8,5%** клиентов с уровнем дохода выше срденего, не погасивших кредит в срок;\n",
    "* **8,2%** клиентов с высоким уровнем дохода, не погасивших кредит в срок;\n",
    "* **7,8%** клиентов со средним уровнем дохода, не погасивших кредит в срок.\n",
    "\n",
    "4. Цели кредита влияют на возврат кредита в срок. Клиенты, оформившие кредит на покупку или другие операции с недвижимостью, лучше остальных категорий выплачивают долг **(7,2% должников)**. Такие цели как покупка автомобиля или оплата образования чаще приводят к задолженностям по выплатам со стороны клиентов **(9,4% и 9,2% должников соответственно)**. Кредит на свадьбу берут меньшее количество клиентов, а людей, не погасивших в срок задолженность, - **8%**.\n",
    "\n",
    "**Можем сделать вывод, что чаще других погашают задолженность в срок клиенты без детей, состоящие в браке, со средним уровнем дохода, с целью покупки недвижимости или иных операций с ней.**"
   ]
  }
 ],
 "metadata": {
  "ExecuteTimeLog": [
   {
    "duration": 806,
    "start_time": "2021-12-13T04:19:10.014Z"
   },
   {
    "duration": 27,
    "start_time": "2021-12-13T04:24:33.549Z"
   },
   {
    "duration": 13,
    "start_time": "2021-12-13T04:30:47.082Z"
   },
   {
    "duration": 68,
    "start_time": "2021-12-13T04:30:49.260Z"
   },
   {
    "duration": 14,
    "start_time": "2021-12-13T04:30:51.190Z"
   },
   {
    "duration": 12,
    "start_time": "2021-12-13T05:05:51.143Z"
   },
   {
    "duration": 433,
    "start_time": "2021-12-13T05:24:17.077Z"
   },
   {
    "duration": 31,
    "start_time": "2021-12-13T05:24:29.267Z"
   },
   {
    "duration": 32,
    "start_time": "2021-12-13T05:25:07.650Z"
   },
   {
    "duration": 571,
    "start_time": "2021-12-13T05:30:17.218Z"
   },
   {
    "duration": 33,
    "start_time": "2021-12-13T05:30:40.110Z"
   },
   {
    "duration": 23,
    "start_time": "2021-12-13T05:31:58.425Z"
   },
   {
    "duration": 20,
    "start_time": "2021-12-13T05:32:35.261Z"
   },
   {
    "duration": 70,
    "start_time": "2021-12-13T06:01:28.451Z"
   },
   {
    "duration": 20,
    "start_time": "2021-12-13T06:11:10.590Z"
   },
   {
    "duration": 20,
    "start_time": "2021-12-13T06:11:37.883Z"
   },
   {
    "duration": 776,
    "start_time": "2021-12-14T04:40:32.224Z"
   },
   {
    "duration": 14,
    "start_time": "2021-12-14T04:40:37.424Z"
   },
   {
    "duration": 1066,
    "start_time": "2021-12-18T12:11:17.093Z"
   },
   {
    "duration": 971,
    "start_time": "2021-12-18T12:11:25.185Z"
   },
   {
    "duration": 16,
    "start_time": "2021-12-18T12:11:29.136Z"
   },
   {
    "duration": 15,
    "start_time": "2021-12-18T12:11:31.958Z"
   },
   {
    "duration": 7,
    "start_time": "2021-12-18T12:11:34.000Z"
   },
   {
    "duration": 14,
    "start_time": "2021-12-18T12:23:04.745Z"
   },
   {
    "duration": 12,
    "start_time": "2021-12-18T12:29:29.463Z"
   },
   {
    "duration": 80,
    "start_time": "2021-12-18T13:13:33.719Z"
   },
   {
    "duration": 15,
    "start_time": "2021-12-18T13:13:35.776Z"
   },
   {
    "duration": 12,
    "start_time": "2021-12-18T13:13:38.229Z"
   },
   {
    "duration": 50,
    "start_time": "2021-12-18T13:13:39.199Z"
   },
   {
    "duration": 19,
    "start_time": "2021-12-18T13:14:47.885Z"
   },
   {
    "duration": 11,
    "start_time": "2021-12-18T13:15:21.060Z"
   },
   {
    "duration": 18,
    "start_time": "2021-12-18T13:15:39.549Z"
   },
   {
    "duration": 10,
    "start_time": "2021-12-18T13:19:42.170Z"
   },
   {
    "duration": 10,
    "start_time": "2021-12-18T13:19:44.788Z"
   },
   {
    "duration": 13,
    "start_time": "2021-12-18T13:19:47.273Z"
   },
   {
    "duration": 13,
    "start_time": "2021-12-18T13:38:13.971Z"
   },
   {
    "duration": 12,
    "start_time": "2021-12-18T13:38:41.042Z"
   },
   {
    "duration": -33,
    "start_time": "2021-12-18T13:39:30.152Z"
   },
   {
    "duration": 97,
    "start_time": "2021-12-18T13:39:36.644Z"
   },
   {
    "duration": 15,
    "start_time": "2021-12-18T13:39:39.298Z"
   },
   {
    "duration": 15,
    "start_time": "2021-12-18T13:39:42.812Z"
   },
   {
    "duration": -171,
    "start_time": "2021-12-18T13:39:51.135Z"
   },
   {
    "duration": 8110,
    "start_time": "2021-12-18T13:40:04.606Z"
   },
   {
    "duration": -27,
    "start_time": "2021-12-18T13:40:12.746Z"
   },
   {
    "duration": -29,
    "start_time": "2021-12-18T13:40:12.750Z"
   },
   {
    "duration": -30,
    "start_time": "2021-12-18T13:40:12.752Z"
   },
   {
    "duration": 3503,
    "start_time": "2021-12-18T13:40:46.906Z"
   },
   {
    "duration": 393,
    "start_time": "2021-12-18T13:41:12.786Z"
   },
   {
    "duration": 6,
    "start_time": "2021-12-18T13:47:27.726Z"
   },
   {
    "duration": 10,
    "start_time": "2021-12-18T13:47:29.388Z"
   },
   {
    "duration": 12,
    "start_time": "2021-12-18T13:47:33.303Z"
   },
   {
    "duration": 7,
    "start_time": "2021-12-18T14:01:19.521Z"
   },
   {
    "duration": 345,
    "start_time": "2021-12-18T14:01:32.945Z"
   },
   {
    "duration": 424,
    "start_time": "2021-12-18T14:02:07.771Z"
   },
   {
    "duration": 293,
    "start_time": "2021-12-18T14:04:40.008Z"
   },
   {
    "duration": 298,
    "start_time": "2021-12-18T14:05:44.284Z"
   },
   {
    "duration": 283,
    "start_time": "2021-12-18T14:05:55.824Z"
   },
   {
    "duration": 214,
    "start_time": "2021-12-18T17:36:58.561Z"
   },
   {
    "duration": 554,
    "start_time": "2021-12-18T17:37:07.446Z"
   },
   {
    "duration": 12,
    "start_time": "2021-12-18T17:37:09.245Z"
   },
   {
    "duration": 10,
    "start_time": "2021-12-18T17:37:13.302Z"
   },
   {
    "duration": 5,
    "start_time": "2021-12-18T17:37:16.167Z"
   },
   {
    "duration": 7,
    "start_time": "2021-12-18T17:37:17.216Z"
   },
   {
    "duration": 10,
    "start_time": "2021-12-18T17:37:19.129Z"
   },
   {
    "duration": 338,
    "start_time": "2021-12-18T17:37:20.571Z"
   },
   {
    "duration": 179,
    "start_time": "2021-12-18T17:37:34.333Z"
   },
   {
    "duration": 193,
    "start_time": "2021-12-18T17:38:38.355Z"
   },
   {
    "duration": 173,
    "start_time": "2021-12-18T17:38:56.822Z"
   },
   {
    "duration": 186,
    "start_time": "2021-12-18T17:39:08.811Z"
   },
   {
    "duration": 214,
    "start_time": "2021-12-18T17:39:32.860Z"
   },
   {
    "duration": 887,
    "start_time": "2021-12-18T17:39:45.584Z"
   },
   {
    "duration": 172,
    "start_time": "2021-12-18T17:44:24.477Z"
   },
   {
    "duration": 259,
    "start_time": "2021-12-18T17:45:02.283Z"
   },
   {
    "duration": 19,
    "start_time": "2021-12-18T17:46:50.727Z"
   },
   {
    "duration": 6,
    "start_time": "2021-12-18T18:39:33.166Z"
   },
   {
    "duration": 4,
    "start_time": "2021-12-18T18:39:45.940Z"
   },
   {
    "duration": 4,
    "start_time": "2021-12-18T18:40:30.178Z"
   },
   {
    "duration": 5,
    "start_time": "2021-12-18T18:41:09.057Z"
   },
   {
    "duration": 17,
    "start_time": "2021-12-18T18:41:31.265Z"
   },
   {
    "duration": 10,
    "start_time": "2021-12-18T18:48:45.905Z"
   },
   {
    "duration": 13,
    "start_time": "2021-12-18T18:49:06.093Z"
   },
   {
    "duration": 178,
    "start_time": "2021-12-18T18:49:42.645Z"
   },
   {
    "duration": 173,
    "start_time": "2021-12-18T18:49:46.602Z"
   },
   {
    "duration": 13,
    "start_time": "2021-12-18T18:50:27.676Z"
   },
   {
    "duration": 12,
    "start_time": "2021-12-18T18:52:12.532Z"
   },
   {
    "duration": 14,
    "start_time": "2021-12-18T18:53:11.728Z"
   },
   {
    "duration": 261,
    "start_time": "2021-12-19T11:04:42.211Z"
   },
   {
    "duration": 652,
    "start_time": "2021-12-19T11:04:47.485Z"
   },
   {
    "duration": 11,
    "start_time": "2021-12-19T11:04:49.057Z"
   },
   {
    "duration": 10,
    "start_time": "2021-12-19T11:04:51.038Z"
   },
   {
    "duration": 5,
    "start_time": "2021-12-19T11:04:52.304Z"
   },
   {
    "duration": 7,
    "start_time": "2021-12-19T11:04:53.039Z"
   },
   {
    "duration": 10,
    "start_time": "2021-12-19T11:04:53.984Z"
   },
   {
    "duration": 17,
    "start_time": "2021-12-19T11:04:54.786Z"
   },
   {
    "duration": 11,
    "start_time": "2021-12-19T11:04:57.932Z"
   },
   {
    "duration": 15,
    "start_time": "2021-12-19T11:05:00.455Z"
   },
   {
    "duration": 14,
    "start_time": "2021-12-19T11:08:58.659Z"
   },
   {
    "duration": 19,
    "start_time": "2021-12-19T11:09:56.193Z"
   },
   {
    "duration": 19,
    "start_time": "2021-12-19T11:10:46.139Z"
   },
   {
    "duration": 15,
    "start_time": "2021-12-19T11:36:16.554Z"
   },
   {
    "duration": 248,
    "start_time": "2021-12-19T11:37:13.802Z"
   },
   {
    "duration": 10,
    "start_time": "2021-12-19T11:37:17.953Z"
   },
   {
    "duration": 14,
    "start_time": "2021-12-19T11:37:42.061Z"
   },
   {
    "duration": 5,
    "start_time": "2021-12-19T12:01:52.858Z"
   },
   {
    "duration": 3,
    "start_time": "2021-12-19T12:10:38.404Z"
   },
   {
    "duration": 3,
    "start_time": "2021-12-19T12:19:49.546Z"
   },
   {
    "duration": 3,
    "start_time": "2021-12-19T12:20:11.009Z"
   },
   {
    "duration": 14,
    "start_time": "2021-12-19T12:22:09.209Z"
   },
   {
    "duration": 5,
    "start_time": "2021-12-19T12:22:54.485Z"
   },
   {
    "duration": 73,
    "start_time": "2021-12-19T13:56:02.466Z"
   },
   {
    "duration": 10,
    "start_time": "2021-12-19T13:56:03.944Z"
   },
   {
    "duration": 9,
    "start_time": "2021-12-19T13:56:05.233Z"
   },
   {
    "duration": 5,
    "start_time": "2021-12-19T13:56:06.223Z"
   },
   {
    "duration": 6,
    "start_time": "2021-12-19T13:56:06.716Z"
   },
   {
    "duration": 10,
    "start_time": "2021-12-19T13:56:08.184Z"
   },
   {
    "duration": 15,
    "start_time": "2021-12-19T13:56:08.962Z"
   },
   {
    "duration": 11,
    "start_time": "2021-12-19T13:56:11.593Z"
   },
   {
    "duration": 12,
    "start_time": "2021-12-19T13:56:13.523Z"
   },
   {
    "duration": 21,
    "start_time": "2021-12-19T13:56:14.119Z"
   },
   {
    "duration": 16,
    "start_time": "2021-12-19T13:56:14.753Z"
   },
   {
    "duration": 13,
    "start_time": "2021-12-19T13:56:15.357Z"
   },
   {
    "duration": 4,
    "start_time": "2021-12-19T13:56:16.028Z"
   },
   {
    "duration": 3,
    "start_time": "2021-12-19T13:56:17.194Z"
   },
   {
    "duration": 3,
    "start_time": "2021-12-19T13:56:17.435Z"
   },
   {
    "duration": 19,
    "start_time": "2021-12-19T13:56:17.700Z"
   },
   {
    "duration": 6,
    "start_time": "2021-12-19T13:56:18.281Z"
   },
   {
    "duration": 5,
    "start_time": "2021-12-19T13:56:18.976Z"
   },
   {
    "duration": 5,
    "start_time": "2021-12-19T14:01:42.980Z"
   },
   {
    "duration": 5,
    "start_time": "2021-12-19T14:01:56.576Z"
   },
   {
    "duration": 6,
    "start_time": "2021-12-19T14:02:28.305Z"
   },
   {
    "duration": 5,
    "start_time": "2021-12-19T14:12:36.608Z"
   },
   {
    "duration": 4,
    "start_time": "2021-12-19T14:12:38.442Z"
   },
   {
    "duration": 14,
    "start_time": "2021-12-19T14:21:13.432Z"
   },
   {
    "duration": 6,
    "start_time": "2021-12-19T14:24:53.608Z"
   },
   {
    "duration": 3,
    "start_time": "2021-12-19T14:25:09.489Z"
   },
   {
    "duration": 6,
    "start_time": "2021-12-19T14:25:11.615Z"
   },
   {
    "duration": 2,
    "start_time": "2021-12-19T14:25:16.633Z"
   },
   {
    "duration": 5,
    "start_time": "2021-12-19T14:25:17.010Z"
   },
   {
    "duration": 5,
    "start_time": "2021-12-19T14:25:19.211Z"
   },
   {
    "duration": 4,
    "start_time": "2021-12-19T14:25:22.457Z"
   },
   {
    "duration": 53,
    "start_time": "2021-12-19T14:25:45.426Z"
   },
   {
    "duration": 11,
    "start_time": "2021-12-19T14:25:46.447Z"
   },
   {
    "duration": 9,
    "start_time": "2021-12-19T14:25:48.806Z"
   },
   {
    "duration": 4,
    "start_time": "2021-12-19T14:25:50.867Z"
   },
   {
    "duration": 7,
    "start_time": "2021-12-19T14:25:51.695Z"
   },
   {
    "duration": 13,
    "start_time": "2021-12-19T14:25:52.288Z"
   },
   {
    "duration": 17,
    "start_time": "2021-12-19T14:25:52.944Z"
   },
   {
    "duration": 11,
    "start_time": "2021-12-19T14:25:54.854Z"
   },
   {
    "duration": 23,
    "start_time": "2021-12-19T14:25:56.794Z"
   },
   {
    "duration": 20,
    "start_time": "2021-12-19T14:25:57.547Z"
   },
   {
    "duration": 17,
    "start_time": "2021-12-19T14:25:58.313Z"
   },
   {
    "duration": 14,
    "start_time": "2021-12-19T14:25:58.957Z"
   },
   {
    "duration": 5,
    "start_time": "2021-12-19T14:25:59.735Z"
   },
   {
    "duration": 2,
    "start_time": "2021-12-19T14:26:00.627Z"
   },
   {
    "duration": 5,
    "start_time": "2021-12-19T14:26:00.708Z"
   },
   {
    "duration": 14,
    "start_time": "2021-12-19T14:26:01.018Z"
   },
   {
    "duration": 6,
    "start_time": "2021-12-19T14:26:01.373Z"
   },
   {
    "duration": 4,
    "start_time": "2021-12-19T14:26:03.218Z"
   },
   {
    "duration": 6,
    "start_time": "2021-12-19T14:26:07.058Z"
   },
   {
    "duration": 5,
    "start_time": "2021-12-19T14:33:49.505Z"
   },
   {
    "duration": 4,
    "start_time": "2021-12-19T14:33:50.442Z"
   },
   {
    "duration": 4,
    "start_time": "2021-12-19T14:35:35.766Z"
   },
   {
    "duration": 6,
    "start_time": "2021-12-19T14:40:48.100Z"
   },
   {
    "duration": 4,
    "start_time": "2021-12-19T14:40:51.760Z"
   },
   {
    "duration": 4,
    "start_time": "2021-12-19T14:40:52.329Z"
   },
   {
    "duration": 13,
    "start_time": "2021-12-19T14:43:45.615Z"
   },
   {
    "duration": 15,
    "start_time": "2021-12-19T14:47:18.341Z"
   },
   {
    "duration": 19,
    "start_time": "2021-12-19T14:47:31.489Z"
   },
   {
    "duration": 7,
    "start_time": "2021-12-19T15:31:24.382Z"
   },
   {
    "duration": 7,
    "start_time": "2021-12-19T15:31:45.676Z"
   },
   {
    "duration": 6,
    "start_time": "2021-12-19T15:31:57.583Z"
   },
   {
    "duration": 6,
    "start_time": "2021-12-19T15:43:37.785Z"
   },
   {
    "duration": 3,
    "start_time": "2021-12-19T15:45:34.129Z"
   },
   {
    "duration": 4,
    "start_time": "2021-12-19T15:52:54.101Z"
   },
   {
    "duration": 6162,
    "start_time": "2021-12-19T15:57:47.624Z"
   },
   {
    "duration": 4162,
    "start_time": "2021-12-19T15:58:18.700Z"
   },
   {
    "duration": 8,
    "start_time": "2021-12-19T15:59:23.530Z"
   },
   {
    "duration": 3,
    "start_time": "2021-12-19T16:00:08.590Z"
   },
   {
    "duration": 3326,
    "start_time": "2021-12-19T16:00:10.902Z"
   },
   {
    "duration": 6,
    "start_time": "2021-12-19T16:00:14.230Z"
   },
   {
    "duration": 3,
    "start_time": "2021-12-19T16:02:56.926Z"
   },
   {
    "duration": 3345,
    "start_time": "2021-12-19T16:02:58.815Z"
   },
   {
    "duration": 8,
    "start_time": "2021-12-19T16:03:02.161Z"
   },
   {
    "duration": 63,
    "start_time": "2021-12-19T16:40:32.631Z"
   },
   {
    "duration": 10,
    "start_time": "2021-12-19T16:40:33.065Z"
   },
   {
    "duration": 9,
    "start_time": "2021-12-19T16:40:34.102Z"
   },
   {
    "duration": 5,
    "start_time": "2021-12-19T16:40:35.028Z"
   },
   {
    "duration": 7,
    "start_time": "2021-12-19T16:40:35.477Z"
   },
   {
    "duration": 9,
    "start_time": "2021-12-19T16:40:35.937Z"
   },
   {
    "duration": 25,
    "start_time": "2021-12-19T16:40:36.420Z"
   },
   {
    "duration": 11,
    "start_time": "2021-12-19T16:40:38.342Z"
   },
   {
    "duration": 13,
    "start_time": "2021-12-19T16:40:39.493Z"
   },
   {
    "duration": 20,
    "start_time": "2021-12-19T16:40:39.981Z"
   },
   {
    "duration": 13,
    "start_time": "2021-12-19T16:40:43.463Z"
   },
   {
    "duration": 15,
    "start_time": "2021-12-19T16:40:43.977Z"
   },
   {
    "duration": 5,
    "start_time": "2021-12-19T16:40:44.755Z"
   },
   {
    "duration": 3,
    "start_time": "2021-12-19T16:40:45.318Z"
   },
   {
    "duration": 3,
    "start_time": "2021-12-19T16:40:45.595Z"
   },
   {
    "duration": 14,
    "start_time": "2021-12-19T16:40:45.876Z"
   },
   {
    "duration": 5,
    "start_time": "2021-12-19T16:40:46.156Z"
   },
   {
    "duration": 4,
    "start_time": "2021-12-19T16:40:47.094Z"
   },
   {
    "duration": 5,
    "start_time": "2021-12-19T16:40:47.715Z"
   },
   {
    "duration": 5,
    "start_time": "2021-12-19T16:40:48.404Z"
   },
   {
    "duration": 4,
    "start_time": "2021-12-19T16:40:48.686Z"
   },
   {
    "duration": 5,
    "start_time": "2021-12-19T16:40:49.415Z"
   },
   {
    "duration": 4,
    "start_time": "2021-12-19T16:40:50.284Z"
   },
   {
    "duration": 4,
    "start_time": "2021-12-19T16:40:50.554Z"
   },
   {
    "duration": 13,
    "start_time": "2021-12-19T16:40:51.152Z"
   },
   {
    "duration": 14,
    "start_time": "2021-12-19T16:40:51.849Z"
   },
   {
    "duration": 13,
    "start_time": "2021-12-19T16:40:52.116Z"
   },
   {
    "duration": 7,
    "start_time": "2021-12-19T16:40:53.699Z"
   },
   {
    "duration": 2,
    "start_time": "2021-12-19T16:40:54.870Z"
   },
   {
    "duration": 3,
    "start_time": "2021-12-19T16:40:55.176Z"
   },
   {
    "duration": 4092,
    "start_time": "2021-12-19T16:40:56.677Z"
   },
   {
    "duration": 20,
    "start_time": "2021-12-19T16:41:00.771Z"
   },
   {
    "duration": 28,
    "start_time": "2021-12-19T16:41:00.793Z"
   },
   {
    "duration": 5,
    "start_time": "2021-12-19T16:42:32.906Z"
   },
   {
    "duration": 6,
    "start_time": "2021-12-19T16:42:42.950Z"
   },
   {
    "duration": 6,
    "start_time": "2021-12-19T16:43:16.998Z"
   },
   {
    "duration": 4,
    "start_time": "2021-12-20T04:30:38.429Z"
   },
   {
    "duration": 327,
    "start_time": "2021-12-20T04:32:30.633Z"
   },
   {
    "duration": 807,
    "start_time": "2021-12-20T04:32:44.435Z"
   },
   {
    "duration": 17,
    "start_time": "2021-12-20T04:32:46.295Z"
   },
   {
    "duration": 14,
    "start_time": "2021-12-20T04:32:47.692Z"
   },
   {
    "duration": 7,
    "start_time": "2021-12-20T04:32:48.540Z"
   },
   {
    "duration": 12,
    "start_time": "2021-12-20T04:32:48.966Z"
   },
   {
    "duration": 14,
    "start_time": "2021-12-20T04:32:49.387Z"
   },
   {
    "duration": 23,
    "start_time": "2021-12-20T04:32:49.782Z"
   },
   {
    "duration": 17,
    "start_time": "2021-12-20T04:32:51.239Z"
   },
   {
    "duration": 21,
    "start_time": "2021-12-20T04:32:52.392Z"
   },
   {
    "duration": 33,
    "start_time": "2021-12-20T04:32:52.829Z"
   },
   {
    "duration": 25,
    "start_time": "2021-12-20T04:32:53.331Z"
   },
   {
    "duration": 22,
    "start_time": "2021-12-20T04:32:53.785Z"
   },
   {
    "duration": 7,
    "start_time": "2021-12-20T04:32:54.203Z"
   },
   {
    "duration": 4,
    "start_time": "2021-12-20T04:32:54.646Z"
   },
   {
    "duration": 4,
    "start_time": "2021-12-20T04:32:54.852Z"
   },
   {
    "duration": 20,
    "start_time": "2021-12-20T04:32:55.067Z"
   },
   {
    "duration": 7,
    "start_time": "2021-12-20T04:32:55.275Z"
   },
   {
    "duration": 6,
    "start_time": "2021-12-20T04:32:55.714Z"
   },
   {
    "duration": 8,
    "start_time": "2021-12-20T04:32:56.106Z"
   },
   {
    "duration": 7,
    "start_time": "2021-12-20T04:32:56.515Z"
   },
   {
    "duration": 6,
    "start_time": "2021-12-20T04:32:56.752Z"
   },
   {
    "duration": 7,
    "start_time": "2021-12-20T04:32:57.233Z"
   },
   {
    "duration": 6,
    "start_time": "2021-12-20T04:32:57.663Z"
   },
   {
    "duration": 8,
    "start_time": "2021-12-20T04:32:57.939Z"
   },
   {
    "duration": 21,
    "start_time": "2021-12-20T04:32:58.407Z"
   },
   {
    "duration": 23,
    "start_time": "2021-12-20T04:32:58.860Z"
   },
   {
    "duration": 21,
    "start_time": "2021-12-20T04:32:59.247Z"
   },
   {
    "duration": 10,
    "start_time": "2021-12-20T04:33:01.061Z"
   },
   {
    "duration": 7,
    "start_time": "2021-12-20T04:33:01.327Z"
   },
   {
    "duration": 5,
    "start_time": "2021-12-20T04:33:01.772Z"
   },
   {
    "duration": 5434,
    "start_time": "2021-12-20T04:33:02.832Z"
   },
   {
    "duration": 11,
    "start_time": "2021-12-20T04:33:08.269Z"
   },
   {
    "duration": 11,
    "start_time": "2021-12-20T04:33:08.283Z"
   },
   {
    "duration": 493,
    "start_time": "2021-12-20T04:33:08.297Z"
   },
   {
    "duration": 29,
    "start_time": "2021-12-20T04:36:31.454Z"
   },
   {
    "duration": 5,
    "start_time": "2021-12-20T04:47:01.104Z"
   },
   {
    "duration": 5,
    "start_time": "2021-12-20T04:47:09.526Z"
   },
   {
    "duration": 6,
    "start_time": "2021-12-20T04:47:39.677Z"
   },
   {
    "duration": 5,
    "start_time": "2021-12-20T04:48:18.286Z"
   },
   {
    "duration": 8,
    "start_time": "2021-12-20T04:48:25.732Z"
   },
   {
    "duration": 242,
    "start_time": "2021-12-20T05:02:05.993Z"
   },
   {
    "duration": 130,
    "start_time": "2021-12-20T05:07:15.511Z"
   },
   {
    "duration": 255,
    "start_time": "2021-12-20T05:07:23.352Z"
   },
   {
    "duration": 114,
    "start_time": "2021-12-20T05:07:49.290Z"
   },
   {
    "duration": 39,
    "start_time": "2021-12-20T05:08:07.090Z"
   },
   {
    "duration": 30,
    "start_time": "2021-12-20T05:11:28.367Z"
   },
   {
    "duration": 29,
    "start_time": "2021-12-20T05:12:16.599Z"
   },
   {
    "duration": 31,
    "start_time": "2021-12-20T05:12:28.517Z"
   },
   {
    "duration": -25,
    "start_time": "2021-12-20T05:12:58.363Z"
   },
   {
    "duration": 31,
    "start_time": "2021-12-20T05:13:17.407Z"
   },
   {
    "duration": 31,
    "start_time": "2021-12-20T05:17:29.262Z"
   },
   {
    "duration": 89,
    "start_time": "2021-12-20T05:17:53.154Z"
   },
   {
    "duration": 31,
    "start_time": "2021-12-20T05:18:07.708Z"
   },
   {
    "duration": 31,
    "start_time": "2021-12-20T05:20:07.420Z"
   },
   {
    "duration": 29,
    "start_time": "2021-12-20T05:20:56.887Z"
   },
   {
    "duration": 31,
    "start_time": "2021-12-20T05:21:03.963Z"
   },
   {
    "duration": 6,
    "start_time": "2021-12-20T05:29:36.898Z"
   },
   {
    "duration": 6,
    "start_time": "2021-12-20T05:30:01.020Z"
   },
   {
    "duration": 6,
    "start_time": "2021-12-20T05:30:06.701Z"
   },
   {
    "duration": 11,
    "start_time": "2021-12-20T05:31:15.049Z"
   },
   {
    "duration": 259,
    "start_time": "2021-12-20T05:49:48.497Z"
   },
   {
    "duration": 6,
    "start_time": "2021-12-20T05:50:14.282Z"
   },
   {
    "duration": 15,
    "start_time": "2021-12-20T05:50:15.268Z"
   },
   {
    "duration": 19,
    "start_time": "2021-12-20T05:50:44.424Z"
   },
   {
    "duration": 33,
    "start_time": "2021-12-20T05:52:12.116Z"
   },
   {
    "duration": 31,
    "start_time": "2021-12-20T05:58:19.021Z"
   },
   {
    "duration": 264,
    "start_time": "2021-12-20T05:58:59.914Z"
   },
   {
    "duration": 263,
    "start_time": "2021-12-20T05:59:51.821Z"
   },
   {
    "duration": 293,
    "start_time": "2021-12-20T06:01:15.014Z"
   },
   {
    "duration": 276,
    "start_time": "2021-12-20T06:03:41.508Z"
   },
   {
    "duration": 288,
    "start_time": "2021-12-20T06:04:15.992Z"
   },
   {
    "duration": 33,
    "start_time": "2021-12-20T06:04:23.924Z"
   },
   {
    "duration": 32,
    "start_time": "2021-12-20T06:04:31.158Z"
   },
   {
    "duration": 33,
    "start_time": "2021-12-20T06:04:42.046Z"
   },
   {
    "duration": 33,
    "start_time": "2021-12-20T06:04:53.881Z"
   },
   {
    "duration": 33,
    "start_time": "2021-12-20T06:05:01.473Z"
   },
   {
    "duration": 36,
    "start_time": "2021-12-20T06:05:10.308Z"
   },
   {
    "duration": 83,
    "start_time": "2021-12-20T06:07:02.891Z"
   },
   {
    "duration": 95,
    "start_time": "2021-12-20T06:07:46.857Z"
   },
   {
    "duration": 39,
    "start_time": "2021-12-20T06:08:08.680Z"
   },
   {
    "duration": 30,
    "start_time": "2021-12-20T06:08:39.638Z"
   },
   {
    "duration": 31,
    "start_time": "2021-12-20T06:09:10.916Z"
   },
   {
    "duration": 8,
    "start_time": "2021-12-20T06:12:35.318Z"
   },
   {
    "duration": 204,
    "start_time": "2021-12-24T04:42:51.473Z"
   },
   {
    "duration": 655,
    "start_time": "2021-12-24T04:42:54.868Z"
   },
   {
    "duration": 10,
    "start_time": "2021-12-24T04:42:59.029Z"
   },
   {
    "duration": 6,
    "start_time": "2021-12-24T04:51:38.066Z"
   },
   {
    "duration": 7,
    "start_time": "2021-12-24T04:51:44.312Z"
   },
   {
    "duration": 10,
    "start_time": "2021-12-24T04:51:50.217Z"
   },
   {
    "duration": 13,
    "start_time": "2021-12-24T05:03:19.295Z"
   },
   {
    "duration": 16,
    "start_time": "2021-12-24T05:13:50.502Z"
   },
   {
    "duration": 12,
    "start_time": "2021-12-24T05:14:36.905Z"
   },
   {
    "duration": 17,
    "start_time": "2021-12-24T05:15:25.178Z"
   },
   {
    "duration": 12,
    "start_time": "2021-12-24T05:15:31.266Z"
   },
   {
    "duration": 13,
    "start_time": "2021-12-24T05:15:32.233Z"
   },
   {
    "duration": 16,
    "start_time": "2021-12-24T05:16:41.303Z"
   },
   {
    "duration": 22,
    "start_time": "2021-12-24T05:16:45.036Z"
   },
   {
    "duration": 17,
    "start_time": "2021-12-24T05:16:52.468Z"
   },
   {
    "duration": 16,
    "start_time": "2021-12-24T05:16:53.900Z"
   },
   {
    "duration": 6,
    "start_time": "2021-12-24T05:17:59.298Z"
   },
   {
    "duration": 3,
    "start_time": "2021-12-24T05:17:59.869Z"
   },
   {
    "duration": 3,
    "start_time": "2021-12-24T05:18:00.170Z"
   },
   {
    "duration": 15,
    "start_time": "2021-12-24T05:18:00.502Z"
   },
   {
    "duration": 5,
    "start_time": "2021-12-24T05:18:13.231Z"
   },
   {
    "duration": 5,
    "start_time": "2021-12-24T05:18:24.105Z"
   },
   {
    "duration": 6,
    "start_time": "2021-12-24T05:19:30.113Z"
   },
   {
    "duration": 5,
    "start_time": "2021-12-24T05:19:35.775Z"
   },
   {
    "duration": 5,
    "start_time": "2021-12-24T05:19:36.090Z"
   },
   {
    "duration": 6,
    "start_time": "2021-12-24T05:19:41.413Z"
   },
   {
    "duration": 5,
    "start_time": "2021-12-24T05:19:49.918Z"
   },
   {
    "duration": 5,
    "start_time": "2021-12-24T05:19:51.192Z"
   },
   {
    "duration": 7,
    "start_time": "2021-12-24T05:20:16.791Z"
   },
   {
    "duration": 16,
    "start_time": "2021-12-24T05:20:27.947Z"
   },
   {
    "duration": 17,
    "start_time": "2021-12-24T05:20:34.662Z"
   },
   {
    "duration": 15,
    "start_time": "2021-12-24T05:20:37.765Z"
   },
   {
    "duration": 8,
    "start_time": "2021-12-24T05:40:46.353Z"
   },
   {
    "duration": 4,
    "start_time": "2021-12-24T05:40:55.413Z"
   },
   {
    "duration": 4,
    "start_time": "2021-12-24T05:40:55.702Z"
   },
   {
    "duration": 4073,
    "start_time": "2021-12-24T05:41:18.696Z"
   },
   {
    "duration": 7,
    "start_time": "2021-12-24T05:41:22.771Z"
   },
   {
    "duration": 19,
    "start_time": "2021-12-24T05:41:45.432Z"
   },
   {
    "duration": 4,
    "start_time": "2021-12-24T05:41:47.999Z"
   },
   {
    "duration": 4,
    "start_time": "2021-12-24T05:41:48.563Z"
   },
   {
    "duration": 6,
    "start_time": "2021-12-24T05:41:48.793Z"
   },
   {
    "duration": 5,
    "start_time": "2021-12-24T05:41:49.059Z"
   },
   {
    "duration": 4,
    "start_time": "2021-12-24T05:42:02.103Z"
   },
   {
    "duration": 10,
    "start_time": "2021-12-24T05:42:02.425Z"
   },
   {
    "duration": 12,
    "start_time": "2021-12-24T05:42:02.704Z"
   },
   {
    "duration": 19,
    "start_time": "2021-12-24T06:10:02.762Z"
   },
   {
    "duration": 7,
    "start_time": "2021-12-24T06:10:03.669Z"
   },
   {
    "duration": 9,
    "start_time": "2021-12-24T06:10:04.361Z"
   },
   {
    "duration": 8,
    "start_time": "2021-12-24T06:11:55.715Z"
   },
   {
    "duration": 344,
    "start_time": "2021-12-30T06:13:01.350Z"
   },
   {
    "duration": 841,
    "start_time": "2021-12-30T06:13:09.324Z"
   },
   {
    "duration": 16,
    "start_time": "2021-12-30T06:13:10.167Z"
   },
   {
    "duration": 12,
    "start_time": "2021-12-30T06:13:11.633Z"
   },
   {
    "duration": 7,
    "start_time": "2021-12-30T06:13:12.941Z"
   },
   {
    "duration": 10,
    "start_time": "2021-12-30T06:13:13.456Z"
   },
   {
    "duration": 13,
    "start_time": "2021-12-30T06:13:14.303Z"
   },
   {
    "duration": 16,
    "start_time": "2021-12-30T06:13:14.899Z"
   },
   {
    "duration": 19,
    "start_time": "2021-12-30T06:14:54.974Z"
   },
   {
    "duration": 20,
    "start_time": "2021-12-30T06:14:55.449Z"
   },
   {
    "duration": 24,
    "start_time": "2021-12-30T06:14:57.086Z"
   },
   {
    "duration": 38,
    "start_time": "2021-12-30T06:14:57.889Z"
   },
   {
    "duration": 28,
    "start_time": "2021-12-30T06:15:00.409Z"
   },
   {
    "duration": 26,
    "start_time": "2021-12-30T06:15:01.816Z"
   },
   {
    "duration": 8,
    "start_time": "2021-12-30T06:15:07.866Z"
   },
   {
    "duration": 4,
    "start_time": "2021-12-30T06:15:08.464Z"
   },
   {
    "duration": 4,
    "start_time": "2021-12-30T06:15:08.763Z"
   },
   {
    "duration": 21,
    "start_time": "2021-12-30T06:15:09.134Z"
   },
   {
    "duration": 8,
    "start_time": "2021-12-30T06:15:09.857Z"
   },
   {
    "duration": 17,
    "start_time": "2021-12-30T06:21:08.200Z"
   },
   {
    "duration": 9,
    "start_time": "2021-12-30T06:21:09.549Z"
   },
   {
    "duration": 6,
    "start_time": "2021-12-30T06:21:25.586Z"
   },
   {
    "duration": 8,
    "start_time": "2021-12-30T06:21:26.146Z"
   },
   {
    "duration": 7,
    "start_time": "2021-12-30T06:21:26.709Z"
   },
   {
    "duration": 6,
    "start_time": "2021-12-30T06:21:28.956Z"
   },
   {
    "duration": 8,
    "start_time": "2021-12-30T06:21:29.693Z"
   },
   {
    "duration": 5,
    "start_time": "2021-12-30T06:21:30.180Z"
   },
   {
    "duration": 7,
    "start_time": "2021-12-30T06:21:30.404Z"
   },
   {
    "duration": 9,
    "start_time": "2021-12-30T06:21:30.847Z"
   },
   {
    "duration": 26,
    "start_time": "2021-12-30T06:21:36.702Z"
   },
   {
    "duration": 30,
    "start_time": "2021-12-30T06:21:37.161Z"
   },
   {
    "duration": 25,
    "start_time": "2021-12-30T06:21:37.384Z"
   },
   {
    "duration": 12,
    "start_time": "2021-12-30T06:21:41.738Z"
   },
   {
    "duration": 9,
    "start_time": "2021-12-30T06:39:08.045Z"
   },
   {
    "duration": 3,
    "start_time": "2021-12-30T06:40:01.611Z"
   },
   {
    "duration": 11,
    "start_time": "2021-12-30T06:41:13.116Z"
   },
   {
    "duration": 318,
    "start_time": "2021-12-30T06:42:08.622Z"
   },
   {
    "duration": 11,
    "start_time": "2021-12-30T06:42:16.209Z"
   },
   {
    "duration": 286,
    "start_time": "2021-12-30T06:46:52.198Z"
   },
   {
    "duration": 302,
    "start_time": "2021-12-30T06:47:37.289Z"
   },
   {
    "duration": 273,
    "start_time": "2021-12-30T06:48:11.824Z"
   },
   {
    "duration": 291,
    "start_time": "2021-12-30T06:51:16.445Z"
   },
   {
    "duration": 1282,
    "start_time": "2021-12-31T07:09:54.720Z"
   },
   {
    "duration": 10,
    "start_time": "2021-12-31T07:09:56.003Z"
   },
   {
    "duration": 9,
    "start_time": "2021-12-31T07:09:58.940Z"
   },
   {
    "duration": 5,
    "start_time": "2021-12-31T07:10:01.400Z"
   },
   {
    "duration": 7,
    "start_time": "2021-12-31T07:10:02.430Z"
   },
   {
    "duration": 9,
    "start_time": "2021-12-31T07:10:03.550Z"
   },
   {
    "duration": 10,
    "start_time": "2021-12-31T07:10:04.390Z"
   },
   {
    "duration": 12,
    "start_time": "2021-12-31T07:10:06.740Z"
   },
   {
    "duration": 11,
    "start_time": "2021-12-31T07:10:07.618Z"
   },
   {
    "duration": 14,
    "start_time": "2021-12-31T07:10:09.310Z"
   },
   {
    "duration": 20,
    "start_time": "2021-12-31T07:10:09.990Z"
   },
   {
    "duration": 16,
    "start_time": "2021-12-31T07:10:10.778Z"
   },
   {
    "duration": 14,
    "start_time": "2021-12-31T07:10:11.498Z"
   },
   {
    "duration": 4,
    "start_time": "2021-12-31T07:10:12.248Z"
   },
   {
    "duration": 11,
    "start_time": "2021-12-31T07:10:13.100Z"
   },
   {
    "duration": 7,
    "start_time": "2021-12-31T07:10:13.440Z"
   },
   {
    "duration": 4,
    "start_time": "2021-12-31T07:10:14.859Z"
   },
   {
    "duration": 5,
    "start_time": "2021-12-31T07:10:15.570Z"
   },
   {
    "duration": 4,
    "start_time": "2021-12-31T07:10:16.370Z"
   },
   {
    "duration": 4,
    "start_time": "2021-12-31T07:10:16.930Z"
   },
   {
    "duration": 5,
    "start_time": "2021-12-31T07:10:17.921Z"
   },
   {
    "duration": 4,
    "start_time": "2021-12-31T07:10:18.690Z"
   },
   {
    "duration": 5,
    "start_time": "2021-12-31T07:10:19.070Z"
   },
   {
    "duration": 6,
    "start_time": "2021-12-31T07:10:20.170Z"
   },
   {
    "duration": 14,
    "start_time": "2021-12-31T07:10:22.460Z"
   },
   {
    "duration": 17,
    "start_time": "2021-12-31T07:10:23.040Z"
   },
   {
    "duration": 14,
    "start_time": "2021-12-31T07:10:23.355Z"
   },
   {
    "duration": 7,
    "start_time": "2021-12-31T07:10:27.390Z"
   },
   {
    "duration": 7,
    "start_time": "2021-12-31T07:10:31.809Z"
   },
   {
    "duration": 2,
    "start_time": "2021-12-31T07:10:33.430Z"
   },
   {
    "duration": 434,
    "start_time": "2021-12-31T07:12:46.855Z"
   },
   {
    "duration": 329,
    "start_time": "2021-12-31T07:13:00.125Z"
   },
   {
    "duration": 115,
    "start_time": "2021-12-31T07:13:32.667Z"
   },
   {
    "duration": 281,
    "start_time": "2022-01-02T16:18:06.885Z"
   },
   {
    "duration": 707,
    "start_time": "2022-01-02T16:18:35.313Z"
   },
   {
    "duration": 10,
    "start_time": "2022-01-02T16:18:36.022Z"
   },
   {
    "duration": 11,
    "start_time": "2022-01-02T16:18:36.035Z"
   },
   {
    "duration": 6,
    "start_time": "2022-01-02T16:18:36.048Z"
   },
   {
    "duration": 7,
    "start_time": "2022-01-02T16:18:36.055Z"
   },
   {
    "duration": 10,
    "start_time": "2022-01-02T16:18:36.064Z"
   },
   {
    "duration": 11,
    "start_time": "2022-01-02T16:18:36.076Z"
   },
   {
    "duration": 11,
    "start_time": "2022-01-02T16:18:36.090Z"
   },
   {
    "duration": 41,
    "start_time": "2022-01-02T16:18:36.103Z"
   },
   {
    "duration": 17,
    "start_time": "2022-01-02T16:18:36.146Z"
   },
   {
    "duration": 20,
    "start_time": "2022-01-02T16:18:36.165Z"
   },
   {
    "duration": 16,
    "start_time": "2022-01-02T16:18:36.187Z"
   },
   {
    "duration": 41,
    "start_time": "2022-01-02T16:18:36.204Z"
   },
   {
    "duration": 5,
    "start_time": "2022-01-02T16:18:36.247Z"
   },
   {
    "duration": 11,
    "start_time": "2022-01-02T16:18:36.254Z"
   },
   {
    "duration": 8,
    "start_time": "2022-01-02T16:18:36.267Z"
   },
   {
    "duration": 5,
    "start_time": "2022-01-02T16:18:36.276Z"
   },
   {
    "duration": 6,
    "start_time": "2022-01-02T16:18:36.283Z"
   },
   {
    "duration": 8,
    "start_time": "2022-01-02T16:18:36.290Z"
   },
   {
    "duration": 41,
    "start_time": "2022-01-02T16:18:36.300Z"
   },
   {
    "duration": 6,
    "start_time": "2022-01-02T16:18:36.343Z"
   },
   {
    "duration": 6,
    "start_time": "2022-01-02T16:18:36.350Z"
   },
   {
    "duration": 5,
    "start_time": "2022-01-02T16:18:36.360Z"
   },
   {
    "duration": 10,
    "start_time": "2022-01-02T16:18:36.367Z"
   },
   {
    "duration": 21,
    "start_time": "2022-01-02T16:18:36.379Z"
   },
   {
    "duration": 44,
    "start_time": "2022-01-02T16:18:36.401Z"
   },
   {
    "duration": 15,
    "start_time": "2022-01-02T16:18:36.447Z"
   },
   {
    "duration": 6,
    "start_time": "2022-01-02T16:18:36.464Z"
   },
   {
    "duration": 11,
    "start_time": "2022-01-02T16:18:36.472Z"
   },
   {
    "duration": 2,
    "start_time": "2022-01-02T16:18:36.485Z"
   },
   {
    "duration": 14,
    "start_time": "2022-01-02T16:18:36.488Z"
   },
   {
    "duration": 256,
    "start_time": "2022-01-02T16:18:36.503Z"
   },
   {
    "duration": 32,
    "start_time": "2022-01-02T16:18:36.729Z"
   },
   {
    "duration": 31,
    "start_time": "2022-01-02T16:18:36.731Z"
   },
   {
    "duration": -7,
    "start_time": "2022-01-02T16:18:36.770Z"
   },
   {
    "duration": -14,
    "start_time": "2022-01-02T16:18:36.778Z"
   },
   {
    "duration": -17,
    "start_time": "2022-01-02T16:18:36.782Z"
   },
   {
    "duration": -20,
    "start_time": "2022-01-02T16:18:36.786Z"
   },
   {
    "duration": -22,
    "start_time": "2022-01-02T16:18:36.789Z"
   },
   {
    "duration": -24,
    "start_time": "2022-01-02T16:18:36.792Z"
   },
   {
    "duration": -25,
    "start_time": "2022-01-02T16:18:36.794Z"
   },
   {
    "duration": -26,
    "start_time": "2022-01-02T16:18:36.796Z"
   },
   {
    "duration": -28,
    "start_time": "2022-01-02T16:18:36.799Z"
   },
   {
    "duration": -31,
    "start_time": "2022-01-02T16:18:36.803Z"
   },
   {
    "duration": -33,
    "start_time": "2022-01-02T16:18:36.806Z"
   },
   {
    "duration": -35,
    "start_time": "2022-01-02T16:18:36.809Z"
   },
   {
    "duration": -35,
    "start_time": "2022-01-02T16:18:36.811Z"
   },
   {
    "duration": -36,
    "start_time": "2022-01-02T16:18:36.813Z"
   },
   {
    "duration": -59,
    "start_time": "2022-01-02T16:18:36.837Z"
   },
   {
    "duration": 265,
    "start_time": "2022-01-02T16:19:45.845Z"
   },
   {
    "duration": 596,
    "start_time": "2022-01-03T15:04:36.476Z"
   },
   {
    "duration": 9,
    "start_time": "2022-01-03T15:04:37.074Z"
   },
   {
    "duration": 8,
    "start_time": "2022-01-03T15:04:37.084Z"
   },
   {
    "duration": 6,
    "start_time": "2022-01-03T15:04:37.093Z"
   },
   {
    "duration": 7,
    "start_time": "2022-01-03T15:04:37.100Z"
   },
   {
    "duration": 24,
    "start_time": "2022-01-03T15:04:37.108Z"
   },
   {
    "duration": 8,
    "start_time": "2022-01-03T15:04:37.133Z"
   },
   {
    "duration": 10,
    "start_time": "2022-01-03T15:04:37.143Z"
   },
   {
    "duration": 9,
    "start_time": "2022-01-03T15:04:37.155Z"
   },
   {
    "duration": 13,
    "start_time": "2022-01-03T15:04:37.166Z"
   },
   {
    "duration": 17,
    "start_time": "2022-01-03T15:04:37.181Z"
   },
   {
    "duration": 13,
    "start_time": "2022-01-03T15:04:37.227Z"
   },
   {
    "duration": 12,
    "start_time": "2022-01-03T15:04:37.241Z"
   },
   {
    "duration": 4,
    "start_time": "2022-01-03T15:04:37.255Z"
   },
   {
    "duration": 18,
    "start_time": "2022-01-03T15:04:37.260Z"
   },
   {
    "duration": 8,
    "start_time": "2022-01-03T15:04:37.279Z"
   },
   {
    "duration": 7,
    "start_time": "2022-01-03T15:04:37.288Z"
   },
   {
    "duration": 6,
    "start_time": "2022-01-03T15:04:37.296Z"
   },
   {
    "duration": 6,
    "start_time": "2022-01-03T15:04:37.303Z"
   },
   {
    "duration": 19,
    "start_time": "2022-01-03T15:04:37.310Z"
   },
   {
    "duration": 6,
    "start_time": "2022-01-03T15:04:37.331Z"
   },
   {
    "duration": 5,
    "start_time": "2022-01-03T15:04:37.338Z"
   },
   {
    "duration": 7,
    "start_time": "2022-01-03T15:04:37.344Z"
   },
   {
    "duration": 5,
    "start_time": "2022-01-03T15:04:37.352Z"
   },
   {
    "duration": 13,
    "start_time": "2022-01-03T15:04:37.358Z"
   },
   {
    "duration": 15,
    "start_time": "2022-01-03T15:04:37.373Z"
   },
   {
    "duration": 37,
    "start_time": "2022-01-03T15:04:37.391Z"
   },
   {
    "duration": 6,
    "start_time": "2022-01-03T15:04:37.429Z"
   },
   {
    "duration": 4,
    "start_time": "2022-01-03T15:04:37.437Z"
   },
   {
    "duration": 3,
    "start_time": "2022-01-03T15:04:37.442Z"
   },
   {
    "duration": 7,
    "start_time": "2022-01-03T15:04:37.447Z"
   },
   {
    "duration": 370,
    "start_time": "2022-01-03T15:04:37.455Z"
   },
   {
    "duration": -55,
    "start_time": "2022-01-03T15:04:37.882Z"
   },
   {
    "duration": -65,
    "start_time": "2022-01-03T15:04:37.893Z"
   },
   {
    "duration": -68,
    "start_time": "2022-01-03T15:04:37.897Z"
   },
   {
    "duration": -72,
    "start_time": "2022-01-03T15:04:37.902Z"
   },
   {
    "duration": -76,
    "start_time": "2022-01-03T15:04:37.907Z"
   },
   {
    "duration": -80,
    "start_time": "2022-01-03T15:04:37.912Z"
   },
   {
    "duration": -84,
    "start_time": "2022-01-03T15:04:37.917Z"
   },
   {
    "duration": -88,
    "start_time": "2022-01-03T15:04:37.921Z"
   },
   {
    "duration": -91,
    "start_time": "2022-01-03T15:04:37.925Z"
   },
   {
    "duration": -94,
    "start_time": "2022-01-03T15:04:37.929Z"
   },
   {
    "duration": -98,
    "start_time": "2022-01-03T15:04:37.934Z"
   },
   {
    "duration": -101,
    "start_time": "2022-01-03T15:04:37.938Z"
   },
   {
    "duration": -104,
    "start_time": "2022-01-03T15:04:37.942Z"
   },
   {
    "duration": -107,
    "start_time": "2022-01-03T15:04:37.946Z"
   },
   {
    "duration": -111,
    "start_time": "2022-01-03T15:04:37.951Z"
   },
   {
    "duration": -114,
    "start_time": "2022-01-03T15:04:37.955Z"
   },
   {
    "duration": -117,
    "start_time": "2022-01-03T15:04:37.959Z"
   },
   {
    "duration": 317,
    "start_time": "2022-01-03T15:05:05.519Z"
   },
   {
    "duration": 3234,
    "start_time": "2022-01-03T15:05:30.826Z"
   },
   {
    "duration": 3014,
    "start_time": "2022-01-03T15:06:48.045Z"
   },
   {
    "duration": 2631,
    "start_time": "2022-01-03T15:08:26.771Z"
   },
   {
    "duration": 577,
    "start_time": "2022-01-09T14:47:12.171Z"
   },
   {
    "duration": 8,
    "start_time": "2022-01-09T14:47:12.750Z"
   },
   {
    "duration": 9,
    "start_time": "2022-01-09T14:47:12.761Z"
   },
   {
    "duration": 7,
    "start_time": "2022-01-09T14:47:12.772Z"
   },
   {
    "duration": 7,
    "start_time": "2022-01-09T14:47:12.780Z"
   },
   {
    "duration": 13,
    "start_time": "2022-01-09T14:47:12.788Z"
   },
   {
    "duration": 25,
    "start_time": "2022-01-09T14:47:12.803Z"
   },
   {
    "duration": 10,
    "start_time": "2022-01-09T14:47:12.829Z"
   },
   {
    "duration": 9,
    "start_time": "2022-01-09T14:47:12.841Z"
   },
   {
    "duration": 15,
    "start_time": "2022-01-09T14:47:12.851Z"
   },
   {
    "duration": 17,
    "start_time": "2022-01-09T14:47:12.867Z"
   },
   {
    "duration": 13,
    "start_time": "2022-01-09T14:47:12.886Z"
   },
   {
    "duration": 37,
    "start_time": "2022-01-09T14:47:12.901Z"
   },
   {
    "duration": 4,
    "start_time": "2022-01-09T14:47:12.939Z"
   },
   {
    "duration": 11,
    "start_time": "2022-01-09T14:47:12.944Z"
   },
   {
    "duration": 10,
    "start_time": "2022-01-09T14:47:12.956Z"
   },
   {
    "duration": 5,
    "start_time": "2022-01-09T14:47:12.967Z"
   },
   {
    "duration": 6,
    "start_time": "2022-01-09T14:47:12.974Z"
   },
   {
    "duration": 3,
    "start_time": "2022-01-09T14:47:12.981Z"
   },
   {
    "duration": 4,
    "start_time": "2022-01-09T14:47:12.986Z"
   },
   {
    "duration": 5,
    "start_time": "2022-01-09T14:47:12.991Z"
   },
   {
    "duration": 3,
    "start_time": "2022-01-09T14:47:13.027Z"
   },
   {
    "duration": 6,
    "start_time": "2022-01-09T14:47:13.032Z"
   },
   {
    "duration": 5,
    "start_time": "2022-01-09T14:47:13.039Z"
   },
   {
    "duration": 13,
    "start_time": "2022-01-09T14:47:13.045Z"
   },
   {
    "duration": 15,
    "start_time": "2022-01-09T14:47:13.059Z"
   },
   {
    "duration": 13,
    "start_time": "2022-01-09T14:47:13.075Z"
   },
   {
    "duration": 6,
    "start_time": "2022-01-09T14:47:13.089Z"
   },
   {
    "duration": 32,
    "start_time": "2022-01-09T14:47:13.097Z"
   },
   {
    "duration": 5,
    "start_time": "2022-01-09T14:47:13.130Z"
   },
   {
    "duration": 3504,
    "start_time": "2022-01-09T14:47:13.137Z"
   },
   {
    "duration": 3,
    "start_time": "2022-01-09T14:47:16.643Z"
   },
   {
    "duration": 3411,
    "start_time": "2022-01-09T14:47:16.647Z"
   },
   {
    "duration": 7,
    "start_time": "2022-01-09T14:47:20.059Z"
   },
   {
    "duration": 18,
    "start_time": "2022-01-09T14:47:20.067Z"
   },
   {
    "duration": 4,
    "start_time": "2022-01-09T14:47:20.086Z"
   },
   {
    "duration": 5,
    "start_time": "2022-01-09T14:47:20.091Z"
   },
   {
    "duration": 4,
    "start_time": "2022-01-09T14:47:20.098Z"
   },
   {
    "duration": 25,
    "start_time": "2022-01-09T14:47:20.104Z"
   },
   {
    "duration": 5,
    "start_time": "2022-01-09T14:47:20.130Z"
   },
   {
    "duration": 12,
    "start_time": "2022-01-09T14:47:20.136Z"
   },
   {
    "duration": 13,
    "start_time": "2022-01-09T14:47:20.149Z"
   },
   {
    "duration": 16,
    "start_time": "2022-01-09T14:47:20.164Z"
   },
   {
    "duration": 7,
    "start_time": "2022-01-09T14:47:20.182Z"
   },
   {
    "duration": 5,
    "start_time": "2022-01-09T14:47:20.191Z"
   },
   {
    "duration": 35,
    "start_time": "2022-01-09T14:47:20.197Z"
   },
   {
    "duration": 17,
    "start_time": "2022-01-09T14:47:20.233Z"
   },
   {
    "duration": 16,
    "start_time": "2022-01-09T14:47:20.251Z"
   }
  ],
  "kernelspec": {
   "display_name": "Python 3 (ipykernel)",
   "language": "python",
   "name": "python3"
  },
  "language_info": {
   "codemirror_mode": {
    "name": "ipython",
    "version": 3
   },
   "file_extension": ".py",
   "mimetype": "text/x-python",
   "name": "python",
   "nbconvert_exporter": "python",
   "pygments_lexer": "ipython3",
   "version": "3.9.7"
  },
  "toc": {
   "base_numbering": 1,
   "nav_menu": {},
   "number_sections": true,
   "sideBar": true,
   "skip_h1_title": true,
   "title_cell": "Table of Contents",
   "title_sidebar": "Contents",
   "toc_cell": false,
   "toc_position": {},
   "toc_section_display": true,
   "toc_window_display": false
  }
 },
 "nbformat": 4,
 "nbformat_minor": 2
}
